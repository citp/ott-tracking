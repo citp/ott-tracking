{
 "cells": [
  {
   "cell_type": "code",
   "execution_count": 1,
   "metadata": {},
   "outputs": [],
   "source": [
    "import LeakDetector\n",
    "import pandas as pd\n",
    "from glob import glob"
   ]
  },
  {
   "cell_type": "code",
   "execution_count": 2,
   "metadata": {},
   "outputs": [],
   "source": [
    "from device_ids import TV_ID_MAP\n",
    "from log_analysis import get_crawl_parameter\n",
    "from crawl_ids import CrawlRokuTop1KMITM\n",
    "from df_utils import load_df"
   ]
  },
  {
   "cell_type": "markdown",
   "metadata": {},
   "source": [
    "## Load leaks\n",
    "- Run the following to detect and pickle leaks\n",
    "  - `python2 detect_title_leaks.py` "
   ]
  },
  {
   "cell_type": "code",
   "execution_count": 3,
   "metadata": {},
   "outputs": [],
   "source": [
    "leaks = load_df(CrawlRokuTop1KMITM, \"title_leak\")"
   ]
  },
  {
   "cell_type": "code",
   "execution_count": 10,
   "metadata": {},
   "outputs": [
    {
     "name": "stdout",
     "output_type": "stream",
     "text": [
      "(9, 'channels')\n"
     ]
    },
    {
     "data": {
      "text/html": [
       "<div>\n",
       "<style scoped>\n",
       "    .dataframe tbody tr th:only-of-type {\n",
       "        vertical-align: middle;\n",
       "    }\n",
       "\n",
       "    .dataframe tbody tr th {\n",
       "        vertical-align: top;\n",
       "    }\n",
       "\n",
       "    .dataframe thead th {\n",
       "        text-align: right;\n",
       "    }\n",
       "</style>\n",
       "<table border=\"1\" class=\"dataframe\">\n",
       "  <thead>\n",
       "    <tr style=\"text-align: right;\">\n",
       "      <th></th>\n",
       "      <th>channel_id</th>\n",
       "      <th>channel_name</th>\n",
       "      <th>id_type</th>\n",
       "      <th>encoding</th>\n",
       "      <th>search</th>\n",
       "      <th>leak_type</th>\n",
       "      <th>req_domain</th>\n",
       "    </tr>\n",
       "  </thead>\n",
       "  <tbody>\n",
       "    <tr>\n",
       "      <th>0</th>\n",
       "      <td>11055</td>\n",
       "      <td>Newsy</td>\n",
       "      <td>imdb_title_Newsy's Latest Headlines</td>\n",
       "      <td>unencoded</td>\n",
       "      <td>Newsy's Latest Headlines</td>\n",
       "      <td>post_leaks</td>\n",
       "      <td>google-analytics.com</td>\n",
       "    </tr>\n",
       "    <tr>\n",
       "      <th>0</th>\n",
       "      <td>163348</td>\n",
       "      <td>WCJB TV-20 News</td>\n",
       "      <td>imdb_title_Lets Go with Livestream</td>\n",
       "      <td>urlencode</td>\n",
       "      <td>Lets Go with Livestream</td>\n",
       "      <td>url_leaks</td>\n",
       "      <td>scorecardresearch.com</td>\n",
       "    </tr>\n",
       "    <tr>\n",
       "      <th>0</th>\n",
       "      <td>27536</td>\n",
       "      <td>CBS News</td>\n",
       "      <td>imdb_title_CBSN Live Video</td>\n",
       "      <td>urlencode</td>\n",
       "      <td>CBSN Live Video</td>\n",
       "      <td>url_leaks</td>\n",
       "      <td>scorecardresearch.com</td>\n",
       "    </tr>\n",
       "    <tr>\n",
       "      <th>0</th>\n",
       "      <td>47416</td>\n",
       "      <td>1011 News</td>\n",
       "      <td>imdb_title_Live Newscasts</td>\n",
       "      <td>urlencode</td>\n",
       "      <td>Live Newscasts</td>\n",
       "      <td>url_leaks</td>\n",
       "      <td>scorecardresearch.com</td>\n",
       "    </tr>\n",
       "    <tr>\n",
       "      <th>0</th>\n",
       "      <td>47425</td>\n",
       "      <td>WEAU News</td>\n",
       "      <td>imdb_title_Live Newscasts</td>\n",
       "      <td>urlencode</td>\n",
       "      <td>Live Newscasts</td>\n",
       "      <td>url_leaks</td>\n",
       "      <td>scorecardresearch.com</td>\n",
       "    </tr>\n",
       "    <tr>\n",
       "      <th>0</th>\n",
       "      <td>64346</td>\n",
       "      <td>FilmRise Kids</td>\n",
       "      <td>imdb_title_Barnum</td>\n",
       "      <td>unencoded</td>\n",
       "      <td>Barnum</td>\n",
       "      <td>url_leaks</td>\n",
       "      <td>spotxchange.com</td>\n",
       "    </tr>\n",
       "    <tr>\n",
       "      <th>0</th>\n",
       "      <td>90568</td>\n",
       "      <td>KJRH 2 Works for You Tulsa</td>\n",
       "      <td>imdb_title_Sunday Night Forecast</td>\n",
       "      <td>unencoded</td>\n",
       "      <td>Sunday Night Forecast</td>\n",
       "      <td>post_leaks</td>\n",
       "      <td>google-analytics.com</td>\n",
       "    </tr>\n",
       "    <tr>\n",
       "      <th>0</th>\n",
       "      <td>90587</td>\n",
       "      <td>News 5 Cleveland WEWS</td>\n",
       "      <td>imdb_title_Freddie Kitchens makes surprise app...</td>\n",
       "      <td>unencoded</td>\n",
       "      <td>Freddie Kitchens makes surprise appearance</td>\n",
       "      <td>post_leaks</td>\n",
       "      <td>google-analytics.com</td>\n",
       "    </tr>\n",
       "    <tr>\n",
       "      <th>0</th>\n",
       "      <td>90630</td>\n",
       "      <td>NewsChannel 5 Nashville WTVF</td>\n",
       "      <td>imdb_title_Live: NewsChannel 5 This Morning at 4</td>\n",
       "      <td>unencoded</td>\n",
       "      <td>Live: NewsChannel 5 This Morning at 4</td>\n",
       "      <td>post_leaks</td>\n",
       "      <td>google-analytics.com</td>\n",
       "    </tr>\n",
       "  </tbody>\n",
       "</table>\n",
       "</div>"
      ],
      "text/plain": [
       "  channel_id                  channel_name  \\\n",
       "0      11055                         Newsy   \n",
       "0     163348               WCJB TV-20 News   \n",
       "0      27536                      CBS News   \n",
       "0      47416                     1011 News   \n",
       "0      47425                     WEAU News   \n",
       "0      64346                 FilmRise Kids   \n",
       "0      90568    KJRH 2 Works for You Tulsa   \n",
       "0      90587         News 5 Cleveland WEWS   \n",
       "0      90630  NewsChannel 5 Nashville WTVF   \n",
       "\n",
       "                                             id_type   encoding  \\\n",
       "0                imdb_title_Newsy's Latest Headlines  unencoded   \n",
       "0                 imdb_title_Lets Go with Livestream  urlencode   \n",
       "0                         imdb_title_CBSN Live Video  urlencode   \n",
       "0                          imdb_title_Live Newscasts  urlencode   \n",
       "0                          imdb_title_Live Newscasts  urlencode   \n",
       "0                                  imdb_title_Barnum  unencoded   \n",
       "0                   imdb_title_Sunday Night Forecast  unencoded   \n",
       "0  imdb_title_Freddie Kitchens makes surprise app...  unencoded   \n",
       "0   imdb_title_Live: NewsChannel 5 This Morning at 4  unencoded   \n",
       "\n",
       "                                       search   leak_type  \\\n",
       "0                    Newsy's Latest Headlines  post_leaks   \n",
       "0                     Lets Go with Livestream   url_leaks   \n",
       "0                             CBSN Live Video   url_leaks   \n",
       "0                              Live Newscasts   url_leaks   \n",
       "0                              Live Newscasts   url_leaks   \n",
       "0                                      Barnum   url_leaks   \n",
       "0                       Sunday Night Forecast  post_leaks   \n",
       "0  Freddie Kitchens makes surprise appearance  post_leaks   \n",
       "0       Live: NewsChannel 5 This Morning at 4  post_leaks   \n",
       "\n",
       "              req_domain  \n",
       "0   google-analytics.com  \n",
       "0  scorecardresearch.com  \n",
       "0  scorecardresearch.com  \n",
       "0  scorecardresearch.com  \n",
       "0  scorecardresearch.com  \n",
       "0        spotxchange.com  \n",
       "0   google-analytics.com  \n",
       "0   google-analytics.com  \n",
       "0   google-analytics.com  "
      ]
     },
     "execution_count": 10,
     "metadata": {},
     "output_type": "execute_result"
    }
   ],
   "source": [
    "from log_analysis import add_domain_column\n",
    "add_domain_column(leaks)\n",
    "\n",
    "title_leaks = leaks[(leaks.id_type !=\"Channel name\")]\n",
    "print(title_leaks.channel_id.nunique(), \"channels\")\n",
    "title_leaks[['channel_id', 'channel_name', 'id_type', 'encoding', 'search', 'leak_type', 'req_domain']].drop_duplicates()"
   ]
  },
  {
   "cell_type": "code",
   "execution_count": 7,
   "metadata": {},
   "outputs": [
    {
     "data": {
      "text/plain": [
       "u'http://search.spotxchange.com/vast/2.00/222236?VPI[]=ROKU&VPI[]=MP4&app[bundle]=roku.happykids&app[name]=happykids&app[cat]=IAB6&app[privacypolicy]=1&app[storeurl]=https%3A%2F%2Fchannelstore.roku.com%2Fdetails%2F32614%2Fhappykids&device[ua]=Roku%2FDVP-9.0%20%28519.00E04142A%29&device[devicetype]=7&device[make]=Roku&device[model]=3900X&player_height=1080&player_width=1920&device[ifa]=ded0f0e3-b3aa-59a2-a143-f6c1157a7ae8&ip_addr=128.112.139.195&regs[coppa]=1&device[lmt]=0&token[content_id]=Barnum&token[content_length]=6612&app[id]=64346&token[genre]=64346&custom[app_id]=64346'"
      ]
     },
     "execution_count": 7,
     "metadata": {},
     "output_type": "execute_result"
    }
   ],
   "source": [
    "title_leaks[title_leaks.search.isin([\"Barnum\"])].url.iloc[0]"
   ]
  },
  {
   "cell_type": "code",
   "execution_count": 11,
   "metadata": {},
   "outputs": [
    {
     "name": "stdout",
     "output_type": "stream",
     "text": [
      "\n",
      "\\begin{table}[H]\n",
      "%\\centering\n",
      "%\\resizebox{\\columnwidth}{!}{%\n",
      "\\begin{tabular}{lll}\n",
      "\\toprule\n",
      " Channel name                 & Search                                     & Req domain            \\\\\n",
      "\\midrule\n",
      " Newsy                        & Newsy's Latest Headlines                   & google-analytics.com  \\\\\n",
      " WCJB TV-20 News              & Lets Go with Livestream                    & scorecardresearch.com \\\\\n",
      " CBS News                     & CBSN Live Video                            & scorecardresearch.com \\\\\n",
      " 1011 News                    & Live Newscasts                             & scorecardresearch.com \\\\\n",
      " WEAU News                    & Live Newscasts                             & scorecardresearch.com \\\\\n",
      " FilmRise Kids                & Barnum                                     & spotxchange.com       \\\\\n",
      " KJRH 2 Works for You Tulsa   & Sunday Night Forecast                      & google-analytics.com  \\\\\n",
      " News 5 Cleveland WEWS        & Freddie Kitchens makes surprise appearance & google-analytics.com  \\\\\n",
      " NewsChannel 5 Nashville WTVF & Live: NewsChannel 5 This Morning at 4      & google-analytics.com  \\\\\n",
      "\\bottomrule\n",
      "\\end{tabular}\n",
      "%}\n",
      "\\caption{Title leaks in 100 random Roku channels}\n",
      "\\label{tab:roku_title_leaks}\n",
      "\\end{table}\n"
     ]
    }
   ],
   "source": [
    "from nb_utils import make_latex_table\n",
    "print(make_latex_table(title_leaks[['channel_name', 'search', 'req_domain']].drop_duplicates(),\n",
    "    caption=\"Title leaks in 100 random Roku channels\",\n",
    "    label=\"roku_title_leaks\"))\n",
    "\n"
   ]
  },
  {
   "cell_type": "code",
   "execution_count": 13,
   "metadata": {},
   "outputs": [
    {
     "data": {
      "text/html": [
       "<div>\n",
       "<style scoped>\n",
       "    .dataframe tbody tr th:only-of-type {\n",
       "        vertical-align: middle;\n",
       "    }\n",
       "\n",
       "    .dataframe tbody tr th {\n",
       "        vertical-align: top;\n",
       "    }\n",
       "\n",
       "    .dataframe thead th {\n",
       "        text-align: right;\n",
       "    }\n",
       "</style>\n",
       "<table border=\"1\" class=\"dataframe\">\n",
       "  <thead>\n",
       "    <tr style=\"text-align: right;\">\n",
       "      <th></th>\n",
       "      <th>adblocked</th>\n",
       "      <th>adblocked_by_url</th>\n",
       "      <th>category</th>\n",
       "      <th>channel_id</th>\n",
       "      <th>channel_name</th>\n",
       "      <th>cookie</th>\n",
       "      <th>decoded_data</th>\n",
       "      <th>disconnect_blocked</th>\n",
       "      <th>disconnect_blocked_by_url</th>\n",
       "      <th>domain_by_dns</th>\n",
       "      <th>...</th>\n",
       "      <th>rank</th>\n",
       "      <th>referer</th>\n",
       "      <th>req_domain</th>\n",
       "      <th>search</th>\n",
       "      <th>status</th>\n",
       "      <th>tcp_dstport</th>\n",
       "      <th>tcp_stream</th>\n",
       "      <th>time</th>\n",
       "      <th>url</th>\n",
       "      <th>user_agent</th>\n",
       "    </tr>\n",
       "  </thead>\n",
       "  <tbody>\n",
       "  </tbody>\n",
       "</table>\n",
       "<p>0 rows × 40 columns</p>\n",
       "</div>"
      ],
      "text/plain": [
       "Empty DataFrame\n",
       "Columns: [adblocked, adblocked_by_url, category, channel_id, channel_name, cookie, decoded_data, disconnect_blocked, disconnect_blocked_by_url, domain_by_dns, easylist_blocked, easylist_blocked_by_url, easyprivacy_blocked, easyprivacy_blocked_by_url, encoding, ghostery_blocked, ghostery_blocked_by_url, host, host_by_dns, http2, http2_type, id_leak, id_type, ip_dst, leak_type, method, pihole_blocked, pihole_blocked_by_url, playback, post_data, rank, referer, req_domain, search, status, tcp_dstport, tcp_stream, time, url, user_agent]\n",
       "Index: []\n",
       "\n",
       "[0 rows x 40 columns]"
      ]
     },
     "execution_count": 13,
     "metadata": {},
     "output_type": "execute_result"
    }
   ],
   "source": [
    "title_leaks[~title_leaks.adblocked]"
   ]
  },
  {
   "cell_type": "code",
   "execution_count": 17,
   "metadata": {},
   "outputs": [
    {
     "data": {
      "text/plain": [
       "News & Weather    8\n",
       "Kids & Family     1\n",
       "Name: category, dtype: int64"
      ]
     },
     "execution_count": 17,
     "metadata": {},
     "output_type": "execute_result"
    }
   ],
   "source": [
    "title_leaks[['channel_id', 'category']].drop_duplicates()['category'].value_counts()"
   ]
  },
  {
   "cell_type": "code",
   "execution_count": 23,
   "metadata": {},
   "outputs": [
    {
     "data": {
      "text/html": [
       "<div>\n",
       "<style scoped>\n",
       "    .dataframe tbody tr th:only-of-type {\n",
       "        vertical-align: middle;\n",
       "    }\n",
       "\n",
       "    .dataframe tbody tr th {\n",
       "        vertical-align: top;\n",
       "    }\n",
       "\n",
       "    .dataframe thead th {\n",
       "        text-align: right;\n",
       "    }\n",
       "</style>\n",
       "<table border=\"1\" class=\"dataframe\">\n",
       "  <thead>\n",
       "    <tr style=\"text-align: right;\">\n",
       "      <th></th>\n",
       "      <th>adblocked</th>\n",
       "      <th>adblocked_by_url</th>\n",
       "      <th>category</th>\n",
       "      <th>channel_id</th>\n",
       "      <th>channel_name</th>\n",
       "      <th>cookie</th>\n",
       "      <th>decoded_data</th>\n",
       "      <th>disconnect_blocked</th>\n",
       "      <th>disconnect_blocked_by_url</th>\n",
       "      <th>domain_by_dns</th>\n",
       "      <th>...</th>\n",
       "      <th>rank</th>\n",
       "      <th>referer</th>\n",
       "      <th>req_domain</th>\n",
       "      <th>search</th>\n",
       "      <th>status</th>\n",
       "      <th>tcp_dstport</th>\n",
       "      <th>tcp_stream</th>\n",
       "      <th>time</th>\n",
       "      <th>url</th>\n",
       "      <th>user_agent</th>\n",
       "    </tr>\n",
       "  </thead>\n",
       "  <tbody>\n",
       "  </tbody>\n",
       "</table>\n",
       "<p>0 rows × 40 columns</p>\n",
       "</div>"
      ],
      "text/plain": [
       "Empty DataFrame\n",
       "Columns: [adblocked, adblocked_by_url, category, channel_id, channel_name, cookie, decoded_data, disconnect_blocked, disconnect_blocked_by_url, domain_by_dns, easylist_blocked, easylist_blocked_by_url, easyprivacy_blocked, easyprivacy_blocked_by_url, encoding, ghostery_blocked, ghostery_blocked_by_url, host, host_by_dns, http2, http2_type, id_leak, id_type, ip_dst, leak_type, method, pihole_blocked, pihole_blocked_by_url, playback, post_data, rank, referer, req_domain, search, status, tcp_dstport, tcp_stream, time, url, user_agent]\n",
       "Index: []\n",
       "\n",
       "[0 rows x 40 columns]"
      ]
     },
     "execution_count": 23,
     "metadata": {},
     "output_type": "execute_result"
    }
   ],
   "source": [
    "title_leaks[title_leaks.url.str.startswith('https://')]"
   ]
  },
  {
   "cell_type": "code",
   "execution_count": 25,
   "metadata": {},
   "outputs": [
    {
     "data": {
      "text/html": [
       "<div>\n",
       "<style scoped>\n",
       "    .dataframe tbody tr th:only-of-type {\n",
       "        vertical-align: middle;\n",
       "    }\n",
       "\n",
       "    .dataframe tbody tr th {\n",
       "        vertical-align: top;\n",
       "    }\n",
       "\n",
       "    .dataframe thead th {\n",
       "        text-align: right;\n",
       "    }\n",
       "</style>\n",
       "<table border=\"1\" class=\"dataframe\">\n",
       "  <thead>\n",
       "    <tr style=\"text-align: right;\">\n",
       "      <th></th>\n",
       "      <th>adblocked</th>\n",
       "      <th>adblocked_by_url</th>\n",
       "      <th>category</th>\n",
       "      <th>channel_id</th>\n",
       "      <th>channel_name</th>\n",
       "      <th>cookie</th>\n",
       "      <th>decoded_data</th>\n",
       "      <th>disconnect_blocked</th>\n",
       "      <th>disconnect_blocked_by_url</th>\n",
       "      <th>domain_by_dns</th>\n",
       "      <th>...</th>\n",
       "      <th>rank</th>\n",
       "      <th>referer</th>\n",
       "      <th>req_domain</th>\n",
       "      <th>search</th>\n",
       "      <th>status</th>\n",
       "      <th>tcp_dstport</th>\n",
       "      <th>tcp_stream</th>\n",
       "      <th>time</th>\n",
       "      <th>url</th>\n",
       "      <th>user_agent</th>\n",
       "    </tr>\n",
       "  </thead>\n",
       "  <tbody>\n",
       "  </tbody>\n",
       "</table>\n",
       "<p>0 rows × 40 columns</p>\n",
       "</div>"
      ],
      "text/plain": [
       "Empty DataFrame\n",
       "Columns: [adblocked, adblocked_by_url, category, channel_id, channel_name, cookie, decoded_data, disconnect_blocked, disconnect_blocked_by_url, domain_by_dns, easylist_blocked, easylist_blocked_by_url, easyprivacy_blocked, easyprivacy_blocked_by_url, encoding, ghostery_blocked, ghostery_blocked_by_url, host, host_by_dns, http2, http2_type, id_leak, id_type, ip_dst, leak_type, method, pihole_blocked, pihole_blocked_by_url, playback, post_data, rank, referer, req_domain, search, status, tcp_dstport, tcp_stream, time, url, user_agent]\n",
       "Index: []\n",
       "\n",
       "[0 rows x 40 columns]"
      ]
     },
     "execution_count": 25,
     "metadata": {},
     "output_type": "execute_result"
    }
   ],
   "source": [
    "title_leaks[title_leaks.url.str.startswith('https://')]"
   ]
  },
  {
   "cell_type": "code",
   "execution_count": null,
   "metadata": {},
   "outputs": [],
   "source": []
  }
 ],
 "metadata": {
  "kernelspec": {
   "display_name": "Python 2",
   "language": "python",
   "name": "python2"
  },
  "language_info": {
   "codemirror_mode": {
    "name": "ipython",
    "version": 3
   },
   "file_extension": ".py",
   "mimetype": "text/x-python",
   "name": "python",
   "nbconvert_exporter": "python",
   "pygments_lexer": "ipython3",
   "version": "3.6.8"
  }
 },
 "nbformat": 4,
 "nbformat_minor": 4
}
