{
 "cells": [
  {
   "cell_type": "markdown",
   "metadata": {},
   "source": [
    "## Unencrypted connections\n",
    "- Num of channels sending at least one unencrypted HTTP request\n",
    "- Percentage of unencrypted HTTP requests"
   ]
  },
  {
   "cell_type": "code",
   "execution_count": 1,
   "metadata": {},
   "outputs": [
    {
     "name": "stderr",
     "output_type": "stream",
     "text": [
      "/usr/lib/python3.6/importlib/_bootstrap.py:219: RuntimeWarning: numpy.dtype size changed, may indicate binary incompatibility. Expected 96, got 88\n",
      "  return f(*args, **kwds)\n",
      "/usr/lib/python3.6/importlib/_bootstrap.py:219: RuntimeWarning: numpy.dtype size changed, may indicate binary incompatibility. Expected 96, got 88\n",
      "  return f(*args, **kwds)\n"
     ]
    }
   ],
   "source": [
    "import numpy as np\n",
    "import pandas as pd\n",
    "from log_analysis import (print_crawl_summary, load_timestamps_from_crawl_data,\n",
    "                          get_distinct_tcp_conns, get_crawl_data_path,\n",
    "                          load_dns_data, get_crawl_status, get_http_df, get_n_successful_channels)\n",
    "\n",
    "from os.path import isdir, join\n",
    "from datetime import datetime\n",
    "from glob import glob\n",
    "from tabulate import tabulate\n",
    "import seaborn as sns\n",
    "\n",
    "from crawl_ids import CrawlRokuNoMITM, CrawlFireTVNoMITM\n",
    "from nb_utils import get_popular_domains\n",
    "#ROKU_NO_MITM_CRAWL = 'roku-data-20190501-031836'\n",
    "#AMAZON_NO_MITM_CRAWL = 'amazon-data-20190508-202449'\n",
    "\n",
    "crawl_data_dir_roku = get_crawl_data_path(CrawlRokuNoMITM)\n",
    "crawl_data_dir_amazon = get_crawl_data_path(CrawlFireTVNoMITM)"
   ]
  },
  {
   "cell_type": "markdown",
   "metadata": {},
   "source": [
    "### Total num. of channels"
   ]
  },
  {
   "cell_type": "code",
   "execution_count": 2,
   "metadata": {},
   "outputs": [
    {
     "name": "stdout",
     "output_type": "stream",
     "text": [
      "95 82\n"
     ]
    }
   ],
   "source": [
    "n_roku = get_n_successful_channels(crawl_data_dir_roku)\n",
    "n_amazon = get_n_successful_channels(crawl_data_dir_amazon)\n",
    "print(n_roku, n_amazon)"
   ]
  },
  {
   "cell_type": "markdown",
   "metadata": {},
   "source": [
    "### Load TCP data"
   ]
  },
  {
   "cell_type": "code",
   "execution_count": 3,
   "metadata": {},
   "outputs": [
    {
     "name": "stdout",
     "output_type": "stream",
     "text": [
      "Loading distinct TCP connections from /media/gacar/Data/iot-house/crawl-data/roku-data-20190501-031836/post-process \n",
      "Loading distinct TCP connections from /media/gacar/Data/iot-house/crawl-data/amazon-data-20190508-202449/post-process \n"
     ]
    }
   ],
   "source": [
    "roku_tcp = get_distinct_tcp_conns(crawl_data_dir_roku)\n",
    "amazon_tcp = get_distinct_tcp_conns(crawl_data_dir_amazon)"
   ]
  },
  {
   "cell_type": "markdown",
   "metadata": {},
   "source": [
    "- Only take port 80 and 443\n",
    "- Very few connections to other ports"
   ]
  },
  {
   "cell_type": "code",
   "execution_count": 4,
   "metadata": {},
   "outputs": [],
   "source": [
    "roku_tcp = roku_tcp[roku_tcp.tcp_dstport.isin([80, 443])]\n",
    "amazon_tcp = amazon_tcp[amazon_tcp.tcp_dstport.isin([80, 443])]\n",
    "\n",
    "roku_tcp['tls'] = roku_tcp.tcp_dstport.map(lambda x: x == 443)\n",
    "amazon_tcp['tls'] = amazon_tcp.tcp_dstport.map(lambda x: x == 443)"
   ]
  },
  {
   "cell_type": "code",
   "execution_count": 5,
   "metadata": {},
   "outputs": [],
   "source": [
    "NO_TLS = 0  # tls=False (0)\n",
    "TLS = 1\n",
    "\n",
    "def print_unencryted_stats(df):\n",
    "    res = df.tls.value_counts()\n",
    "    n_total = len(df)\n",
    "    print (\"NoTLS:\", res[NO_TLS])\n",
    "    print (\"TLS:\", res[TLS])\n",
    "    print (\"Total:\", n_total)\n",
    "    print(\"%% of unencrypted connections: %0.1f\" % (100*res[NO_TLS] / (res[NO_TLS] + res[TLS])))"
   ]
  },
  {
   "cell_type": "code",
   "execution_count": 7,
   "metadata": {},
   "outputs": [
    {
     "name": "stdout",
     "output_type": "stream",
     "text": [
      "Multiple messages 196\n",
      "Multiple messages 100\n"
     ]
    }
   ],
   "source": [
    "requests_roku, responses_roku, dns_df_roku = get_http_df(crawl_data_dir_roku)\n",
    "requests_amazon, responses_amazon, dns_df_amazon = get_http_df(crawl_data_dir_amazon)"
   ]
  },
  {
   "cell_type": "code",
   "execution_count": 8,
   "metadata": {},
   "outputs": [
    {
     "data": {
      "text/plain": [
       "'73 of the 95 Roku channels (76.8%) send at last one unencrypted request'"
      ]
     },
     "execution_count": 8,
     "metadata": {},
     "output_type": "execute_result"
    }
   ],
   "source": [
    "roku_no_tls = roku_tcp[~roku_tcp.tls]\n",
    "amazon_no_tls = amazon_tcp[~amazon_tcp.tls]\n",
    "\n",
    "n_channels_no_tls_roku = requests_roku.channel_id.nunique()\n",
    "n_channels_no_tls_amazon = requests_amazon.channel_id.nunique()\n",
    "\n",
    "\"%s of the %s Roku channels (%0.1f%%) send at last one unencrypted request\" % (n_channels_no_tls_roku, n_roku, (100*n_channels_no_tls_roku)/n_roku)"
   ]
  },
  {
   "cell_type": "code",
   "execution_count": 9,
   "metadata": {},
   "outputs": [
    {
     "data": {
      "text/plain": [
       "'78 of the 82 Fire TV channels (95.1%) send at last one unencrypted request'"
      ]
     },
     "execution_count": 9,
     "metadata": {},
     "output_type": "execute_result"
    }
   ],
   "source": [
    "\"%s of the %s Fire TV channels (%0.1f%%) send at last one unencrypted request\" % (n_channels_no_tls_amazon, n_amazon, (100*n_channels_no_tls_amazon)/n_amazon)"
   ]
  },
  {
   "cell_type": "code",
   "execution_count": 10,
   "metadata": {},
   "outputs": [
    {
     "data": {
      "text/plain": [
       "(230, 230)"
      ]
     },
     "execution_count": 10,
     "metadata": {},
     "output_type": "execute_result"
    }
   ],
   "source": [
    "amazon_no_tls.tcp_stream.nunique(), requests_amazon.tcp_stream.nunique()"
   ]
  },
  {
   "cell_type": "code",
   "execution_count": 11,
   "metadata": {},
   "outputs": [
    {
     "data": {
      "text/plain": [
       "(83, 84)"
      ]
     },
     "execution_count": 11,
     "metadata": {},
     "output_type": "execute_result"
    }
   ],
   "source": [
    "amazon_no_tls.domain_by_dns.nunique(), requests_amazon.domain_by_dns.nunique()"
   ]
  },
  {
   "cell_type": "code",
   "execution_count": 12,
   "metadata": {},
   "outputs": [
    {
     "data": {
      "text/html": [
       "<div>\n",
       "<style scoped>\n",
       "    .dataframe tbody tr th:only-of-type {\n",
       "        vertical-align: middle;\n",
       "    }\n",
       "\n",
       "    .dataframe tbody tr th {\n",
       "        vertical-align: top;\n",
       "    }\n",
       "\n",
       "    .dataframe thead th {\n",
       "        text-align: right;\n",
       "    }\n",
       "</style>\n",
       "<table border=\"1\" class=\"dataframe\">\n",
       "  <thead>\n",
       "    <tr style=\"text-align: right;\">\n",
       "      <th></th>\n",
       "      <th>channel_id</th>\n",
       "      <th>time</th>\n",
       "      <th>url</th>\n",
       "      <th>ip_dst</th>\n",
       "      <th>tcp_dstport</th>\n",
       "      <th>tcp_stream</th>\n",
       "      <th>decoded_data</th>\n",
       "    </tr>\n",
       "  </thead>\n",
       "  <tbody>\n",
       "  </tbody>\n",
       "</table>\n",
       "</div>"
      ],
      "text/plain": [
       "Empty DataFrame\n",
       "Columns: [channel_id, time, url, ip_dst, tcp_dstport, tcp_stream, decoded_data]\n",
       "Index: []"
      ]
     },
     "execution_count": 12,
     "metadata": {},
     "output_type": "execute_result"
    }
   ],
   "source": [
    "requests_amazon[requests_amazon.domain_by_dns==\"amazon.com\"][['channel_id', 'time', 'url', 'ip_dst', 'tcp_dstport', 'tcp_stream', 'decoded_data']]"
   ]
  },
  {
   "cell_type": "code",
   "execution_count": 13,
   "metadata": {},
   "outputs": [
    {
     "data": {
      "text/html": [
       "<div>\n",
       "<style scoped>\n",
       "    .dataframe tbody tr th:only-of-type {\n",
       "        vertical-align: middle;\n",
       "    }\n",
       "\n",
       "    .dataframe tbody tr th {\n",
       "        vertical-align: top;\n",
       "    }\n",
       "\n",
       "    .dataframe thead th {\n",
       "        text-align: right;\n",
       "    }\n",
       "</style>\n",
       "<table border=\"1\" class=\"dataframe\">\n",
       "  <thead>\n",
       "    <tr style=\"text-align: right;\">\n",
       "      <th></th>\n",
       "      <th>channel_id</th>\n",
       "      <th>time</th>\n",
       "      <th>cookie</th>\n",
       "      <th>post_data</th>\n",
       "      <th>host</th>\n",
       "      <th>referer</th>\n",
       "      <th>url</th>\n",
       "      <th>method</th>\n",
       "      <th>user_agent</th>\n",
       "      <th>ip_dst</th>\n",
       "      <th>...</th>\n",
       "      <th>http2</th>\n",
       "      <th>http2_type</th>\n",
       "      <th>host_by_dns</th>\n",
       "      <th>domain_by_dns</th>\n",
       "      <th>channel_name</th>\n",
       "      <th>rank</th>\n",
       "      <th>category</th>\n",
       "      <th>decoded_data</th>\n",
       "      <th>req_domain</th>\n",
       "      <th>status</th>\n",
       "    </tr>\n",
       "  </thead>\n",
       "  <tbody>\n",
       "  </tbody>\n",
       "</table>\n",
       "<p>0 rows × 22 columns</p>\n",
       "</div>"
      ],
      "text/plain": [
       "Empty DataFrame\n",
       "Columns: [channel_id, time, cookie, post_data, host, referer, url, method, user_agent, ip_dst, tcp_dstport, tcp_stream, http2, http2_type, host_by_dns, domain_by_dns, channel_name, rank, category, decoded_data, req_domain, status]\n",
       "Index: []\n",
       "\n",
       "[0 rows x 22 columns]"
      ]
     },
     "execution_count": 13,
     "metadata": {},
     "output_type": "execute_result"
    }
   ],
   "source": [
    "requests_amazon[requests_amazon.tcp_dstport==\"443\"]"
   ]
  },
  {
   "cell_type": "code",
   "execution_count": 14,
   "metadata": {},
   "outputs": [],
   "source": [
    "def diff(df1, df2, column):\n",
    "    return set(df1[column].unique()) - set(df2[column].unique())"
   ]
  },
  {
   "cell_type": "code",
   "execution_count": null,
   "metadata": {},
   "outputs": [],
   "source": [
    "amazon_no_tls"
   ]
  },
  {
   "cell_type": "code",
   "execution_count": 51,
   "metadata": {},
   "outputs": [
    {
     "data": {
      "text/plain": [
       "{None}"
      ]
     },
     "execution_count": 51,
     "metadata": {},
     "output_type": "execute_result"
    }
   ],
   "source": [
    "diff(amazon_no_tls, requests_amazon, \"domain_by_dns\")"
   ]
  },
  {
   "cell_type": "code",
   "execution_count": 60,
   "metadata": {},
   "outputs": [
    {
     "name": "stdout",
     "output_type": "stream",
     "text": [
      "75 channels\n",
      "78 channels\n"
     ]
    },
    {
     "data": {
      "text/plain": [
       "{'com.HBO',\n",
       " 'com.amazon.rialto.cordova.webapp.webapp8dce82b0aefe46e3ac67dc00fce12092',\n",
       " 'com.amazon.rialto.cordova.webapp.webappca79b1bc532647ccb0d32c16bf4d72d2',\n",
       " 'com.amazon.rialto.cordova.webapp.webappddccc2245c524d95bdeb7088fa5d7a1f',\n",
       " 'com.amazon.rialto.cordova.webapp.webappf2ef4524131e47619089c0caecf6f33c',\n",
       " 'com.amazon.rialto.webapp.A6ed4efc199bebae4da0e5ec21e689439c4744ab8',\n",
       " 'com.beachbody.bodfiretv',\n",
       " 'com.cbs.ott',\n",
       " 'com.dailyburn.challenge',\n",
       " 'com.demicapps.quizzer8',\n",
       " 'com.gaia.firetv',\n",
       " 'com.hbo.hbonow',\n",
       " 'com.magellan.tv',\n",
       " 'com.maz.home449',\n",
       " 'com.speareducation.lobby',\n",
       " 'com.tinymission.dailyworkoutsfree'}"
      ]
     },
     "execution_count": 60,
     "metadata": {},
     "output_type": "execute_result"
    }
   ],
   "source": [
    "print(roku_no_tls.channel_id.nunique(), 'channels')\n",
    "print(requests_amazon.channel_id.nunique(), 'channels')\n",
    "diff(requests_amazon, amazon_no_tls,  \"channel_id\")\n",
    "#diff(amazon_no_tls,  requests_amazon, \"channel_id\")"
   ]
  },
  {
   "cell_type": "code",
   "execution_count": 62,
   "metadata": {},
   "outputs": [
    {
     "data": {
      "text/html": [
       "<div>\n",
       "<style scoped>\n",
       "    .dataframe tbody tr th:only-of-type {\n",
       "        vertical-align: middle;\n",
       "    }\n",
       "\n",
       "    .dataframe tbody tr th {\n",
       "        vertical-align: top;\n",
       "    }\n",
       "\n",
       "    .dataframe thead th {\n",
       "        text-align: right;\n",
       "    }\n",
       "</style>\n",
       "<table border=\"1\" class=\"dataframe\">\n",
       "  <thead>\n",
       "    <tr style=\"text-align: right;\">\n",
       "      <th></th>\n",
       "      <th>tcp_stream</th>\n",
       "      <th>frame_time_epoch</th>\n",
       "      <th>ip_src</th>\n",
       "      <th>tcp_srcport</th>\n",
       "      <th>ip_dst</th>\n",
       "      <th>tcp_dstport</th>\n",
       "      <th>channel_id</th>\n",
       "      <th>mitm_attempt</th>\n",
       "      <th>host_by_dns</th>\n",
       "      <th>domain_by_dns</th>\n",
       "      <th>disconnect_blocked</th>\n",
       "      <th>timestamp</th>\n",
       "      <th>channel_name</th>\n",
       "      <th>rank</th>\n",
       "      <th>category</th>\n",
       "      <th>playback</th>\n",
       "      <th>status</th>\n",
       "      <th>tls</th>\n",
       "    </tr>\n",
       "  </thead>\n",
       "  <tbody>\n",
       "  </tbody>\n",
       "</table>\n",
       "</div>"
      ],
      "text/plain": [
       "Empty DataFrame\n",
       "Columns: [tcp_stream, frame_time_epoch, ip_src, tcp_srcport, ip_dst, tcp_dstport, channel_id, mitm_attempt, host_by_dns, domain_by_dns, disconnect_blocked, timestamp, channel_name, rank, category, playback, status, tls]\n",
       "Index: []"
      ]
     },
     "execution_count": 62,
     "metadata": {},
     "output_type": "execute_result"
    }
   ],
   "source": [
    "amazon_no_tls[amazon_no_tls.channel_id==\"com.cbs.ott\"]"
   ]
  },
  {
   "cell_type": "code",
   "execution_count": 64,
   "metadata": {},
   "outputs": [
    {
     "data": {
      "text/plain": [
       "array(['37'], dtype=object)"
      ]
     },
     "execution_count": 64,
     "metadata": {},
     "output_type": "execute_result"
    }
   ],
   "source": [
    "requests_amazon[requests_amazon.channel_id==\"com.cbs.ott\"].tcp_stream.unique()"
   ]
  },
  {
   "cell_type": "code",
   "execution_count": null,
   "metadata": {},
   "outputs": [],
   "source": [
    "requests_amazon"
   ]
  },
  {
   "cell_type": "code",
   "execution_count": 48,
   "metadata": {},
   "outputs": [
    {
     "name": "stdout",
     "output_type": "stream",
     "text": [
      "123 distinct domains\n",
      "191 distinct hosts\n",
      "75 channels\n"
     ]
    }
   ],
   "source": [
    "print(roku_no_tls.domain_by_dns.nunique(), 'distinct domains')\n",
    "print(roku_no_tls.host_by_dns.nunique(), 'distinct hosts')\n",
    "print(roku_no_tls.channel_id.nunique(), 'channels')"
   ]
  },
  {
   "cell_type": "code",
   "execution_count": 49,
   "metadata": {},
   "outputs": [
    {
     "name": "stdout",
     "output_type": "stream",
     "text": [
      "121\n",
      "185\n",
      "73\n"
     ]
    }
   ],
   "source": [
    "print(requests_roku.domain_by_dns.nunique())\n",
    "print(requests_roku.host_by_dns.nunique())\n",
    "print(requests_roku.channel_id.nunique())"
   ]
  },
  {
   "cell_type": "code",
   "execution_count": 18,
   "metadata": {},
   "outputs": [
    {
     "name": "stdout",
     "output_type": "stream",
     "text": [
      "83 distinct domains\n",
      "129 distinct hosts\n",
      "141 distinct IP addresses\n"
     ]
    }
   ],
   "source": [
    "print(amazon_no_tls.domain_by_dns.nunique(), 'distinct domains')\n",
    "print(amazon_no_tls.host_by_dns.nunique(), 'distinct hosts')\n",
    "print(amazon_no_tls.ip_dst.nunique(), 'distinct IP addresses')"
   ]
  },
  {
   "cell_type": "code",
   "execution_count": 19,
   "metadata": {},
   "outputs": [
    {
     "data": {
      "text/plain": [
       "73"
      ]
     },
     "execution_count": 19,
     "metadata": {},
     "output_type": "execute_result"
    }
   ],
   "source": [
    "requests_roku.channel_id.nunique()"
   ]
  },
  {
   "cell_type": "code",
   "execution_count": 20,
   "metadata": {},
   "outputs": [
    {
     "data": {
      "text/plain": [
       "4138"
      ]
     },
     "execution_count": 20,
     "metadata": {},
     "output_type": "execute_result"
    }
   ],
   "source": [
    "len(requests_roku)"
   ]
  },
  {
   "cell_type": "code",
   "execution_count": 21,
   "metadata": {},
   "outputs": [
    {
     "data": {
      "text/plain": [
       "3422"
      ]
     },
     "execution_count": 21,
     "metadata": {},
     "output_type": "execute_result"
    }
   ],
   "source": [
    "len(requests_amazon)"
   ]
  },
  {
   "cell_type": "code",
   "execution_count": 22,
   "metadata": {},
   "outputs": [],
   "source": [
    "roku_distinct_domains = roku_tcp.drop_duplicates(['domain_by_dns', 'tls'], keep='last')\n",
    "amazon_distinct_domains = amazon_tcp.drop_duplicates(['domain_by_dns', 'tls'], keep='last')"
   ]
  },
  {
   "cell_type": "code",
   "execution_count": 23,
   "metadata": {},
   "outputs": [
    {
     "name": "stdout",
     "output_type": "stream",
     "text": [
      "NoTLS: 1818\n",
      "TLS: 6430\n",
      "Total: 8248\n",
      "% of unencrypted connections: 22.0\n"
     ]
    }
   ],
   "source": [
    "print_unencryted_stats(roku_tcp)"
   ]
  },
  {
   "cell_type": "code",
   "execution_count": 24,
   "metadata": {},
   "outputs": [
    {
     "name": "stdout",
     "output_type": "stream",
     "text": [
      "NoTLS: 1070\n",
      "TLS: 3108\n",
      "Total: 4178\n",
      "% of unencrypted connections: 25.6\n"
     ]
    }
   ],
   "source": [
    "print_unencryted_stats(amazon_tcp)"
   ]
  },
  {
   "cell_type": "code",
   "execution_count": 25,
   "metadata": {},
   "outputs": [
    {
     "name": "stdout",
     "output_type": "stream",
     "text": [
      "NoTLS: 124\n",
      "TLS: 178\n",
      "Total: 302\n",
      "% of unencrypted connections: 41.1\n"
     ]
    }
   ],
   "source": [
    "print_unencryted_stats(roku_distinct_domains)"
   ]
  },
  {
   "cell_type": "code",
   "execution_count": 26,
   "metadata": {},
   "outputs": [
    {
     "name": "stdout",
     "output_type": "stream",
     "text": [
      "NoTLS: 84\n",
      "TLS: 262\n",
      "Total: 346\n",
      "% of unencrypted connections: 24.3\n"
     ]
    }
   ],
   "source": [
    "print_unencryted_stats(amazon_distinct_domains)"
   ]
  },
  {
   "cell_type": "code",
   "execution_count": 27,
   "metadata": {},
   "outputs": [
    {
     "data": {
      "text/html": [
       "<div>\n",
       "<style scoped>\n",
       "    .dataframe tbody tr th:only-of-type {\n",
       "        vertical-align: middle;\n",
       "    }\n",
       "\n",
       "    .dataframe tbody tr th {\n",
       "        vertical-align: top;\n",
       "    }\n",
       "\n",
       "    .dataframe thead th {\n",
       "        text-align: right;\n",
       "    }\n",
       "</style>\n",
       "<table border=\"1\" class=\"dataframe\">\n",
       "  <thead>\n",
       "    <tr style=\"text-align: right;\">\n",
       "      <th>tls</th>\n",
       "      <th>False</th>\n",
       "      <th>True</th>\n",
       "    </tr>\n",
       "    <tr>\n",
       "      <th>disconnect_blocked</th>\n",
       "      <th></th>\n",
       "      <th></th>\n",
       "    </tr>\n",
       "  </thead>\n",
       "  <tbody>\n",
       "    <tr>\n",
       "      <th>False</th>\n",
       "      <td>86</td>\n",
       "      <td>131</td>\n",
       "    </tr>\n",
       "    <tr>\n",
       "      <th>True</th>\n",
       "      <td>38</td>\n",
       "      <td>47</td>\n",
       "    </tr>\n",
       "  </tbody>\n",
       "</table>\n",
       "</div>"
      ],
      "text/plain": [
       "tls                 False  True \n",
       "disconnect_blocked              \n",
       "False                  86    131\n",
       "True                   38     47"
      ]
     },
     "execution_count": 27,
     "metadata": {},
     "output_type": "execute_result"
    }
   ],
   "source": [
    "pd.crosstab(roku_distinct_domains.disconnect_blocked, roku_distinct_domains.tls)"
   ]
  },
  {
   "cell_type": "code",
   "execution_count": 28,
   "metadata": {},
   "outputs": [
    {
     "data": {
      "text/html": [
       "<div>\n",
       "<style scoped>\n",
       "    .dataframe tbody tr th:only-of-type {\n",
       "        vertical-align: middle;\n",
       "    }\n",
       "\n",
       "    .dataframe tbody tr th {\n",
       "        vertical-align: top;\n",
       "    }\n",
       "\n",
       "    .dataframe thead th {\n",
       "        text-align: right;\n",
       "    }\n",
       "</style>\n",
       "<table border=\"1\" class=\"dataframe\">\n",
       "  <thead>\n",
       "    <tr style=\"text-align: right;\">\n",
       "      <th>tls</th>\n",
       "      <th>False</th>\n",
       "      <th>True</th>\n",
       "    </tr>\n",
       "    <tr>\n",
       "      <th>disconnect_blocked</th>\n",
       "      <th></th>\n",
       "      <th></th>\n",
       "    </tr>\n",
       "  </thead>\n",
       "  <tbody>\n",
       "    <tr>\n",
       "      <th>False</th>\n",
       "      <td>61</td>\n",
       "      <td>165</td>\n",
       "    </tr>\n",
       "    <tr>\n",
       "      <th>True</th>\n",
       "      <td>23</td>\n",
       "      <td>97</td>\n",
       "    </tr>\n",
       "  </tbody>\n",
       "</table>\n",
       "</div>"
      ],
      "text/plain": [
       "tls                 False  True \n",
       "disconnect_blocked              \n",
       "False                  61    165\n",
       "True                   23     97"
      ]
     },
     "execution_count": 28,
     "metadata": {},
     "output_type": "execute_result"
    }
   ],
   "source": [
    "pd.crosstab(amazon_distinct_domains.disconnect_blocked, amazon_distinct_domains.tls)"
   ]
  },
  {
   "cell_type": "code",
   "execution_count": 29,
   "metadata": {},
   "outputs": [
    {
     "data": {
      "text/plain": [
       "(8248, 4178)"
      ]
     },
     "execution_count": 29,
     "metadata": {},
     "output_type": "execute_result"
    }
   ],
   "source": [
    "len(roku_tcp), len(amazon_tcp)"
   ]
  },
  {
   "cell_type": "code",
   "execution_count": 30,
   "metadata": {},
   "outputs": [
    {
     "data": {
      "text/plain": [
       "(302, 346)"
      ]
     },
     "execution_count": 30,
     "metadata": {},
     "output_type": "execute_result"
    }
   ],
   "source": [
    "len(roku_distinct_domains), len(amazon_distinct_domains)"
   ]
  },
  {
   "cell_type": "markdown",
   "metadata": {},
   "source": [
    "# TODO: remove redirected domains\n",
    "- we should not count if http is upgraded to https"
   ]
  },
  {
   "cell_type": "code",
   "execution_count": 31,
   "metadata": {},
   "outputs": [],
   "source": [
    "def print_unencryted_tracker_stats(df):\n",
    "    df = df.groupby([\"disconnect_blocked\", \"tls\"]).size()\n",
    "    not_blocked = df[0]\n",
    "    blocked = df[1]\n",
    "    print(\"Non-tracker - %% NoTLS: %0.1f\" % (100*not_blocked[NO_TLS] / (not_blocked[NO_TLS] + not_blocked[TLS])))\n",
    "    print(\"Tracker - %% NoTLS: %0.1f\" % (100*blocked[NO_TLS] / (blocked[NO_TLS] + blocked[TLS])))\n",
    "\n",
    "#$100*blocked[NO_TLS] / (blocked[NO_TLS] + blocked[TLS]"
   ]
  },
  {
   "cell_type": "code",
   "execution_count": 32,
   "metadata": {},
   "outputs": [
    {
     "name": "stdout",
     "output_type": "stream",
     "text": [
      "Non-tracker - % NoTLS: 20.0\n",
      "Tracker - % NoTLS: 33.0\n"
     ]
    }
   ],
   "source": [
    "print_unencryted_tracker_stats(roku_tcp)"
   ]
  },
  {
   "cell_type": "code",
   "execution_count": 33,
   "metadata": {},
   "outputs": [
    {
     "name": "stdout",
     "output_type": "stream",
     "text": [
      "Non-tracker - % NoTLS: 39.6\n",
      "Tracker - % NoTLS: 44.7\n"
     ]
    }
   ],
   "source": [
    "print_unencryted_tracker_stats(roku_distinct_domains)"
   ]
  },
  {
   "cell_type": "code",
   "execution_count": 34,
   "metadata": {},
   "outputs": [
    {
     "name": "stdout",
     "output_type": "stream",
     "text": [
      "Non-tracker - % NoTLS: 33.8\n",
      "Tracker - % NoTLS: 13.9\n"
     ]
    }
   ],
   "source": [
    "print_unencryted_tracker_stats(amazon_tcp)"
   ]
  },
  {
   "cell_type": "code",
   "execution_count": 35,
   "metadata": {},
   "outputs": [
    {
     "name": "stdout",
     "output_type": "stream",
     "text": [
      "Non-tracker - % NoTLS: 27.0\n",
      "Tracker - % NoTLS: 19.2\n"
     ]
    }
   ],
   "source": [
    "print_unencryted_tracker_stats(amazon_distinct_domains)"
   ]
  },
  {
   "cell_type": "code",
   "execution_count": 36,
   "metadata": {},
   "outputs": [],
   "source": [
    "pre = r\"\"\"\n",
    "\\begin{table}[H]\n",
    "%\\centering\n",
    "\\resizebox{\\columnwidth}{!}{%\n",
    "\"\"\"\n",
    "\n",
    "post = r\"\"\"\n",
    "}\n",
    "\\caption{CAPTION}\n",
    "\\label{tab:LABEL}\n",
    "\\end{table}\"\"\""
   ]
  },
  {
   "cell_type": "code",
   "execution_count": 37,
   "metadata": {},
   "outputs": [],
   "source": [
    "def make_latex_table(df, label=\"LABEL\", caption=\"caption\",\n",
    "    tablefmt=\"latex_booktabs\", headers=\"keys\", showindex=False):\n",
    "    tabu = tabulate(df, tablefmt=\"latex_booktabs\", headers=\"keys\", showindex=False)\n",
    "    return pre + tabu + post.replace(\"LABEL\", label).replace(\"CAPTION\", caption)\n",
    "    "
   ]
  },
  {
   "cell_type": "markdown",
   "metadata": {},
   "source": [
    "## Most common unencrypted endpoints"
   ]
  },
  {
   "cell_type": "code",
   "execution_count": 47,
   "metadata": {},
   "outputs": [
    {
     "name": "stdout",
     "output_type": "stream",
     "text": [
      "\n",
      "\\begin{table}[H]\n",
      "%\\centering\n",
      "\\resizebox{\\columnwidth}{!}{%\n",
      "\\begin{tabular}{lr}\n",
      "\\toprule\n",
      " domain\\_by\\_dns         &   Num. of channels \\\\\n",
      "\\midrule\n",
      " roku.com              &                 26 \\\\\n",
      " scorecardresearch.com &                 13 \\\\\n",
      " ifood.tv              &                 12 \\\\\n",
      " demdex.net            &                 11 \\\\\n",
      " doubleclick.net       &                  9 \\\\\n",
      " google-analytics.com  &                  8 \\\\\n",
      " akamaihd.net          &                  7 \\\\\n",
      " tremorhub.com         &                  7 \\\\\n",
      " 1rx.io                &                  7 \\\\\n",
      " irchan.com            &                  6 \\\\\n",
      "\\bottomrule\n",
      "\\end{tabular}\n",
      "}\n",
      "\\caption{Roku - Most prevalent domains contacted over unencrypted connections}\n",
      "\\label{tab:most_common_insecure_domains_roku}\n",
      "\\end{table}\n"
     ]
    }
   ],
   "source": [
    "df = get_popular_domains(requests_roku)\n",
    "print(make_latex_table(df, caption=\"Roku - Most prevalent domains contacted over unencrypted connections\",\n",
    "                       label=\"most_common_insecure_domains_roku\"))\n"
   ]
  },
  {
   "cell_type": "code",
   "execution_count": 39,
   "metadata": {},
   "outputs": [
    {
     "name": "stdout",
     "output_type": "stream",
     "text": [
      "\n",
      "\\begin{table}[H]\n",
      "%\\centering\n",
      "\\resizebox{\\columnwidth}{!}{%\n",
      "\\begin{tabular}{lr}\n",
      "\\toprule\n",
      " domain\\_by\\_dns         &   Num. of channels \\\\\n",
      "\\midrule\n",
      " amazon-adsystem.com   &                 27 \\\\\n",
      " scorecardresearch.com &                 16 \\\\\n",
      " demdex.net            &                  7 \\\\\n",
      " ifood.tv              &                  7 \\\\\n",
      " spotxchange.com       &                  5 \\\\\n",
      " omtrdc.net            &                  5 \\\\\n",
      " images-amazon.com     &                  4 \\\\\n",
      " nbcuni.com            &                  4 \\\\\n",
      " yumenetworks.com      &                  3 \\\\\n",
      " adsrvr.org            &                  3 \\\\\n",
      "\\bottomrule\n",
      "\\end{tabular}\n",
      "}\n",
      "\\caption{Amazon - Most prevalent domains contacted over unencrypted connections}\n",
      "\\label{tab:most_common_insecure_domains_amazon}\n",
      "\\end{table}\n"
     ]
    }
   ],
   "source": [
    "df = get_popular_domains(requests_amazon)\n",
    "print(make_latex_table(df, caption=\"Amazon - Most prevalent domains contacted over unencrypted connections\",\n",
    "                       label=\"most_common_insecure_domains_amazon\"))\n"
   ]
  },
  {
   "cell_type": "code",
   "execution_count": 40,
   "metadata": {},
   "outputs": [
    {
     "data": {
      "text/html": [
       "<div>\n",
       "<style scoped>\n",
       "    .dataframe tbody tr th:only-of-type {\n",
       "        vertical-align: middle;\n",
       "    }\n",
       "\n",
       "    .dataframe tbody tr th {\n",
       "        vertical-align: top;\n",
       "    }\n",
       "\n",
       "    .dataframe thead th {\n",
       "        text-align: right;\n",
       "    }\n",
       "</style>\n",
       "<table border=\"1\" class=\"dataframe\">\n",
       "  <thead>\n",
       "    <tr style=\"text-align: right;\">\n",
       "      <th></th>\n",
       "      <th>domain_by_dns</th>\n",
       "      <th>Num. of channels</th>\n",
       "    </tr>\n",
       "  </thead>\n",
       "  <tbody>\n",
       "    <tr>\n",
       "      <th>93</th>\n",
       "      <td>roku.com</td>\n",
       "      <td>26</td>\n",
       "    </tr>\n",
       "    <tr>\n",
       "      <th>97</th>\n",
       "      <td>scorecardresearch.com</td>\n",
       "      <td>13</td>\n",
       "    </tr>\n",
       "    <tr>\n",
       "      <th>53</th>\n",
       "      <td>ifood.tv</td>\n",
       "      <td>12</td>\n",
       "    </tr>\n",
       "    <tr>\n",
       "      <th>33</th>\n",
       "      <td>demdex.net</td>\n",
       "      <td>11</td>\n",
       "    </tr>\n",
       "    <tr>\n",
       "      <th>35</th>\n",
       "      <td>doubleclick.net</td>\n",
       "      <td>10</td>\n",
       "    </tr>\n",
       "    <tr>\n",
       "      <th>48</th>\n",
       "      <td>google-analytics.com</td>\n",
       "      <td>8</td>\n",
       "    </tr>\n",
       "    <tr>\n",
       "      <th>9</th>\n",
       "      <td>akamaihd.net</td>\n",
       "      <td>7</td>\n",
       "    </tr>\n",
       "    <tr>\n",
       "      <th>108</th>\n",
       "      <td>tremorhub.com</td>\n",
       "      <td>7</td>\n",
       "    </tr>\n",
       "    <tr>\n",
       "      <th>0</th>\n",
       "      <td>1rx.io</td>\n",
       "      <td>7</td>\n",
       "    </tr>\n",
       "    <tr>\n",
       "      <th>57</th>\n",
       "      <td>irchan.com</td>\n",
       "      <td>6</td>\n",
       "    </tr>\n",
       "  </tbody>\n",
       "</table>\n",
       "</div>"
      ],
      "text/plain": [
       "             domain_by_dns  Num. of channels\n",
       "93                roku.com                26\n",
       "97   scorecardresearch.com                13\n",
       "53                ifood.tv                12\n",
       "33              demdex.net                11\n",
       "35         doubleclick.net                10\n",
       "48    google-analytics.com                 8\n",
       "9             akamaihd.net                 7\n",
       "108          tremorhub.com                 7\n",
       "0                   1rx.io                 7\n",
       "57              irchan.com                 6"
      ]
     },
     "execution_count": 40,
     "metadata": {},
     "output_type": "execute_result"
    }
   ],
   "source": [
    "get_popular_domains(roku_no_tls)"
   ]
  },
  {
   "cell_type": "code",
   "execution_count": 41,
   "metadata": {},
   "outputs": [
    {
     "data": {
      "text/html": [
       "<div>\n",
       "<style scoped>\n",
       "    .dataframe tbody tr th:only-of-type {\n",
       "        vertical-align: middle;\n",
       "    }\n",
       "\n",
       "    .dataframe tbody tr th {\n",
       "        vertical-align: top;\n",
       "    }\n",
       "\n",
       "    .dataframe thead th {\n",
       "        text-align: right;\n",
       "    }\n",
       "</style>\n",
       "<table border=\"1\" class=\"dataframe\">\n",
       "  <thead>\n",
       "    <tr style=\"text-align: right;\">\n",
       "      <th></th>\n",
       "      <th>domain_by_dns</th>\n",
       "      <th>Num. of channels</th>\n",
       "    </tr>\n",
       "  </thead>\n",
       "  <tbody>\n",
       "    <tr>\n",
       "      <th>4</th>\n",
       "      <td>amazon-adsystem.com</td>\n",
       "      <td>27</td>\n",
       "    </tr>\n",
       "    <tr>\n",
       "      <th>65</th>\n",
       "      <td>scorecardresearch.com</td>\n",
       "      <td>16</td>\n",
       "    </tr>\n",
       "    <tr>\n",
       "      <th>19</th>\n",
       "      <td>demdex.net</td>\n",
       "      <td>7</td>\n",
       "    </tr>\n",
       "    <tr>\n",
       "      <th>34</th>\n",
       "      <td>ifood.tv</td>\n",
       "      <td>7</td>\n",
       "    </tr>\n",
       "    <tr>\n",
       "      <th>70</th>\n",
       "      <td>spotxchange.com</td>\n",
       "      <td>5</td>\n",
       "    </tr>\n",
       "    <tr>\n",
       "      <th>57</th>\n",
       "      <td>omtrdc.net</td>\n",
       "      <td>5</td>\n",
       "    </tr>\n",
       "    <tr>\n",
       "      <th>36</th>\n",
       "      <td>images-amazon.com</td>\n",
       "      <td>4</td>\n",
       "    </tr>\n",
       "    <tr>\n",
       "      <th>51</th>\n",
       "      <td>nbcuni.com</td>\n",
       "      <td>4</td>\n",
       "    </tr>\n",
       "    <tr>\n",
       "      <th>82</th>\n",
       "      <td>yumenetworks.com</td>\n",
       "      <td>3</td>\n",
       "    </tr>\n",
       "    <tr>\n",
       "      <th>2</th>\n",
       "      <td>adsrvr.org</td>\n",
       "      <td>3</td>\n",
       "    </tr>\n",
       "  </tbody>\n",
       "</table>\n",
       "</div>"
      ],
      "text/plain": [
       "            domain_by_dns  Num. of channels\n",
       "4     amazon-adsystem.com                27\n",
       "65  scorecardresearch.com                16\n",
       "19             demdex.net                 7\n",
       "34               ifood.tv                 7\n",
       "70        spotxchange.com                 5\n",
       "57             omtrdc.net                 5\n",
       "36      images-amazon.com                 4\n",
       "51             nbcuni.com                 4\n",
       "82       yumenetworks.com                 3\n",
       "2              adsrvr.org                 3"
      ]
     },
     "execution_count": 41,
     "metadata": {},
     "output_type": "execute_result"
    }
   ],
   "source": [
    "get_popular_domains(amazon_tcp[~amazon_tcp.tls])"
   ]
  },
  {
   "cell_type": "markdown",
   "metadata": {},
   "source": [
    "## Most common unencrypted tracking endpoints"
   ]
  },
  {
   "cell_type": "code",
   "execution_count": 42,
   "metadata": {},
   "outputs": [],
   "source": [
    "df = get_popular_domains(roku_tcp[~roku_tcp.tls & roku_tcp.disconnect_blocked])"
   ]
  },
  {
   "cell_type": "code",
   "execution_count": 43,
   "metadata": {},
   "outputs": [
    {
     "name": "stdout",
     "output_type": "stream",
     "text": [
      "\n",
      "\\begin{table}[H]\n",
      "%\\centering\n",
      "\\resizebox{\\columnwidth}{!}{%\n",
      "\\begin{tabular}{lr}\n",
      "\\toprule\n",
      " domain\\_by\\_dns         &   Num. of channels \\\\\n",
      "\\midrule\n",
      " scorecardresearch.com &                 13 \\\\\n",
      " demdex.net            &                 11 \\\\\n",
      " doubleclick.net       &                 10 \\\\\n",
      " google-analytics.com  &                  8 \\\\\n",
      " 1rx.io                &                  7 \\\\\n",
      " tremorhub.com         &                  7 \\\\\n",
      " omtrdc.net            &                  6 \\\\\n",
      " w55c.net              &                  4 \\\\\n",
      " adsrvr.org            &                  4 \\\\\n",
      " spotxchange.com       &                  4 \\\\\n",
      "\\bottomrule\n",
      "\\end{tabular}\n",
      "}\n",
      "\\caption{Roku - Most prevalent trackers that use unencrypted connections}\n",
      "\\label{tab:most_common_insecure_trackers_roku}\n",
      "\\end{table}\n"
     ]
    }
   ],
   "source": [
    "print(make_latex_table(df, caption=\"Roku - Most prevalent trackers that use unencrypted connections\",\n",
    "                       label=\"most_common_insecure_trackers_roku\"))"
   ]
  },
  {
   "cell_type": "code",
   "execution_count": 44,
   "metadata": {},
   "outputs": [
    {
     "name": "stdout",
     "output_type": "stream",
     "text": [
      "\n",
      "\\begin{table}[H]\n",
      "%\\centering\n",
      "\\resizebox{\\columnwidth}{!}{%\n",
      "\\begin{tabular}{lr}\n",
      "\\toprule\n",
      " domain\\_by\\_dns         &   Num. of channels \\\\\n",
      "\\midrule\n",
      " amazon-adsystem.com   &                 27 \\\\\n",
      " scorecardresearch.com &                 16 \\\\\n",
      " demdex.net            &                  7 \\\\\n",
      " spotxchange.com       &                  5 \\\\\n",
      " omtrdc.net            &                  5 \\\\\n",
      " yumenetworks.com      &                  3 \\\\\n",
      " fwmrm.net             &                  3 \\\\\n",
      " adsrvr.org            &                  3 \\\\\n",
      " rlcdn.com             &                  2 \\\\\n",
      " google-analytics.com  &                  2 \\\\\n",
      "\\bottomrule\n",
      "\\end{tabular}\n",
      "}\n",
      "\\caption{Amazon - Most prevalent trackers that use unencrypted connections}\n",
      "\\label{tab:most_common_insecure_trackers_amazon}\n",
      "\\end{table}\n"
     ]
    }
   ],
   "source": [
    "df = get_popular_domains(amazon_tcp[~amazon_tcp.tls & amazon_tcp.disconnect_blocked])\n",
    "print(make_latex_table(df, caption=\"Amazon - Most prevalent trackers that use unencrypted connections\",\n",
    "                       label=\"most_common_insecure_trackers_amazon\"))"
   ]
  },
  {
   "cell_type": "markdown",
   "metadata": {},
   "source": [
    "## Unencrypted platform endpoints"
   ]
  },
  {
   "cell_type": "code",
   "execution_count": 45,
   "metadata": {},
   "outputs": [
    {
     "data": {
      "text/plain": [
       "array(['aax-us-east.amazon-adsystem.com', 's.amazon-adsystem.com'],\n",
       "      dtype=object)"
      ]
     },
     "execution_count": 45,
     "metadata": {},
     "output_type": "execute_result"
    }
   ],
   "source": [
    "amazon_tcp[~amazon_tcp.tls & (amazon_tcp.domain_by_dns == \"amazon-adsystem.com\")].host_by_dns.unique()"
   ]
  },
  {
   "cell_type": "code",
   "execution_count": 46,
   "metadata": {},
   "outputs": [
    {
     "data": {
      "text/plain": [
       "array(['wwwimg.roku.com', 'api2.sr.roku.com', 'cigars.roku.com',\n",
       "       'channels.roku.com'], dtype=object)"
      ]
     },
     "execution_count": 46,
     "metadata": {},
     "output_type": "execute_result"
    }
   ],
   "source": [
    "roku_tcp[~roku_tcp.tls & (roku_tcp.domain_by_dns == \"roku.com\")].host_by_dns.unique()"
   ]
  },
  {
   "cell_type": "code",
   "execution_count": null,
   "metadata": {},
   "outputs": [],
   "source": [
    "## HTTP"
   ]
  },
  {
   "cell_type": "code",
   "execution_count": null,
   "metadata": {},
   "outputs": [],
   "source": []
  },
  {
   "cell_type": "code",
   "execution_count": null,
   "metadata": {},
   "outputs": [],
   "source": []
  }
 ],
 "metadata": {
  "kernelspec": {
   "display_name": "Python 3",
   "language": "python",
   "name": "python3"
  },
  "language_info": {
   "codemirror_mode": {
    "name": "ipython",
    "version": 3
   },
   "file_extension": ".py",
   "mimetype": "text/x-python",
   "name": "python",
   "nbconvert_exporter": "python",
   "pygments_lexer": "ipython3",
   "version": "3.6.7"
  }
 },
 "nbformat": 4,
 "nbformat_minor": 2
}
