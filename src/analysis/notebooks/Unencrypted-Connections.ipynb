{
 "cells": [
  {
   "cell_type": "markdown",
   "metadata": {},
   "source": [
    "## Unencrypted connections\n",
    "- Num of channels sending at least one unencrypted HTTP request\n",
    "- Percentage of unencrypted HTTP requests"
   ]
  },
  {
   "cell_type": "code",
   "execution_count": 1,
   "metadata": {},
   "outputs": [
    {
     "name": "stderr",
     "output_type": "stream",
     "text": [
      "/usr/lib/python3.6/importlib/_bootstrap.py:219: RuntimeWarning: numpy.dtype size changed, may indicate binary incompatibility. Expected 96, got 88\n",
      "  return f(*args, **kwds)\n",
      "/usr/lib/python3.6/importlib/_bootstrap.py:219: RuntimeWarning: numpy.dtype size changed, may indicate binary incompatibility. Expected 96, got 88\n",
      "  return f(*args, **kwds)\n"
     ]
    }
   ],
   "source": [
    "import pandas as pd\n",
    "from df_utils import load_df, print_stats\n",
    "from log_analysis import get_playback_detection_results, get_n_successful_channels\n",
    "from nb_utils import get_popular_domains_from_reqs, get_popular_domains_from_tcp_conns\n",
    "from crawl_ids import CrawlRokuTop1K, CrawlRokuSSLStrip\n",
    "from crawl_ids import CrawlFireTVMITMWarmUp, CrawlFireTVMITM, CrawlFireTVNoMITM"
   ]
  },
  {
   "cell_type": "markdown",
   "metadata": {},
   "source": [
    "### Total num. of channels"
   ]
  },
  {
   "cell_type": "code",
   "execution_count": 2,
   "metadata": {},
   "outputs": [
    {
     "name": "stdout",
     "output_type": "stream",
     "text": [
      "981 82\n"
     ]
    }
   ],
   "source": [
    "n_roku = get_n_successful_channels(CrawlRokuTop1K)\n",
    "n_amazon = get_n_successful_channels(CrawlFireTVNoMITM)\n",
    "print(n_roku, n_amazon)"
   ]
  },
  {
   "cell_type": "markdown",
   "metadata": {},
   "source": [
    "### Load Requests and TCP connections"
   ]
  },
  {
   "cell_type": "code",
   "execution_count": 3,
   "metadata": {},
   "outputs": [],
   "source": [
    "requests_roku = load_df(CrawlRokuTop1K, \"http_req\")\n",
    "responses_roku = load_df(CrawlRokuTop1K, \"http_resp\")\n",
    "dns_df_roku = load_df(CrawlRokuTop1K, \"dns\")\n",
    "\n",
    "requests_amazon = load_df(CrawlFireTVNoMITM, \"http_req\")\n",
    "responses_amazon = load_df(CrawlFireTVNoMITM, \"http_resp\")\n",
    "dns_df_amazon = load_df(CrawlFireTVNoMITM, \"dns\")"
   ]
  },
  {
   "cell_type": "code",
   "execution_count": 4,
   "metadata": {},
   "outputs": [
    {
     "data": {
      "text/plain": [
       "(29664, 3422)"
      ]
     },
     "execution_count": 4,
     "metadata": {},
     "output_type": "execute_result"
    }
   ],
   "source": [
    "len(requests_roku), len(requests_amazon)"
   ]
  },
  {
   "cell_type": "code",
   "execution_count": 5,
   "metadata": {},
   "outputs": [],
   "source": [
    "roku_tcp = load_df(CrawlRokuTop1K, \"tcp_conn\")\n",
    "amazon_tcp = load_df(CrawlFireTVNoMITM, \"tcp_conn\")"
   ]
  },
  {
   "cell_type": "markdown",
   "metadata": {},
   "source": [
    "- Only take port 80 and 443\n",
    "- Very few connections to other ports"
   ]
  },
  {
   "cell_type": "code",
   "execution_count": 6,
   "metadata": {},
   "outputs": [],
   "source": [
    "roku_tcp = roku_tcp[roku_tcp.tcp_dstport.isin([80, 443])]\n",
    "amazon_tcp = amazon_tcp[amazon_tcp.tcp_dstport.isin([80, 443])]\n",
    "\n",
    "roku_tcp['tls'] = roku_tcp.tcp_dstport.map(lambda x: x == 443)\n",
    "amazon_tcp['tls'] = amazon_tcp.tcp_dstport.map(lambda x: x == 443)\n",
    "\n",
    "amazon_no_tls = amazon_tcp[~amazon_tcp.tls]\n",
    "roku_no_tls = roku_tcp[~roku_tcp.tls]"
   ]
  },
  {
   "cell_type": "code",
   "execution_count": 7,
   "metadata": {},
   "outputs": [],
   "source": [
    "NO_TLS = 0  # tls=False (0)\n",
    "TLS = 1\n",
    "\n",
    "def print_unencryted_stats(df):\n",
    "    res = df.tls.value_counts()\n",
    "    n_total = len(df)\n",
    "    print (\"NoTLS:\", res[NO_TLS])\n",
    "    print (\"TLS:\", res[TLS])\n",
    "    print (\"Total:\", n_total)\n",
    "    print(\"%% of unencrypted connections: %0.1f\" % (100*res[NO_TLS] / (res[NO_TLS] + res[TLS])))"
   ]
  },
  {
   "cell_type": "code",
   "execution_count": 8,
   "metadata": {},
   "outputs": [
    {
     "data": {
      "text/plain": [
       "'794 of the 981 Roku channels (80.9%) send at last one unencrypted request'"
      ]
     },
     "execution_count": 8,
     "metadata": {},
     "output_type": "execute_result"
    }
   ],
   "source": [
    "n_channels_no_tls_roku = requests_roku.channel_id.nunique()\n",
    "n_channels_no_tls_amazon = requests_amazon.channel_id.nunique()\n",
    "\n",
    "\"%s of the %s Roku channels (%0.1f%%) send at last one unencrypted request\" % (n_channels_no_tls_roku, n_roku, (100*n_channels_no_tls_roku)/n_roku)"
   ]
  },
  {
   "cell_type": "code",
   "execution_count": 9,
   "metadata": {},
   "outputs": [
    {
     "data": {
      "text/plain": [
       "'78 of the 82 Fire TV channels (95.1%) send at last one unencrypted request'"
      ]
     },
     "execution_count": 9,
     "metadata": {},
     "output_type": "execute_result"
    }
   ],
   "source": [
    "\"%s of the %s Fire TV channels (%0.1f%%) send at last one unencrypted request\" % (n_channels_no_tls_amazon, n_amazon, (100*n_channels_no_tls_amazon)/n_amazon)"
   ]
  },
  {
   "cell_type": "code",
   "execution_count": 10,
   "metadata": {},
   "outputs": [
    {
     "name": "stdout",
     "output_type": "stream",
     "text": [
      "1102 4535\n",
      "9141 61639\n"
     ]
    }
   ],
   "source": [
    "print(len(amazon_no_tls), len(amazon_tcp))\n",
    "print(len(roku_no_tls), len(roku_tcp))"
   ]
  },
  {
   "cell_type": "code",
   "execution_count": 11,
   "metadata": {},
   "outputs": [
    {
     "name": "stdout",
     "output_type": "stream",
     "text": [
      "29664 distinct requests\n",
      "493 distinct domains\n"
     ]
    }
   ],
   "source": [
    "print(len(requests_roku), 'distinct requests')\n",
    "print(requests_roku.req_domain.nunique(), 'distinct domains')"
   ]
  },
  {
   "cell_type": "code",
   "execution_count": 12,
   "metadata": {},
   "outputs": [
    {
     "name": "stdout",
     "output_type": "stream",
     "text": [
      "3422 distinct requests\n",
      "87 distinct domains\n"
     ]
    }
   ],
   "source": [
    "print(len(requests_amazon), 'distinct requests')\n",
    "print(requests_amazon.req_domain.nunique(), 'distinct domains')"
   ]
  },
  {
   "cell_type": "code",
   "execution_count": 13,
   "metadata": {},
   "outputs": [],
   "source": [
    "roku_distinct_domains = roku_tcp.drop_duplicates(['domain', 'tls'], keep='last')\n",
    "amazon_distinct_domains = amazon_tcp.drop_duplicates(['domain', 'tls'], keep='last')"
   ]
  },
  {
   "cell_type": "code",
   "execution_count": 14,
   "metadata": {},
   "outputs": [
    {
     "name": "stdout",
     "output_type": "stream",
     "text": [
      "NoTLS: 9141\n",
      "TLS: 52498\n",
      "Total: 61639\n",
      "% of unencrypted connections: 14.8\n"
     ]
    }
   ],
   "source": [
    "print_unencryted_stats(roku_tcp)"
   ]
  },
  {
   "cell_type": "code",
   "execution_count": 15,
   "metadata": {},
   "outputs": [
    {
     "name": "stdout",
     "output_type": "stream",
     "text": [
      "NoTLS: 1102\n",
      "TLS: 3433\n",
      "Total: 4535\n",
      "% of unencrypted connections: 24.3\n"
     ]
    }
   ],
   "source": [
    "print_unencryted_stats(amazon_tcp)"
   ]
  },
  {
   "cell_type": "code",
   "execution_count": 16,
   "metadata": {},
   "outputs": [
    {
     "name": "stdout",
     "output_type": "stream",
     "text": [
      "NoTLS: 506\n",
      "TLS: 773\n",
      "Total: 1279\n",
      "% of unencrypted connections: 39.6\n"
     ]
    }
   ],
   "source": [
    "print_unencryted_stats(roku_distinct_domains)"
   ]
  },
  {
   "cell_type": "code",
   "execution_count": 17,
   "metadata": {},
   "outputs": [
    {
     "name": "stdout",
     "output_type": "stream",
     "text": [
      "NoTLS: 87\n",
      "TLS: 264\n",
      "Total: 351\n",
      "% of unencrypted connections: 24.8\n"
     ]
    }
   ],
   "source": [
    "print_unencryted_stats(amazon_distinct_domains)"
   ]
  },
  {
   "cell_type": "code",
   "execution_count": 18,
   "metadata": {},
   "outputs": [
    {
     "data": {
      "text/html": [
       "<div>\n",
       "<style scoped>\n",
       "    .dataframe tbody tr th:only-of-type {\n",
       "        vertical-align: middle;\n",
       "    }\n",
       "\n",
       "    .dataframe tbody tr th {\n",
       "        vertical-align: top;\n",
       "    }\n",
       "\n",
       "    .dataframe thead th {\n",
       "        text-align: right;\n",
       "    }\n",
       "</style>\n",
       "<table border=\"1\" class=\"dataframe\">\n",
       "  <thead>\n",
       "    <tr style=\"text-align: right;\">\n",
       "      <th>tls</th>\n",
       "      <th>False</th>\n",
       "      <th>True</th>\n",
       "    </tr>\n",
       "    <tr>\n",
       "      <th>adblocked</th>\n",
       "      <th></th>\n",
       "      <th></th>\n",
       "    </tr>\n",
       "  </thead>\n",
       "  <tbody>\n",
       "    <tr>\n",
       "      <th>False</th>\n",
       "      <td>392</td>\n",
       "      <td>593</td>\n",
       "    </tr>\n",
       "    <tr>\n",
       "      <th>True</th>\n",
       "      <td>114</td>\n",
       "      <td>180</td>\n",
       "    </tr>\n",
       "  </tbody>\n",
       "</table>\n",
       "</div>"
      ],
      "text/plain": [
       "tls        False  True \n",
       "adblocked              \n",
       "False        392    593\n",
       "True         114    180"
      ]
     },
     "execution_count": 18,
     "metadata": {},
     "output_type": "execute_result"
    }
   ],
   "source": [
    "pd.crosstab(roku_distinct_domains.adblocked, roku_distinct_domains.tls)"
   ]
  },
  {
   "cell_type": "code",
   "execution_count": 19,
   "metadata": {},
   "outputs": [
    {
     "data": {
      "text/html": [
       "<div>\n",
       "<style scoped>\n",
       "    .dataframe tbody tr th:only-of-type {\n",
       "        vertical-align: middle;\n",
       "    }\n",
       "\n",
       "    .dataframe tbody tr th {\n",
       "        vertical-align: top;\n",
       "    }\n",
       "\n",
       "    .dataframe thead th {\n",
       "        text-align: right;\n",
       "    }\n",
       "</style>\n",
       "<table border=\"1\" class=\"dataframe\">\n",
       "  <thead>\n",
       "    <tr style=\"text-align: right;\">\n",
       "      <th>tls</th>\n",
       "      <th>False</th>\n",
       "      <th>True</th>\n",
       "    </tr>\n",
       "    <tr>\n",
       "      <th>adblocked</th>\n",
       "      <th></th>\n",
       "      <th></th>\n",
       "    </tr>\n",
       "  </thead>\n",
       "  <tbody>\n",
       "    <tr>\n",
       "      <th>False</th>\n",
       "      <td>58</td>\n",
       "      <td>137</td>\n",
       "    </tr>\n",
       "    <tr>\n",
       "      <th>True</th>\n",
       "      <td>29</td>\n",
       "      <td>127</td>\n",
       "    </tr>\n",
       "  </tbody>\n",
       "</table>\n",
       "</div>"
      ],
      "text/plain": [
       "tls        False  True \n",
       "adblocked              \n",
       "False         58    137\n",
       "True          29    127"
      ]
     },
     "execution_count": 19,
     "metadata": {},
     "output_type": "execute_result"
    }
   ],
   "source": [
    "pd.crosstab(amazon_distinct_domains.adblocked, amazon_distinct_domains.tls)"
   ]
  },
  {
   "cell_type": "code",
   "execution_count": 20,
   "metadata": {},
   "outputs": [
    {
     "data": {
      "text/plain": [
       "(61639, 4535)"
      ]
     },
     "execution_count": 20,
     "metadata": {},
     "output_type": "execute_result"
    }
   ],
   "source": [
    "len(roku_tcp), len(amazon_tcp)"
   ]
  },
  {
   "cell_type": "code",
   "execution_count": 21,
   "metadata": {},
   "outputs": [
    {
     "data": {
      "text/plain": [
       "(1279, 351)"
      ]
     },
     "execution_count": 21,
     "metadata": {},
     "output_type": "execute_result"
    }
   ],
   "source": [
    "len(roku_distinct_domains), len(amazon_distinct_domains)"
   ]
  },
  {
   "cell_type": "code",
   "execution_count": 22,
   "metadata": {},
   "outputs": [],
   "source": [
    "def print_unencryted_tracker_stats(df):\n",
    "    grouped = df.groupby([\"adblocked\", \"tls\"]).size()\n",
    "    non_tracker = grouped[0]\n",
    "    tracker = grouped[1]\n",
    "    n_trackers = sum(tracker)\n",
    "    n_non_trackers = sum(non_tracker)\n",
    "    print(\"Tracker -     Unencrypted: %0.1f%% (%s of %s)\" % ((100*tracker[NO_TLS] / n_trackers), tracker[NO_TLS], n_trackers))\n",
    "    print(\"Non-tracker - Unencrypted: %0.1f%% (%s of %s)\" % ((100*non_tracker[NO_TLS] / n_non_trackers), non_tracker[NO_TLS], n_non_trackers))\n",
    "    return pd.crosstab(df.adblocked, df.tls)\n"
   ]
  },
  {
   "cell_type": "code",
   "execution_count": 23,
   "metadata": {},
   "outputs": [
    {
     "name": "stdout",
     "output_type": "stream",
     "text": [
      "Tracker -     Unencrypted: 19.0% (2447 of 12906)\n",
      "Non-tracker - Unencrypted: 13.7% (6694 of 48733)\n"
     ]
    },
    {
     "data": {
      "text/html": [
       "<div>\n",
       "<style scoped>\n",
       "    .dataframe tbody tr th:only-of-type {\n",
       "        vertical-align: middle;\n",
       "    }\n",
       "\n",
       "    .dataframe tbody tr th {\n",
       "        vertical-align: top;\n",
       "    }\n",
       "\n",
       "    .dataframe thead th {\n",
       "        text-align: right;\n",
       "    }\n",
       "</style>\n",
       "<table border=\"1\" class=\"dataframe\">\n",
       "  <thead>\n",
       "    <tr style=\"text-align: right;\">\n",
       "      <th>tls</th>\n",
       "      <th>False</th>\n",
       "      <th>True</th>\n",
       "    </tr>\n",
       "    <tr>\n",
       "      <th>adblocked</th>\n",
       "      <th></th>\n",
       "      <th></th>\n",
       "    </tr>\n",
       "  </thead>\n",
       "  <tbody>\n",
       "    <tr>\n",
       "      <th>False</th>\n",
       "      <td>6694</td>\n",
       "      <td>42039</td>\n",
       "    </tr>\n",
       "    <tr>\n",
       "      <th>True</th>\n",
       "      <td>2447</td>\n",
       "      <td>10459</td>\n",
       "    </tr>\n",
       "  </tbody>\n",
       "</table>\n",
       "</div>"
      ],
      "text/plain": [
       "tls        False  True \n",
       "adblocked              \n",
       "False       6694  42039\n",
       "True        2447  10459"
      ]
     },
     "execution_count": 23,
     "metadata": {},
     "output_type": "execute_result"
    }
   ],
   "source": [
    "print_unencryted_tracker_stats(roku_tcp)"
   ]
  },
  {
   "cell_type": "code",
   "execution_count": 24,
   "metadata": {},
   "outputs": [
    {
     "name": "stdout",
     "output_type": "stream",
     "text": [
      "Tracker -     Unencrypted: 15.5% (307 of 1976)\n",
      "Non-tracker - Unencrypted: 31.1% (795 of 2559)\n"
     ]
    },
    {
     "data": {
      "text/html": [
       "<div>\n",
       "<style scoped>\n",
       "    .dataframe tbody tr th:only-of-type {\n",
       "        vertical-align: middle;\n",
       "    }\n",
       "\n",
       "    .dataframe tbody tr th {\n",
       "        vertical-align: top;\n",
       "    }\n",
       "\n",
       "    .dataframe thead th {\n",
       "        text-align: right;\n",
       "    }\n",
       "</style>\n",
       "<table border=\"1\" class=\"dataframe\">\n",
       "  <thead>\n",
       "    <tr style=\"text-align: right;\">\n",
       "      <th>tls</th>\n",
       "      <th>False</th>\n",
       "      <th>True</th>\n",
       "    </tr>\n",
       "    <tr>\n",
       "      <th>adblocked</th>\n",
       "      <th></th>\n",
       "      <th></th>\n",
       "    </tr>\n",
       "  </thead>\n",
       "  <tbody>\n",
       "    <tr>\n",
       "      <th>False</th>\n",
       "      <td>795</td>\n",
       "      <td>1764</td>\n",
       "    </tr>\n",
       "    <tr>\n",
       "      <th>True</th>\n",
       "      <td>307</td>\n",
       "      <td>1669</td>\n",
       "    </tr>\n",
       "  </tbody>\n",
       "</table>\n",
       "</div>"
      ],
      "text/plain": [
       "tls        False  True \n",
       "adblocked              \n",
       "False        795   1764\n",
       "True         307   1669"
      ]
     },
     "execution_count": 24,
     "metadata": {},
     "output_type": "execute_result"
    }
   ],
   "source": [
    "print_unencryted_tracker_stats(amazon_tcp)"
   ]
  },
  {
   "cell_type": "code",
   "execution_count": 25,
   "metadata": {},
   "outputs": [
    {
     "name": "stdout",
     "output_type": "stream",
     "text": [
      "Tracker -     Unencrypted: 38.8% (114 of 294)\n",
      "Non-tracker - Unencrypted: 39.8% (392 of 985)\n"
     ]
    },
    {
     "data": {
      "text/html": [
       "<div>\n",
       "<style scoped>\n",
       "    .dataframe tbody tr th:only-of-type {\n",
       "        vertical-align: middle;\n",
       "    }\n",
       "\n",
       "    .dataframe tbody tr th {\n",
       "        vertical-align: top;\n",
       "    }\n",
       "\n",
       "    .dataframe thead th {\n",
       "        text-align: right;\n",
       "    }\n",
       "</style>\n",
       "<table border=\"1\" class=\"dataframe\">\n",
       "  <thead>\n",
       "    <tr style=\"text-align: right;\">\n",
       "      <th>tls</th>\n",
       "      <th>False</th>\n",
       "      <th>True</th>\n",
       "    </tr>\n",
       "    <tr>\n",
       "      <th>adblocked</th>\n",
       "      <th></th>\n",
       "      <th></th>\n",
       "    </tr>\n",
       "  </thead>\n",
       "  <tbody>\n",
       "    <tr>\n",
       "      <th>False</th>\n",
       "      <td>392</td>\n",
       "      <td>593</td>\n",
       "    </tr>\n",
       "    <tr>\n",
       "      <th>True</th>\n",
       "      <td>114</td>\n",
       "      <td>180</td>\n",
       "    </tr>\n",
       "  </tbody>\n",
       "</table>\n",
       "</div>"
      ],
      "text/plain": [
       "tls        False  True \n",
       "adblocked              \n",
       "False        392    593\n",
       "True         114    180"
      ]
     },
     "execution_count": 25,
     "metadata": {},
     "output_type": "execute_result"
    }
   ],
   "source": [
    "print_unencryted_tracker_stats(roku_distinct_domains)"
   ]
  },
  {
   "cell_type": "code",
   "execution_count": 26,
   "metadata": {},
   "outputs": [
    {
     "name": "stdout",
     "output_type": "stream",
     "text": [
      "Tracker -     Unencrypted: 18.6% (29 of 156)\n",
      "Non-tracker - Unencrypted: 29.7% (58 of 195)\n"
     ]
    },
    {
     "data": {
      "text/html": [
       "<div>\n",
       "<style scoped>\n",
       "    .dataframe tbody tr th:only-of-type {\n",
       "        vertical-align: middle;\n",
       "    }\n",
       "\n",
       "    .dataframe tbody tr th {\n",
       "        vertical-align: top;\n",
       "    }\n",
       "\n",
       "    .dataframe thead th {\n",
       "        text-align: right;\n",
       "    }\n",
       "</style>\n",
       "<table border=\"1\" class=\"dataframe\">\n",
       "  <thead>\n",
       "    <tr style=\"text-align: right;\">\n",
       "      <th>tls</th>\n",
       "      <th>False</th>\n",
       "      <th>True</th>\n",
       "    </tr>\n",
       "    <tr>\n",
       "      <th>adblocked</th>\n",
       "      <th></th>\n",
       "      <th></th>\n",
       "    </tr>\n",
       "  </thead>\n",
       "  <tbody>\n",
       "    <tr>\n",
       "      <th>False</th>\n",
       "      <td>58</td>\n",
       "      <td>137</td>\n",
       "    </tr>\n",
       "    <tr>\n",
       "      <th>True</th>\n",
       "      <td>29</td>\n",
       "      <td>127</td>\n",
       "    </tr>\n",
       "  </tbody>\n",
       "</table>\n",
       "</div>"
      ],
      "text/plain": [
       "tls        False  True \n",
       "adblocked              \n",
       "False         58    137\n",
       "True          29    127"
      ]
     },
     "execution_count": 26,
     "metadata": {},
     "output_type": "execute_result"
    }
   ],
   "source": [
    "print_unencryted_tracker_stats(amazon_distinct_domains)"
   ]
  },
  {
   "cell_type": "code",
   "execution_count": 27,
   "metadata": {},
   "outputs": [
    {
     "data": {
      "text/html": [
       "<div>\n",
       "<style scoped>\n",
       "    .dataframe tbody tr th:only-of-type {\n",
       "        vertical-align: middle;\n",
       "    }\n",
       "\n",
       "    .dataframe tbody tr th {\n",
       "        vertical-align: top;\n",
       "    }\n",
       "\n",
       "    .dataframe thead th {\n",
       "        text-align: right;\n",
       "    }\n",
       "</style>\n",
       "<table border=\"1\" class=\"dataframe\">\n",
       "  <thead>\n",
       "    <tr style=\"text-align: right;\">\n",
       "      <th></th>\n",
       "      <th>domain</th>\n",
       "      <th>Num. of channels</th>\n",
       "    </tr>\n",
       "  </thead>\n",
       "  <tbody>\n",
       "    <tr>\n",
       "      <th>108</th>\n",
       "      <td>doubleclick.net</td>\n",
       "      <td>996</td>\n",
       "    </tr>\n",
       "    <tr>\n",
       "      <th>132</th>\n",
       "      <td>google-analytics.com</td>\n",
       "      <td>362</td>\n",
       "    </tr>\n",
       "    <tr>\n",
       "      <th>194</th>\n",
       "      <td>scorecardresearch.com</td>\n",
       "      <td>178</td>\n",
       "    </tr>\n",
       "    <tr>\n",
       "      <th>204</th>\n",
       "      <td>spotxchange.com</td>\n",
       "      <td>169</td>\n",
       "    </tr>\n",
       "    <tr>\n",
       "      <th>134</th>\n",
       "      <td>googlesyndication.com</td>\n",
       "      <td>114</td>\n",
       "    </tr>\n",
       "    <tr>\n",
       "      <th>227</th>\n",
       "      <td>vimeo.com</td>\n",
       "      <td>82</td>\n",
       "    </tr>\n",
       "    <tr>\n",
       "      <th>215</th>\n",
       "      <td>tremorhub.com</td>\n",
       "      <td>78</td>\n",
       "    </tr>\n",
       "    <tr>\n",
       "      <th>206</th>\n",
       "      <td>stickyadstv.com</td>\n",
       "      <td>73</td>\n",
       "    </tr>\n",
       "    <tr>\n",
       "      <th>104</th>\n",
       "      <td>demdex.net</td>\n",
       "      <td>66</td>\n",
       "    </tr>\n",
       "    <tr>\n",
       "      <th>15</th>\n",
       "      <td>adrta.com</td>\n",
       "      <td>63</td>\n",
       "    </tr>\n",
       "  </tbody>\n",
       "</table>\n",
       "</div>"
      ],
      "text/plain": [
       "                    domain  Num. of channels\n",
       "108        doubleclick.net               996\n",
       "132   google-analytics.com               362\n",
       "194  scorecardresearch.com               178\n",
       "204        spotxchange.com               169\n",
       "134  googlesyndication.com               114\n",
       "227              vimeo.com                82\n",
       "215          tremorhub.com                78\n",
       "206        stickyadstv.com                73\n",
       "104             demdex.net                66\n",
       "15               adrta.com                63"
      ]
     },
     "execution_count": 27,
     "metadata": {},
     "output_type": "execute_result"
    }
   ],
   "source": [
    "tcp_top = get_popular_domains_from_tcp_conns(roku_tcp[roku_tcp.adblocked])\n",
    "tcp_top"
   ]
  },
  {
   "cell_type": "code",
   "execution_count": 28,
   "metadata": {},
   "outputs": [],
   "source": [
    "from nb_utils import make_latex_table"
   ]
  },
  {
   "cell_type": "code",
   "execution_count": 30,
   "metadata": {},
   "outputs": [
    {
     "data": {
      "text/html": [
       "<div>\n",
       "<style scoped>\n",
       "    .dataframe tbody tr th:only-of-type {\n",
       "        vertical-align: middle;\n",
       "    }\n",
       "\n",
       "    .dataframe tbody tr th {\n",
       "        vertical-align: top;\n",
       "    }\n",
       "\n",
       "    .dataframe thead th {\n",
       "        text-align: right;\n",
       "    }\n",
       "</style>\n",
       "<table border=\"1\" class=\"dataframe\">\n",
       "  <thead>\n",
       "    <tr style=\"text-align: right;\">\n",
       "      <th></th>\n",
       "      <th>req_domain</th>\n",
       "      <th>Num. of channels</th>\n",
       "    </tr>\n",
       "  </thead>\n",
       "  <tbody>\n",
       "    <tr>\n",
       "      <th>5</th>\n",
       "      <td>amazon-adsystem.com</td>\n",
       "      <td>59</td>\n",
       "    </tr>\n",
       "    <tr>\n",
       "      <th>68</th>\n",
       "      <td>scorecardresearch.com</td>\n",
       "      <td>18</td>\n",
       "    </tr>\n",
       "    <tr>\n",
       "      <th>36</th>\n",
       "      <td>ifood.tv</td>\n",
       "      <td>7</td>\n",
       "    </tr>\n",
       "    <tr>\n",
       "      <th>21</th>\n",
       "      <td>demdex.net</td>\n",
       "      <td>7</td>\n",
       "    </tr>\n",
       "    <tr>\n",
       "      <th>60</th>\n",
       "      <td>omtrdc.net</td>\n",
       "      <td>5</td>\n",
       "    </tr>\n",
       "    <tr>\n",
       "      <th>73</th>\n",
       "      <td>spotxchange.com</td>\n",
       "      <td>5</td>\n",
       "    </tr>\n",
       "    <tr>\n",
       "      <th>53</th>\n",
       "      <td>nbcuni.com</td>\n",
       "      <td>4</td>\n",
       "    </tr>\n",
       "    <tr>\n",
       "      <th>38</th>\n",
       "      <td>images-amazon.com</td>\n",
       "      <td>4</td>\n",
       "    </tr>\n",
       "    <tr>\n",
       "      <th>34</th>\n",
       "      <td>google.com</td>\n",
       "      <td>3</td>\n",
       "    </tr>\n",
       "    <tr>\n",
       "      <th>45</th>\n",
       "      <td>lightcast.com</td>\n",
       "      <td>3</td>\n",
       "    </tr>\n",
       "  </tbody>\n",
       "</table>\n",
       "</div>"
      ],
      "text/plain": [
       "               req_domain  Num. of channels\n",
       "5     amazon-adsystem.com                59\n",
       "68  scorecardresearch.com                18\n",
       "36               ifood.tv                 7\n",
       "21             demdex.net                 7\n",
       "60             omtrdc.net                 5\n",
       "73        spotxchange.com                 5\n",
       "53             nbcuni.com                 4\n",
       "38      images-amazon.com                 4\n",
       "34             google.com                 3\n",
       "45          lightcast.com                 3"
      ]
     },
     "execution_count": 30,
     "metadata": {},
     "output_type": "execute_result"
    }
   ],
   "source": [
    "df = get_popular_domains_from_reqs(requests_amazon)\n",
    "df"
   ]
  },
  {
   "cell_type": "markdown",
   "metadata": {},
   "source": [
    "## Most common unencrypted endpoints"
   ]
  },
  {
   "cell_type": "code",
   "execution_count": 80,
   "metadata": {},
   "outputs": [
    {
     "data": {
      "text/plain": [
       "Index(['channel_id', 'time', 'cookie', 'post_data', 'host', 'referer', 'url',\n",
       "       'method', 'user_agent', 'ip_dst', 'tcp_dstport', 'tcp_stream', 'http2',\n",
       "       'http2_type', 'host_by_dns', 'domain_by_dns', 'channel_name', 'rank',\n",
       "       'category', 'decoded_data', 'req_domain', 'status'],\n",
       "      dtype='object')"
      ]
     },
     "execution_count": 80,
     "metadata": {},
     "output_type": "execute_result"
    }
   ],
   "source": [
    "requests_roku.columns"
   ]
  },
  {
   "cell_type": "code",
   "execution_count": 81,
   "metadata": {},
   "outputs": [
    {
     "data": {
      "text/html": [
       "<div>\n",
       "<style scoped>\n",
       "    .dataframe tbody tr th:only-of-type {\n",
       "        vertical-align: middle;\n",
       "    }\n",
       "\n",
       "    .dataframe tbody tr th {\n",
       "        vertical-align: top;\n",
       "    }\n",
       "\n",
       "    .dataframe thead th {\n",
       "        text-align: right;\n",
       "    }\n",
       "</style>\n",
       "<table border=\"1\" class=\"dataframe\">\n",
       "  <thead>\n",
       "    <tr style=\"text-align: right;\">\n",
       "      <th></th>\n",
       "      <th>req_domain</th>\n",
       "      <th>Num. of channels</th>\n",
       "    </tr>\n",
       "  </thead>\n",
       "  <tbody>\n",
       "    <tr>\n",
       "      <th>185</th>\n",
       "      <td>google-analytics.com</td>\n",
       "      <td>178</td>\n",
       "    </tr>\n",
       "    <tr>\n",
       "      <th>345</th>\n",
       "      <td>roku.com</td>\n",
       "      <td>150</td>\n",
       "    </tr>\n",
       "    <tr>\n",
       "      <th>133</th>\n",
       "      <td>doubleclick.net</td>\n",
       "      <td>147</td>\n",
       "    </tr>\n",
       "    <tr>\n",
       "      <th>357</th>\n",
       "      <td>scorecardresearch.com</td>\n",
       "      <td>113</td>\n",
       "    </tr>\n",
       "    <tr>\n",
       "      <th>208</th>\n",
       "      <td>ifood.tv</td>\n",
       "      <td>98</td>\n",
       "    </tr>\n",
       "    <tr>\n",
       "      <th>221</th>\n",
       "      <td>irchan.com</td>\n",
       "      <td>79</td>\n",
       "    </tr>\n",
       "    <tr>\n",
       "      <th>273</th>\n",
       "      <td>monarchads.com</td>\n",
       "      <td>68</td>\n",
       "    </tr>\n",
       "    <tr>\n",
       "      <th>381</th>\n",
       "      <td>stickyadstv.com</td>\n",
       "      <td>66</td>\n",
       "    </tr>\n",
       "    <tr>\n",
       "      <th>27</th>\n",
       "      <td>akamaihd.net</td>\n",
       "      <td>46</td>\n",
       "    </tr>\n",
       "    <tr>\n",
       "      <th>378</th>\n",
       "      <td>spotxchange.com</td>\n",
       "      <td>37</td>\n",
       "    </tr>\n",
       "  </tbody>\n",
       "</table>\n",
       "</div>"
      ],
      "text/plain": [
       "                req_domain  Num. of channels\n",
       "185   google-analytics.com               178\n",
       "345               roku.com               150\n",
       "133        doubleclick.net               147\n",
       "357  scorecardresearch.com               113\n",
       "208               ifood.tv                98\n",
       "221             irchan.com                79\n",
       "273         monarchads.com                68\n",
       "381        stickyadstv.com                66\n",
       "27            akamaihd.net                46\n",
       "378        spotxchange.com                37"
      ]
     },
     "execution_count": 81,
     "metadata": {},
     "output_type": "execute_result"
    }
   ],
   "source": [
    "df = get_popular_domains_from_reqs(requests_roku)\n",
    "df"
   ]
  },
  {
   "cell_type": "code",
   "execution_count": 82,
   "metadata": {},
   "outputs": [
    {
     "name": "stdout",
     "output_type": "stream",
     "text": [
      "\n",
      "\\begin{table}[H]\n",
      "%\\centering\n",
      "%\\resizebox{\\columnwidth}{!}{%\n",
      "\\begin{tabular}{lr}\n",
      "\\toprule\n",
      " req\\_domain            &   Num. of channels \\\\\n",
      "\\midrule\n",
      " google-analytics.com  &                178 \\\\\n",
      " roku.com              &                150 \\\\\n",
      " doubleclick.net       &                147 \\\\\n",
      " scorecardresearch.com &                113 \\\\\n",
      " ifood.tv              &                 98 \\\\\n",
      " irchan.com            &                 79 \\\\\n",
      " monarchads.com        &                 68 \\\\\n",
      " stickyadstv.com       &                 66 \\\\\n",
      " akamaihd.net          &                 46 \\\\\n",
      " spotxchange.com       &                 37 \\\\\n",
      "\\bottomrule\n",
      "\\end{tabular}\n",
      "%}resizebox\n",
      "\\caption{Roku - Most prevalent domains contacted over unencrypted connections}\n",
      "\\label{tab:most_common_insecure_domains_roku}\n",
      "\\end{table}\n"
     ]
    }
   ],
   "source": [
    "print(make_latex_table(df, caption=\"Roku - Most prevalent domains contacted over unencrypted connections\",\n",
    "                       label=\"most_common_insecure_domains_roku\"))\n"
   ]
  },
  {
   "cell_type": "code",
   "execution_count": 83,
   "metadata": {},
   "outputs": [
    {
     "data": {
      "text/html": [
       "<div>\n",
       "<style scoped>\n",
       "    .dataframe tbody tr th:only-of-type {\n",
       "        vertical-align: middle;\n",
       "    }\n",
       "\n",
       "    .dataframe tbody tr th {\n",
       "        vertical-align: top;\n",
       "    }\n",
       "\n",
       "    .dataframe thead th {\n",
       "        text-align: right;\n",
       "    }\n",
       "</style>\n",
       "<table border=\"1\" class=\"dataframe\">\n",
       "  <thead>\n",
       "    <tr style=\"text-align: right;\">\n",
       "      <th></th>\n",
       "      <th>req_domain</th>\n",
       "      <th>Num. of channels</th>\n",
       "    </tr>\n",
       "  </thead>\n",
       "  <tbody>\n",
       "    <tr>\n",
       "      <th>5</th>\n",
       "      <td>amazon-adsystem.com</td>\n",
       "      <td>59</td>\n",
       "    </tr>\n",
       "    <tr>\n",
       "      <th>68</th>\n",
       "      <td>scorecardresearch.com</td>\n",
       "      <td>18</td>\n",
       "    </tr>\n",
       "    <tr>\n",
       "      <th>36</th>\n",
       "      <td>ifood.tv</td>\n",
       "      <td>7</td>\n",
       "    </tr>\n",
       "    <tr>\n",
       "      <th>21</th>\n",
       "      <td>demdex.net</td>\n",
       "      <td>7</td>\n",
       "    </tr>\n",
       "    <tr>\n",
       "      <th>60</th>\n",
       "      <td>omtrdc.net</td>\n",
       "      <td>5</td>\n",
       "    </tr>\n",
       "    <tr>\n",
       "      <th>73</th>\n",
       "      <td>spotxchange.com</td>\n",
       "      <td>5</td>\n",
       "    </tr>\n",
       "    <tr>\n",
       "      <th>53</th>\n",
       "      <td>nbcuni.com</td>\n",
       "      <td>4</td>\n",
       "    </tr>\n",
       "    <tr>\n",
       "      <th>38</th>\n",
       "      <td>images-amazon.com</td>\n",
       "      <td>4</td>\n",
       "    </tr>\n",
       "    <tr>\n",
       "      <th>34</th>\n",
       "      <td>google.com</td>\n",
       "      <td>3</td>\n",
       "    </tr>\n",
       "    <tr>\n",
       "      <th>45</th>\n",
       "      <td>lightcast.com</td>\n",
       "      <td>3</td>\n",
       "    </tr>\n",
       "  </tbody>\n",
       "</table>\n",
       "</div>"
      ],
      "text/plain": [
       "               req_domain  Num. of channels\n",
       "5     amazon-adsystem.com                59\n",
       "68  scorecardresearch.com                18\n",
       "36               ifood.tv                 7\n",
       "21             demdex.net                 7\n",
       "60             omtrdc.net                 5\n",
       "73        spotxchange.com                 5\n",
       "53             nbcuni.com                 4\n",
       "38      images-amazon.com                 4\n",
       "34             google.com                 3\n",
       "45          lightcast.com                 3"
      ]
     },
     "execution_count": 83,
     "metadata": {},
     "output_type": "execute_result"
    }
   ],
   "source": [
    "df = get_popular_domains_from_reqs(requests_amazon)\n",
    "df"
   ]
  },
  {
   "cell_type": "code",
   "execution_count": 84,
   "metadata": {},
   "outputs": [
    {
     "name": "stdout",
     "output_type": "stream",
     "text": [
      "\n",
      "\\begin{table}[H]\n",
      "%\\centering\n",
      "%\\resizebox{\\columnwidth}{!}{%\n",
      "\\begin{tabular}{lr}\n",
      "\\toprule\n",
      " req\\_domain            &   Num. of channels \\\\\n",
      "\\midrule\n",
      " amazon-adsystem.com   &                 59 \\\\\n",
      " scorecardresearch.com &                 18 \\\\\n",
      " ifood.tv              &                  7 \\\\\n",
      " demdex.net            &                  7 \\\\\n",
      " omtrdc.net            &                  5 \\\\\n",
      " spotxchange.com       &                  5 \\\\\n",
      " nbcuni.com            &                  4 \\\\\n",
      " images-amazon.com     &                  4 \\\\\n",
      " google.com            &                  3 \\\\\n",
      " lightcast.com         &                  3 \\\\\n",
      "\\bottomrule\n",
      "\\end{tabular}\n",
      "%}resizebox\n",
      "\\caption{Amazon - Most prevalent domains contacted over unencrypted connections}\n",
      "\\label{tab:most_common_insecure_domains_amazon}\n",
      "\\end{table}\n"
     ]
    }
   ],
   "source": [
    "print(make_latex_table(df, caption=\"Amazon - Most prevalent domains contacted over unencrypted connections\",\n",
    "                       label=\"most_common_insecure_domains_amazon\"))\n"
   ]
  },
  {
   "cell_type": "markdown",
   "metadata": {},
   "source": [
    "## Most common unencrypted tracking endpoints"
   ]
  },
  {
   "cell_type": "code",
   "execution_count": null,
   "metadata": {},
   "outputs": [],
   "source": [
    "# TODO - Update using adblock"
   ]
  },
  {
   "cell_type": "code",
   "execution_count": 34,
   "metadata": {},
   "outputs": [],
   "source": [
    "requests_amazon['adblocked'] = requests_amazon['host'].map(\n",
    "            lambda x: disconnect.should_block(\"http://\" + x) if len(x) else False)"
   ]
  },
  {
   "cell_type": "code",
   "execution_count": 39,
   "metadata": {},
   "outputs": [
    {
     "data": {
      "text/plain": [
       "False    2750\n",
       "True      672\n",
       "Name: disconnect_blocked, dtype: int64"
      ]
     },
     "execution_count": 39,
     "metadata": {},
     "output_type": "execute_result"
    }
   ],
   "source": [
    "requests_amazon.disconnect_blocked.value_counts()"
   ]
  },
  {
   "cell_type": "code",
   "execution_count": 40,
   "metadata": {},
   "outputs": [
    {
     "data": {
      "text/plain": [
       "False    23357\n",
       "True      6307\n",
       "Name: disconnect_blocked, dtype: int64"
      ]
     },
     "execution_count": 40,
     "metadata": {},
     "output_type": "execute_result"
    }
   ],
   "source": [
    "requests_roku.disconnect_blocked.value_counts()"
   ]
  },
  {
   "cell_type": "code",
   "execution_count": 42,
   "metadata": {},
   "outputs": [],
   "source": [
    "from trackingprotection_tools import DisconnectParser\n",
    "disconnect = DisconnectParser(blocklist=\"disconnect/services.json\")\n"
   ]
  },
  {
   "cell_type": "code",
   "execution_count": 45,
   "metadata": {},
   "outputs": [
    {
     "data": {
      "text/html": [
       "<div>\n",
       "<style scoped>\n",
       "    .dataframe tbody tr th:only-of-type {\n",
       "        vertical-align: middle;\n",
       "    }\n",
       "\n",
       "    .dataframe tbody tr th {\n",
       "        vertical-align: top;\n",
       "    }\n",
       "\n",
       "    .dataframe thead th {\n",
       "        text-align: right;\n",
       "    }\n",
       "</style>\n",
       "<table border=\"1\" class=\"dataframe\">\n",
       "  <thead>\n",
       "    <tr style=\"text-align: right;\">\n",
       "      <th></th>\n",
       "      <th>req_domain</th>\n",
       "      <th>Num. of channels</th>\n",
       "      <th>disconnect_blocked</th>\n",
       "    </tr>\n",
       "  </thead>\n",
       "  <tbody>\n",
       "    <tr>\n",
       "      <th>185</th>\n",
       "      <td>google-analytics.com</td>\n",
       "      <td>178</td>\n",
       "      <td>True</td>\n",
       "    </tr>\n",
       "    <tr>\n",
       "      <th>345</th>\n",
       "      <td>roku.com</td>\n",
       "      <td>150</td>\n",
       "      <td>False</td>\n",
       "    </tr>\n",
       "    <tr>\n",
       "      <th>133</th>\n",
       "      <td>doubleclick.net</td>\n",
       "      <td>147</td>\n",
       "      <td>True</td>\n",
       "    </tr>\n",
       "    <tr>\n",
       "      <th>357</th>\n",
       "      <td>scorecardresearch.com</td>\n",
       "      <td>113</td>\n",
       "      <td>True</td>\n",
       "    </tr>\n",
       "    <tr>\n",
       "      <th>208</th>\n",
       "      <td>ifood.tv</td>\n",
       "      <td>98</td>\n",
       "      <td>False</td>\n",
       "    </tr>\n",
       "    <tr>\n",
       "      <th>221</th>\n",
       "      <td>irchan.com</td>\n",
       "      <td>79</td>\n",
       "      <td>False</td>\n",
       "    </tr>\n",
       "    <tr>\n",
       "      <th>273</th>\n",
       "      <td>monarchads.com</td>\n",
       "      <td>68</td>\n",
       "      <td>False</td>\n",
       "    </tr>\n",
       "    <tr>\n",
       "      <th>381</th>\n",
       "      <td>stickyadstv.com</td>\n",
       "      <td>66</td>\n",
       "      <td>True</td>\n",
       "    </tr>\n",
       "    <tr>\n",
       "      <th>27</th>\n",
       "      <td>akamaihd.net</td>\n",
       "      <td>46</td>\n",
       "      <td>False</td>\n",
       "    </tr>\n",
       "    <tr>\n",
       "      <th>378</th>\n",
       "      <td>spotxchange.com</td>\n",
       "      <td>37</td>\n",
       "      <td>True</td>\n",
       "    </tr>\n",
       "  </tbody>\n",
       "</table>\n",
       "</div>"
      ],
      "text/plain": [
       "                req_domain  Num. of channels  disconnect_blocked\n",
       "185   google-analytics.com               178                True\n",
       "345               roku.com               150               False\n",
       "133        doubleclick.net               147                True\n",
       "357  scorecardresearch.com               113                True\n",
       "208               ifood.tv                98               False\n",
       "221             irchan.com                79               False\n",
       "273         monarchads.com                68               False\n",
       "381        stickyadstv.com                66                True\n",
       "27            akamaihd.net                46               False\n",
       "378        spotxchange.com                37                True"
      ]
     },
     "execution_count": 45,
     "metadata": {},
     "output_type": "execute_result"
    }
   ],
   "source": [
    "df = get_popular_domains_from_reqs(requests_roku)\n",
    "df['disconnect_blocked'] = df['req_domain'].map(\n",
    "            lambda x: disconnect.should_block(\"http://\" + x) if len(x) else False)\n",
    "df"
   ]
  },
  {
   "cell_type": "code",
   "execution_count": 131,
   "metadata": {},
   "outputs": [
    {
     "name": "stdout",
     "output_type": "stream",
     "text": [
      "\n",
      "\\begin{table}[H]\n",
      "%\\centering\n",
      "%\\resizebox{\\columnwidth}{!}{%\n",
      "\\begin{tabular}{lr}\n",
      "\\toprule\n",
      " req\\_domain            &   Num. of channels \\\\\n",
      "\\midrule\n",
      " scorecardresearch.com &                 14 \\\\\n",
      " demdex.net            &                 11 \\\\\n",
      " doubleclick.net       &                  9 \\\\\n",
      " google-analytics.com  &                  8 \\\\\n",
      " 1rx.io                &                  7 \\\\\n",
      " tremorhub.com         &                  7 \\\\\n",
      " omtrdc.net            &                  6 \\\\\n",
      " w55c.net              &                  4 \\\\\n",
      " adsrvr.org            &                  4 \\\\\n",
      " spotxchange.com       &                  4 \\\\\n",
      "\\bottomrule\n",
      "\\end{tabular}\n",
      "%}resizebox\n",
      "\\caption{Roku - Most prevalent trackers that use unencrypted connections}\n",
      "\\label{tab:most_common_insecure_trackers_roku}\n",
      "\\end{table}\n"
     ]
    }
   ],
   "source": [
    "print(make_latex_table(df, caption=\"Roku - Most prevalent trackers that use unencrypted connections\",\n",
    "                       label=\"most_common_insecure_trackers_roku\"))"
   ]
  },
  {
   "cell_type": "code",
   "execution_count": 50,
   "metadata": {},
   "outputs": [
    {
     "name": "stdout",
     "output_type": "stream",
     "text": [
      "\n",
      "\\begin{table}[H]\n",
      "%\\centering\n",
      "%\\resizebox{\\columnwidth}{!}{%\n",
      "\\begin{tabular}{lr}\n",
      "\\toprule\n",
      " req\\_domain            &   Num. of channels \\\\\n",
      "\\midrule\n",
      " amazon-adsystem.com   &                 59 \\\\\n",
      " scorecardresearch.com &                 18 \\\\\n",
      " demdex.net            &                  7 \\\\\n",
      " spotxchange.com       &                  5 \\\\\n",
      " omtrdc.net            &                  5 \\\\\n",
      " yumenetworks.com      &                  3 \\\\\n",
      " fwmrm.net             &                  3 \\\\\n",
      " adsrvr.org            &                  3 \\\\\n",
      " rlcdn.com             &                  2 \\\\\n",
      " google-analytics.com  &                  2 \\\\\n",
      "\\bottomrule\n",
      "\\end{tabular}\n",
      "%}resizebox\n",
      "\\caption{Amazon - Most prevalent trackers that use unencrypted connections}\n",
      "\\label{tab:most_common_insecure_trackers_amazon}\n",
      "\\end{table}\n"
     ]
    }
   ],
   "source": [
    "df = get_popular_domains_from_reqs(requests_amazon[requests_amazon.disconnect_blocked])\n",
    "#df['disconnect_blocked'] = df['req_domain'].map(\n",
    "#            lambda x: disconnect.should_block(\"http://\" + x) if len(x) else False)\n",
    "\n",
    "print(make_latex_table(df, caption=\"Amazon - Most prevalent trackers that use unencrypted connections\",\n",
    "                       label=\"most_common_insecure_trackers_amazon\"))"
   ]
  },
  {
   "cell_type": "markdown",
   "metadata": {},
   "source": [
    "## Unencrypted platform endpoints"
   ]
  },
  {
   "cell_type": "code",
   "execution_count": 135,
   "metadata": {},
   "outputs": [
    {
     "data": {
      "text/plain": [
       "array(['aax-us-east.amazon-adsystem.com', 's.amazon-adsystem.com'],\n",
       "      dtype=object)"
      ]
     },
     "execution_count": 135,
     "metadata": {},
     "output_type": "execute_result"
    }
   ],
   "source": [
    "requests_amazon[ (requests_amazon.req_domain == \"amazon-adsystem.com\")].host.unique()"
   ]
  },
  {
   "cell_type": "code",
   "execution_count": 136,
   "metadata": {},
   "outputs": [
    {
     "data": {
      "text/plain": [
       "array(['channels.roku.com', 'cigars.roku.com'], dtype=object)"
      ]
     },
     "execution_count": 136,
     "metadata": {},
     "output_type": "execute_result"
    }
   ],
   "source": [
    "requests_roku[ (requests_roku.req_domain == \"roku.com\")].host.unique()"
   ]
  },
  {
   "cell_type": "code",
   "execution_count": null,
   "metadata": {},
   "outputs": [],
   "source": [
    "## HTTP"
   ]
  },
  {
   "cell_type": "code",
   "execution_count": null,
   "metadata": {},
   "outputs": [],
   "source": []
  },
  {
   "cell_type": "code",
   "execution_count": null,
   "metadata": {},
   "outputs": [],
   "source": []
  }
 ],
 "metadata": {
  "kernelspec": {
   "display_name": "Python 3",
   "language": "python",
   "name": "python3"
  },
  "language_info": {
   "codemirror_mode": {
    "name": "ipython",
    "version": 3
   },
   "file_extension": ".py",
   "mimetype": "text/x-python",
   "name": "python",
   "nbconvert_exporter": "python",
   "pygments_lexer": "ipython3",
   "version": "3.6.7"
  }
 },
 "nbformat": 4,
 "nbformat_minor": 2
}
