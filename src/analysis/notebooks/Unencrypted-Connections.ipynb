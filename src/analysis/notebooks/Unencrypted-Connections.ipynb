{
 "cells": [
  {
   "cell_type": "markdown",
   "metadata": {},
   "source": [
    "## Unencrypted connections\n",
    "- Num of channels sending at least one unencrypted HTTP request\n",
    "- Percentage of unencrypted HTTP requests"
   ]
  },
  {
   "cell_type": "code",
   "execution_count": 1,
   "metadata": {},
   "outputs": [
    {
     "name": "stderr",
     "output_type": "stream",
     "text": [
      "/usr/lib/python3.6/importlib/_bootstrap.py:219: RuntimeWarning: numpy.dtype size changed, may indicate binary incompatibility. Expected 96, got 88\n",
      "  return f(*args, **kwds)\n",
      "/usr/lib/python3.6/importlib/_bootstrap.py:219: RuntimeWarning: numpy.dtype size changed, may indicate binary incompatibility. Expected 96, got 88\n",
      "  return f(*args, **kwds)\n"
     ]
    }
   ],
   "source": [
    "import numpy as np\n",
    "import pandas as pd\n",
    "from log_analysis import (print_crawl_summary, load_timestamps_from_crawl_data,\n",
    "                          get_distinct_tcp_conns, get_crawl_data_path,\n",
    "                          load_dns_data, get_crawl_status, get_http_df, get_n_successful_channels)\n",
    "\n",
    "from os.path import isdir, join\n",
    "from datetime import datetime\n",
    "from glob import glob\n",
    "from tabulate import tabulate\n",
    "import seaborn as sns\n",
    "\n",
    "from crawl_ids import CrawlRokuNoMITM, CrawlFireTVNoMITM\n",
    "from nb_utils import get_popular_domains\n",
    "#ROKU_NO_MITM_CRAWL = 'roku-data-20190501-031836'\n",
    "#AMAZON_NO_MITM_CRAWL = 'amazon-data-20190508-202449'\n",
    "\n",
    "crawl_data_dir_roku = get_crawl_data_path(CrawlRokuNoMITM)\n",
    "crawl_data_dir_amazon = get_crawl_data_path(CrawlFireTVNoMITM)"
   ]
  },
  {
   "cell_type": "markdown",
   "metadata": {},
   "source": [
    "### Total num. of channels"
   ]
  },
  {
   "cell_type": "code",
   "execution_count": 2,
   "metadata": {},
   "outputs": [
    {
     "name": "stdout",
     "output_type": "stream",
     "text": [
      "95 82\n"
     ]
    }
   ],
   "source": [
    "n_roku = get_n_successful_channels(crawl_data_dir_roku)\n",
    "n_amazon = get_n_successful_channels(crawl_data_dir_amazon)\n",
    "print(n_roku, n_amazon)"
   ]
  },
  {
   "cell_type": "markdown",
   "metadata": {},
   "source": [
    "### Load TCP data"
   ]
  },
  {
   "cell_type": "code",
   "execution_count": 5,
   "metadata": {},
   "outputs": [
    {
     "name": "stdout",
     "output_type": "stream",
     "text": [
      "Loading distinct TCP connections from /media/gacar/Data/iot-house/crawl-data/roku-data-20190501-031836/post-process \n",
      "Loading distinct TCP connections from /media/gacar/Data/iot-house/crawl-data/amazon-data-20190508-202449/post-process \n"
     ]
    }
   ],
   "source": [
    "roku_tcp = get_distinct_tcp_conns(crawl_data_dir_roku)\n",
    "amazon_tcp = get_distinct_tcp_conns(crawl_data_dir_amazon)"
   ]
  },
  {
   "cell_type": "markdown",
   "metadata": {},
   "source": [
    "- Only take port 80 and 443\n",
    "- Very few connections to other ports"
   ]
  },
  {
   "cell_type": "code",
   "execution_count": 9,
   "metadata": {},
   "outputs": [
    {
     "name": "stderr",
     "output_type": "stream",
     "text": [
      "/home/gacar/.local/lib/python3.6/site-packages/ipykernel_launcher.py:4: SettingWithCopyWarning: \n",
      "A value is trying to be set on a copy of a slice from a DataFrame.\n",
      "Try using .loc[row_indexer,col_indexer] = value instead\n",
      "\n",
      "See the caveats in the documentation: http://pandas.pydata.org/pandas-docs/stable/indexing.html#indexing-view-versus-copy\n",
      "  after removing the cwd from sys.path.\n"
     ]
    }
   ],
   "source": [
    "roku_tcp = roku_tcp[roku_tcp.tcp_dstport.isin([80, 443])]\n",
    "amazon_tcp = amazon_tcp[amazon_tcp.tcp_dstport.isin([80, 443])]\n",
    "\n",
    "roku_tcp['tls'] = roku_tcp.tcp_dstport.map(lambda x: x == 443)\n",
    "amazon_tcp['tls'] = amazon_tcp.tcp_dstport.map(lambda x: x == 443)"
   ]
  },
  {
   "cell_type": "code",
   "execution_count": 46,
   "metadata": {},
   "outputs": [],
   "source": [
    "NO_TLS = 0  # tls=False (0)\n",
    "TLS = 1\n",
    "\n",
    "def print_unencryted_stats(df):\n",
    "    res = df.tls.value_counts()\n",
    "    n_total = len(df)\n",
    "    print (\"NoTLS:\", res[NO_TLS])\n",
    "    print (\"TLS:\", res[TLS])\n",
    "    print (\"Total:\", n_total)\n",
    "    print(\"%% of unencrypted connections: %0.1f\" % (100*res[NO_TLS] / (res[NO_TLS] + res[TLS])))"
   ]
  },
  {
   "cell_type": "code",
   "execution_count": 47,
   "metadata": {},
   "outputs": [],
   "source": [
    "roku_distinct_domains = roku_tcp.drop_duplicates(['domain_by_dns', 'tls'], keep='last')\n",
    "amazon_distinct_domains = amazon_tcp.drop_duplicates(['domain_by_dns', 'tls'], keep='last')"
   ]
  },
  {
   "cell_type": "code",
   "execution_count": 48,
   "metadata": {},
   "outputs": [
    {
     "name": "stdout",
     "output_type": "stream",
     "text": [
      "NoTLS: 1818\n",
      "TLS: 6430\n",
      "Total: 8248\n",
      "% of unencrypted connections: 22.0\n"
     ]
    }
   ],
   "source": [
    "print_unencryted_stats(roku_tcp)"
   ]
  },
  {
   "cell_type": "code",
   "execution_count": 49,
   "metadata": {},
   "outputs": [
    {
     "name": "stdout",
     "output_type": "stream",
     "text": [
      "NoTLS: 1070\n",
      "TLS: 3108\n",
      "Total: 4178\n",
      "% of unencrypted connections: 25.6\n"
     ]
    }
   ],
   "source": [
    "print_unencryted_stats(amazon_tcp)"
   ]
  },
  {
   "cell_type": "code",
   "execution_count": 50,
   "metadata": {},
   "outputs": [
    {
     "name": "stdout",
     "output_type": "stream",
     "text": [
      "NoTLS: 124\n",
      "TLS: 178\n",
      "Total: 302\n",
      "% of unencrypted connections: 41.1\n"
     ]
    }
   ],
   "source": [
    "print_unencryted_stats(roku_distinct_domains)"
   ]
  },
  {
   "cell_type": "code",
   "execution_count": 51,
   "metadata": {},
   "outputs": [
    {
     "name": "stdout",
     "output_type": "stream",
     "text": [
      "NoTLS: 84\n",
      "TLS: 262\n",
      "Total: 346\n",
      "% of unencrypted connections: 24.3\n"
     ]
    }
   ],
   "source": [
    "print_unencryted_stats(amazon_distinct_domains)"
   ]
  },
  {
   "cell_type": "code",
   "execution_count": 53,
   "metadata": {},
   "outputs": [
    {
     "data": {
      "text/html": [
       "<div>\n",
       "<style scoped>\n",
       "    .dataframe tbody tr th:only-of-type {\n",
       "        vertical-align: middle;\n",
       "    }\n",
       "\n",
       "    .dataframe tbody tr th {\n",
       "        vertical-align: top;\n",
       "    }\n",
       "\n",
       "    .dataframe thead th {\n",
       "        text-align: right;\n",
       "    }\n",
       "</style>\n",
       "<table border=\"1\" class=\"dataframe\">\n",
       "  <thead>\n",
       "    <tr style=\"text-align: right;\">\n",
       "      <th>tls</th>\n",
       "      <th>False</th>\n",
       "      <th>True</th>\n",
       "    </tr>\n",
       "    <tr>\n",
       "      <th>disconnect_blocked</th>\n",
       "      <th></th>\n",
       "      <th></th>\n",
       "    </tr>\n",
       "  </thead>\n",
       "  <tbody>\n",
       "    <tr>\n",
       "      <th>False</th>\n",
       "      <td>86</td>\n",
       "      <td>131</td>\n",
       "    </tr>\n",
       "    <tr>\n",
       "      <th>True</th>\n",
       "      <td>38</td>\n",
       "      <td>47</td>\n",
       "    </tr>\n",
       "  </tbody>\n",
       "</table>\n",
       "</div>"
      ],
      "text/plain": [
       "tls                 False  True \n",
       "disconnect_blocked              \n",
       "False                  86    131\n",
       "True                   38     47"
      ]
     },
     "execution_count": 53,
     "metadata": {},
     "output_type": "execute_result"
    }
   ],
   "source": [
    "pd.crosstab(roku_distinct_domains.disconnect_blocked, roku_distinct_domains.tls)"
   ]
  },
  {
   "cell_type": "code",
   "execution_count": 54,
   "metadata": {},
   "outputs": [
    {
     "data": {
      "text/html": [
       "<div>\n",
       "<style scoped>\n",
       "    .dataframe tbody tr th:only-of-type {\n",
       "        vertical-align: middle;\n",
       "    }\n",
       "\n",
       "    .dataframe tbody tr th {\n",
       "        vertical-align: top;\n",
       "    }\n",
       "\n",
       "    .dataframe thead th {\n",
       "        text-align: right;\n",
       "    }\n",
       "</style>\n",
       "<table border=\"1\" class=\"dataframe\">\n",
       "  <thead>\n",
       "    <tr style=\"text-align: right;\">\n",
       "      <th>tls</th>\n",
       "      <th>False</th>\n",
       "      <th>True</th>\n",
       "    </tr>\n",
       "    <tr>\n",
       "      <th>disconnect_blocked</th>\n",
       "      <th></th>\n",
       "      <th></th>\n",
       "    </tr>\n",
       "  </thead>\n",
       "  <tbody>\n",
       "    <tr>\n",
       "      <th>False</th>\n",
       "      <td>61</td>\n",
       "      <td>165</td>\n",
       "    </tr>\n",
       "    <tr>\n",
       "      <th>True</th>\n",
       "      <td>23</td>\n",
       "      <td>97</td>\n",
       "    </tr>\n",
       "  </tbody>\n",
       "</table>\n",
       "</div>"
      ],
      "text/plain": [
       "tls                 False  True \n",
       "disconnect_blocked              \n",
       "False                  61    165\n",
       "True                   23     97"
      ]
     },
     "execution_count": 54,
     "metadata": {},
     "output_type": "execute_result"
    }
   ],
   "source": [
    "pd.crosstab(amazon_distinct_domains.disconnect_blocked, amazon_distinct_domains.tls)"
   ]
  },
  {
   "cell_type": "code",
   "execution_count": null,
   "metadata": {},
   "outputs": [],
   "source": [
    "len(roku_tcp), len(amazon_tcp)"
   ]
  },
  {
   "cell_type": "code",
   "execution_count": null,
   "metadata": {},
   "outputs": [],
   "source": [
    "len(roku_distinct_domains), len(amazon_distinct_domains)"
   ]
  },
  {
   "cell_type": "markdown",
   "metadata": {},
   "source": [
    "# TODO: remove redirected domains\n",
    "- we should not count if http is upgraded to https"
   ]
  },
  {
   "cell_type": "code",
   "execution_count": 68,
   "metadata": {},
   "outputs": [],
   "source": [
    "def print_unencryted_tracker_stats(df):\n",
    "    df = df.groupby([\"disconnect_blocked\", \"tls\"]).size()\n",
    "    not_blocked = df[0]\n",
    "    blocked = df[1]\n",
    "    print(\"Non-tracker - %% NoTLS: %0.1f\" % (100*not_blocked[NO_TLS] / (not_blocked[NO_TLS] + not_blocked[TLS])))\n",
    "    print(\"Tracker - %% NoTLS: %0.1f\" % (100*blocked[NO_TLS] / (blocked[NO_TLS] + blocked[TLS])))\n",
    "\n",
    "#$100*blocked[NO_TLS] / (blocked[NO_TLS] + blocked[TLS]"
   ]
  },
  {
   "cell_type": "code",
   "execution_count": 72,
   "metadata": {},
   "outputs": [
    {
     "name": "stdout",
     "output_type": "stream",
     "text": [
      "Non-tracker - % NoTLS: 20.0\n",
      "Tracker - % NoTLS: 33.0\n"
     ]
    }
   ],
   "source": [
    "print_unencryted_tracker_stats(roku_tcp)"
   ]
  },
  {
   "cell_type": "code",
   "execution_count": 69,
   "metadata": {},
   "outputs": [
    {
     "name": "stdout",
     "output_type": "stream",
     "text": [
      "Non-tracker - % NoTLS: 39.6\n",
      "Tracker - % NoTLS: 44.7\n"
     ]
    }
   ],
   "source": [
    "print_unencryted_tracker_stats(roku_distinct_domains)"
   ]
  },
  {
   "cell_type": "code",
   "execution_count": 71,
   "metadata": {},
   "outputs": [
    {
     "name": "stdout",
     "output_type": "stream",
     "text": [
      "Non-tracker - % NoTLS: 33.8\n",
      "Tracker - % NoTLS: 13.9\n"
     ]
    }
   ],
   "source": [
    "print_unencryted_tracker_stats(amazon_tcp)"
   ]
  },
  {
   "cell_type": "code",
   "execution_count": 70,
   "metadata": {},
   "outputs": [
    {
     "name": "stdout",
     "output_type": "stream",
     "text": [
      "Non-tracker - % NoTLS: 27.0\n",
      "Tracker - % NoTLS: 19.2\n"
     ]
    }
   ],
   "source": [
    "print_unencryted_tracker_stats(amazon_distinct_domains)"
   ]
  },
  {
   "cell_type": "markdown",
   "metadata": {},
   "source": [
    "## Most common unencrypted endpoints"
   ]
  },
  {
   "cell_type": "code",
   "execution_count": null,
   "metadata": {},
   "outputs": [],
   "source": []
  },
  {
   "cell_type": "code",
   "execution_count": 75,
   "metadata": {},
   "outputs": [
    {
     "data": {
      "text/html": [
       "<div>\n",
       "<style scoped>\n",
       "    .dataframe tbody tr th:only-of-type {\n",
       "        vertical-align: middle;\n",
       "    }\n",
       "\n",
       "    .dataframe tbody tr th {\n",
       "        vertical-align: top;\n",
       "    }\n",
       "\n",
       "    .dataframe thead th {\n",
       "        text-align: right;\n",
       "    }\n",
       "</style>\n",
       "<table border=\"1\" class=\"dataframe\">\n",
       "  <thead>\n",
       "    <tr style=\"text-align: right;\">\n",
       "      <th></th>\n",
       "      <th>domain_by_dns</th>\n",
       "      <th>Num. of channels</th>\n",
       "    </tr>\n",
       "  </thead>\n",
       "  <tbody>\n",
       "    <tr>\n",
       "      <th>93</th>\n",
       "      <td>roku.com</td>\n",
       "      <td>26</td>\n",
       "    </tr>\n",
       "    <tr>\n",
       "      <th>97</th>\n",
       "      <td>scorecardresearch.com</td>\n",
       "      <td>13</td>\n",
       "    </tr>\n",
       "    <tr>\n",
       "      <th>53</th>\n",
       "      <td>ifood.tv</td>\n",
       "      <td>12</td>\n",
       "    </tr>\n",
       "    <tr>\n",
       "      <th>33</th>\n",
       "      <td>demdex.net</td>\n",
       "      <td>11</td>\n",
       "    </tr>\n",
       "    <tr>\n",
       "      <th>35</th>\n",
       "      <td>doubleclick.net</td>\n",
       "      <td>10</td>\n",
       "    </tr>\n",
       "    <tr>\n",
       "      <th>48</th>\n",
       "      <td>google-analytics.com</td>\n",
       "      <td>8</td>\n",
       "    </tr>\n",
       "    <tr>\n",
       "      <th>9</th>\n",
       "      <td>akamaihd.net</td>\n",
       "      <td>7</td>\n",
       "    </tr>\n",
       "    <tr>\n",
       "      <th>108</th>\n",
       "      <td>tremorhub.com</td>\n",
       "      <td>7</td>\n",
       "    </tr>\n",
       "    <tr>\n",
       "      <th>0</th>\n",
       "      <td>1rx.io</td>\n",
       "      <td>7</td>\n",
       "    </tr>\n",
       "    <tr>\n",
       "      <th>57</th>\n",
       "      <td>irchan.com</td>\n",
       "      <td>6</td>\n",
       "    </tr>\n",
       "  </tbody>\n",
       "</table>\n",
       "</div>"
      ],
      "text/plain": [
       "             domain_by_dns  Num. of channels\n",
       "93                roku.com                26\n",
       "97   scorecardresearch.com                13\n",
       "53                ifood.tv                12\n",
       "33              demdex.net                11\n",
       "35         doubleclick.net                10\n",
       "48    google-analytics.com                 8\n",
       "9             akamaihd.net                 7\n",
       "108          tremorhub.com                 7\n",
       "0                   1rx.io                 7\n",
       "57              irchan.com                 6"
      ]
     },
     "execution_count": 75,
     "metadata": {},
     "output_type": "execute_result"
    }
   ],
   "source": [
    "get_popular_domains(roku_tcp[~roku_tcp.tls])"
   ]
  },
  {
   "cell_type": "code",
   "execution_count": 76,
   "metadata": {},
   "outputs": [
    {
     "data": {
      "text/html": [
       "<div>\n",
       "<style scoped>\n",
       "    .dataframe tbody tr th:only-of-type {\n",
       "        vertical-align: middle;\n",
       "    }\n",
       "\n",
       "    .dataframe tbody tr th {\n",
       "        vertical-align: top;\n",
       "    }\n",
       "\n",
       "    .dataframe thead th {\n",
       "        text-align: right;\n",
       "    }\n",
       "</style>\n",
       "<table border=\"1\" class=\"dataframe\">\n",
       "  <thead>\n",
       "    <tr style=\"text-align: right;\">\n",
       "      <th></th>\n",
       "      <th>domain_by_dns</th>\n",
       "      <th>Num. of channels</th>\n",
       "    </tr>\n",
       "  </thead>\n",
       "  <tbody>\n",
       "    <tr>\n",
       "      <th>4</th>\n",
       "      <td>amazon-adsystem.com</td>\n",
       "      <td>27</td>\n",
       "    </tr>\n",
       "    <tr>\n",
       "      <th>65</th>\n",
       "      <td>scorecardresearch.com</td>\n",
       "      <td>16</td>\n",
       "    </tr>\n",
       "    <tr>\n",
       "      <th>19</th>\n",
       "      <td>demdex.net</td>\n",
       "      <td>7</td>\n",
       "    </tr>\n",
       "    <tr>\n",
       "      <th>34</th>\n",
       "      <td>ifood.tv</td>\n",
       "      <td>7</td>\n",
       "    </tr>\n",
       "    <tr>\n",
       "      <th>70</th>\n",
       "      <td>spotxchange.com</td>\n",
       "      <td>5</td>\n",
       "    </tr>\n",
       "    <tr>\n",
       "      <th>57</th>\n",
       "      <td>omtrdc.net</td>\n",
       "      <td>5</td>\n",
       "    </tr>\n",
       "    <tr>\n",
       "      <th>36</th>\n",
       "      <td>images-amazon.com</td>\n",
       "      <td>4</td>\n",
       "    </tr>\n",
       "    <tr>\n",
       "      <th>51</th>\n",
       "      <td>nbcuni.com</td>\n",
       "      <td>4</td>\n",
       "    </tr>\n",
       "    <tr>\n",
       "      <th>82</th>\n",
       "      <td>yumenetworks.com</td>\n",
       "      <td>3</td>\n",
       "    </tr>\n",
       "    <tr>\n",
       "      <th>2</th>\n",
       "      <td>adsrvr.org</td>\n",
       "      <td>3</td>\n",
       "    </tr>\n",
       "  </tbody>\n",
       "</table>\n",
       "</div>"
      ],
      "text/plain": [
       "            domain_by_dns  Num. of channels\n",
       "4     amazon-adsystem.com                27\n",
       "65  scorecardresearch.com                16\n",
       "19             demdex.net                 7\n",
       "34               ifood.tv                 7\n",
       "70        spotxchange.com                 5\n",
       "57             omtrdc.net                 5\n",
       "36      images-amazon.com                 4\n",
       "51             nbcuni.com                 4\n",
       "82       yumenetworks.com                 3\n",
       "2              adsrvr.org                 3"
      ]
     },
     "execution_count": 76,
     "metadata": {},
     "output_type": "execute_result"
    }
   ],
   "source": [
    "get_popular_domains(amazon_tcp[~amazon_tcp.tls])"
   ]
  },
  {
   "cell_type": "code",
   "execution_count": 101,
   "metadata": {},
   "outputs": [],
   "source": [
    "pre = r\"\"\"\n",
    "\\begin{table}[H]\n",
    "%\\centering\n",
    "\\resizebox{\\columnwidth}{!}{%\n",
    "\"\"\"\n",
    "\n",
    "post = r\"\"\"\n",
    "}\n",
    "\\caption{CAPTION}\n",
    "\\label{tab:LABEL}\n",
    "\\end{table}\"\"\""
   ]
  },
  {
   "cell_type": "code",
   "execution_count": 111,
   "metadata": {},
   "outputs": [],
   "source": [
    "def make_latex_table(df, label=\"LABEL\", caption=\"caption\",\n",
    "    tablefmt=\"latex_booktabs\", headers=\"keys\", showindex=False):\n",
    "    tabu = tabulate(df, tablefmt=\"latex_booktabs\", headers=\"keys\", showindex=False)\n",
    "    return pre + tabu + post.replace(\"LABEL\", label).replace(\"CAPTION\", caption)\n",
    "    "
   ]
  },
  {
   "cell_type": "markdown",
   "metadata": {},
   "source": [
    "## Most common unencrypted tracking endpoints"
   ]
  },
  {
   "cell_type": "code",
   "execution_count": 112,
   "metadata": {},
   "outputs": [],
   "source": [
    "df = get_popular_domains(roku_tcp[~roku_tcp.tls & roku_tcp.disconnect_blocked])"
   ]
  },
  {
   "cell_type": "code",
   "execution_count": 113,
   "metadata": {},
   "outputs": [
    {
     "name": "stdout",
     "output_type": "stream",
     "text": [
      "\n",
      "\\begin{table}[H]\n",
      "%\\centering\n",
      "\\resizebox{\\columnwidth}{!}{%\n",
      "\\begin{tabular}{lr}\n",
      "\\toprule\n",
      " domain\\_by\\_dns         &   Num. of channels \\\\\n",
      "\\midrule\n",
      " scorecardresearch.com &                 13 \\\\\n",
      " demdex.net            &                 11 \\\\\n",
      " doubleclick.net       &                 10 \\\\\n",
      " google-analytics.com  &                  8 \\\\\n",
      " 1rx.io                &                  7 \\\\\n",
      " tremorhub.com         &                  7 \\\\\n",
      " omtrdc.net            &                  6 \\\\\n",
      " w55c.net              &                  4 \\\\\n",
      " adsrvr.org            &                  4 \\\\\n",
      " spotxchange.com       &                  4 \\\\\n",
      "\\bottomrule\n",
      "\\end{tabular}\n",
      "}\n",
      "\\caption{Roku - Most prevalent trackers that use unencrypted connections}\n",
      "\\label{tab:most_common_insecure_trackers_roku}\n",
      "\\end{table}\n"
     ]
    }
   ],
   "source": [
    "print(make_latex_table(df, caption=\"Roku - Most prevalent trackers that use unencrypted connections\",\n",
    "                       label=\"most_common_insecure_trackers_roku\"))"
   ]
  },
  {
   "cell_type": "code",
   "execution_count": 114,
   "metadata": {},
   "outputs": [
    {
     "name": "stdout",
     "output_type": "stream",
     "text": [
      "\n",
      "\\begin{table}[H]\n",
      "%\\centering\n",
      "\\resizebox{\\columnwidth}{!}{%\n",
      "\\begin{tabular}{lr}\n",
      "\\toprule\n",
      " domain\\_by\\_dns         &   Num. of channels \\\\\n",
      "\\midrule\n",
      " amazon-adsystem.com   &                 27 \\\\\n",
      " scorecardresearch.com &                 16 \\\\\n",
      " demdex.net            &                  7 \\\\\n",
      " spotxchange.com       &                  5 \\\\\n",
      " omtrdc.net            &                  5 \\\\\n",
      " yumenetworks.com      &                  3 \\\\\n",
      " fwmrm.net             &                  3 \\\\\n",
      " adsrvr.org            &                  3 \\\\\n",
      " rlcdn.com             &                  2 \\\\\n",
      " google-analytics.com  &                  2 \\\\\n",
      "\\bottomrule\n",
      "\\end{tabular}\n",
      "}\n",
      "\\caption{Amazon - Most prevalent trackers that use unencrypted connections}\n",
      "\\label{tab:most_common_insecure_trackers_amazon}\n",
      "\\end{table}\n"
     ]
    }
   ],
   "source": [
    "df = get_popular_domains(amazon_tcp[~amazon_tcp.tls & amazon_tcp.disconnect_blocked])\n",
    "print(make_latex_table(df, caption=\"Amazon - Most prevalent trackers that use unencrypted connections\",\n",
    "                       label=\"most_common_insecure_trackers_amazon\"))"
   ]
  },
  {
   "cell_type": "markdown",
   "metadata": {},
   "source": [
    "## Unencrypted platform endpoints"
   ]
  },
  {
   "cell_type": "code",
   "execution_count": 79,
   "metadata": {},
   "outputs": [
    {
     "data": {
      "text/plain": [
       "array(['aax-us-east.amazon-adsystem.com', 's.amazon-adsystem.com'],\n",
       "      dtype=object)"
      ]
     },
     "execution_count": 79,
     "metadata": {},
     "output_type": "execute_result"
    }
   ],
   "source": [
    "amazon_tcp[~amazon_tcp.tls & (amazon_tcp.domain_by_dns == \"amazon-adsystem.com\")].host_by_dns.unique()"
   ]
  },
  {
   "cell_type": "code",
   "execution_count": 80,
   "metadata": {},
   "outputs": [
    {
     "data": {
      "text/plain": [
       "array(['wwwimg.roku.com', 'api2.sr.roku.com', 'cigars.roku.com',\n",
       "       'channels.roku.com'], dtype=object)"
      ]
     },
     "execution_count": 80,
     "metadata": {},
     "output_type": "execute_result"
    }
   ],
   "source": [
    "roku_tcp[~roku_tcp.tls & (roku_tcp.domain_by_dns == \"roku.com\")].host_by_dns.unique()"
   ]
  },
  {
   "cell_type": "code",
   "execution_count": null,
   "metadata": {},
   "outputs": [],
   "source": [
    "## HTTP"
   ]
  },
  {
   "cell_type": "code",
   "execution_count": null,
   "metadata": {},
   "outputs": [],
   "source": [
    "requests_roku, responses_roku, dns_df_roku = get_http_df(crawl_data_dir_roku)\n",
    "requests_amazon, responses_amazon, dns_df_amazon = get_http_df(crawl_data_dir_amazon)"
   ]
  },
  {
   "cell_type": "code",
   "execution_count": 8,
   "metadata": {},
   "outputs": [
    {
     "ename": "NameError",
     "evalue": "name 'requests_roku' is not defined",
     "output_type": "error",
     "traceback": [
      "\u001b[0;31m---------------------------------------------------------------------------\u001b[0m",
      "\u001b[0;31mNameError\u001b[0m                                 Traceback (most recent call last)",
      "\u001b[0;32m<ipython-input-8-da2afe593d12>\u001b[0m in \u001b[0;36m<module>\u001b[0;34m\u001b[0m\n\u001b[0;32m----> 1\u001b[0;31m \u001b[0mrequests_roku\u001b[0m\u001b[0;34m.\u001b[0m\u001b[0mchannel_id\u001b[0m\u001b[0;34m.\u001b[0m\u001b[0mnunique\u001b[0m\u001b[0;34m(\u001b[0m\u001b[0;34m)\u001b[0m\u001b[0;34m,\u001b[0m \u001b[0mrequests_amazon\u001b[0m\u001b[0;34m.\u001b[0m\u001b[0mchannel_id\u001b[0m\u001b[0;34m.\u001b[0m\u001b[0mnunique\u001b[0m\u001b[0;34m(\u001b[0m\u001b[0;34m)\u001b[0m\u001b[0;34m\u001b[0m\u001b[0;34m\u001b[0m\u001b[0m\n\u001b[0m",
      "\u001b[0;31mNameError\u001b[0m: name 'requests_roku' is not defined"
     ]
    }
   ],
   "source": [
    "requests_roku.channel_id.nunique(), requests_amazon.channel_id.nunique()"
   ]
  },
  {
   "cell_type": "code",
   "execution_count": null,
   "metadata": {},
   "outputs": [],
   "source": []
  }
 ],
 "metadata": {
  "kernelspec": {
   "display_name": "Python 3",
   "language": "python",
   "name": "python3"
  },
  "language_info": {
   "codemirror_mode": {
    "name": "ipython",
    "version": 3
   },
   "file_extension": ".py",
   "mimetype": "text/x-python",
   "name": "python",
   "nbconvert_exporter": "python",
   "pygments_lexer": "ipython3",
   "version": "3.6.7"
  }
 },
 "nbformat": 4,
 "nbformat_minor": 2
}
