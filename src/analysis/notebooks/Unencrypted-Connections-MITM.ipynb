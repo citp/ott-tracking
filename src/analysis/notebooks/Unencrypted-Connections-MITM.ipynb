{
 "cells": [
  {
   "cell_type": "markdown",
   "metadata": {},
   "source": [
    "## Unencrypted connections\n",
    "- Num of channels sending at least one unencrypted HTTP request\n",
    "- Percentage of unencrypted HTTP requests"
   ]
  },
  {
   "cell_type": "code",
   "execution_count": 1,
   "metadata": {},
   "outputs": [
    {
     "name": "stderr",
     "output_type": "stream",
     "text": [
      "/usr/lib/python3.6/importlib/_bootstrap.py:219: RuntimeWarning: numpy.dtype size changed, may indicate binary incompatibility. Expected 96, got 88\n",
      "  return f(*args, **kwds)\n",
      "/usr/lib/python3.6/importlib/_bootstrap.py:219: RuntimeWarning: numpy.dtype size changed, may indicate binary incompatibility. Expected 96, got 88\n",
      "  return f(*args, **kwds)\n"
     ]
    }
   ],
   "source": [
    "import pandas as pd\n",
    "from df_utils import load_df, print_stats\n",
    "from log_analysis import get_playback_detection_results, get_n_successful_channels\n",
    "from nb_utils import get_popular_domains_from_reqs, get_popular_domains_from_tcp_conns, make_latex_table\n",
    "from crawl_ids import CrawlRokuTop1KMITM, CrawlFireTVTop1KMITM"
   ]
  },
  {
   "cell_type": "markdown",
   "metadata": {},
   "source": [
    "### Total num. of channels"
   ]
  },
  {
   "cell_type": "markdown",
   "metadata": {},
   "source": [
    "### Load Requests and TCP connections"
   ]
  },
  {
   "cell_type": "code",
   "execution_count": 9,
   "metadata": {},
   "outputs": [],
   "source": [
    "requests_roku = load_df(CrawlRokuTop1KMITM, \"http_req\")\n",
    "requests_roku = requests_roku[(~requests_roku.url.str.startswith(\"https://\"))]\n",
    "# (requests_roku.tcp_dstport!=443) & \n",
    "responses_roku = load_df(CrawlRokuTop1KMITM, \"http_resp\")\n",
    "dns_df_roku = load_df(CrawlRokuTop1KMITM, \"dns\")\n",
    "\n",
    "requests_amazon = load_df(CrawlFireTVTop1KMITM, \"http_req\")\n",
    "requests_amazon = requests_amazon[(~requests_amazon.url.str.startswith(\"https://\"))]\n",
    "\n",
    "responses_amazon = load_df(CrawlFireTVTop1KMITM, \"http_resp\")\n",
    "dns_df_amazon = load_df(CrawlFireTVTop1KMITM, \"dns\")"
   ]
  },
  {
   "cell_type": "code",
   "execution_count": 5,
   "metadata": {},
   "outputs": [],
   "source": [
    "roku_tcp = load_df(CrawlRokuTop1KMITM, \"tcp_conn\")\n",
    "amazon_tcp = load_df(CrawlFireTVTop1KMITM, \"tcp_conn\")"
   ]
  },
  {
   "cell_type": "code",
   "execution_count": 10,
   "metadata": {},
   "outputs": [
    {
     "name": "stdout",
     "output_type": "stream",
     "text": [
      "814 Roku channels send at last one unencrypted request\n",
      "891 Fire TV channels send at last one unencrypted request\n"
     ]
    }
   ],
   "source": [
    "print(\"%s Roku channels send at last one unencrypted request\" % (requests_roku.channel_id.nunique()))\n",
    "print(\"%s Fire TV channels send at last one unencrypted request\" % (requests_amazon.channel_id.nunique()))"
   ]
  },
  {
   "cell_type": "code",
   "execution_count": 26,
   "metadata": {},
   "outputs": [],
   "source": [
    "# use host if domain doesn't exist (ip address)\n",
    "requests_roku[\"req_domain\"] = requests_roku.apply(lambda x: x.req_domain if x.req_domain else x.host, axis=1)\n",
    "requests_amazon[\"req_domain\"] = requests_amazon.apply(lambda x: x.req_domain if x.req_domain else x.host, axis=1)"
   ]
  },
  {
   "cell_type": "markdown",
   "metadata": {},
   "source": [
    "### Amazon top unencrypted"
   ]
  },
  {
   "cell_type": "code",
   "execution_count": 36,
   "metadata": {},
   "outputs": [],
   "source": [
    "from log_analysis import get_https_upgrade_redirectors\n",
    "def get_most_common_unencrypted(crawl_name, http_req, http_resp):\n",
    "    redirects, https_upgrades, cross_origin_redirects = get_https_upgrade_redirectors(\n",
    "        crawl_name, http_req, http_resp)\n",
    "    https_upgrade_domains = set(https_upgrades.req_domain.unique())\n",
    "    df = get_popular_domains_from_reqs(http_req, 10)\n",
    "    df['https_upgrade'] = df.req_domain.map(lambda x: x in https_upgrade_domains)\n",
    "    # Omit the https_upgrade column if none of the domains upgrade to HTTPS\n",
    "    if list(df['https_upgrade'].unique()) == [False]:\n",
    "        print(\"None of the endpoints upgrade to HTTPS\")\n",
    "        del df['https_upgrade']\n",
    "    return df"
   ]
  },
  {
   "cell_type": "code",
   "execution_count": 37,
   "metadata": {},
   "outputs": [
    {
     "name": "stderr",
     "output_type": "stream",
     "text": [
      "/home/user/dev/smart-tv/src/analysis/notebooks/log_analysis.py:747: SettingWithCopyWarning: \n",
      "A value is trying to be set on a copy of a slice from a DataFrame.\n",
      "Try using .loc[row_indexer,col_indexer] = value instead\n",
      "\n",
      "See the caveats in the documentation: http://pandas.pydata.org/pandas-docs/stable/indexing.html#indexing-view-versus-copy\n",
      "  http_resp['url'] = http_resp.apply(lambda x: get_resp_url(x, req_urls), axis=1)\n",
      "/home/user/dev/smart-tv/src/analysis/notebooks/log_analysis.py:506: SettingWithCopyWarning: \n",
      "A value is trying to be set on a copy of a slice from a DataFrame.\n",
      "Try using .loc[row_indexer,col_indexer] = value instead\n",
      "\n",
      "See the caveats in the documentation: http://pandas.pydata.org/pandas-docs/stable/indexing.html#indexing-view-versus-copy\n",
      "  lambda x: get_fld(x, fail_silently=True))\n"
     ]
    },
    {
     "name": "stdout",
     "output_type": "stream",
     "text": [
      "None of the endpoints upgrade to HTTPS\n"
     ]
    },
    {
     "name": "stderr",
     "output_type": "stream",
     "text": [
      "/home/user/dev/smart-tv/src/analysis/notebooks/log_analysis.py:756: SettingWithCopyWarning: \n",
      "A value is trying to be set on a copy of a slice from a DataFrame.\n",
      "Try using .loc[row_indexer,col_indexer] = value instead\n",
      "\n",
      "See the caveats in the documentation: http://pandas.pydata.org/pandas-docs/stable/indexing.html#indexing-view-versus-copy\n",
      "  and x.req_domain==x.loc_domain), axis=1)\n"
     ]
    },
    {
     "data": {
      "text/html": [
       "<div>\n",
       "<style scoped>\n",
       "    .dataframe tbody tr th:only-of-type {\n",
       "        vertical-align: middle;\n",
       "    }\n",
       "\n",
       "    .dataframe tbody tr th {\n",
       "        vertical-align: top;\n",
       "    }\n",
       "\n",
       "    .dataframe thead th {\n",
       "        text-align: right;\n",
       "    }\n",
       "</style>\n",
       "<table border=\"1\" class=\"dataframe\">\n",
       "  <thead>\n",
       "    <tr style=\"text-align: right;\">\n",
       "      <th></th>\n",
       "      <th>req_domain</th>\n",
       "      <th>Num. of channels</th>\n",
       "    </tr>\n",
       "  </thead>\n",
       "  <tbody>\n",
       "    <tr>\n",
       "      <th>239</th>\n",
       "      <td>amazon-adsystem.com</td>\n",
       "      <td>678</td>\n",
       "    </tr>\n",
       "    <tr>\n",
       "      <th>491</th>\n",
       "      <td>scorecardresearch.com</td>\n",
       "      <td>108</td>\n",
       "    </tr>\n",
       "    <tr>\n",
       "      <th>383</th>\n",
       "      <td>ifood.tv</td>\n",
       "      <td>50</td>\n",
       "    </tr>\n",
       "    <tr>\n",
       "      <th>385</th>\n",
       "      <td>images-amazon.com</td>\n",
       "      <td>45</td>\n",
       "    </tr>\n",
       "    <tr>\n",
       "      <th>282</th>\n",
       "      <td>cloudinary.com</td>\n",
       "      <td>32</td>\n",
       "    </tr>\n",
       "    <tr>\n",
       "      <th>525</th>\n",
       "      <td>titantv.com</td>\n",
       "      <td>29</td>\n",
       "    </tr>\n",
       "    <tr>\n",
       "      <th>570</th>\n",
       "      <td>wsi.com</td>\n",
       "      <td>27</td>\n",
       "    </tr>\n",
       "    <tr>\n",
       "      <th>278</th>\n",
       "      <td>cdn01.net</td>\n",
       "      <td>24</td>\n",
       "    </tr>\n",
       "    <tr>\n",
       "      <th>408</th>\n",
       "      <td>lightcast.com</td>\n",
       "      <td>24</td>\n",
       "    </tr>\n",
       "    <tr>\n",
       "      <th>307</th>\n",
       "      <td>demdex.net</td>\n",
       "      <td>22</td>\n",
       "    </tr>\n",
       "  </tbody>\n",
       "</table>\n",
       "</div>"
      ],
      "text/plain": [
       "                req_domain  Num. of channels\n",
       "239    amazon-adsystem.com               678\n",
       "491  scorecardresearch.com               108\n",
       "383               ifood.tv                50\n",
       "385      images-amazon.com                45\n",
       "282         cloudinary.com                32\n",
       "525            titantv.com                29\n",
       "570                wsi.com                27\n",
       "278              cdn01.net                24\n",
       "408          lightcast.com                24\n",
       "307             demdex.net                22"
      ]
     },
     "execution_count": 37,
     "metadata": {},
     "output_type": "execute_result"
    }
   ],
   "source": [
    "df = get_most_common_unencrypted(CrawlFireTVTop1KMITM, requests_amazon, responses_amazon)\n",
    "df"
   ]
  },
  {
   "cell_type": "code",
   "execution_count": 39,
   "metadata": {},
   "outputs": [
    {
     "name": "stdout",
     "output_type": "stream",
     "text": [
      "\n",
      "\\begin{table}[H]\n",
      "%\\centering\n",
      "%\\resizebox{\\columnwidth}{!}{%\n",
      "\\begin{tabular}{lr}\n",
      "\\toprule\n",
      " Req domain            &   Num. of channels \\\\\n",
      "\\midrule\n",
      " amazon-adsystem.com   &                678 \\\\\n",
      " scorecardresearch.com &                108 \\\\\n",
      " ifood.tv              &                 50 \\\\\n",
      " images-amazon.com     &                 45 \\\\\n",
      " cloudinary.com        &                 32 \\\\\n",
      " titantv.com           &                 29 \\\\\n",
      " wsi.com               &                 27 \\\\\n",
      " cdn01.net             &                 24 \\\\\n",
      " lightcast.com         &                 24 \\\\\n",
      " demdex.net            &                 22 \\\\\n",
      "\\bottomrule\n",
      "\\end{tabular}\n",
      "%}\n",
      "\\caption{Most prevalent domains contacted over unencrypted connections (Amazon)}\n",
      "\\label{tab:most_common_insecure_domains_amazon}\n",
      "\\end{table}\n"
     ]
    }
   ],
   "source": [
    "print(make_latex_table(df, label=\"most_common_insecure_domains_amazon\",\n",
    "                       caption=\"Most prevalent domains contacted over unencrypted connections (Amazon)\"))"
   ]
  },
  {
   "cell_type": "markdown",
   "metadata": {},
   "source": [
    "### Roku top unencrypted"
   ]
  },
  {
   "cell_type": "code",
   "execution_count": 44,
   "metadata": {},
   "outputs": [
    {
     "name": "stderr",
     "output_type": "stream",
     "text": [
      "/home/user/dev/smart-tv/src/analysis/notebooks/log_analysis.py:747: SettingWithCopyWarning: \n",
      "A value is trying to be set on a copy of a slice from a DataFrame.\n",
      "Try using .loc[row_indexer,col_indexer] = value instead\n",
      "\n",
      "See the caveats in the documentation: http://pandas.pydata.org/pandas-docs/stable/indexing.html#indexing-view-versus-copy\n",
      "  http_resp['url'] = http_resp.apply(lambda x: get_resp_url(x, req_urls), axis=1)\n",
      "/home/user/dev/smart-tv/src/analysis/notebooks/log_analysis.py:506: SettingWithCopyWarning: \n",
      "A value is trying to be set on a copy of a slice from a DataFrame.\n",
      "Try using .loc[row_indexer,col_indexer] = value instead\n",
      "\n",
      "See the caveats in the documentation: http://pandas.pydata.org/pandas-docs/stable/indexing.html#indexing-view-versus-copy\n",
      "  lambda x: get_fld(x, fail_silently=True))\n"
     ]
    },
    {
     "name": "stdout",
     "output_type": "stream",
     "text": [
      "None of the endpoints upgrade to HTTPS\n"
     ]
    },
    {
     "name": "stderr",
     "output_type": "stream",
     "text": [
      "/home/user/dev/smart-tv/src/analysis/notebooks/log_analysis.py:756: SettingWithCopyWarning: \n",
      "A value is trying to be set on a copy of a slice from a DataFrame.\n",
      "Try using .loc[row_indexer,col_indexer] = value instead\n",
      "\n",
      "See the caveats in the documentation: http://pandas.pydata.org/pandas-docs/stable/indexing.html#indexing-view-versus-copy\n",
      "  and x.req_domain==x.loc_domain), axis=1)\n"
     ]
    },
    {
     "data": {
      "text/html": [
       "<div>\n",
       "<style scoped>\n",
       "    .dataframe tbody tr th:only-of-type {\n",
       "        vertical-align: middle;\n",
       "    }\n",
       "\n",
       "    .dataframe tbody tr th {\n",
       "        vertical-align: top;\n",
       "    }\n",
       "\n",
       "    .dataframe thead th {\n",
       "        text-align: right;\n",
       "    }\n",
       "</style>\n",
       "<table border=\"1\" class=\"dataframe\">\n",
       "  <thead>\n",
       "    <tr style=\"text-align: right;\">\n",
       "      <th></th>\n",
       "      <th>req_domain</th>\n",
       "      <th>Num. of channels</th>\n",
       "    </tr>\n",
       "  </thead>\n",
       "  <tbody>\n",
       "    <tr>\n",
       "      <th>157</th>\n",
       "      <td>doubleclick.net</td>\n",
       "      <td>266</td>\n",
       "    </tr>\n",
       "    <tr>\n",
       "      <th>212</th>\n",
       "      <td>google-analytics.com</td>\n",
       "      <td>175</td>\n",
       "    </tr>\n",
       "    <tr>\n",
       "      <th>394</th>\n",
       "      <td>scorecardresearch.com</td>\n",
       "      <td>145</td>\n",
       "    </tr>\n",
       "    <tr>\n",
       "      <th>380</th>\n",
       "      <td>roku.com</td>\n",
       "      <td>145</td>\n",
       "    </tr>\n",
       "    <tr>\n",
       "      <th>234</th>\n",
       "      <td>ifood.tv</td>\n",
       "      <td>90</td>\n",
       "    </tr>\n",
       "    <tr>\n",
       "      <th>453</th>\n",
       "      <td>tremorhub.com</td>\n",
       "      <td>79</td>\n",
       "    </tr>\n",
       "    <tr>\n",
       "      <th>419</th>\n",
       "      <td>stickyadstv.com</td>\n",
       "      <td>74</td>\n",
       "    </tr>\n",
       "    <tr>\n",
       "      <th>248</th>\n",
       "      <td>irchan.com</td>\n",
       "      <td>74</td>\n",
       "    </tr>\n",
       "    <tr>\n",
       "      <th>304</th>\n",
       "      <td>monarchads.com</td>\n",
       "      <td>73</td>\n",
       "    </tr>\n",
       "    <tr>\n",
       "      <th>10</th>\n",
       "      <td>1rx.io</td>\n",
       "      <td>66</td>\n",
       "    </tr>\n",
       "  </tbody>\n",
       "</table>\n",
       "</div>"
      ],
      "text/plain": [
       "                req_domain  Num. of channels\n",
       "157        doubleclick.net               266\n",
       "212   google-analytics.com               175\n",
       "394  scorecardresearch.com               145\n",
       "380               roku.com               145\n",
       "234               ifood.tv                90\n",
       "453          tremorhub.com                79\n",
       "419        stickyadstv.com                74\n",
       "248             irchan.com                74\n",
       "304         monarchads.com                73\n",
       "10                  1rx.io                66"
      ]
     },
     "execution_count": 44,
     "metadata": {},
     "output_type": "execute_result"
    }
   ],
   "source": [
    "df = get_most_common_unencrypted(CrawlRokuTop1KMITM, requests_roku, responses_roku)\n",
    "df"
   ]
  },
  {
   "cell_type": "code",
   "execution_count": 46,
   "metadata": {},
   "outputs": [
    {
     "name": "stdout",
     "output_type": "stream",
     "text": [
      "\n",
      "\\begin{table}[H]\n",
      "%\\centering\n",
      "%\\resizebox{\\columnwidth}{!}{%\n",
      "\\begin{tabular}{lr}\n",
      "\\toprule\n",
      " Req domain            &   Num. of channels \\\\\n",
      "\\midrule\n",
      " doubleclick.net       &                266 \\\\\n",
      " google-analytics.com  &                175 \\\\\n",
      " scorecardresearch.com &                145 \\\\\n",
      " roku.com              &                145 \\\\\n",
      " ifood.tv              &                 90 \\\\\n",
      " tremorhub.com         &                 79 \\\\\n",
      " stickyadstv.com       &                 74 \\\\\n",
      " irchan.com            &                 74 \\\\\n",
      " monarchads.com        &                 73 \\\\\n",
      " 1rx.io                &                 66 \\\\\n",
      "\\bottomrule\n",
      "\\end{tabular}\n",
      "%}\n",
      "\\caption{Most prevalent domains contacted over unencrypted connections (Roku)}\n",
      "\\label{tab:most_common_insecure_domains_roku}\n",
      "\\end{table}\n"
     ]
    }
   ],
   "source": [
    "print(make_latex_table(df, label=\"most_common_insecure_domains_roku\",\n",
    "                       caption=\"Most prevalent domains contacted over unencrypted connections (Roku)\"))"
   ]
  }
 ],
 "metadata": {
  "kernelspec": {
   "display_name": "Python 3",
   "language": "python",
   "name": "python3"
  },
  "language_info": {
   "codemirror_mode": {
    "name": "ipython",
    "version": 3
   },
   "file_extension": ".py",
   "mimetype": "text/x-python",
   "name": "python",
   "nbconvert_exporter": "python",
   "pygments_lexer": "ipython3",
   "version": "3.6.8"
  }
 },
 "nbformat": 4,
 "nbformat_minor": 2
}
