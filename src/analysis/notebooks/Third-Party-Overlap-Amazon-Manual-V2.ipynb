{
 "cells": [
  {
   "cell_type": "code",
   "execution_count": 1,
   "metadata": {},
   "outputs": [],
   "source": [
    "import pandas as pd\n",
    "from os.path import join\n",
    "from datetime import datetime\n",
    "from glob import glob"
   ]
  },
  {
   "cell_type": "code",
   "execution_count": 2,
   "metadata": {},
   "outputs": [],
   "source": [
    "from crawl_ids import CrawlFireTVManualV2, CrawlRokuManualV2\n",
    "from df_utils import load_df\n",
    "from nb_utils import get_crawl_data_path\n",
    "from log_analysis import add_domain_column\n",
    "from ott_leaks import load_reqs_as_df"
   ]
  },
  {
   "cell_type": "code",
   "execution_count": 3,
   "metadata": {},
   "outputs": [],
   "source": [
    "def get_web_requests(crawl_name):\n",
    "    n_ch_with_web_traffic = 0\n",
    "    crawl_data_dir = get_crawl_data_path(crawl_name)\n",
    "    # holds the web requests\n",
    "    web_req_df = pd.DataFrame([])\n",
    "\n",
    "    for openwpm_db_path in glob(join(crawl_data_dir, \"openwpm-data/*/crawl-data.sqlite\")):\n",
    "        tmp_df = load_reqs_as_df(openwpm_db_path)\n",
    "        if len(tmp_df):\n",
    "            n_ch_with_web_traffic+=1\n",
    "        web_req_df = web_req_df.append(tmp_df)\n",
    "\n",
    "    add_domain_column(web_req_df)\n",
    "    print(\"Num. of channels with web traffic\", crawl_name, n_ch_with_web_traffic)\n",
    "    return web_req_df"
   ]
  },
  {
   "cell_type": "code",
   "execution_count": 4,
   "metadata": {},
   "outputs": [],
   "source": [
    "def get_channel_domains_map(req_df):\n",
    "    \"\"\"Return a dict of channel name to set of domains observed on this channel.\"\"\"\n",
    "    return {k: set(v) for k, v in req_df.groupby('channel_name')['req_domain']}"
   ]
  },
  {
   "cell_type": "code",
   "execution_count": 5,
   "metadata": {},
   "outputs": [
    {
     "name": "stderr",
     "output_type": "stream",
     "text": [
      "nb_utils.py:229: SettingWithCopyWarning: \n",
      "A value is trying to be set on a copy of a slice from a DataFrame\n",
      "\n",
      "See the caveats in the documentation: http://pandas.pydata.org/pandas-docs/stable/indexing.html#indexing-view-versus-copy\n",
      "  amazon_df.category[amazon_df.category == \"\"] = 'Others'\n"
     ]
    },
    {
     "name": "stdout",
     "output_type": "stream",
     "text": [
      "('Num. of channels with web traffic', 'amazon_manual_v2', 11)\n",
      "('Num. of channels with web traffic', 'roku_manual_v2', 12)\n"
     ]
    }
   ],
   "source": [
    "amazon_web_req_df = get_web_requests(CrawlFireTVManualV2)\n",
    "roku_web_req_df = get_web_requests(CrawlRokuManualV2)"
   ]
  },
  {
   "cell_type": "code",
   "execution_count": 6,
   "metadata": {},
   "outputs": [
    {
     "name": "stdout",
     "output_type": "stream",
     "text": [
      "(11, 'amazon channels had web traffic')\n",
      "(12, 'roku channels had web traffic')\n",
      "(20, 'amazon channels had device traffic')\n",
      "(20, 'amazon channels had adblocked device traffic')\n",
      "(21, 'roku channels had device traffic')\n",
      "(14, 'roku channels had adblocked device traffic')\n"
     ]
    }
   ],
   "source": [
    "amazon_web_channel_domains = get_channel_domains_map(amazon_web_req_df)\n",
    "roku_web_channel_domains = get_channel_domains_map(roku_web_req_df)\n",
    "\n",
    "amazon_dev_reqs_df = load_df(CrawlFireTVManualV2, \"http_req\")\n",
    "roku_dev_reqs_df = load_df(CrawlRokuManualV2, \"http_req\")\n",
    "\n",
    "print(len(amazon_web_channel_domains), \"amazon channels had web traffic\")\n",
    "print(len(roku_web_channel_domains), \"roku channels had web traffic\")\n",
    "\n",
    "\n",
    "# we only consider adblocked domains\n",
    "amazon_device_channel_domains = get_channel_domains_map(amazon_dev_reqs_df[amazon_dev_reqs_df.adblocked])\n",
    "roku_device_channel_domains = get_channel_domains_map(roku_dev_reqs_df[roku_dev_reqs_df.adblocked])\n",
    "print(amazon_dev_reqs_df.channel_id.nunique(), \"amazon channels had device traffic\")\n",
    "print(len(amazon_device_channel_domains), \"amazon channels had adblocked device traffic\")\n",
    "print(roku_dev_reqs_df.channel_id.nunique(), \"roku channels had device traffic\")\n",
    "print(len(roku_device_channel_domains), \"roku channels had adblocked device traffic\")\n"
   ]
  },
  {
   "cell_type": "code",
   "execution_count": 7,
   "metadata": {},
   "outputs": [],
   "source": [
    "def print_common_domains(web_domains_map, device_domains_map):\n",
    "    overlap_cnt = 0\n",
    "    for channel_name, web_domains in web_domains_map.items():\n",
    "        # print(channel_name)\n",
    "        if channel_name not in device_domains_map:\n",
    "            print(\"** No adblocked device traffic\", channel_name)\n",
    "            continue\n",
    "        device_domains = device_domains_map[channel_name]\n",
    "        overlap = web_domains.intersection(device_domains)\n",
    "        if overlap:\n",
    "            overlap_cnt += 1\n",
    "            print(channel_name, len(overlap), len(device_domains), len(web_domains), overlap)\n",
    "        else:\n",
    "            print(channel_name, \"No overlap\")\n",
    "    print(overlap_cnt, \"channels had overlapping tracking domains on their device and web traffic\")\n"
   ]
  },
  {
   "cell_type": "markdown",
   "metadata": {},
   "source": [
    "## Fire TV - Overlapping domains"
   ]
  },
  {
   "cell_type": "code",
   "execution_count": 8,
   "metadata": {},
   "outputs": [
    {
     "name": "stdout",
     "output_type": "stream",
     "text": [
      "('Cartoon Network App - Watch Videos  Clips and Full Episodes of Your Favorite Shows', 1, 9, 5, set([u'adobe.com']))\n",
      "('** No adblocked device traffic', 'HBO GO')\n",
      "('Tubi - Watch Free Movies &amp; TV Shows', 5, 22, 13, set([u'facebook.com', u'appboy.com', u'amazon-adsystem.com', u'doubleclick.net', u'google-analytics.com']))\n",
      "('NFL', 4, 8, 42, set([u'storage.googleapis.com', u'amazon-adsystem.com', u'doubleclick.net', u'nfl.com']))\n",
      "('NBC Sports', 7, 15, 55, set([u'demdex.net', u'doubleclick.net', u'omtrdc.net', u'nbcsports.com', u'scorecardresearch.com', u'fwmrm.net', u'imrworldwide.com']))\n",
      "('** No adblocked device traffic', 'HBO NOW: Stream TV &amp; Movies')\n",
      "('Showtime Anytime', 1, 3, 42, set([u'2o7.net']))\n",
      "('** No adblocked device traffic', 'NBC')\n",
      "('Lifetime', 3, 3, 78, set([u'demdex.net', u'scorecardresearch.com', u'aetn.com']))\n",
      "('** No adblocked device traffic', 'Pluto TV - It&#39;s Free TV')\n",
      "('A&amp;E', 9, 15, 79, set([u'demdex.net', u'doubleclick.net', u'google.com', u'scorecardresearch.com', u'adobe.com', u'googleadservices.com', u'facebook.com', u'amazon-adsystem.com', u'aetn.com']))\n",
      "(7, 'channels had overlapping tracking domains on their device and web traffic')\n"
     ]
    }
   ],
   "source": [
    "print_common_domains(amazon_web_channel_domains, amazon_device_channel_domains)"
   ]
  },
  {
   "cell_type": "markdown",
   "metadata": {},
   "source": [
    "## Roku - Overlapping domains"
   ]
  },
  {
   "cell_type": "code",
   "execution_count": 9,
   "metadata": {},
   "outputs": [
    {
     "name": "stdout",
     "output_type": "stream",
     "text": [
      "('** No adblocked device traffic', u'Hotstar')\n",
      "(u'ABC', 1, 1, 28, set([u'scorecardresearch.com']))\n",
      "(u'PBS', 2, 2, 19, set([u'scorecardresearch.com', u'doubleclick.net']))\n",
      "('** No adblocked device traffic', u'Netflix')\n",
      "(u'Bravo', 5, 5, 45, set([u'demdex.net', u'omtrdc.net', u'scorecardresearch.com', u'imrworldwide.com', u'fwmrm.net']))\n",
      "('** No adblocked device traffic', u'Prime Video')\n",
      "('** No adblocked device traffic', u'YouTube')\n",
      "(u'NBC Sports', 4, 7, 23, set([u'demdex.net', u'nbcsports.com', u'omtrdc.net', u'fwmrm.net']))\n",
      "('** No adblocked device traffic', u'Spectrum TV')\n",
      "(u'Cartoon Network', 'No overlap')\n",
      "('** No adblocked device traffic', u'Watch TNT')\n",
      "('** No adblocked device traffic', u'STARZ')\n",
      "(4, 'channels had overlapping tracking domains on their device and web traffic')\n"
     ]
    }
   ],
   "source": [
    "print_common_domains(roku_web_channel_domains, roku_device_channel_domains)"
   ]
  },
  {
   "cell_type": "code",
   "execution_count": 11,
   "metadata": {},
   "outputs": [
    {
     "data": {
      "text/plain": [
       "array([u'Prime Video', u'NBC News', u'NewsON', u'Watch TNT', u'ABC News',\n",
       "       u'Newsy', u'fuboTV Watch Live Sports & TV', u'Acorn TV',\n",
       "       u'Sling TV', u'Fox News Channel', u'Bravo', u'NBC Sports',\n",
       "       u'DIRECTV NOW', u'Hotstar', u'SHOWTIME', u'PBS',\n",
       "       u'Cartoon Network', u'STARZ', u'Netflix', u'ABC', u'Hulu'],\n",
       "      dtype=object)"
      ]
     },
     "execution_count": 11,
     "metadata": {},
     "output_type": "execute_result"
    }
   ],
   "source": [
    "roku_dev_reqs_df.channel_name.unique()"
   ]
  },
  {
   "cell_type": "code",
   "execution_count": null,
   "metadata": {},
   "outputs": [],
   "source": []
  }
 ],
 "metadata": {
  "kernelspec": {
   "display_name": "Python 2",
   "language": "python",
   "name": "python2"
  },
  "language_info": {
   "codemirror_mode": {
    "name": "ipython",
    "version": 2
   },
   "file_extension": ".py",
   "mimetype": "text/x-python",
   "name": "python",
   "nbconvert_exporter": "python",
   "pygments_lexer": "ipython2",
   "version": "2.7.15+"
  }
 },
 "nbformat": 4,
 "nbformat_minor": 2
}
