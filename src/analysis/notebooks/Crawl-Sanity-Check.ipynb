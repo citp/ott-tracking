{
 "cells": [
  {
   "cell_type": "code",
   "execution_count": 13,
   "metadata": {},
   "outputs": [],
   "source": [
    "import numpy as np\n",
    "import pandas as pd\n",
    "from log_analysis import get_crawl_status, load_dns_data_from_pcap_csvs\n",
    "\n",
    "from os.path import isdir, join\n",
    "from datetime import datetime\n",
    "from glob import glob\n",
    "from tld import get_fld\n",
    "\n",
    "from collections import Counter\n",
    "from itertools import chain\n",
    "\n",
    "AMAZON_CRAWL = 'amazon-data-20190415-124534'\n",
    "ROKU_CRAWL = 'roku-data-20190412-122224/'\n",
    "\n",
    "ROOT_CRAWL_DIR = '/mnt/iot-house/crawl-data/'\n",
    "if not isdir(ROOT_CRAWL_DIR):\n",
    "    # ROOT_CRAWL_DIR = '/media/gacar/Data/iot-house/crawl-data/'\n",
    "    ROOT_CRAWL_DIR = '/home/gacar/dev/smart-tv/data'\n",
    "\n",
    "crawl_data_dir_amazon = join(ROOT_CRAWL_DIR, AMAZON_CRAWL)\n",
    "crawl_data_dir_roku = join(ROOT_CRAWL_DIR, ROKU_CRAWL)\n",
    "\n",
    "crawl_data_dirs = {\n",
    "    \"Amazon\": crawl_data_dir_amazon,\n",
    "    \"Roku\": crawl_data_dir_roku,\n",
    "}"
   ]
  },
  {
   "cell_type": "code",
   "execution_count": 2,
   "metadata": {},
   "outputs": [],
   "source": [
    "roku_crawl_results = get_crawl_status(crawl_data_dir_roku)\n",
    "amazon_crawl_results = get_crawl_status(crawl_data_dir_amazon)\n",
    "crawl_results = roku_crawl_results.copy()\n",
    "crawl_results.update(amazon_crawl_results)"
   ]
  },
  {
   "cell_type": "markdown",
   "metadata": {},
   "source": [
    "## Total number of channels crawled"
   ]
  },
  {
   "cell_type": "code",
   "execution_count": 3,
   "metadata": {},
   "outputs": [
    {
     "name": "stdout",
     "output_type": "stream",
     "text": [
      "No. of channels crawled: Roku 150\n",
      "No. of channels crawled: Amazon 100\n"
     ]
    }
   ],
   "source": [
    "print (\"No. of channels crawled: Roku\", len(roku_crawl_results))\n",
    "print (\"No. of channels crawled: Amazon\", len(amazon_crawl_results))"
   ]
  },
  {
   "cell_type": "markdown",
   "metadata": {},
   "source": [
    "## Roku failed crawls"
   ]
  },
  {
   "cell_type": "code",
   "execution_count": 4,
   "metadata": {},
   "outputs": [
    {
     "name": "stdout",
     "output_type": "stream",
     "text": [
      "9 of the 150 channels failed\n",
      "Counter({'TERMINATED': 141, 'INSTALLING': 8, 'LAUNCHING': 1})\n"
     ]
    }
   ],
   "source": [
    "roku_failed_cnt = 0\n",
    "for ch, result in roku_crawl_results.items():\n",
    "    if result != \"TERMINATED\":\n",
    "        # print (ch, result)\n",
    "        roku_failed_cnt += 1\n",
    "print (\"%d of the %d channels failed\" % (roku_failed_cnt, len(roku_crawl_results)))\n",
    "counts = Counter(roku_crawl_results.values())\n",
    "print (counts)"
   ]
  },
  {
   "cell_type": "markdown",
   "metadata": {},
   "source": [
    "## Amazon failed crawls"
   ]
  },
  {
   "cell_type": "code",
   "execution_count": 5,
   "metadata": {},
   "outputs": [
    {
     "name": "stdout",
     "output_type": "stream",
     "text": [
      "5 of the 100 channels failed\n",
      "Counter({'TERMINATED': 95, 'LAUNCHING': 3, 'INSTALLING': 1, 'TERMINATING': 1})\n"
     ]
    }
   ],
   "source": [
    "amazon_failed_cnt = 0\n",
    "for ch, result in amazon_crawl_results.items():\n",
    "    if result != \"TERMINATED\":\n",
    "        # print (ch, result)\n",
    "        amazon_failed_cnt += 1\n",
    "print (\"%d of the %d channels failed\" % (amazon_failed_cnt, len(amazon_crawl_results)))\n",
    "counts = Counter(amazon_crawl_results.values())\n",
    "print (counts)\n"
   ]
  }
 ],
 "metadata": {
  "kernelspec": {
   "display_name": "Python 3",
   "language": "python",
   "name": "python3"
  },
  "language_info": {
   "codemirror_mode": {
    "name": "ipython",
    "version": 3
   },
   "file_extension": ".py",
   "mimetype": "text/x-python",
   "name": "python",
   "nbconvert_exporter": "python",
   "pygments_lexer": "ipython3",
   "version": "3.6.7"
  }
 },
 "nbformat": 4,
 "nbformat_minor": 2
}
