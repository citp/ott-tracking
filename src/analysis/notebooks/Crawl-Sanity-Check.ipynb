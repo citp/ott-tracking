{
 "cells": [
  {
   "cell_type": "code",
   "execution_count": 21,
   "metadata": {},
   "outputs": [],
   "source": [
    "import numpy as np\n",
    "import pandas as pd\n",
    "from log_analysis import get_crawl_status, load_dns_data\n",
    "\n",
    "from os.path import isdir, join\n",
    "from datetime import datetime\n",
    "from glob import glob\n",
    "\n",
    "\n",
    "from collections import Counter\n",
    "from itertools import chain\n",
    "\n",
    "AMAZON_CRAWL = 'amazon-data-20190415-124534'\n",
    "ROKU_CRAWL = 'roku-data-20190412-122224'\n",
    "\n",
    "ROOT_CRAWL_DIR = '/mnt/iot-house/crawl-data/'\n",
    "if not isdir(ROOT_CRAWL_DIR):\n",
    "    # ROOT_CRAWL_DIR = '/media/gacar/Data/iot-house/crawl-data/'\n",
    "    ROOT_CRAWL_DIR = '/home/gacar/dev/smart-tv/data'\n",
    "\n",
    "crawl_data_dir_amazon = join(ROOT_CRAWL_DIR, AMAZON_CRAWL)\n",
    "crawl_data_dir_roku = join(ROOT_CRAWL_DIR, ROKU_CRAWL)\n",
    "\n",
    "crawl_data_dirs = {\n",
    "    \"Amazon\": crawl_data_dir_amazon,\n",
    "    \"Roku\": crawl_data_dir_roku,\n",
    "}"
   ]
  },
  {
   "cell_type": "code",
   "execution_count": 9,
   "metadata": {},
   "outputs": [],
   "source": [
    "roku_crawl_results = get_crawl_status(crawl_data_dir_roku)\n",
    "amazon_crawl_results = get_crawl_status(crawl_data_dir_amazon)\n",
    "crawl_results = roku_crawl_results.copy()\n",
    "crawl_results.update(amazon_crawl_results)"
   ]
  },
  {
   "cell_type": "markdown",
   "metadata": {},
   "source": [
    "## Total number of channels crawled"
   ]
  },
  {
   "cell_type": "code",
   "execution_count": 19,
   "metadata": {},
   "outputs": [
    {
     "name": "stdout",
     "output_type": "stream",
     "text": [
      "No. of channels crawled: Roku 150\n",
      "No. of channels crawled: Amazon 100\n"
     ]
    }
   ],
   "source": [
    "print (\"No. of channels crawled: Roku\", len(roku_crawl_results))\n",
    "print (\"No. of channels crawled: Amazon\", len(amazon_crawl_results))"
   ]
  },
  {
   "cell_type": "markdown",
   "metadata": {},
   "source": [
    "## Roku failed crawls"
   ]
  },
  {
   "cell_type": "code",
   "execution_count": 13,
   "metadata": {},
   "outputs": [
    {
     "name": "stdout",
     "output_type": "stream",
     "text": [
      "9 of the 150 channels failed\n",
      "Counter({'TERMINATED': 141, 'INSTALLING': 8, 'LAUNCHING': 1})\n"
     ]
    }
   ],
   "source": [
    "roku_failed_cnt = 0\n",
    "for ch, result in roku_crawl_results.items():\n",
    "    if result != \"TERMINATED\":\n",
    "        # print (ch, result)\n",
    "        roku_failed_cnt += 1\n",
    "print (\"%d of the %d channels failed\" % (roku_failed_cnt, len(roku_crawl_results)))\n",
    "counts = Counter(roku_crawl_results.values())\n",
    "print (counts)"
   ]
  },
  {
   "cell_type": "markdown",
   "metadata": {},
   "source": [
    "## Amazon failed crawls"
   ]
  },
  {
   "cell_type": "code",
   "execution_count": 14,
   "metadata": {},
   "outputs": [
    {
     "name": "stdout",
     "output_type": "stream",
     "text": [
      "5 of the 100 channels failed\n",
      "Counter({'TERMINATED': 95, 'LAUNCHING': 3, 'INSTALLING': 1, 'TERMINATING': 1})\n"
     ]
    }
   ],
   "source": [
    "amazon_failed_cnt = 0\n",
    "for ch, result in amazon_crawl_results.items():\n",
    "    if result != \"TERMINATED\":\n",
    "        # print (ch, result)\n",
    "        amazon_failed_cnt += 1\n",
    "print (\"%d of the %d channels failed\" % (amazon_failed_cnt, len(amazon_crawl_results)))\n",
    "counts = Counter(amazon_crawl_results.values())\n",
    "print (counts)\n"
   ]
  },
  {
   "cell_type": "markdown",
   "metadata": {},
   "source": [
    "## DNS data"
   ]
  },
  {
   "cell_type": "code",
   "execution_count": 37,
   "metadata": {},
   "outputs": [],
   "source": [
    "roku_rIP2NameDB, roku_rName2IPDB = load_dns_data(crawl_data_dir_roku)\n",
    "amazon_rIP2NameDB, amazon_rName2IPDB = load_dns_data(crawl_data_dir_amazon)"
   ]
  },
  {
   "cell_type": "code",
   "execution_count": 44,
   "metadata": {},
   "outputs": [],
   "source": [
    "from tld import get_fld"
   ]
  },
  {
   "cell_type": "code",
   "execution_count": 38,
   "metadata": {},
   "outputs": [],
   "source": [
    "### Number of distinct hostnames queried"
   ]
  },
  {
   "cell_type": "code",
   "execution_count": 56,
   "metadata": {},
   "outputs": [
    {
     "name": "stdout",
     "output_type": "stream",
     "text": [
      "Roku - Distinct hosts: 561 Distinct domains (PS+1): 276\n",
      "Amazon - Distinct hosts: 379 Distinct domains (PS+1): 209\n"
     ]
    }
   ],
   "source": [
    "distinct_hosts_queried_roku = set([host.rstrip(\".\") for hosts in roku_rIP2NameDB.values() for host in hosts])\n",
    "distinct_hosts_queried_amazon = set([host.rstrip(\".\") for hosts in amazon_rIP2NameDB.values() for host in hosts])\n",
    "\n",
    "distinct_domains_queried_roku = set([get_fld(\"http://\" + host) for host in distinct_hosts_queried_roku])\n",
    "distinct_domains_queried_amazon = set([get_fld(\"http://\" + host) for host in distinct_hosts_queried_amazon])\n",
    "\n",
    "print (\"Roku - Distinct hosts:\", len(distinct_hosts_queried_roku),\n",
    "           \"Distinct domains (PS+1):\", len(distinct_domains_queried_roku))\n",
    "print (\"Amazon - Distinct hosts:\", len(distinct_hosts_queried_amazon),\n",
    "           \"Distinct domains (PS+1):\", len(distinct_domains_queried_amazon))"
   ]
  },
  {
   "cell_type": "code",
   "execution_count": null,
   "metadata": {},
   "outputs": [],
   "source": []
  }
 ],
 "metadata": {
  "kernelspec": {
   "display_name": "Python 3",
   "language": "python",
   "name": "python3"
  },
  "language_info": {
   "codemirror_mode": {
    "name": "ipython",
    "version": 3
   },
   "file_extension": ".py",
   "mimetype": "text/x-python",
   "name": "python",
   "nbconvert_exporter": "python",
   "pygments_lexer": "ipython3",
   "version": "3.6.7"
  }
 },
 "nbformat": 4,
 "nbformat_minor": 2
}
