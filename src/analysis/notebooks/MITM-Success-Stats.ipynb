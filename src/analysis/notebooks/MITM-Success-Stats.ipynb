{
 "cells": [
  {
   "cell_type": "code",
   "execution_count": 10,
   "metadata": {},
   "outputs": [],
   "source": [
    "from df_utils import load_df\n",
    "from crawl_ids import CrawlRokuMITM, CrawlFireTVMITM, CrawlFireTVTop1KMITM, CrawlRokuTop1KMITM\n",
    "from nb_utils import make_latex_table"
   ]
  },
  {
   "cell_type": "markdown",
   "metadata": {},
   "source": [
    "## MITMed connections - Roku"
   ]
  },
  {
   "cell_type": "code",
   "execution_count": 21,
   "metadata": {},
   "outputs": [],
   "source": [
    "def get_mitm_stats(crawl_name):\n",
    "    http_df = load_df(crawl_name, \"http_req\")\n",
    "    intercepted_df = http_df[http_df.tcp_dstport == 443]\n",
    "    print(\"%d requests intercepted/MITM'ed (crawl: %s)\" % (len(intercepted_df), crawl_name))\n",
    "    print(\"No of hosts: %d\" % intercepted_df.host.nunique())\n",
    "    print(\"No of channels: %d\" % intercepted_df.channel_id.nunique())\n",
    "    return intercepted_df.drop_duplicates(['channel_id', 'host'])[['channel_name', 'rank', 'host']].sort_values('rank')\n"
   ]
  },
  {
   "cell_type": "markdown",
   "metadata": {},
   "source": [
    "### Roku 1000 channel"
   ]
  },
  {
   "cell_type": "code",
   "execution_count": 26,
   "metadata": {},
   "outputs": [
    {
     "name": "stdout",
     "output_type": "stream",
     "text": [
      "2472 requests intercepted/MITM'ed (crawl: roku-data-20190524-202541)\n",
      "No of hosts: 34\n",
      "No of channels: 43\n"
     ]
    },
    {
     "data": {
      "text/html": [
       "<div>\n",
       "<style scoped>\n",
       "    .dataframe tbody tr th:only-of-type {\n",
       "        vertical-align: middle;\n",
       "    }\n",
       "\n",
       "    .dataframe tbody tr th {\n",
       "        vertical-align: top;\n",
       "    }\n",
       "\n",
       "    .dataframe thead th {\n",
       "        text-align: right;\n",
       "    }\n",
       "</style>\n",
       "<table border=\"1\" class=\"dataframe\">\n",
       "  <thead>\n",
       "    <tr style=\"text-align: right;\">\n",
       "      <th></th>\n",
       "      <th>channel_name</th>\n",
       "      <th>rank</th>\n",
       "      <th>host</th>\n",
       "    </tr>\n",
       "  </thead>\n",
       "  <tbody>\n",
       "    <tr>\n",
       "      <th>40787</th>\n",
       "      <td>DIRECTV NOW</td>\n",
       "      <td>7</td>\n",
       "      <td>api.cld.dtvce.com</td>\n",
       "    </tr>\n",
       "    <tr>\n",
       "      <th>68828</th>\n",
       "      <td>VUDU</td>\n",
       "      <td>15</td>\n",
       "      <td>apicache.vudu.com</td>\n",
       "    </tr>\n",
       "    <tr>\n",
       "      <th>68805</th>\n",
       "      <td>VUDU</td>\n",
       "      <td>15</td>\n",
       "      <td>vudu.d1.sc.omtrdc.net</td>\n",
       "    </tr>\n",
       "    <tr>\n",
       "      <th>66060</th>\n",
       "      <td>NBC</td>\n",
       "      <td>19</td>\n",
       "      <td>ws-cloudpath.media.nbcuni.com</td>\n",
       "    </tr>\n",
       "    <tr>\n",
       "      <th>24275</th>\n",
       "      <td>Fox News Channel</td>\n",
       "      <td>35</td>\n",
       "      <td>api.segment.io</td>\n",
       "    </tr>\n",
       "    <tr>\n",
       "      <th>68141</th>\n",
       "      <td>fuboTV Watch Live Sports &amp; TV</td>\n",
       "      <td>43</td>\n",
       "      <td>api.fubo.tv</td>\n",
       "    </tr>\n",
       "    <tr>\n",
       "      <th>68142</th>\n",
       "      <td>fuboTV Watch Live Sports &amp; TV</td>\n",
       "      <td>43</td>\n",
       "      <td>api.segment.io</td>\n",
       "    </tr>\n",
       "    <tr>\n",
       "      <th>68144</th>\n",
       "      <td>fuboTV Watch Live Sports &amp; TV</td>\n",
       "      <td>43</td>\n",
       "      <td>app.launchdarkly.com</td>\n",
       "    </tr>\n",
       "    <tr>\n",
       "      <th>57598</th>\n",
       "      <td>Newsy</td>\n",
       "      <td>45</td>\n",
       "      <td>cloudapi.imrworldwide.com</td>\n",
       "    </tr>\n",
       "    <tr>\n",
       "      <th>46715</th>\n",
       "      <td>MTV</td>\n",
       "      <td>54</td>\n",
       "      <td>auth.mtvnservices.com</td>\n",
       "    </tr>\n",
       "  </tbody>\n",
       "</table>\n",
       "</div>"
      ],
      "text/plain": [
       "                        channel_name  rank                           host\n",
       "40787                    DIRECTV NOW     7              api.cld.dtvce.com\n",
       "68828                           VUDU    15              apicache.vudu.com\n",
       "68805                           VUDU    15          vudu.d1.sc.omtrdc.net\n",
       "66060                            NBC    19  ws-cloudpath.media.nbcuni.com\n",
       "24275               Fox News Channel    35                 api.segment.io\n",
       "68141  fuboTV Watch Live Sports & TV    43                    api.fubo.tv\n",
       "68142  fuboTV Watch Live Sports & TV    43                 api.segment.io\n",
       "68144  fuboTV Watch Live Sports & TV    43           app.launchdarkly.com\n",
       "57598                          Newsy    45      cloudapi.imrworldwide.com\n",
       "46715                            MTV    54          auth.mtvnservices.com"
      ]
     },
     "execution_count": 26,
     "metadata": {},
     "output_type": "execute_result"
    }
   ],
   "source": [
    "roku_1000ch = get_mitm_stats(CrawlRokuTop1KMITM)\n",
    "roku_1000ch.head(10)"
   ]
  },
  {
   "cell_type": "code",
   "execution_count": 27,
   "metadata": {},
   "outputs": [
    {
     "name": "stdout",
     "output_type": "stream",
     "text": [
      "\n",
      "\\begin{table}[H]\n",
      "%\\centering\n",
      "%\\resizebox{\\columnwidth}{!}{%\n",
      "\\begin{tabular}{lrl}\n",
      "\\toprule\n",
      " Channel name                  &   Rank & Host                          \\\\\n",
      "\\midrule\n",
      " DIRECTV NOW                   &      7 & api.cld.dtvce.com             \\\\\n",
      " VUDU                          &     15 & apicache.vudu.com             \\\\\n",
      " VUDU                          &     15 & vudu.d1.sc.omtrdc.net         \\\\\n",
      " NBC                           &     19 & ws-cloudpath.media.nbcuni.com \\\\\n",
      " Fox News Channel              &     35 & api.segment.io                \\\\\n",
      " fuboTV Watch Live Sports \\& TV &     43 & api.fubo.tv                   \\\\\n",
      " fuboTV Watch Live Sports \\& TV &     43 & api.segment.io                \\\\\n",
      " fuboTV Watch Live Sports \\& TV &     43 & app.launchdarkly.com          \\\\\n",
      " Newsy                         &     45 & cloudapi.imrworldwide.com     \\\\\n",
      " MTV                           &     54 & auth.mtvnservices.com         \\\\\n",
      "\\bottomrule\n",
      "\\end{tabular}\n",
      "%}\n",
      "\\caption{TLS Connections intercepted and decrypted by our smart mitmproxy (Roku)}\n",
      "\\label{tab:tab:mitmed_roku}\n",
      "\\end{table}\n"
     ]
    }
   ],
   "source": [
    "print(make_latex_table(roku_1000ch.head(10),\n",
    "                       caption=\"TLS Connections intercepted and decrypted by our smart mitmproxy (Roku)\",\n",
    "                       label=\"tab:mitmed_roku\"))"
   ]
  },
  {
   "cell_type": "markdown",
   "metadata": {},
   "source": [
    "### Amazon 1K channel\n",
    "- this table is not used in the paper"
   ]
  },
  {
   "cell_type": "code",
   "execution_count": 29,
   "metadata": {},
   "outputs": [
    {
     "name": "stdout",
     "output_type": "stream",
     "text": [
      "68040 requests intercepted/MITM'ed (crawl: amazon-data-20190509-133243)\n",
      "No of hosts: 1721\n",
      "No of channels: 957\n"
     ]
    },
    {
     "data": {
      "text/html": [
       "<div>\n",
       "<style scoped>\n",
       "    .dataframe tbody tr th:only-of-type {\n",
       "        vertical-align: middle;\n",
       "    }\n",
       "\n",
       "    .dataframe tbody tr th {\n",
       "        vertical-align: top;\n",
       "    }\n",
       "\n",
       "    .dataframe thead th {\n",
       "        text-align: right;\n",
       "    }\n",
       "</style>\n",
       "<table border=\"1\" class=\"dataframe\">\n",
       "  <thead>\n",
       "    <tr style=\"text-align: right;\">\n",
       "      <th></th>\n",
       "      <th>channel_name</th>\n",
       "      <th>rank</th>\n",
       "      <th>host</th>\n",
       "    </tr>\n",
       "  </thead>\n",
       "  <tbody>\n",
       "    <tr>\n",
       "      <th>15002</th>\n",
       "      <td>Tubi - Watch Free Movies &amp;amp; TV Shows</td>\n",
       "      <td>1</td>\n",
       "      <td>graph.facebook.com</td>\n",
       "    </tr>\n",
       "    <tr>\n",
       "      <th>11848</th>\n",
       "      <td>Tubi - Watch Free Movies &amp;amp; TV Shows</td>\n",
       "      <td>1</td>\n",
       "      <td>d0.tubitv.com</td>\n",
       "    </tr>\n",
       "    <tr>\n",
       "      <th>11847</th>\n",
       "      <td>Tubi - Watch Free Movies &amp;amp; TV Shows</td>\n",
       "      <td>1</td>\n",
       "      <td>uapi.adrise.tv</td>\n",
       "    </tr>\n",
       "    <tr>\n",
       "      <th>11846</th>\n",
       "      <td>Tubi - Watch Free Movies &amp;amp; TV Shows</td>\n",
       "      <td>1</td>\n",
       "      <td>ott-firetv-hyb.tubitv.com</td>\n",
       "    </tr>\n",
       "    <tr>\n",
       "      <th>11868</th>\n",
       "      <td>Tubi - Watch Free Movies &amp;amp; TV Shows</td>\n",
       "      <td>1</td>\n",
       "      <td>images02.adrise.tv</td>\n",
       "    </tr>\n",
       "    <tr>\n",
       "      <th>11878</th>\n",
       "      <td>Tubi - Watch Free Movies &amp;amp; TV Shows</td>\n",
       "      <td>1</td>\n",
       "      <td>stats.g.doubleclick.net</td>\n",
       "    </tr>\n",
       "    <tr>\n",
       "      <th>15059</th>\n",
       "      <td>Tubi - Watch Free Movies &amp;amp; TV Shows</td>\n",
       "      <td>1</td>\n",
       "      <td>firebaseremoteconfig.googleapis.com</td>\n",
       "    </tr>\n",
       "    <tr>\n",
       "      <th>15004</th>\n",
       "      <td>Tubi - Watch Free Movies &amp;amp; TV Shows</td>\n",
       "      <td>1</td>\n",
       "      <td>settings.crashlytics.com</td>\n",
       "    </tr>\n",
       "    <tr>\n",
       "      <th>15060</th>\n",
       "      <td>Tubi - Watch Free Movies &amp;amp; TV Shows</td>\n",
       "      <td>1</td>\n",
       "      <td>music.amazon.com</td>\n",
       "    </tr>\n",
       "    <tr>\n",
       "      <th>15064</th>\n",
       "      <td>Tubi - Watch Free Movies &amp;amp; TV Shows</td>\n",
       "      <td>1</td>\n",
       "      <td>api.amazon.com</td>\n",
       "    </tr>\n",
       "  </tbody>\n",
       "</table>\n",
       "</div>"
      ],
      "text/plain": [
       "                                  channel_name  rank  \\\n",
       "15002  Tubi - Watch Free Movies &amp; TV Shows     1   \n",
       "11848  Tubi - Watch Free Movies &amp; TV Shows     1   \n",
       "11847  Tubi - Watch Free Movies &amp; TV Shows     1   \n",
       "11846  Tubi - Watch Free Movies &amp; TV Shows     1   \n",
       "11868  Tubi - Watch Free Movies &amp; TV Shows     1   \n",
       "11878  Tubi - Watch Free Movies &amp; TV Shows     1   \n",
       "15059  Tubi - Watch Free Movies &amp; TV Shows     1   \n",
       "15004  Tubi - Watch Free Movies &amp; TV Shows     1   \n",
       "15060  Tubi - Watch Free Movies &amp; TV Shows     1   \n",
       "15064  Tubi - Watch Free Movies &amp; TV Shows     1   \n",
       "\n",
       "                                      host  \n",
       "15002                   graph.facebook.com  \n",
       "11848                        d0.tubitv.com  \n",
       "11847                       uapi.adrise.tv  \n",
       "11846            ott-firetv-hyb.tubitv.com  \n",
       "11868                   images02.adrise.tv  \n",
       "11878              stats.g.doubleclick.net  \n",
       "15059  firebaseremoteconfig.googleapis.com  \n",
       "15004             settings.crashlytics.com  \n",
       "15060                     music.amazon.com  \n",
       "15064                       api.amazon.com  "
      ]
     },
     "execution_count": 29,
     "metadata": {},
     "output_type": "execute_result"
    }
   ],
   "source": [
    "amazon_1000ch = get_mitm_stats(CrawlFireTVTop1KMITM)\n",
    "amazon_1000ch.head(10)"
   ]
  },
  {
   "cell_type": "code",
   "execution_count": null,
   "metadata": {},
   "outputs": [],
   "source": []
  }
 ],
 "metadata": {
  "kernelspec": {
   "display_name": "Python 2",
   "language": "python",
   "name": "python2"
  },
  "language_info": {
   "codemirror_mode": {
    "name": "ipython",
    "version": 3
   },
   "file_extension": ".py",
   "mimetype": "text/x-python",
   "name": "python",
   "nbconvert_exporter": "python",
   "pygments_lexer": "ipython3",
   "version": "3.6.8"
  }
 },
 "nbformat": 4,
 "nbformat_minor": 4
}
