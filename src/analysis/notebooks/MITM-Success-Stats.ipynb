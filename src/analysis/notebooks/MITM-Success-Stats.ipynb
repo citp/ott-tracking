{
 "cells": [
  {
   "cell_type": "code",
   "execution_count": 1,
   "metadata": {},
   "outputs": [],
   "source": [
    "from df_utils import load_df\n",
    "from crawl_ids import CrawlRokuMITM, CrawlFireTVMITM, CrawlFireTVTop1KMITM, CrawlRokuTop1KMITM"
   ]
  },
  {
   "cell_type": "markdown",
   "metadata": {},
   "source": [
    "## MITMed connections - Roku"
   ]
  },
  {
   "cell_type": "code",
   "execution_count": 6,
   "metadata": {},
   "outputs": [
    {
     "name": "stdout",
     "output_type": "stream",
     "text": [
      "(135, \"requests intercepted/MITM'ed (Roku)\")\n",
      "(9, 6)\n"
     ]
    }
   ],
   "source": [
    "http_roku = load_df(CrawlRokuMITM, \"http_req\")\n",
    "intercepted_roku = http_roku[http_roku.tcp_dstport == 443]\n",
    "print(len(intercepted_roku), \"requests intercepted/MITM'ed (Roku)\")\n",
    "print(intercepted_roku.host.nunique(), intercepted_roku.channel_id.nunique())"
   ]
  },
  {
   "cell_type": "code",
   "execution_count": 7,
   "metadata": {},
   "outputs": [
    {
     "data": {
      "text/html": [
       "<div>\n",
       "<style scoped>\n",
       "    .dataframe tbody tr th:only-of-type {\n",
       "        vertical-align: middle;\n",
       "    }\n",
       "\n",
       "    .dataframe tbody tr th {\n",
       "        vertical-align: top;\n",
       "    }\n",
       "\n",
       "    .dataframe thead th {\n",
       "        text-align: right;\n",
       "    }\n",
       "</style>\n",
       "<table border=\"1\" class=\"dataframe\">\n",
       "  <thead>\n",
       "    <tr style=\"text-align: right;\">\n",
       "      <th></th>\n",
       "      <th>channel_name</th>\n",
       "      <th>rank</th>\n",
       "      <th>host</th>\n",
       "    </tr>\n",
       "  </thead>\n",
       "  <tbody>\n",
       "    <tr>\n",
       "      <th>3035</th>\n",
       "      <td>Fox News Channel</td>\n",
       "      <td>35</td>\n",
       "      <td>api.segment.io</td>\n",
       "    </tr>\n",
       "    <tr>\n",
       "      <th>2986</th>\n",
       "      <td>fuboTV Watch Live Sports &amp; TV</td>\n",
       "      <td>43</td>\n",
       "      <td>api.segment.io</td>\n",
       "    </tr>\n",
       "    <tr>\n",
       "      <th>2987</th>\n",
       "      <td>fuboTV Watch Live Sports &amp; TV</td>\n",
       "      <td>43</td>\n",
       "      <td>api.fubo.tv</td>\n",
       "    </tr>\n",
       "    <tr>\n",
       "      <th>2988</th>\n",
       "      <td>fuboTV Watch Live Sports &amp; TV</td>\n",
       "      <td>43</td>\n",
       "      <td>app.launchdarkly.com</td>\n",
       "    </tr>\n",
       "    <tr>\n",
       "      <th>957</th>\n",
       "      <td>Newsy</td>\n",
       "      <td>45</td>\n",
       "      <td>cloudapi.imrworldwide.com</td>\n",
       "    </tr>\n",
       "    <tr>\n",
       "      <th>2134</th>\n",
       "      <td>Haystack TV Local &amp; World News</td>\n",
       "      <td>75</td>\n",
       "      <td>www.haystack.tv</td>\n",
       "    </tr>\n",
       "    <tr>\n",
       "      <th>2135</th>\n",
       "      <td>Haystack TV Local &amp; World News</td>\n",
       "      <td>75</td>\n",
       "      <td>haystackvideo.herokuapp.com</td>\n",
       "    </tr>\n",
       "    <tr>\n",
       "      <th>3149</th>\n",
       "      <td>WWE Network</td>\n",
       "      <td>78</td>\n",
       "      <td>cde-cops-wwe-prod.us-east-1.bamgrid.com</td>\n",
       "    </tr>\n",
       "    <tr>\n",
       "      <th>1707</th>\n",
       "      <td>NBA</td>\n",
       "      <td>80</td>\n",
       "      <td>www.nba.com</td>\n",
       "    </tr>\n",
       "    <tr>\n",
       "      <th>1723</th>\n",
       "      <td>NBA</td>\n",
       "      <td>80</td>\n",
       "      <td>geo.ngtv.io</td>\n",
       "    </tr>\n",
       "  </tbody>\n",
       "</table>\n",
       "</div>"
      ],
      "text/plain": [
       "                        channel_name  rank  \\\n",
       "3035                Fox News Channel    35   \n",
       "2986   fuboTV Watch Live Sports & TV    43   \n",
       "2987   fuboTV Watch Live Sports & TV    43   \n",
       "2988   fuboTV Watch Live Sports & TV    43   \n",
       "957                            Newsy    45   \n",
       "2134  Haystack TV Local & World News    75   \n",
       "2135  Haystack TV Local & World News    75   \n",
       "3149                     WWE Network    78   \n",
       "1707                             NBA    80   \n",
       "1723                             NBA    80   \n",
       "\n",
       "                                         host  \n",
       "3035                           api.segment.io  \n",
       "2986                           api.segment.io  \n",
       "2987                              api.fubo.tv  \n",
       "2988                     app.launchdarkly.com  \n",
       "957                 cloudapi.imrworldwide.com  \n",
       "2134                          www.haystack.tv  \n",
       "2135              haystackvideo.herokuapp.com  \n",
       "3149  cde-cops-wwe-prod.us-east-1.bamgrid.com  \n",
       "1707                              www.nba.com  \n",
       "1723                              geo.ngtv.io  "
      ]
     },
     "execution_count": 7,
     "metadata": {},
     "output_type": "execute_result"
    }
   ],
   "source": [
    "df = intercepted_roku.drop_duplicates(['channel_id', 'host'])[['channel_name', 'rank', 'host']].sort_values('rank')\n",
    "df"
   ]
  },
  {
   "cell_type": "markdown",
   "metadata": {},
   "source": [
    "### Roku 1K MITM crawl (finished after the paper)\n",
    "- TODO: consider updating the table in the paper with data from the 1K crawl"
   ]
  },
  {
   "cell_type": "code",
   "execution_count": 9,
   "metadata": {},
   "outputs": [
    {
     "name": "stdout",
     "output_type": "stream",
     "text": [
      "(2472, \"requests intercepted/MITM'ed (Roku)\")\n",
      "(34, 43)\n"
     ]
    }
   ],
   "source": [
    "http_roku = load_df(CrawlRokuTop1KMITM, \"http_req\")\n",
    "intercepted_roku = http_roku[http_roku.tcp_dstport == 443]\n",
    "print(len(intercepted_roku), \"requests intercepted/MITM'ed (Roku)\")\n",
    "print(intercepted_roku.host.nunique(), intercepted_roku.channel_id.nunique())"
   ]
  },
  {
   "cell_type": "code",
   "execution_count": 10,
   "metadata": {},
   "outputs": [
    {
     "data": {
      "text/html": [
       "<div>\n",
       "<style scoped>\n",
       "    .dataframe tbody tr th:only-of-type {\n",
       "        vertical-align: middle;\n",
       "    }\n",
       "\n",
       "    .dataframe tbody tr th {\n",
       "        vertical-align: top;\n",
       "    }\n",
       "\n",
       "    .dataframe thead th {\n",
       "        text-align: right;\n",
       "    }\n",
       "</style>\n",
       "<table border=\"1\" class=\"dataframe\">\n",
       "  <thead>\n",
       "    <tr style=\"text-align: right;\">\n",
       "      <th></th>\n",
       "      <th>channel_name</th>\n",
       "      <th>rank</th>\n",
       "      <th>host</th>\n",
       "    </tr>\n",
       "  </thead>\n",
       "  <tbody>\n",
       "    <tr>\n",
       "      <th>40787</th>\n",
       "      <td>DIRECTV NOW</td>\n",
       "      <td>7</td>\n",
       "      <td>api.cld.dtvce.com</td>\n",
       "    </tr>\n",
       "    <tr>\n",
       "      <th>68828</th>\n",
       "      <td>VUDU</td>\n",
       "      <td>15</td>\n",
       "      <td>apicache.vudu.com</td>\n",
       "    </tr>\n",
       "    <tr>\n",
       "      <th>68805</th>\n",
       "      <td>VUDU</td>\n",
       "      <td>15</td>\n",
       "      <td>vudu.d1.sc.omtrdc.net</td>\n",
       "    </tr>\n",
       "    <tr>\n",
       "      <th>66060</th>\n",
       "      <td>NBC</td>\n",
       "      <td>19</td>\n",
       "      <td>ws-cloudpath.media.nbcuni.com</td>\n",
       "    </tr>\n",
       "    <tr>\n",
       "      <th>24275</th>\n",
       "      <td>Fox News Channel</td>\n",
       "      <td>35</td>\n",
       "      <td>api.segment.io</td>\n",
       "    </tr>\n",
       "    <tr>\n",
       "      <th>68141</th>\n",
       "      <td>fuboTV Watch Live Sports &amp; TV</td>\n",
       "      <td>43</td>\n",
       "      <td>api.fubo.tv</td>\n",
       "    </tr>\n",
       "    <tr>\n",
       "      <th>68142</th>\n",
       "      <td>fuboTV Watch Live Sports &amp; TV</td>\n",
       "      <td>43</td>\n",
       "      <td>api.segment.io</td>\n",
       "    </tr>\n",
       "    <tr>\n",
       "      <th>68144</th>\n",
       "      <td>fuboTV Watch Live Sports &amp; TV</td>\n",
       "      <td>43</td>\n",
       "      <td>app.launchdarkly.com</td>\n",
       "    </tr>\n",
       "    <tr>\n",
       "      <th>57598</th>\n",
       "      <td>Newsy</td>\n",
       "      <td>45</td>\n",
       "      <td>cloudapi.imrworldwide.com</td>\n",
       "    </tr>\n",
       "    <tr>\n",
       "      <th>46715</th>\n",
       "      <td>MTV</td>\n",
       "      <td>54</td>\n",
       "      <td>auth.mtvnservices.com</td>\n",
       "    </tr>\n",
       "  </tbody>\n",
       "</table>\n",
       "</div>"
      ],
      "text/plain": [
       "                        channel_name  rank                           host\n",
       "40787                    DIRECTV NOW     7              api.cld.dtvce.com\n",
       "68828                           VUDU    15              apicache.vudu.com\n",
       "68805                           VUDU    15          vudu.d1.sc.omtrdc.net\n",
       "66060                            NBC    19  ws-cloudpath.media.nbcuni.com\n",
       "24275               Fox News Channel    35                 api.segment.io\n",
       "68141  fuboTV Watch Live Sports & TV    43                    api.fubo.tv\n",
       "68142  fuboTV Watch Live Sports & TV    43                 api.segment.io\n",
       "68144  fuboTV Watch Live Sports & TV    43           app.launchdarkly.com\n",
       "57598                          Newsy    45      cloudapi.imrworldwide.com\n",
       "46715                            MTV    54          auth.mtvnservices.com"
      ]
     },
     "execution_count": 10,
     "metadata": {},
     "output_type": "execute_result"
    }
   ],
   "source": [
    "df = intercepted_roku.drop_duplicates(['channel_id', 'host'])[['channel_name', 'rank', 'host']].sort_values('rank')\n",
    "df.head(10)"
   ]
  },
  {
   "cell_type": "code",
   "execution_count": 7,
   "metadata": {},
   "outputs": [
    {
     "name": "stdout",
     "output_type": "stream",
     "text": [
      "\n",
      "\\begin{table}[H]\n",
      "%\\centering\n",
      "%\\resizebox{\\columnwidth}{!}{%\n",
      "\\begin{tabular}{lrl}\n",
      "\\toprule\n",
      " Channel name                   &   Rank & Host                                    \\\\\n",
      "\\midrule\n",
      " Fox News Channel               &     35 & api.segment.io                          \\\\\n",
      " fuboTV Watch Live Sports \\& TV  &     43 & api.segment.io                          \\\\\n",
      " fuboTV Watch Live Sports \\& TV  &     43 & api.fubo.tv                             \\\\\n",
      " fuboTV Watch Live Sports \\& TV  &     43 & app.launchdarkly.com                    \\\\\n",
      " Newsy                          &     45 & cloudapi.imrworldwide.com               \\\\\n",
      " Haystack TV Local \\& World News &     75 & www.haystack.tv                         \\\\\n",
      " Haystack TV Local \\& World News &     75 & haystackvideo.herokuapp.com             \\\\\n",
      " WWE Network                    &     78 & cde-cops-wwe-prod.us-east-1.bamgrid.com \\\\\n",
      " NBA                            &     80 & www.nba.com                             \\\\\n",
      " NBA                            &     80 & geo.ngtv.io                             \\\\\n",
      "\\bottomrule\n",
      "\\end{tabular}\n",
      "%}\n",
      "\\caption{TLS Connections intercepted and decrypted by our smart mitmproxy}\n",
      "\\label{tab:tab:mitmed_roku}\n",
      "\\end{table}\n"
     ]
    }
   ],
   "source": [
    "from nb_utils import make_latex_table\n",
    "print(make_latex_table(df,\n",
    "                       caption=\"TLS Connections intercepted and decrypted by our smart mitmproxy\",\n",
    "                       label=\"tab:mitmed_roku\"))\n"
   ]
  },
  {
   "cell_type": "markdown",
   "metadata": {},
   "source": [
    "## MITMed connections - Amazon\n",
    "- based on 1K crawl "
   ]
  },
  {
   "cell_type": "code",
   "execution_count": 13,
   "metadata": {},
   "outputs": [
    {
     "name": "stdout",
     "output_type": "stream",
     "text": [
      "68040 requests intercepted/MITM'ed (Amazon)\n",
      "1721 785 957\n"
     ]
    }
   ],
   "source": [
    "http_amazon = load_df(CrawlFireTVTop1KMITM, \"http_req\")\n",
    "intercepted_amazon = http_amazon[http_amazon.tcp_dstport == 443]\n",
    "len(intercepted_amazon)\n",
    "print(len(intercepted_amazon), \"requests intercepted/MITM'ed (Amazon)\")\n",
    "print(intercepted_amazon.host.nunique(), intercepted_amazon.req_domain.nunique(), intercepted_amazon.channel_id.nunique())"
   ]
  },
  {
   "cell_type": "code",
   "execution_count": 14,
   "metadata": {},
   "outputs": [
    {
     "data": {
      "text/html": [
       "<div>\n",
       "<style scoped>\n",
       "    .dataframe tbody tr th:only-of-type {\n",
       "        vertical-align: middle;\n",
       "    }\n",
       "\n",
       "    .dataframe tbody tr th {\n",
       "        vertical-align: top;\n",
       "    }\n",
       "\n",
       "    .dataframe thead th {\n",
       "        text-align: right;\n",
       "    }\n",
       "</style>\n",
       "<table border=\"1\" class=\"dataframe\">\n",
       "  <thead>\n",
       "    <tr style=\"text-align: right;\">\n",
       "      <th></th>\n",
       "      <th>channel_name</th>\n",
       "      <th>rank</th>\n",
       "      <th>host</th>\n",
       "    </tr>\n",
       "  </thead>\n",
       "  <tbody>\n",
       "    <tr>\n",
       "      <th>15002</th>\n",
       "      <td>Tubi - Watch Free Movies &amp;amp; TV Shows</td>\n",
       "      <td>1</td>\n",
       "      <td>graph.facebook.com</td>\n",
       "    </tr>\n",
       "    <tr>\n",
       "      <th>58251</th>\n",
       "      <td>AMC</td>\n",
       "      <td>2</td>\n",
       "      <td>device-metrics-us.amazon.com</td>\n",
       "    </tr>\n",
       "    <tr>\n",
       "      <th>51080</th>\n",
       "      <td>Firefox for Fire TV</td>\n",
       "      <td>3</td>\n",
       "      <td>msh.amazon.com</td>\n",
       "    </tr>\n",
       "    <tr>\n",
       "      <th>13346</th>\n",
       "      <td>Downloader</td>\n",
       "      <td>4</td>\n",
       "      <td>notify.firetv.bugsnag.appstore.a2z.com</td>\n",
       "    </tr>\n",
       "    <tr>\n",
       "      <th>41249</th>\n",
       "      <td>HBO GO</td>\n",
       "      <td>5</td>\n",
       "      <td>dna.amazon.com</td>\n",
       "    </tr>\n",
       "    <tr>\n",
       "      <th>21492</th>\n",
       "      <td>DAZN</td>\n",
       "      <td>6</td>\n",
       "      <td>notify.firetv.bugsnag.appstore.a2z.com</td>\n",
       "    </tr>\n",
       "    <tr>\n",
       "      <th>16745</th>\n",
       "      <td>NBC</td>\n",
       "      <td>7</td>\n",
       "      <td>msh.amazon.com</td>\n",
       "    </tr>\n",
       "    <tr>\n",
       "      <th>13818</th>\n",
       "      <td>Pluto TV - It&amp;#39;s Free TV</td>\n",
       "      <td>8</td>\n",
       "      <td>device-messaging-na.amazon.com</td>\n",
       "    </tr>\n",
       "    <tr>\n",
       "      <th>77985</th>\n",
       "      <td>HBO NOW: Stream TV &amp;amp; Movies</td>\n",
       "      <td>9</td>\n",
       "      <td>prime.amazon.com</td>\n",
       "    </tr>\n",
       "    <tr>\n",
       "      <th>4309</th>\n",
       "      <td>Spotify Music - for Fire TV</td>\n",
       "      <td>10</td>\n",
       "      <td>settings.crashlytics.com</td>\n",
       "    </tr>\n",
       "  </tbody>\n",
       "</table>\n",
       "</div>"
      ],
      "text/plain": [
       "                                  channel_name  rank  \\\n",
       "15002  Tubi - Watch Free Movies &amp; TV Shows     1   \n",
       "58251                                      AMC     2   \n",
       "51080                      Firefox for Fire TV     3   \n",
       "13346                               Downloader     4   \n",
       "41249                                   HBO GO     5   \n",
       "21492                                     DAZN     6   \n",
       "16745                                      NBC     7   \n",
       "13818              Pluto TV - It&#39;s Free TV     8   \n",
       "77985          HBO NOW: Stream TV &amp; Movies     9   \n",
       "4309               Spotify Music - for Fire TV    10   \n",
       "\n",
       "                                         host  \n",
       "15002                      graph.facebook.com  \n",
       "58251            device-metrics-us.amazon.com  \n",
       "51080                          msh.amazon.com  \n",
       "13346  notify.firetv.bugsnag.appstore.a2z.com  \n",
       "41249                          dna.amazon.com  \n",
       "21492  notify.firetv.bugsnag.appstore.a2z.com  \n",
       "16745                          msh.amazon.com  \n",
       "13818          device-messaging-na.amazon.com  \n",
       "77985                        prime.amazon.com  \n",
       "4309                 settings.crashlytics.com  "
      ]
     },
     "execution_count": 14,
     "metadata": {},
     "output_type": "execute_result"
    }
   ],
   "source": [
    "df = intercepted_amazon.drop_duplicates(['channel_id'])[['channel_name', 'rank', 'host']].sort_values('rank').head(10)\n",
    "df"
   ]
  },
  {
   "cell_type": "code",
   "execution_count": 44,
   "metadata": {},
   "outputs": [
    {
     "name": "stdout",
     "output_type": "stream",
     "text": [
      "\n",
      "\\begin{table}[H]\n",
      "%\\centering\n",
      "\\resizebox{\\columnwidth}{!}{%\n",
      "\\begin{tabular}{lrl}\n",
      "\\toprule\n",
      " Channel name                            &   Rank & Host                           \\\\\n",
      "\\midrule\n",
      " Tubi - Watch Free Movies \\&amp; TV Shows &      1 & device-metrics-us.amazon.com   \\\\\n",
      " AMC                                     &      2 & settings.crashlytics.com       \\\\\n",
      " Beachbody On Demand                     &      4 & prime.amazon.com               \\\\\n",
      " HBO GO                                  &      5 & msh.amazon.com                 \\\\\n",
      " NBC                                     &      7 & prime.amazon.com               \\\\\n",
      " Pluto TV - It\\&\\#39;s Free TV             &      8 & settings.crashlytics.com       \\\\\n",
      " HBO NOW: Stream TV \\&amp; Movies         &      9 & comet.api.hbo.com              \\\\\n",
      " CBS Full Episodes and Live TV           &     11 & graph.facebook.com             \\\\\n",
      " The CW on Fire TV                       &     12 & settings.crashlytics.com       \\\\\n",
      " FOX NOW: Watch TV Live \\&amp; On Demand  &     15 & appstore-tv-prod-na.amazon.com \\\\\n",
      "\\bottomrule\n",
      "\\end{tabular}\n",
      "}\n",
      "\\caption{Top channels where TLS Connections intercepted and decrypted by our smart mitmproxy (Fire TV)}\n",
      "\\label{tab:tab:mitmed_amazon}\n",
      "\\end{table}\n"
     ]
    }
   ],
   "source": [
    "print(make_latex_table(df,\n",
    "                 caption=\"Top channels where TLS Connections intercepted and decrypted by our smart mitmproxy (Fire TV)\",\n",
    "                 label=\"tab:mitmed_amazon\"))\n"
   ]
  },
  {
   "cell_type": "code",
   "execution_count": null,
   "metadata": {},
   "outputs": [],
   "source": []
  }
 ],
 "metadata": {
  "kernelspec": {
   "display_name": "Python 2",
   "language": "python",
   "name": "python2"
  },
  "language_info": {
   "codemirror_mode": {
    "name": "ipython",
    "version": 2
   },
   "file_extension": ".py",
   "mimetype": "text/x-python",
   "name": "python",
   "nbconvert_exporter": "python",
   "pygments_lexer": "ipython2",
   "version": "2.7.15rc1"
  }
 },
 "nbformat": 4,
 "nbformat_minor": 2
}
