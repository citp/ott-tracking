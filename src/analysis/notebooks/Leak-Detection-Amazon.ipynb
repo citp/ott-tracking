{
 "cells": [
  {
   "cell_type": "code",
   "execution_count": 2,
   "metadata": {},
   "outputs": [],
   "source": [
    "import LeakDetector\n",
    "import numpy as np\n",
    "import pandas as pd\n",
    "from os.path import isdir, join, basename\n",
    "from datetime import datetime\n",
    "from glob import \n"
   ]
  },
  {
   "cell_type": "code",
   "execution_count": 7,
   "metadata": {},
   "outputs": [],
   "source": [
    "from device_ids import TV_ID_MAP, TV_ID_MAP_V1\n",
    "from log_analysis import get_crawl_parameter, get_crawl_data_path, get_ott_device_mac\n",
    "from crawl_ids import CrawlRokuTop1KNoMITM, CrawlFireTVTop1KNoMITM, CrawlFireTVTop1KMITM\n",
    "from df_utils import load_df\n",
    "from nb_utils import make_latex_table, get_popular_domains_from_reqs\n",
    "from ott_leaks import run_leak_detection, DEVICE_ID_NAMES, print_leak_stats, remove_ch_name_url_false_positives\n",
    "pd.set_option('display.max_columns', 500)"
   ]
  },
  {
   "cell_type": "markdown",
   "metadata": {},
   "source": [
    "## Load leaks\n",
    "- Run the following to detect and pickle leaks\n",
    "  - Detect on all crawls: `python2 detect_leaks.py`\n",
    "  - Detect on a single crawl: `python2 detect_leaks.py roku-data-20190508-013650`"
   ]
  },
  {
   "cell_type": "code",
   "execution_count": 4,
   "metadata": {},
   "outputs": [
    {
     "data": {
      "text/html": [
       "<div>\n",
       "<style scoped>\n",
       "    .dataframe tbody tr th:only-of-type {\n",
       "        vertical-align: middle;\n",
       "    }\n",
       "\n",
       "    .dataframe tbody tr th {\n",
       "        vertical-align: top;\n",
       "    }\n",
       "\n",
       "    .dataframe thead th {\n",
       "        text-align: right;\n",
       "    }\n",
       "</style>\n",
       "<table border=\"1\" class=\"dataframe\">\n",
       "  <thead>\n",
       "    <tr style=\"text-align: right;\">\n",
       "      <th></th>\n",
       "      <th>ID</th>\n",
       "      <th>Num. of leaks</th>\n",
       "      <th>Num. of channels</th>\n",
       "    </tr>\n",
       "  </thead>\n",
       "  <tbody>\n",
       "    <tr>\n",
       "      <th>0</th>\n",
       "      <td>Android ID</td>\n",
       "      <td>3856</td>\n",
       "      <td>394</td>\n",
       "    </tr>\n",
       "    <tr>\n",
       "      <th>1</th>\n",
       "      <td>MAC</td>\n",
       "      <td>138</td>\n",
       "      <td>52</td>\n",
       "    </tr>\n",
       "    <tr>\n",
       "      <th>2</th>\n",
       "      <td>Serial No</td>\n",
       "      <td>377</td>\n",
       "      <td>105</td>\n",
       "    </tr>\n",
       "    <tr>\n",
       "      <th>3</th>\n",
       "      <td>Device name</td>\n",
       "      <td>64</td>\n",
       "      <td>40</td>\n",
       "    </tr>\n",
       "    <tr>\n",
       "      <th>4</th>\n",
       "      <td>AD ID</td>\n",
       "      <td>953</td>\n",
       "      <td>221</td>\n",
       "    </tr>\n",
       "    <tr>\n",
       "      <th>5</th>\n",
       "      <td>Zip</td>\n",
       "      <td>190</td>\n",
       "      <td>28</td>\n",
       "    </tr>\n",
       "    <tr>\n",
       "      <th>6</th>\n",
       "      <td>City</td>\n",
       "      <td>285</td>\n",
       "      <td>26</td>\n",
       "    </tr>\n",
       "    <tr>\n",
       "      <th>7</th>\n",
       "      <td>Wifi SSID</td>\n",
       "      <td>204</td>\n",
       "      <td>21</td>\n",
       "    </tr>\n",
       "    <tr>\n",
       "      <th>8</th>\n",
       "      <td>Channel name</td>\n",
       "      <td>5248</td>\n",
       "      <td>223</td>\n",
       "    </tr>\n",
       "    <tr>\n",
       "      <th>9</th>\n",
       "      <td>State</td>\n",
       "      <td>67</td>\n",
       "      <td>12</td>\n",
       "    </tr>\n",
       "  </tbody>\n",
       "</table>\n",
       "</div>"
      ],
      "text/plain": [
       "             ID  Num. of leaks  Num. of channels\n",
       "0    Android ID           3856               394\n",
       "1           MAC            138                52\n",
       "2     Serial No            377               105\n",
       "3   Device name             64                40\n",
       "4         AD ID            953               221\n",
       "5           Zip            190                28\n",
       "6          City            285                26\n",
       "7     Wifi SSID            204                21\n",
       "8  Channel name           5248               223\n",
       "9         State             67                12"
      ]
     },
     "execution_count": 4,
     "metadata": {},
     "output_type": "execute_result"
    }
   ],
   "source": [
    "leaks_fire = load_df(CrawlFireTVTop1KMITM, \"leak\")\n",
    "AMAZON_DOMAINS = [\"amazon.com\", \"amazonvideo.com\"]\n",
    "leaks_fire = leaks_fire[~leaks_fire.req_domain.isin(AMAZON_DOMAINS)]\n",
    "\n",
    "id_leaks_fire = leaks_fire[leaks_fire.id_type.isin(DEVICE_ID_NAMES)]\n",
    "df = print_leak_stats(leaks_fire)\n",
    "df"
   ]
  },
  {
   "cell_type": "code",
   "execution_count": 5,
   "metadata": {},
   "outputs": [
    {
     "name": "stdout",
     "output_type": "stream",
     "text": [
      "\n",
      "\\begin{table}[H]\n",
      "%\\centering\n",
      "%\\resizebox{\\columnwidth}{!}{%\n",
      "\\begin{tabular}{lrr}\n",
      "\\toprule\n",
      " Id           &   Num. of leaks &   Num. of channels \\\\\n",
      "\\midrule\n",
      " Android ID   &            3856 &                394 \\\\\n",
      " MAC          &             138 &                 52 \\\\\n",
      " Serial No    &             377 &                105 \\\\\n",
      " Device name  &              64 &                 40 \\\\\n",
      " AD ID        &             953 &                221 \\\\\n",
      " Zip          &             190 &                 28 \\\\\n",
      " City         &             285 &                 26 \\\\\n",
      " Wifi SSID    &             204 &                 21 \\\\\n",
      " Channel name &            5248 &                223 \\\\\n",
      " State        &              67 &                 12 \\\\\n",
      "\\bottomrule\n",
      "\\end{tabular}\n",
      "%}\n",
      "\\caption{caption}\n",
      "\\label{tab:LABEL}\n",
      "\\end{table}\n"
     ]
    }
   ],
   "source": [
    "print(make_latex_table(df))"
   ]
  },
  {
   "cell_type": "code",
   "execution_count": 8,
   "metadata": {},
   "outputs": [],
   "source": [
    "# Sanity check \n",
    "# Make sure the number \n",
    "http_req = load_df(CrawlFireTVTop1KMITM, \"http_req\")\n",
    "http_req = http_req[~http_req.req_domain.isin(AMAZON_DOMAINS)]\n",
    "crawl_data_dir = get_crawl_data_path(CrawlFireTVTop1KMITM)\n",
    "device_ids = TV_ID_MAP_V1[get_ott_device_mac(crawl_data_dir)]"
   ]
  },
  {
   "cell_type": "code",
   "execution_count": 9,
   "metadata": {},
   "outputs": [
    {
     "name": "stderr",
     "output_type": "stream",
     "text": [
      "/usr/local/lib/python2.7/dist-packages/ipykernel_launcher.py:10: UserWarning: This pattern has match groups. To actually get the groups, use str.extract.\n",
      "  # Remove the CWD from sys.path while we load stuff.\n"
     ]
    }
   ],
   "source": [
    "from urlparse import urlparse\n",
    "http_req['path'] = http_req.url.map(lambda x: urlparse(x).path + urlparse(x).params + urlparse(x).query + urlparse(x).fragment)\n",
    "\n",
    "http_req['path_upper'] = http_req.path.map(lambda x: x.upper())\n",
    "http_req['path_lower'] = http_req.path.map(lambda x: x.lower())\n",
    "\n",
    "for id_type, id_value in device_ids.items():\n",
    "    if id_type == 'Channel name':\n",
    "        continue\n",
    "    id_in_urls = http_req[http_req.path.str.contains(id_value) | http_req.path_lower.str.contains(id_value.lower()) | http_req.path_upper.str.contains(id_value.upper())]\n",
    "    id_url_leaks = leaks_fire[(leaks_fire.id_type==id_type) & (leaks_fire.leak_type==\"url_leaks\") & (leaks_fire.encoding==\"unencoded\")]\n",
    "    assert set(id_in_urls.url.unique()) == set(id_url_leaks.url.unique())\n"
   ]
  },
  {
   "cell_type": "code",
   "execution_count": 10,
   "metadata": {},
   "outputs": [
    {
     "data": {
      "text/html": [
       "<div>\n",
       "<style scoped>\n",
       "    .dataframe tbody tr th:only-of-type {\n",
       "        vertical-align: middle;\n",
       "    }\n",
       "\n",
       "    .dataframe tbody tr th {\n",
       "        vertical-align: top;\n",
       "    }\n",
       "\n",
       "    .dataframe thead th {\n",
       "        text-align: right;\n",
       "    }\n",
       "</style>\n",
       "<table border=\"1\" class=\"dataframe\">\n",
       "  <thead>\n",
       "    <tr style=\"text-align: right;\">\n",
       "      <th></th>\n",
       "      <th>ID</th>\n",
       "      <th>Num. of leaks</th>\n",
       "      <th>Num. of channels</th>\n",
       "    </tr>\n",
       "  </thead>\n",
       "  <tbody>\n",
       "    <tr>\n",
       "      <th>0</th>\n",
       "      <td>MAC</td>\n",
       "      <td>138</td>\n",
       "      <td>52</td>\n",
       "    </tr>\n",
       "    <tr>\n",
       "      <th>1</th>\n",
       "      <td>Serial No</td>\n",
       "      <td>377</td>\n",
       "      <td>105</td>\n",
       "    </tr>\n",
       "    <tr>\n",
       "      <th>2</th>\n",
       "      <td>Device name</td>\n",
       "      <td>64</td>\n",
       "      <td>40</td>\n",
       "    </tr>\n",
       "    <tr>\n",
       "      <th>3</th>\n",
       "      <td>AD ID</td>\n",
       "      <td>953</td>\n",
       "      <td>221</td>\n",
       "    </tr>\n",
       "    <tr>\n",
       "      <th>4</th>\n",
       "      <td>Wifi SSID</td>\n",
       "      <td>204</td>\n",
       "      <td>21</td>\n",
       "    </tr>\n",
       "  </tbody>\n",
       "</table>\n",
       "</div>"
      ],
      "text/plain": [
       "            ID  Num. of leaks  Num. of channels\n",
       "0          MAC            138                52\n",
       "1    Serial No            377               105\n",
       "2  Device name             64                40\n",
       "3        AD ID            953               221\n",
       "4    Wifi SSID            204                21"
      ]
     },
     "execution_count": 10,
     "metadata": {},
     "output_type": "execute_result"
    }
   ],
   "source": [
    "df = print_leak_stats(id_leaks_fire)\n",
    "df"
   ]
  },
  {
   "cell_type": "code",
   "execution_count": null,
   "metadata": {},
   "outputs": [],
   "source": []
  },
  {
   "cell_type": "code",
   "execution_count": 11,
   "metadata": {},
   "outputs": [
    {
     "data": {
      "text/html": [
       "<div>\n",
       "<style scoped>\n",
       "    .dataframe tbody tr th:only-of-type {\n",
       "        vertical-align: middle;\n",
       "    }\n",
       "\n",
       "    .dataframe tbody tr th {\n",
       "        vertical-align: top;\n",
       "    }\n",
       "\n",
       "    .dataframe thead th {\n",
       "        text-align: right;\n",
       "    }\n",
       "</style>\n",
       "<table border=\"1\" class=\"dataframe\">\n",
       "  <thead>\n",
       "    <tr style=\"text-align: right;\">\n",
       "      <th></th>\n",
       "      <th>adblocked</th>\n",
       "      <th>adblocked_by_url</th>\n",
       "      <th>category</th>\n",
       "      <th>channel_id</th>\n",
       "      <th>channel_name</th>\n",
       "      <th>cookie</th>\n",
       "      <th>decoded_data</th>\n",
       "      <th>disconnect_blocked</th>\n",
       "      <th>disconnect_blocked_by_url</th>\n",
       "      <th>domain_by_dns</th>\n",
       "      <th>easylist_blocked</th>\n",
       "      <th>easylist_blocked_by_url</th>\n",
       "      <th>easyprivacy_blocked</th>\n",
       "      <th>easyprivacy_blocked_by_url</th>\n",
       "      <th>encoding</th>\n",
       "      <th>ghostery_blocked</th>\n",
       "      <th>ghostery_blocked_by_url</th>\n",
       "      <th>host</th>\n",
       "      <th>host_by_dns</th>\n",
       "      <th>http2</th>\n",
       "      <th>http2_type</th>\n",
       "      <th>id_leak</th>\n",
       "      <th>id_type</th>\n",
       "      <th>ip_dst</th>\n",
       "      <th>leak_type</th>\n",
       "      <th>method</th>\n",
       "      <th>pihole_blocked</th>\n",
       "      <th>pihole_blocked_by_url</th>\n",
       "      <th>playback</th>\n",
       "      <th>post_data</th>\n",
       "      <th>rank</th>\n",
       "      <th>referer</th>\n",
       "      <th>req_domain</th>\n",
       "      <th>search</th>\n",
       "      <th>status</th>\n",
       "      <th>tcp_dstport</th>\n",
       "      <th>tcp_stream</th>\n",
       "      <th>time</th>\n",
       "      <th>url</th>\n",
       "      <th>user_agent</th>\n",
       "    </tr>\n",
       "  </thead>\n",
       "  <tbody>\n",
       "    <tr>\n",
       "      <th>0</th>\n",
       "      <td>False</td>\n",
       "      <td>False</td>\n",
       "      <td>Movies &amp; TV</td>\n",
       "      <td>com.jtv.aftv.dovechannel</td>\n",
       "      <td>Dove Channel</td>\n",
       "      <td></td>\n",
       "      <td></td>\n",
       "      <td>False</td>\n",
       "      <td>False</td>\n",
       "      <td></td>\n",
       "      <td>False</td>\n",
       "      <td>False</td>\n",
       "      <td>False</td>\n",
       "      <td>False</td>\n",
       "      <td>unencoded</td>\n",
       "      <td>False</td>\n",
       "      <td>False</td>\n",
       "      <td>54.160.202.71</td>\n",
       "      <td></td>\n",
       "      <td>False</td>\n",
       "      <td></td>\n",
       "      <td>True</td>\n",
       "      <td>AD ID</td>\n",
       "      <td>54.160.202.71</td>\n",
       "      <td>url_leaks</td>\n",
       "      <td>GET</td>\n",
       "      <td>False</td>\n",
       "      <td>False</td>\n",
       "      <td>False</td>\n",
       "      <td></td>\n",
       "      <td>757</td>\n",
       "      <td></td>\n",
       "      <td></td>\n",
       "      <td>c38e2b8a-b9df-460c-851b-f418368ab5ab</td>\n",
       "      <td>TERMINATED</td>\n",
       "      <td>8085</td>\n",
       "      <td>15</td>\n",
       "      <td>1557530184.736239000</td>\n",
       "      <td>http://54.160.202.71:8085/log/reg/dove/93be8fe...</td>\n",
       "      <td></td>\n",
       "    </tr>\n",
       "    <tr>\n",
       "      <th>0</th>\n",
       "      <td>False</td>\n",
       "      <td>False</td>\n",
       "      <td>Movies &amp; TV</td>\n",
       "      <td>com.jtv.aftv.dovechannel</td>\n",
       "      <td>Dove Channel</td>\n",
       "      <td></td>\n",
       "      <td></td>\n",
       "      <td>False</td>\n",
       "      <td>False</td>\n",
       "      <td></td>\n",
       "      <td>False</td>\n",
       "      <td>False</td>\n",
       "      <td>False</td>\n",
       "      <td>False</td>\n",
       "      <td>unencoded</td>\n",
       "      <td>False</td>\n",
       "      <td>False</td>\n",
       "      <td>54.160.202.71</td>\n",
       "      <td></td>\n",
       "      <td>False</td>\n",
       "      <td></td>\n",
       "      <td>True</td>\n",
       "      <td>AD ID</td>\n",
       "      <td>54.160.202.71</td>\n",
       "      <td>url_leaks</td>\n",
       "      <td>GET</td>\n",
       "      <td>False</td>\n",
       "      <td>False</td>\n",
       "      <td>False</td>\n",
       "      <td></td>\n",
       "      <td>757</td>\n",
       "      <td></td>\n",
       "      <td></td>\n",
       "      <td>c38e2b8a-b9df-460c-851b-f418368ab5ab</td>\n",
       "      <td>TERMINATED</td>\n",
       "      <td>8085</td>\n",
       "      <td>13</td>\n",
       "      <td>1557530184.505009000</td>\n",
       "      <td>http://54.160.202.71:8085/log/reg/dove/93be8fe...</td>\n",
       "      <td></td>\n",
       "    </tr>\n",
       "  </tbody>\n",
       "</table>\n",
       "</div>"
      ],
      "text/plain": [
       "   adblocked  adblocked_by_url     category                channel_id  \\\n",
       "0      False             False  Movies & TV  com.jtv.aftv.dovechannel   \n",
       "0      False             False  Movies & TV  com.jtv.aftv.dovechannel   \n",
       "\n",
       "   channel_name cookie decoded_data  disconnect_blocked  \\\n",
       "0  Dove Channel                                   False   \n",
       "0  Dove Channel                                   False   \n",
       "\n",
       "   disconnect_blocked_by_url domain_by_dns  easylist_blocked  \\\n",
       "0                      False                           False   \n",
       "0                      False                           False   \n",
       "\n",
       "   easylist_blocked_by_url  easyprivacy_blocked  easyprivacy_blocked_by_url  \\\n",
       "0                    False                False                       False   \n",
       "0                    False                False                       False   \n",
       "\n",
       "    encoding  ghostery_blocked  ghostery_blocked_by_url           host  \\\n",
       "0  unencoded             False                    False  54.160.202.71   \n",
       "0  unencoded             False                    False  54.160.202.71   \n",
       "\n",
       "  host_by_dns  http2 http2_type id_leak id_type         ip_dst  leak_type  \\\n",
       "0              False               True   AD ID  54.160.202.71  url_leaks   \n",
       "0              False               True   AD ID  54.160.202.71  url_leaks   \n",
       "\n",
       "  method  pihole_blocked  pihole_blocked_by_url  playback post_data  rank  \\\n",
       "0    GET           False                  False     False             757   \n",
       "0    GET           False                  False     False             757   \n",
       "\n",
       "  referer req_domain                                search      status  \\\n",
       "0                     c38e2b8a-b9df-460c-851b-f418368ab5ab  TERMINATED   \n",
       "0                     c38e2b8a-b9df-460c-851b-f418368ab5ab  TERMINATED   \n",
       "\n",
       "   tcp_dstport  tcp_stream                  time  \\\n",
       "0         8085          15  1557530184.736239000   \n",
       "0         8085          13  1557530184.505009000   \n",
       "\n",
       "                                                 url user_agent  \n",
       "0  http://54.160.202.71:8085/log/reg/dove/93be8fe...             \n",
       "0  http://54.160.202.71:8085/log/reg/dove/93be8fe...             "
      ]
     },
     "execution_count": 11,
     "metadata": {},
     "output_type": "execute_result"
    }
   ],
   "source": [
    "id_leaks_fire[id_leaks_fire.req_domain==\"\"]"
   ]
  },
  {
   "cell_type": "code",
   "execution_count": 12,
   "metadata": {},
   "outputs": [
    {
     "data": {
      "text/html": [
       "<div>\n",
       "<style scoped>\n",
       "    .dataframe tbody tr th:only-of-type {\n",
       "        vertical-align: middle;\n",
       "    }\n",
       "\n",
       "    .dataframe tbody tr th {\n",
       "        vertical-align: top;\n",
       "    }\n",
       "\n",
       "    .dataframe thead th {\n",
       "        text-align: right;\n",
       "    }\n",
       "</style>\n",
       "<table border=\"1\" class=\"dataframe\">\n",
       "  <thead>\n",
       "    <tr style=\"text-align: right;\">\n",
       "      <th></th>\n",
       "      <th>req_domain</th>\n",
       "      <th>Num. of channels</th>\n",
       "    </tr>\n",
       "  </thead>\n",
       "  <tbody>\n",
       "    <tr>\n",
       "      <th>28</th>\n",
       "      <td>doubleclick.net</td>\n",
       "      <td>77</td>\n",
       "    </tr>\n",
       "    <tr>\n",
       "      <th>9</th>\n",
       "      <td>amazon-adsystem.com</td>\n",
       "      <td>58</td>\n",
       "    </tr>\n",
       "    <tr>\n",
       "      <th>1</th>\n",
       "      <td>a2z.com</td>\n",
       "      <td>30</td>\n",
       "    </tr>\n",
       "    <tr>\n",
       "      <th>66</th>\n",
       "      <td>ri-mobile.com</td>\n",
       "      <td>20</td>\n",
       "    </tr>\n",
       "    <tr>\n",
       "      <th>68</th>\n",
       "      <td>scorecardresearch.com</td>\n",
       "      <td>20</td>\n",
       "    </tr>\n",
       "    <tr>\n",
       "      <th>36</th>\n",
       "      <td>google-analytics.com</td>\n",
       "      <td>17</td>\n",
       "    </tr>\n",
       "    <tr>\n",
       "      <th>33</th>\n",
       "      <td>execute-api.us-east-1.amazonaws.com</td>\n",
       "      <td>17</td>\n",
       "    </tr>\n",
       "    <tr>\n",
       "      <th>72</th>\n",
       "      <td>spotxchange.com</td>\n",
       "      <td>16</td>\n",
       "    </tr>\n",
       "    <tr>\n",
       "      <th>27</th>\n",
       "      <td>discovery.com</td>\n",
       "      <td>15</td>\n",
       "    </tr>\n",
       "    <tr>\n",
       "      <th>17</th>\n",
       "      <td>bigstar.tv</td>\n",
       "      <td>15</td>\n",
       "    </tr>\n",
       "  </tbody>\n",
       "</table>\n",
       "</div>"
      ],
      "text/plain": [
       "                             req_domain  Num. of channels\n",
       "28                      doubleclick.net                77\n",
       "9                   amazon-adsystem.com                58\n",
       "1                               a2z.com                30\n",
       "66                        ri-mobile.com                20\n",
       "68                scorecardresearch.com                20\n",
       "36                 google-analytics.com                17\n",
       "33  execute-api.us-east-1.amazonaws.com                17\n",
       "72                      spotxchange.com                16\n",
       "27                        discovery.com                15\n",
       "17                           bigstar.tv                15"
      ]
     },
     "execution_count": 12,
     "metadata": {},
     "output_type": "execute_result"
    }
   ],
   "source": [
    "get_popular_domains_from_reqs(id_leaks_fire[id_leaks_fire.req_domain!=\"amazon.com\"])"
   ]
  },
  {
   "cell_type": "code",
   "execution_count": 13,
   "metadata": {},
   "outputs": [
    {
     "data": {
      "text/html": [
       "<div>\n",
       "<style scoped>\n",
       "    .dataframe tbody tr th:only-of-type {\n",
       "        vertical-align: middle;\n",
       "    }\n",
       "\n",
       "    .dataframe tbody tr th {\n",
       "        vertical-align: top;\n",
       "    }\n",
       "\n",
       "    .dataframe thead th {\n",
       "        text-align: right;\n",
       "    }\n",
       "</style>\n",
       "<table border=\"1\" class=\"dataframe\">\n",
       "  <thead>\n",
       "    <tr style=\"text-align: right;\">\n",
       "      <th></th>\n",
       "      <th>req_domain</th>\n",
       "      <th>Num. of channels</th>\n",
       "    </tr>\n",
       "  </thead>\n",
       "  <tbody>\n",
       "    <tr>\n",
       "      <th>1</th>\n",
       "      <td>conviva.com</td>\n",
       "      <td>10</td>\n",
       "    </tr>\n",
       "    <tr>\n",
       "      <th>0</th>\n",
       "      <td>a2z.com</td>\n",
       "      <td>7</td>\n",
       "    </tr>\n",
       "    <tr>\n",
       "      <th>2</th>\n",
       "      <td>kochava.com</td>\n",
       "      <td>4</td>\n",
       "    </tr>\n",
       "    <tr>\n",
       "      <th>3</th>\n",
       "      <td>wiphybackend.appspot.com</td>\n",
       "      <td>1</td>\n",
       "    </tr>\n",
       "  </tbody>\n",
       "</table>\n",
       "</div>"
      ],
      "text/plain": [
       "                 req_domain  Num. of channels\n",
       "1               conviva.com                10\n",
       "0                   a2z.com                 7\n",
       "2               kochava.com                 4\n",
       "3  wiphybackend.appspot.com                 1"
      ]
     },
     "execution_count": 13,
     "metadata": {},
     "output_type": "execute_result"
    }
   ],
   "source": [
    "ssid_leaks = leaks_fire[leaks_fire.id_type == \"Wifi SSID\"]\n",
    "ssid_leaks.host.unique()\n",
    "get_popular_domains_from_reqs(ssid_leaks)\n",
    "#leaks_fire[leaks_fire.id_type == \"Wifi SSID\"][['leak_type', 'host', 'post_data']]"
   ]
  },
  {
   "cell_type": "code",
   "execution_count": 18,
   "metadata": {},
   "outputs": [
    {
     "data": {
      "text/plain": [
       "array([u'http://comedy.bigstar.tv/mobile/register',\n",
       "       u'http://comedy.bigstar.tv/mobile/AmazonSaleStatus?os=fire&device=93be8fef8277953f_68:9a:87:ed:e7:41',\n",
       "       u'http://drama.bigstar.tv/mobile/AmazonSaleStatus?os=fire&device=93be8fef8277953f_68:9a:87:ed:e7:41',\n",
       "       u'http://drama.bigstar.tv/mobile/register',\n",
       "       u'http://horror.bigstar.tv/mobile/register',\n",
       "       u'http://horror.bigstar.tv/mobile/AmazonSaleStatus?os=fire&device=93be8fef8277953f_68%3A9a%3A87%3Aed%3Ae7%3A41',\n",
       "       u'http://lovestories.bigstar.tv/mobile/AmazonSaleStatus?os=fire&device=93be8fef8277953f_68:9a:87:ed:e7:41',\n",
       "       u'http://lovestories.bigstar.tv/mobile/register',\n",
       "       u'http://s.amazon-adsystem.com/api3/generate_did?sha1_serial=db624563bb39fb3295486a3c0ea2a54edc915fb8&ua=Mozilla%2F5.0%20%28Linux%3B%20Android%205.1.1%3B%20AFTT%20Build%2FLVY48F%3B%20wv%29%20AppleWebKit%2F537.36%20%28KHTML%2C%20like%20Gecko%29%20Version%2F4.0%20Chrome%2F59.0.3071.125%20Mobile%20Safari%2F537.36%20AmazonAdSDK-Android%2F5.8.1.1&aud=3p&sdkVer=amznAdSDK-android-5.8.1.1&sha1_mac=d3669f8e7f3e5363adaef6fc57bd7db1657a5a79&appId=a273661953f044caa9f1fb15e55a4575&app=app&sha1_udid=080b6ef494bf96d4127a576f0a043ba226b031c4&dinfo=%7B%22make%22%3A%22Amazon%22%2C%22model%22%3A%22AFTT%22%2C%22os%22%3A%22Android%22%2C%22osVersion%22%3A%225.1.1%22%2C%22scalingFactor%22%3A%222.0%22%2C%22language%22%3A%22en%22%2C%22country%22%3A%22US%22%7D&pkg=%7B%22pn%22%3A%22com.ionitech.airscreen%22%2C%22lbl%22%3A%22AirScreen%22%2C%22vn%22%3A%221.8.1%22%2C%22v%22%3A%22100%22%7D&dt=android',\n",
       "       u'http://s.amazon-adsystem.com/api3/generate_did?sha1_serial=db624563bb39fb3295486a3c0ea2a54edc915fb8&ua=Mozilla%2F5.0%20%28Linux%3B%20Android%205.1.1%3B%20AFTT%20Build%2FLVY48F%3B%20wv%29%20AppleWebKit%2F537.36%20%28KHTML%2C%20like%20Gecko%29%20Version%2F4.0%20Chrome%2F59.0.3071.125%20Mobile%20Safari%2F537.36%20AmazonAdSDK-Android%2F5.8.1.1&aud=3p&sdkVer=amznAdSDK-android-5.8.1.1&sha1_mac=d3669f8e7f3e5363adaef6fc57bd7db1657a5a79&appId=182f9afb8b064d44978163b68dd7a6a7&app=app&sha1_udid=080b6ef494bf96d4127a576f0a043ba226b031c4&dinfo=%7B%22make%22%3A%22Amazon%22%2C%22model%22%3A%22AFTT%22%2C%22os%22%3A%22Android%22%2C%22osVersion%22%3A%225.1.1%22%2C%22scalingFactor%22%3A%222.0%22%2C%22language%22%3A%22en%22%2C%22country%22%3A%22US%22%7D&pkg=%7B%22pn%22%3A%22com.archos.mediacenter.videofree%22%2C%22lbl%22%3A%22Archos%20Video%22%2C%22vn%22%3A%2210.2-20180206.1015%22%2C%22v%22%3A%222045274%22%7D&dt=android',\n",
       "       u'http://artofseduction.bigstar.tv/mobile/register',\n",
       "       u'http://latino.bigstar.tv/mobile/register',\n",
       "       u'http://latino.bigstar.tv/mobile/AmazonSaleStatus?os=fire&device=93be8fef8277953f_68:9a:87:ed:e7:41',\n",
       "       u'http://www.bigstar.tv/mobile/register',\n",
       "       u'http://www.bigstar.tv/mobile/AmazonSaleStatus?os=fire&device=93be8fef8277953f_68%3A9a%3A87%3Aed%3Ae7%3A41',\n",
       "       u'http://blackcinema.bigstar.tv/mobile/AmazonSaleStatus?os=fire&device=93be8fef8277953f_68%3A9a%3A87%3Aed%3Ae7%3A41',\n",
       "       u'http://blackcinema.bigstar.tv/mobile/register',\n",
       "       u'http://bollywood.bigstar.tv/mobile/register',\n",
       "       u'http://bollywood.bigstar.tv/mobile/AmazonSaleStatus?os=fire&device=93be8fef8277953f_68%3A9a%3A87%3Aed%3Ae7%3A41',\n",
       "       u'http://s.amazon-adsystem.com/api3/generate_did?sha1_serial=db624563bb39fb3295486a3c0ea2a54edc915fb8&sdkVer=amznAdSDK-android-5.6.20&ua=Dalvik%2F2.1.0%20%28Linux%3B%20U%3B%20Android%205.1.1%3B%20AFTT%20Build%2FLVY48F%29%20AmazonAdSDK-Android%2F5.6.20&aud=3p&sha1_mac=d3669f8e7f3e5363adaef6fc57bd7db1657a5a79&appId=81bf3ea0787c40d3b519066b1d2d3993&app=app&sha1_udid=080b6ef494bf96d4127a576f0a043ba226b031c4&pkg=%7B%22lbl%22%3A%22Country%20Music%20TV%22%2C%22pn%22%3A%22tv.beatflix_country%22%2C%22v%22%3A%22102%22%2C%22vn%22%3A%221.02%22%7D&dinfo=%7B%22make%22%3A%22Amazon%22%2C%22model%22%3A%22AFTT%22%2C%22os%22%3A%22Android%22%2C%22osVersion%22%3A%225.1.1%22%7D&dt=android',\n",
       "       u'http://s.amazon-adsystem.com/api3/generate_did?sha1_serial=db624563bb39fb3295486a3c0ea2a54edc915fb8&sdkVer=amznAdSDK-android-5.6.20&ua=Dalvik%2F2.1.0%20%28Linux%3B%20U%3B%20Android%205.1.1%3B%20AFTT%20Build%2FLVY48F%29%20AmazonAdSDK-Android%2F5.6.20&aud=3p&sha1_mac=d3669f8e7f3e5363adaef6fc57bd7db1657a5a79&appId=2b1efbb29f214d3bbec32e08b1ba4ddd&app=app&sha1_udid=080b6ef494bf96d4127a576f0a043ba226b031c4&pkg=%7B%22lbl%22%3A%22Dark%20fireplace%20HD%22%2C%22pn%22%3A%22com.goosefly.darkfireplacehd%22%2C%22v%22%3A%224%22%2C%22vn%22%3A%221.3%22%7D&dinfo=%7B%22make%22%3A%22Amazon%22%2C%22model%22%3A%22AFTT%22%2C%22os%22%3A%22Android%22%2C%22osVersion%22%3A%225.1.1%22%7D&dt=android',\n",
       "       u'http://s.amazon-adsystem.com/api3/generate_did?sha1_serial=db624563bb39fb3295486a3c0ea2a54edc915fb8&sdkVer=amznAdSDK-android-5.6.20&ua=Dalvik%2F2.1.0%20%28Linux%3B%20U%3B%20Android%205.1.1%3B%20AFTT%20Build%2FLVY48F%29%20AmazonAdSDK-Android%2F5.6.20&aud=3p&sha1_mac=d3669f8e7f3e5363adaef6fc57bd7db1657a5a79&appId=8426513e56c14d79add252f759a1b1d5&app=app&sha1_udid=080b6ef494bf96d4127a576f0a043ba226b031c4&pkg=%7B%22lbl%22%3A%22Decent%20Gas%20Fireplace%20HD%22%2C%22pn%22%3A%22com.rapidideas.decentgasfireplacehd%22%2C%22v%22%3A%221%22%2C%22vn%22%3A%221.0%22%7D&dinfo=%7B%22make%22%3A%22Amazon%22%2C%22model%22%3A%22AFTT%22%2C%22os%22%3A%22Android%22%2C%22osVersion%22%3A%225.1.1%22%7D&dt=android',\n",
       "       u'http://docworld.bigstar.tv/mobile/register',\n",
       "       u'http://docworld.bigstar.tv/mobile/AmazonSaleStatus?os=fire&device=93be8fef8277953f_68:9a:87:ed:e7:41',\n",
       "       u'http://extreme.bigstar.tv/mobile/register',\n",
       "       u'http://extreme.bigstar.tv/mobile/AmazonSaleStatus?os=fire&device=93be8fef8277953f_68:9a:87:ed:e7:41',\n",
       "       u'http://filmfest.bigstar.tv/mobile/register',\n",
       "       u'http://filmfest.bigstar.tv/mobile/AmazonSaleStatus?os=fire&device=93be8fef8277953f_68:9a:87:ed:e7:41',\n",
       "       u'http://foreignfilm.bigstar.tv/mobile/register',\n",
       "       u'http://foreignfilm.bigstar.tv/mobile/AmazonSaleStatus?os=fire&device=93be8fef8277953f_68:9a:87:ed:e7:41',\n",
       "       u'http://s.amazon-adsystem.com/api3/generate_did?sha1_serial=db624563bb39fb3295486a3c0ea2a54edc915fb8&aud=3p&sdkVer=amznAdSDK-android-5.8.1.1&sha1_mac=d3669f8e7f3e5363adaef6fc57bd7db1657a5a79&appId=10e0e2f534ee4dd6867f50257e2017ce&app=app&sha1_udid=080b6ef494bf96d4127a576f0a043ba226b031c4&dinfo=%7B%22make%22%3A%22Amazon%22%2C%22model%22%3A%22AFTT%22%2C%22os%22%3A%22Android%22%2C%22osVersion%22%3A%225.1.1%22%2C%22scalingFactor%22%3A%222.0%22%2C%22language%22%3A%22en%22%2C%22country%22%3A%22US%22%7D&pkg=%7B%22pn%22%3A%22com.wapfrog.bubblebreaker%22%2C%22lbl%22%3A%22Bubble%20Breaker%22%2C%22vn%22%3A%221.12-amazon%22%2C%22v%22%3A%2219%22%7D&dt=android',\n",
       "       u'http://s.amazon-adsystem.com/api3/generate_did?sha1_serial=db624563bb39fb3295486a3c0ea2a54edc915fb8&sdkVer=amznAdSDK-android-5.6.20&ua=Dalvik%2F2.1.0%20%28Linux%3B%20U%3B%20Android%205.1.1%3B%20AFTT%20Build%2FLVY48F%29%20AmazonAdSDK-Android%2F5.6.20&aud=3p&sha1_mac=d3669f8e7f3e5363adaef6fc57bd7db1657a5a79&appId=7e6ab47694f54cad998f1c0f730c2e88&app=app&sha1_udid=080b6ef494bf96d4127a576f0a043ba226b031c4&pkg=%7B%22lbl%22%3A%22Happy%20aquarium%20HD%22%2C%22pn%22%3A%22com.rapidideas.happyaquariumhd%22%2C%22v%22%3A%2210%22%2C%22vn%22%3A%221.9%22%7D&dinfo=%7B%22make%22%3A%22Amazon%22%2C%22model%22%3A%22AFTT%22%2C%22os%22%3A%22Android%22%2C%22osVersion%22%3A%225.1.1%22%7D&dt=android',\n",
       "       u'http://s.amazon-adsystem.com/api3/generate_did?sha1_serial=db624563bb39fb3295486a3c0ea2a54edc915fb8&ua=Mozilla%2F5.0%20%28Linux%3B%20Android%205.1.1%3B%20AFTT%20Build%2FLVY48F%3B%20wv%29%20AppleWebKit%2F537.36%20%28KHTML%2C%20like%20Gecko%29%20Version%2F4.0%20Chrome%2F59.0.3071.125%20Mobile%20Safari%2F537.36%20AmazonAdSDK-Android%2F5.8.1.1&aud=3p&sdkVer=amznAdSDK-android-5.8.1.1&sha1_mac=d3669f8e7f3e5363adaef6fc57bd7db1657a5a79&appId=8750f2276cc64633943e99ab8069ad1f&app=app&sha1_udid=080b6ef494bf96d4127a576f0a043ba226b031c4&dinfo=%7B%22make%22%3A%22Amazon%22%2C%22model%22%3A%22AFTT%22%2C%22os%22%3A%22Android%22%2C%22osVersion%22%3A%225.1.1%22%2C%22scalingFactor%22%3A%222.0%22%2C%22language%22%3A%22en%22%2C%22country%22%3A%22US%22%7D&pkg=%7B%22pn%22%3A%22com.ddm.iptools%22%2C%22lbl%22%3A%22IP%20Tools%22%2C%22vn%22%3A%228.3.1%22%2C%22v%22%3A%22282%22%7D&dt=android',\n",
       "       u'http://jagged.bigstar.tv/mobile/register',\n",
       "       u'http://jagged.bigstar.tv/mobile/AmazonSaleStatus?os=fire&device=93be8fef8277953f_68:9a:87:ed:e7:41',\n",
       "       u'http://s.amazon-adsystem.com/api3/generate_did?sha1_serial=db624563bb39fb3295486a3c0ea2a54edc915fb8&sdkVer=amznAdSDK-android-5.6.20&ua=Dalvik%2F2.1.0%20%28Linux%3B%20U%3B%20Android%205.1.1%3B%20AFTT%20Build%2FLVY48F%29%20AmazonAdSDK-Android%2F5.6.20&aud=3p&sha1_mac=d3669f8e7f3e5363adaef6fc57bd7db1657a5a79&appId=a5b3736d72154d88bb66ae374a817091&app=app&sha1_udid=080b6ef494bf96d4127a576f0a043ba226b031c4&pkg=%7B%22lbl%22%3A%22Midnight%20Firework%20HD%22%2C%22pn%22%3A%22com.rapidideas.midnightfireworkhd%22%2C%22v%22%3A%221%22%2C%22vn%22%3A%221.0%22%7D&dinfo=%7B%22make%22%3A%22Amazon%22%2C%22model%22%3A%22AFTT%22%2C%22os%22%3A%22Android%22%2C%22osVersion%22%3A%225.1.1%22%7D&dt=android',\n",
       "       u'http://s.amazon-adsystem.com/api3/generate_did?sha1_serial=db624563bb39fb3295486a3c0ea2a54edc915fb8&sdkVer=amznAdSDK-android-5.6.20&ua=Dalvik%2F2.1.0%20%28Linux%3B%20U%3B%20Android%205.1.1%3B%20AFTT%20Build%2FLVY48F%29%20AmazonAdSDK-Android%2F5.6.20&aud=3p&sha1_mac=d3669f8e7f3e5363adaef6fc57bd7db1657a5a79&appId=8cb5f36a3d8e4ee99da77d979e0d377f&app=app&sha1_udid=080b6ef494bf96d4127a576f0a043ba226b031c4&pkg=%7B%22lbl%22%3A%22MTD%22%2C%22pn%22%3A%22au.com.oddgames.monstertruckdestruction%22%2C%22v%22%3A%22200%22%2C%22vn%22%3A%222.6.4.2%22%7D&dinfo=%7B%22make%22%3A%22Amazon%22%2C%22model%22%3A%22AFTT%22%2C%22os%22%3A%22Android%22%2C%22osVersion%22%3A%225.1.1%22%7D&dt=android',\n",
       "       u'http://lgbt.bigstar.tv/mobile/register',\n",
       "       u'http://lgbt.bigstar.tv/mobile/AmazonSaleStatus?os=fire&device=93be8fef8277953f_68%3A9a%3A87%3Aed%3Ae7%3A41',\n",
       "       u'http://s.amazon-adsystem.com/api3/generate_did?sha1_serial=db624563bb39fb3295486a3c0ea2a54edc915fb8&sdkVer=amznAdSDK-android-5.6.20&ua=Dalvik%2F2.1.0%20%28Linux%3B%20U%3B%20Android%205.1.1%3B%20AFTT%20Build%2FLVY48F%29%20AmazonAdSDK-Android%2F5.6.20&aud=3p&sha1_mac=d3669f8e7f3e5363adaef6fc57bd7db1657a5a79&appId=1ec71faca6bd4fbea345a1a7e5d3fdae&app=app&sha1_udid=080b6ef494bf96d4127a576f0a043ba226b031c4&pkg=%7B%22lbl%22%3A%22ROTARDO%22%2C%22pn%22%3A%22com.cff.rotardo%22%2C%22v%22%3A%221000000%22%2C%22vn%22%3A%221.0.0%22%7D&dinfo=%7B%22make%22%3A%22Amazon%22%2C%22model%22%3A%22AFTT%22%2C%22os%22%3A%22Android%22%2C%22osVersion%22%3A%225.1.1%22%7D&dt=android',\n",
       "       u'http://s.amazon-adsystem.com/api3/generate_did?sha1_serial=db624563bb39fb3295486a3c0ea2a54edc915fb8&sdkVer=amznAdSDK-android-5.6.20&ua=Dalvik%2F2.1.0%20%28Linux%3B%20U%3B%20Android%205.1.1%3B%20AFTT%20Build%2FLVY48F%29%20AmazonAdSDK-Android%2F5.6.20&aud=3p&sha1_mac=d3669f8e7f3e5363adaef6fc57bd7db1657a5a79&appId=d68736d8f33642f3998c67aab8d4b8d5&app=app&sha1_udid=080b6ef494bf96d4127a576f0a043ba226b031c4&pkg=%7B%22lbl%22%3A%22Rainy%20City%20Rush%20HD%22%2C%22pn%22%3A%22com.digitaleye.rainycityrushhd%22%2C%22v%22%3A%221%22%2C%22vn%22%3A%221.0%22%7D&dinfo=%7B%22make%22%3A%22Amazon%22%2C%22model%22%3A%22AFTT%22%2C%22os%22%3A%22Android%22%2C%22osVersion%22%3A%225.1.1%22%7D&dt=android',\n",
       "       u'http://s.amazon-adsystem.com/api3/generate_did?sha1_serial=db624563bb39fb3295486a3c0ea2a54edc915fb8&ua=Mozilla%2F5.0%20%28Linux%3B%20Android%205.1.1%3B%20AFTT%20Build%2FLVY48F%3B%20wv%29%20AppleWebKit%2F537.36%20%28KHTML%2C%20like%20Gecko%29%20Version%2F4.0%20Chrome%2F59.0.3071.125%20Mobile%20Safari%2F537.36%20AmazonAdSDK-Android%2F5.8.1.1&aud=3p&sdkVer=amznAdSDK-android-5.8.1.1&sha1_mac=d3669f8e7f3e5363adaef6fc57bd7db1657a5a79&appId=b71c4d3e78c841e99af367331fabffc5&app=app&sha1_udid=080b6ef494bf96d4127a576f0a043ba226b031c4&dinfo=%7B%22make%22%3A%22Amazon%22%2C%22model%22%3A%22AFTT%22%2C%22os%22%3A%22Android%22%2C%22osVersion%22%3A%225.1.1%22%2C%22scalingFactor%22%3A%222.0%22%2C%22language%22%3A%22en%22%2C%22country%22%3A%22US%22%7D&pkg=%7B%22pn%22%3A%22com.FDGEntertainment.RedBall4.amazon%22%2C%22lbl%22%3A%22Red%20Ball%204%22%2C%22vn%22%3A%221.3.13%22%2C%22v%22%3A%221313%22%7D&dt=android',\n",
       "       u'http://s.amazon-adsystem.com/api3/generate_did?sha1_serial=db624563bb39fb3295486a3c0ea2a54edc915fb8&sdkVer=amznAdSDK-android-5.6.20&aud=3p&sha1_mac=d3669f8e7f3e5363adaef6fc57bd7db1657a5a79&appId=7f05c2d4c13542288a70b0f45eb1fb73&app=app&sha1_udid=080b6ef494bf96d4127a576f0a043ba226b031c4&pkg=%7B%22lbl%22%3A%22Reggae%20TV%22%2C%22pn%22%3A%22tv.beatflix.reggaetv%22%2C%22v%22%3A%22112%22%2C%22vn%22%3A%221.12%22%7D&dinfo=%7B%22make%22%3A%22Amazon%22%2C%22model%22%3A%22AFTT%22%2C%22os%22%3A%22Android%22%2C%22osVersion%22%3A%225.1.1%22%7D&dt=android',\n",
       "       u'http://s.amazon-adsystem.com/api3/generate_did?sha1_serial=db624563bb39fb3295486a3c0ea2a54edc915fb8&sdkVer=amznAdSDK-android-5.6.20&ua=Dalvik%2F2.1.0%20%28Linux%3B%20U%3B%20Android%205.1.1%3B%20AFTT%20Build%2FLVY48F%29%20AmazonAdSDK-Android%2F5.6.20&aud=3p&sha1_mac=d3669f8e7f3e5363adaef6fc57bd7db1657a5a79&appId=2c1ad5473698475e8eaff48fda7baeb8&app=app&sha1_udid=080b6ef494bf96d4127a576f0a043ba226b031c4&pkg=%7B%22lbl%22%3A%22Romantic%20fireplace%20ambiance%20HD%22%2C%22pn%22%3A%22com.rapidideas.romanticfireplaceambiance%22%2C%22v%22%3A%229%22%2C%22vn%22%3A%221.8%22%7D&dinfo=%7B%22make%22%3A%22Amazon%22%2C%22model%22%3A%22AFTT%22%2C%22os%22%3A%22Android%22%2C%22osVersion%22%3A%225.1.1%22%7D&dt=android',\n",
       "       u'http://s.amazon-adsystem.com/api3/generate_did?sha1_serial=db624563bb39fb3295486a3c0ea2a54edc915fb8&sdkVer=amznAdSDK-android-5.6.20&ua=Dalvik%2F2.1.0%20%28Linux%3B%20U%3B%20Android%205.1.1%3B%20AFTT%20Build%2FLVY48F%29%20AmazonAdSDK-Android%2F5.6.20&aud=3p&sha1_mac=d3669f8e7f3e5363adaef6fc57bd7db1657a5a79&appId=4de44015ad2b437c9d484bac4c7f8d73&app=app&sha1_udid=080b6ef494bf96d4127a576f0a043ba226b031c4&pkg=%7B%22lbl%22%3A%22Seaside%20Beauty%20HD%22%2C%22pn%22%3A%22com.digitaleye.seasidebeautyhd%22%2C%22v%22%3A%226%22%2C%22vn%22%3A%221.5%22%7D&dinfo=%7B%22make%22%3A%22Amazon%22%2C%22model%22%3A%22AFTT%22%2C%22os%22%3A%22Android%22%2C%22osVersion%22%3A%225.1.1%22%7D&dt=android',\n",
       "       u'http://api.vungle.com/api/v1/requestAd',\n",
       "       u'http://api.vungle.com/api/v1/new?isu=93be8fef8277953f&app_id=com.djinnworks.StickmanBaseJumper.lite&ma=68%3A9a%3A87%3Aed%3Ae7%3A41&serial=G070L82185071CE1',\n",
       "       u'http://api.vungle.com/api/v1/new?isu=93be8fef8277953f&app_id=527a66c42fa5491f55000008&ma=68%3A9a%3A87%3Aed%3Ae7%3A41&serial=G070L82185071CE1',\n",
       "       u'http://s.amazon-adsystem.com/api3/generate_did?sha1_serial=db624563bb39fb3295486a3c0ea2a54edc915fb8&sdkVer=amznAdSDK-android-5.6.20&ua=Dalvik%2F2.1.0%20%28Linux%3B%20U%3B%20Android%205.1.1%3B%20AFTT%20Build%2FLVY48F%29%20AmazonAdSDK-Android%2F5.6.20&aud=3p&sha1_mac=d3669f8e7f3e5363adaef6fc57bd7db1657a5a79&appId=f43336dc9b8f4055815cccef75dc711b&app=app&sha1_udid=080b6ef494bf96d4127a576f0a043ba226b031c4&pkg=%7B%22lbl%22%3A%22Wet%20Rainy%20Jungle%20HD%22%2C%22pn%22%3A%22com.goosefly.wetrainyjunglehd%22%2C%22v%22%3A%222%22%2C%22vn%22%3A%221.1%22%7D&dinfo=%7B%22make%22%3A%22Amazon%22%2C%22model%22%3A%22AFTT%22%2C%22os%22%3A%22Android%22%2C%22osVersion%22%3A%225.1.1%22%7D&dt=android',\n",
       "       u'http://s.amazon-adsystem.com/api3/generate_did?sha1_serial=db624563bb39fb3295486a3c0ea2a54edc915fb8&sdkVer=amznAdSDK-android-5.6.20&aud=3p&sha1_mac=d3669f8e7f3e5363adaef6fc57bd7db1657a5a79&appId=ebb449136bde46e6a1ff9bc462017c79&app=app&sha1_udid=080b6ef494bf96d4127a576f0a043ba226b031c4&pkg=%7B%22lbl%22%3A%22Yoga%20TV%22%2C%22pn%22%3A%22tv.beatflix.yoga%22%2C%22v%22%3A%22122%22%2C%22vn%22%3A%221.22%22%7D&dinfo=%7B%22make%22%3A%22Amazon%22%2C%22model%22%3A%22AFTT%22%2C%22os%22%3A%22Android%22%2C%22osVersion%22%3A%225.1.1%22%7D&dt=android',\n",
       "       u'http://s.amazon-adsystem.com/api3/generate_did?sha1_serial=db624563bb39fb3295486a3c0ea2a54edc915fb8&sdkVer=amznAdSDK-android-5.6.20&aud=3p&sha1_mac=d3669f8e7f3e5363adaef6fc57bd7db1657a5a79&appId=61c937e40fd443818cbc99c9af168e4d&app=app&sha1_udid=080b6ef494bf96d4127a576f0a043ba226b031c4&pkg=%7B%22lbl%22%3A%22Zen%20TV%22%2C%22pn%22%3A%22tv.beatflix.zentv%22%2C%22v%22%3A%22124%22%2C%22vn%22%3A%221.24%22%7D&dinfo=%7B%22make%22%3A%22Amazon%22%2C%22model%22%3A%22AFTT%22%2C%22os%22%3A%22Android%22%2C%22osVersion%22%3A%225.1.1%22%7D&dt=android'],\n",
       "      dtype=object)"
      ]
     },
     "execution_count": 18,
     "metadata": {},
     "output_type": "execute_result"
    }
   ],
   "source": [
    "ssid_leaks[ssid_leaks.url.str.startswith(\"http://\")].url.unique()\n",
    "mac_leaks[mac_leaks.url.str.startswith(\"http://\")].url.unique()"
   ]
  },
  {
   "cell_type": "code",
   "execution_count": 15,
   "metadata": {},
   "outputs": [
    {
     "data": {
      "text/html": [
       "<div>\n",
       "<style scoped>\n",
       "    .dataframe tbody tr th:only-of-type {\n",
       "        vertical-align: middle;\n",
       "    }\n",
       "\n",
       "    .dataframe tbody tr th {\n",
       "        vertical-align: top;\n",
       "    }\n",
       "\n",
       "    .dataframe thead th {\n",
       "        text-align: right;\n",
       "    }\n",
       "</style>\n",
       "<table border=\"1\" class=\"dataframe\">\n",
       "  <thead>\n",
       "    <tr style=\"text-align: right;\">\n",
       "      <th></th>\n",
       "      <th>req_domain</th>\n",
       "      <th>Num. of channels</th>\n",
       "    </tr>\n",
       "  </thead>\n",
       "  <tbody>\n",
       "    <tr>\n",
       "      <th>1</th>\n",
       "      <td>amazon-adsystem.com</td>\n",
       "      <td>21</td>\n",
       "    </tr>\n",
       "    <tr>\n",
       "      <th>3</th>\n",
       "      <td>bigstar.tv</td>\n",
       "      <td>15</td>\n",
       "    </tr>\n",
       "    <tr>\n",
       "      <th>0</th>\n",
       "      <td>adjust.com</td>\n",
       "      <td>8</td>\n",
       "    </tr>\n",
       "    <tr>\n",
       "      <th>8</th>\n",
       "      <td>vungle.com</td>\n",
       "      <td>4</td>\n",
       "    </tr>\n",
       "    <tr>\n",
       "      <th>2</th>\n",
       "      <td>applifier.com</td>\n",
       "      <td>3</td>\n",
       "    </tr>\n",
       "    <tr>\n",
       "      <th>4</th>\n",
       "      <td>leanplum.com</td>\n",
       "      <td>1</td>\n",
       "    </tr>\n",
       "    <tr>\n",
       "      <th>5</th>\n",
       "      <td>muneris.io</td>\n",
       "      <td>1</td>\n",
       "    </tr>\n",
       "    <tr>\n",
       "      <th>6</th>\n",
       "      <td>omtrdc.net</td>\n",
       "      <td>1</td>\n",
       "    </tr>\n",
       "    <tr>\n",
       "      <th>7</th>\n",
       "      <td>singular.net</td>\n",
       "      <td>1</td>\n",
       "    </tr>\n",
       "  </tbody>\n",
       "</table>\n",
       "</div>"
      ],
      "text/plain": [
       "            req_domain  Num. of channels\n",
       "1  amazon-adsystem.com                21\n",
       "3           bigstar.tv                15\n",
       "0           adjust.com                 8\n",
       "8           vungle.com                 4\n",
       "2        applifier.com                 3\n",
       "4         leanplum.com                 1\n",
       "5           muneris.io                 1\n",
       "6           omtrdc.net                 1\n",
       "7         singular.net                 1"
      ]
     },
     "execution_count": 15,
     "metadata": {},
     "output_type": "execute_result"
    }
   ],
   "source": [
    "mac_leaks = leaks_fire[leaks_fire.id_type == \"MAC\"]\n",
    "get_popular_domains_from_reqs(mac_leaks)\n",
    "#leaks_fire[leaks_fire.id_type == \"Wifi SSID\"][['leak_type', 'host', 'post_data']]"
   ]
  },
  {
   "cell_type": "code",
   "execution_count": 27,
   "metadata": {},
   "outputs": [
    {
     "data": {
      "text/plain": [
       "80     119\n",
       "443     71\n",
       "Name: tcp_dstport, dtype: int64"
      ]
     },
     "execution_count": 27,
     "metadata": {},
     "output_type": "execute_result"
    }
   ],
   "source": [
    "leaks_fire[leaks_fire.id_type == \"MAC\"].tcp_dstport.value_counts()"
   ]
  },
  {
   "cell_type": "markdown",
   "metadata": {},
   "source": [
    "## Unencrypted leaks"
   ]
  },
  {
   "cell_type": "code",
   "execution_count": 21,
   "metadata": {},
   "outputs": [
    {
     "data": {
      "text/plain": [
       "443     5006\n",
       "80      3427\n",
       "8085       8\n",
       "Name: tcp_dstport, dtype: int64"
      ]
     },
     "execution_count": 21,
     "metadata": {},
     "output_type": "execute_result"
    }
   ],
   "source": [
    "id_leaks_fire.tcp_dstport.value_counts()"
   ]
  },
  {
   "cell_type": "code",
   "execution_count": 23,
   "metadata": {},
   "outputs": [
    {
     "data": {
      "text/plain": [
       "443     15783\n",
       "80       7021\n",
       "8085        8\n",
       "Name: tcp_dstport, dtype: int64"
      ]
     },
     "execution_count": 23,
     "metadata": {},
     "output_type": "execute_result"
    }
   ],
   "source": [
    "leaks_fire.tcp_dstport.value_counts()"
   ]
  },
  {
   "cell_type": "code",
   "execution_count": 13,
   "metadata": {},
   "outputs": [
    {
     "name": "stdout",
     "output_type": "stream",
     "text": [
      "\n",
      "\\begin{table}[H]\n",
      "%\\centering\n",
      "\\resizebox{\\columnwidth}{!}{%\n",
      "\\begin{tabular}{lrr}\n",
      "\\toprule\n",
      " Id        &   Num. of leaks &   Num. of channels \\\\\n",
      "\\midrule\n",
      " AD ID     &            1029 &                111 \\\\\n",
      " Serial No &             964 &                 75 \\\\\n",
      "\\bottomrule\n",
      "\\end{tabular}\n",
      "}\n",
      "\\caption{Overview of information leakage detected in Roku-Top1K-NoMITM crawl}\n",
      "\\label{tab:leaks_fire}\n",
      "\\end{table}\n"
     ]
    }
   ],
   "source": [
    "print(make_latex_table(\n",
    "    df, caption=\"Overview of information leakage detected in Roku-Top1K-NoMITM crawl\",\n",
    "    label=\"leaks_fire\"))"
   ]
  },
  {
   "cell_type": "code",
   "execution_count": 14,
   "metadata": {},
   "outputs": [],
   "source": [
    "## Pi-Hole-Block"
   ]
  },
  {
   "cell_type": "markdown",
   "metadata": {},
   "source": [
    "## ID Leaks\n",
    "- Exclude non-Id search terms"
   ]
  },
  {
   "cell_type": "code",
   "execution_count": 24,
   "metadata": {},
   "outputs": [
    {
     "data": {
      "text/plain": [
       "False    5417\n",
       "True     3024\n",
       "Name: adblocked, dtype: int64"
      ]
     },
     "execution_count": 24,
     "metadata": {},
     "output_type": "execute_result"
    }
   ],
   "source": [
    "id_leaks_fire.adblocked.value_counts()"
   ]
  },
  {
   "cell_type": "markdown",
   "metadata": {},
   "source": [
    "### Email sent on channel (for registration)\n",
    "- email address sant to  http://api.qello.com/users/register/ for registration purposes\n",
    "- crawler actually clicked the dialog to allow email address to be accessed from Roku"
   ]
  },
  {
   "cell_type": "code",
   "execution_count": 12,
   "metadata": {},
   "outputs": [
    {
     "data": {
      "text/html": [
       "<div>\n",
       "<style scoped>\n",
       "    .dataframe tbody tr th:only-of-type {\n",
       "        vertical-align: middle;\n",
       "    }\n",
       "\n",
       "    .dataframe tbody tr th {\n",
       "        vertical-align: top;\n",
       "    }\n",
       "\n",
       "    .dataframe thead th {\n",
       "        text-align: right;\n",
       "    }\n",
       "</style>\n",
       "<table border=\"1\" class=\"dataframe\">\n",
       "  <thead>\n",
       "    <tr style=\"text-align: right;\">\n",
       "      <th></th>\n",
       "      <th>adblocked</th>\n",
       "      <th>adblocked_by_url</th>\n",
       "      <th>category</th>\n",
       "      <th>channel_id</th>\n",
       "      <th>channel_name</th>\n",
       "      <th>cookie</th>\n",
       "      <th>decoded_data</th>\n",
       "      <th>disconnect_blocked</th>\n",
       "      <th>disconnect_blocked_by_url</th>\n",
       "      <th>domain_by_dns</th>\n",
       "      <th>...</th>\n",
       "      <th>referer</th>\n",
       "      <th>req_domain</th>\n",
       "      <th>search</th>\n",
       "      <th>status</th>\n",
       "      <th>tcp_dstport</th>\n",
       "      <th>tcp_stream</th>\n",
       "      <th>time</th>\n",
       "      <th>url</th>\n",
       "      <th>user_agent</th>\n",
       "      <th>ch_name_url_false_pos</th>\n",
       "    </tr>\n",
       "  </thead>\n",
       "  <tbody>\n",
       "    <tr>\n",
       "      <th>0</th>\n",
       "      <td>False</td>\n",
       "      <td>False</td>\n",
       "      <td>Music</td>\n",
       "      <td>40299</td>\n",
       "      <td>Stingray Qello</td>\n",
       "      <td></td>\n",
       "      <td></td>\n",
       "      <td>False</td>\n",
       "      <td>False</td>\n",
       "      <td>qello.com</td>\n",
       "      <td>...</td>\n",
       "      <td></td>\n",
       "      <td>qello.com</td>\n",
       "      <td>macyli47@gmail.com</td>\n",
       "      <td>TERMINATED</td>\n",
       "      <td>80</td>\n",
       "      <td>84</td>\n",
       "      <td>1557386763.457430000</td>\n",
       "      <td>http://api.qello.com/users/register/</td>\n",
       "      <td>Roku/DVP-9.0 (519.00E04142A)</td>\n",
       "      <td>False</td>\n",
       "    </tr>\n",
       "    <tr>\n",
       "      <th>0</th>\n",
       "      <td>False</td>\n",
       "      <td>False</td>\n",
       "      <td>Music</td>\n",
       "      <td>40299</td>\n",
       "      <td>Stingray Qello</td>\n",
       "      <td></td>\n",
       "      <td></td>\n",
       "      <td>False</td>\n",
       "      <td>False</td>\n",
       "      <td>qello.com</td>\n",
       "      <td>...</td>\n",
       "      <td></td>\n",
       "      <td>qello.com</td>\n",
       "      <td>macyli47@gmail.com</td>\n",
       "      <td>TERMINATED</td>\n",
       "      <td>80</td>\n",
       "      <td>59</td>\n",
       "      <td>1557386729.679612000</td>\n",
       "      <td>http://api.qello.com/users/register/</td>\n",
       "      <td>Roku/DVP-9.0 (519.00E04142A)</td>\n",
       "      <td>False</td>\n",
       "    </tr>\n",
       "  </tbody>\n",
       "</table>\n",
       "<p>2 rows × 41 columns</p>\n",
       "</div>"
      ],
      "text/plain": [
       "   adblocked  adblocked_by_url category channel_id    channel_name cookie  \\\n",
       "0      False             False    Music      40299  Stingray Qello          \n",
       "0      False             False    Music      40299  Stingray Qello          \n",
       "\n",
       "  decoded_data  disconnect_blocked  disconnect_blocked_by_url domain_by_dns  \\\n",
       "0                            False                      False     qello.com   \n",
       "0                            False                      False     qello.com   \n",
       "\n",
       "           ...            referer  req_domain              search      status  \\\n",
       "0          ...                      qello.com  macyli47@gmail.com  TERMINATED   \n",
       "0          ...                      qello.com  macyli47@gmail.com  TERMINATED   \n",
       "\n",
       "  tcp_dstport  tcp_stream                  time  \\\n",
       "0          80          84  1557386763.457430000   \n",
       "0          80          59  1557386729.679612000   \n",
       "\n",
       "                                    url                    user_agent  \\\n",
       "0  http://api.qello.com/users/register/  Roku/DVP-9.0 (519.00E04142A)   \n",
       "0  http://api.qello.com/users/register/  Roku/DVP-9.0 (519.00E04142A)   \n",
       "\n",
       "   ch_name_url_false_pos  \n",
       "0                  False  \n",
       "0                  False  \n",
       "\n",
       "[2 rows x 41 columns]"
      ]
     },
     "execution_count": 12,
     "metadata": {},
     "output_type": "execute_result"
    }
   ],
   "source": [
    "leaks_fire[leaks_fire.id_type.isin([\"Email\", \"Unknown\"])]"
   ]
  },
  {
   "cell_type": "markdown",
   "metadata": {},
   "source": [
    "### Adblocked status\n",
    "- 4853 of the 6314 (76%) ID leaks are to domains flagged by ad blocker lists\n",
    "- 38 if the 76 domains IDs leaked to are flagged by ad blocker lists"
   ]
  },
  {
   "cell_type": "code",
   "execution_count": null,
   "metadata": {},
   "outputs": [],
   "source": [
    "id_leaks_fire.adblocked.value_counts()"
   ]
  },
  {
   "cell_type": "code",
   "execution_count": null,
   "metadata": {},
   "outputs": [],
   "source": [
    "leaks_fire.adblocked.value_counts()"
   ]
  },
  {
   "cell_type": "code",
   "execution_count": null,
   "metadata": {},
   "outputs": [],
   "source": [
    "id_leaks_fire.drop_duplicates(\"req_domain\").adblocked.value_counts()"
   ]
  },
  {
   "cell_type": "markdown",
   "metadata": {},
   "source": [
    "### Leaked IDs"
   ]
  },
  {
   "cell_type": "code",
   "execution_count": null,
   "metadata": {},
   "outputs": [],
   "source": [
    "leaks_fire.id_type.value_counts()"
   ]
  },
  {
   "cell_type": "markdown",
   "metadata": {},
   "source": [
    "### Leak location"
   ]
  },
  {
   "cell_type": "code",
   "execution_count": null,
   "metadata": {},
   "outputs": [],
   "source": [
    "leaks_fire.leak_type.value_counts()"
   ]
  },
  {
   "cell_type": "markdown",
   "metadata": {},
   "source": [
    "### Leak encodings"
   ]
  },
  {
   "cell_type": "code",
   "execution_count": null,
   "metadata": {},
   "outputs": [],
   "source": [
    "leaks_fire.encoding.value_counts()"
   ]
  },
  {
   "cell_type": "code",
   "execution_count": null,
   "metadata": {},
   "outputs": [],
   "source": []
  }
 ],
 "metadata": {
  "kernelspec": {
   "display_name": "Python 2",
   "language": "python",
   "name": "python2"
  },
  "language_info": {
   "codemirror_mode": {
    "name": "ipython",
    "version": 2
   },
   "file_extension": ".py",
   "mimetype": "text/x-python",
   "name": "python",
   "nbconvert_exporter": "python",
   "pygments_lexer": "ipython2",
   "version": "2.7.15+"
  }
 },
 "nbformat": 4,
 "nbformat_minor": 2
}
