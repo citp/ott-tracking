{
 "cells": [
  {
   "cell_type": "code",
   "execution_count": 10,
   "metadata": {},
   "outputs": [],
   "source": [
    "from log_analysis import get_playback_detection_results, get_crawl_status, get_crawl_data_path"
   ]
  },
  {
   "cell_type": "code",
   "execution_count": 43,
   "metadata": {},
   "outputs": [],
   "source": [
    "def print_crawl_summary(crawl_name):\n",
    "    detected = get_playback_detection_results(crawl_name)\n",
    "    crawl_dir = get_crawl_data_path(crawl_name)\n",
    "    crawl_statuses = get_crawl_status(crawl_dir)\n",
    "    n_success = sum(1 for status in crawl_statuses.values() if status == \"TERMINATED\")\n",
    "    print(\"Crawl summary:\", crawl_name, crawl_dir)\n",
    "    print(\"---------------------\")\n",
    "    print (\"Total channels\", len(crawl_statuses))\n",
    "    print (\"Successful crawls\", n_success)\n",
    "    print (\"Playback detected in\", len(detected))\n",
    "    return detected, crawl_statuses"
   ]
  },
  {
   "cell_type": "code",
   "execution_count": 44,
   "metadata": {},
   "outputs": [],
   "source": [
    "AMAZON_CRAWL = 'amazon-data-20190501-142343'\n",
    "ROKU_CRAWL = 'roku-data-20190412-122224'"
   ]
  },
  {
   "cell_type": "code",
   "execution_count": 45,
   "metadata": {},
   "outputs": [
    {
     "name": "stdout",
     "output_type": "stream",
     "text": [
      "Crawl summary: roku-data-20190412-122224 /home/gacar/dev/smart-tv/data/roku-data-20190412-122224\n",
      "---------------------\n",
      "Total channels 150\n",
      "Successful crawls 141\n",
      "Playback detected in 86\n"
     ]
    }
   ],
   "source": [
    "detected_roku, crawl_statuses_roku = print_crawl_summary(ROKU_CRAWL)"
   ]
  },
  {
   "cell_type": "code",
   "execution_count": 46,
   "metadata": {},
   "outputs": [
    {
     "name": "stdout",
     "output_type": "stream",
     "text": [
      "Crawl summary: amazon-data-20190501-142343 /media/gacar/Data/iot-house/crawl-data/amazon-data-20190501-142343\n",
      "---------------------\n",
      "Total channels 85\n",
      "Successful crawls 82\n",
      "Playback detected in 30\n"
     ]
    }
   ],
   "source": [
    "detected_amazon, crawl_statuses_amazon = print_crawl_summary(AMAZON_CRAWL)"
   ]
  },
  {
   "cell_type": "code",
   "execution_count": 47,
   "metadata": {},
   "outputs": [
    {
     "name": "stdout",
     "output_type": "stream",
     "text": [
      "Crawl summary: roku-data-20190501-125316 /media/gacar/Data/iot-house/crawl-data/roku-data-20190501-125316\n",
      "---------------------\n",
      "Total channels 100\n",
      "Successful crawls 100\n",
      "Playback detected in 59\n"
     ]
    }
   ],
   "source": [
    "ROKU_MITM_WARMUP_CRAWL = \"roku-data-20190501-125316\"\n",
    "detected_roku, crawl_statuses_roku = print_crawl_summary(ROKU_MITM_WARMUP_CRAWL)"
   ]
  },
  {
   "cell_type": "code",
   "execution_count": null,
   "metadata": {},
   "outputs": [],
   "source": []
  }
 ],
 "metadata": {
  "kernelspec": {
   "display_name": "Python 3",
   "language": "python",
   "name": "python3"
  },
  "language_info": {
   "codemirror_mode": {
    "name": "ipython",
    "version": 3
   },
   "file_extension": ".py",
   "mimetype": "text/x-python",
   "name": "python",
   "nbconvert_exporter": "python",
   "pygments_lexer": "ipython3",
   "version": "3.6.7"
  }
 },
 "nbformat": 4,
 "nbformat_minor": 2
}
