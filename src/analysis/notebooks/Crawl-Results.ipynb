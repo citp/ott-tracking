{
 "cells": [
  {
   "cell_type": "code",
   "execution_count": 3,
   "metadata": {},
   "outputs": [
    {
     "name": "stderr",
     "output_type": "stream",
     "text": [
      "/usr/lib/python3.6/importlib/_bootstrap.py:219: RuntimeWarning: numpy.dtype size changed, may indicate binary incompatibility. Expected 96, got 88\n",
      "  return f(*args, **kwds)\n",
      "/usr/lib/python3.6/importlib/_bootstrap.py:219: RuntimeWarning: numpy.dtype size changed, may indicate binary incompatibility. Expected 96, got 88\n",
      "  return f(*args, **kwds)\n"
     ]
    }
   ],
   "source": [
    "from log_analysis import get_crawl_status, get_crawl_data_path, print_crawl_summary, get_n_successful_channels\n",
    "from crawl_ids import ROKU_CRAWLS, FIRE_TV_CRAWLS"
   ]
  },
  {
   "cell_type": "code",
   "execution_count": 7,
   "metadata": {},
   "outputs": [
    {
     "name": "stdout",
     "output_type": "stream",
     "text": [
      "\n",
      "---------------------\n",
      "Crawl summary: roku-data-20190427-014017 /home/gacar/dev/smart-tv/data/roku-data-20190427-014017\n",
      "---------------------\n",
      "Total channels 150\n",
      "Successful crawls 141\n",
      "Results Counter({'TERMINATED': 141, 'INSTALLING': 9})\n",
      "Playback detected in 85\n",
      "\n",
      "---------------------\n",
      "Crawl summary: roku-data-20190501-031836 /home/gacar/dev/smart-tv/data/roku-data-20190501-031836\n",
      "---------------------\n",
      "Total channels 100\n",
      "Successful crawls 100\n",
      "Results Counter({'TERMINATED': 100})\n",
      "Playback detected in 58\n",
      "\n",
      "---------------------\n",
      "Crawl summary: roku-data-20190501-125316 /home/gacar/dev/smart-tv/data/roku-data-20190501-125316\n",
      "---------------------\n",
      "Total channels 100\n",
      "Successful crawls 100\n",
      "Results Counter({'TERMINATED': 100})\n",
      "Playback detected in 59\n",
      "\n",
      "---------------------\n",
      "Crawl summary: roku-data-20190503-120644 /home/gacar/dev/smart-tv/data/roku-data-20190503-120644\n",
      "---------------------\n",
      "Total channels 100\n",
      "Successful crawls 100\n",
      "Results Counter({'TERMINATED': 100})\n",
      "Playback detected in 55\n",
      "\n",
      "---------------------\n",
      "Crawl summary: roku-data-20190505-165349 /home/gacar/dev/smart-tv/data/roku-data-20190505-165349\n",
      "---------------------\n",
      "Total channels 100\n",
      "Successful crawls 100\n",
      "Results Counter({'TERMINATED': 100})\n",
      "Playback detected in 56\n",
      "\n",
      "---------------------\n",
      "Crawl summary: roku-data-20190512-203416 /media/gacar/Data/iot-house/crawl-data/roku-data-20190512-203416\n",
      "---------------------\n",
      "Total channels 100\n",
      "Successful crawls 100\n",
      "Results Counter({'TERMINATED': 100})\n",
      "Playback detected in 60\n",
      "\n",
      "---------------------\n",
      "Crawl summary: roku-data-20190508-013650 /home/gacar/dev/smart-tv/data/roku-data-20190508-013650\n",
      "---------------------\n",
      "Total channels 1000\n",
      "Successful crawls 981\n",
      "Results Counter({'TERMINATED': 981, 'INSTALLING': 15, 'LAUNCHING': 4})\n",
      "Playback detected in 677\n",
      "\n",
      "---------------------\n",
      "Crawl summary: amazon-data-20190509-140804 /home/gacar/dev/smart-tv/data/amazon-data-20190509-140804\n",
      "---------------------\n",
      "Total channels 86\n",
      "Successful crawls 80\n",
      "Results Counter({'TERMINATED': 80, 'LAUNCHING': 3, 'INSTALLING': 3})\n",
      "Playback detected in 41\n",
      "\n",
      "---------------------\n",
      "Crawl summary: amazon-data-20190508-202449 /home/gacar/dev/smart-tv/data/amazon-data-20190508-202449\n",
      "---------------------\n",
      "Total channels 86\n",
      "Successful crawls 82\n",
      "Results Counter({'TERMINATED': 82, 'INSTALLING': 3, 'LAUNCHING': 1})\n",
      "Playback detected in 48\n",
      "\n",
      "---------------------\n",
      "Crawl summary: amazon-data-20190510-185732 /home/gacar/dev/smart-tv/data/amazon-data-20190510-185732\n",
      "---------------------\n",
      "Total channels 86\n",
      "Successful crawls 80\n",
      "Results Counter({'TERMINATED': 80, 'LAUNCHING': 3, 'INSTALLING': 3})\n",
      "Playback detected in 42\n",
      "\n",
      "---------------------\n",
      "Cannot find the crawl data dir amazon-data-20190509-133244\n",
      "\n",
      "---------------------\n",
      "Cannot find the crawl data dir amazon-data-20190510-205355\n"
     ]
    }
   ],
   "source": [
    "for crawl_name in ROKU_CRAWLS + FIRE_TV_CRAWLS:\n",
    "    if not crawl_name:\n",
    "        continue\n",
    "    try:\n",
    "        print(\"\\n---------------------\")\n",
    "        print_crawl_summary(crawl_name)\n",
    "    except Exception as exc:\n",
    "        print(exc)\n"
   ]
  },
  {
   "cell_type": "code",
   "execution_count": null,
   "metadata": {},
   "outputs": [],
   "source": []
  }
 ],
 "metadata": {
  "kernelspec": {
   "display_name": "Python 3",
   "language": "python",
   "name": "python3"
  },
  "language_info": {
   "codemirror_mode": {
    "name": "ipython",
    "version": 3
   },
   "file_extension": ".py",
   "mimetype": "text/x-python",
   "name": "python",
   "nbconvert_exporter": "python",
   "pygments_lexer": "ipython3",
   "version": "3.6.7"
  }
 },
 "nbformat": 4,
 "nbformat_minor": 2
}
