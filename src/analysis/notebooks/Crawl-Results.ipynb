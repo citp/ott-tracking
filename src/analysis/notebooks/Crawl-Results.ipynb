{
 "cells": [
  {
   "cell_type": "code",
   "execution_count": 1,
   "metadata": {},
   "outputs": [
    {
     "name": "stderr",
     "output_type": "stream",
     "text": [
      "/usr/lib/python3.6/importlib/_bootstrap.py:219: RuntimeWarning: numpy.dtype size changed, may indicate binary incompatibility. Expected 96, got 88\n",
      "  return f(*args, **kwds)\n",
      "/usr/lib/python3.6/importlib/_bootstrap.py:219: RuntimeWarning: numpy.dtype size changed, may indicate binary incompatibility. Expected 96, got 88\n",
      "  return f(*args, **kwds)\n"
     ]
    }
   ],
   "source": [
    "from log_analysis import get_playback_detection_results, get_crawl_status, get_crawl_data_path, print_crawl_summary"
   ]
  },
  {
   "cell_type": "code",
   "execution_count": 6,
   "metadata": {},
   "outputs": [
    {
     "name": "stdout",
     "output_type": "stream",
     "text": [
      "Crawl summary: roku-data-20190427-014017 /home/gacar/dev/smart-tv/data/roku-data-20190427-014017\n",
      "---------------------\n",
      "Total channels 150\n",
      "Successful crawls 141\n",
      "Results Counter({'TERMINATED': 141, 'INSTALLING': 9})\n",
      "Playback detected in 85\n"
     ]
    }
   ],
   "source": [
    "# Warmup parameter detection crawl\n",
    "detected_roku, crawl_statuses_roku = print_crawl_summary('roku-data-20190427-014017')"
   ]
  },
  {
   "cell_type": "code",
   "execution_count": 7,
   "metadata": {},
   "outputs": [
    {
     "name": "stdout",
     "output_type": "stream",
     "text": [
      "Crawl summary: roku-data-20190501-031836 /media/gacar/Data/iot-house/crawl-data/roku-data-20190501-031836\n",
      "---------------------\n",
      "Total channels 95\n",
      "Successful crawls 95\n",
      "Results Counter({'TERMINATED': 95})\n",
      "Playback detected in 55\n"
     ]
    }
   ],
   "source": [
    "## NO MITM\n",
    "detected_amazon, crawl_statuses_amazon = print_crawl_summary('roku-data-20190501-031836')"
   ]
  },
  {
   "cell_type": "code",
   "execution_count": 10,
   "metadata": {},
   "outputs": [
    {
     "name": "stdout",
     "output_type": "stream",
     "text": [
      "Crawl summary: roku-data-20190501-125316 /media/gacar/Data/iot-house/crawl-data/roku-data-20190501-125316\n",
      "---------------------\n",
      "Total channels 100\n",
      "Successful crawls 100\n",
      "Results Counter({'TERMINATED': 100})\n",
      "Playback detected in 59\n"
     ]
    }
   ],
   "source": [
    "# Warmup crawl to build lists of uninterceptable domains\n",
    "detected_roku, crawl_statuses_roku = print_crawl_summary(\"roku-data-20190501-125316\")"
   ]
  },
  {
   "cell_type": "code",
   "execution_count": 11,
   "metadata": {},
   "outputs": [
    {
     "name": "stdout",
     "output_type": "stream",
     "text": [
      "Crawl summary: roku-data-20190503-120644 /media/gacar/Data/iot-house/crawl-data/roku-data-20190503-120644\n",
      "---------------------\n",
      "Total channels 95\n",
      "Successful crawls 95\n",
      "Results Counter({'TERMINATED': 95})\n",
      "Playback detected in 52\n"
     ]
    }
   ],
   "source": [
    "# MITM crawl\n",
    "detected_roku, crawl_statuses_roku = print_crawl_summary(\"roku-data-20190503-120644\")"
   ]
  },
  {
   "cell_type": "code",
   "execution_count": 24,
   "metadata": {},
   "outputs": [
    {
     "name": "stdout",
     "output_type": "stream",
     "text": [
      "Crawl summary: roku-data-20190505-165349 /media/gacar/Data/iot-house/crawl-data/roku-data-20190505-165349\n",
      "---------------------\n",
      "Total channels 100\n",
      "Successful crawls 100\n",
      "Results Counter({'TERMINATED': 100})\n",
      "Playback detected in 56\n"
     ]
    }
   ],
   "source": [
    "# Limit ad tracking ON\n",
    "detected_roku, crawl_statuses_roku = print_crawl_summary(\"roku-data-20190505-165349\")"
   ]
  },
  {
   "cell_type": "code",
   "execution_count": 14,
   "metadata": {},
   "outputs": [
    {
     "name": "stdout",
     "output_type": "stream",
     "text": [
      "Crawl summary: roku-data-20190506-145744 /media/gacar/Data/iot-house/crawl-data/roku-data-20190506-145744\n",
      "---------------------\n",
      "Total channels 100\n",
      "Successful crawls 100\n",
      "Results Counter({'TERMINATED': 100})\n",
      "Playback detected in 0\n"
     ]
    }
   ],
   "source": [
    "# SSL Strip ON\n",
    "detected_roku, crawl_statuses_roku = print_crawl_summary(\"roku-data-20190506-145744\")"
   ]
  },
  {
   "cell_type": "code",
   "execution_count": 17,
   "metadata": {},
   "outputs": [
    {
     "name": "stdout",
     "output_type": "stream",
     "text": [
      "Crawl summary: amazon-data-20190503-112117 /media/gacar/Data/iot-house/crawl-data/amazon-data-20190503-112117\n",
      "---------------------\n",
      "Total channels 85\n",
      "Successful crawls 82\n",
      "Results Counter({'TERMINATED': 82, 'INSTALLING': 3})\n",
      "Playback detected in 38\n"
     ]
    }
   ],
   "source": [
    "# AMAZON_NO_MITM_CRAWL\n",
    "_, _ = print_crawl_summary(\"amazon-data-20190503-112117\")"
   ]
  },
  {
   "cell_type": "code",
   "execution_count": 20,
   "metadata": {},
   "outputs": [
    {
     "name": "stdout",
     "output_type": "stream",
     "text": [
      "Crawl summary: amazon-data-20190505-003340 /media/gacar/Data/iot-house/crawl-data/amazon-data-20190505-003340\n",
      "---------------------\n",
      "Total channels 85\n",
      "Successful crawls 82\n",
      "Results Counter({'TERMINATED': 82, 'INSTALLING': 3})\n",
      "Playback detected in 27\n"
     ]
    }
   ],
   "source": [
    "# AMAZON WARM UP\n",
    "_, _ = print_crawl_summary(\"amazon-data-20190505-003340\")"
   ]
  },
  {
   "cell_type": "code",
   "execution_count": 25,
   "metadata": {},
   "outputs": [
    {
     "name": "stdout",
     "output_type": "stream",
     "text": [
      "Crawl summary: amazon-data-20190506-140738 /media/gacar/Data/iot-house/crawl-data/amazon-data-20190506-140738\n",
      "---------------------\n",
      "Total channels 85\n",
      "Successful crawls 82\n",
      "Results Counter({'TERMINATED': 82, 'INSTALLING': 3})\n",
      "Playback detected in 47\n"
     ]
    }
   ],
   "source": [
    "# AMAZON MITM_CRAWL\n",
    "_, _ = print_crawl_summary(\"amazon-data-20190506-140738\")"
   ]
  },
  {
   "cell_type": "code",
   "execution_count": null,
   "metadata": {},
   "outputs": [],
   "source": []
  }
 ],
 "metadata": {
  "kernelspec": {
   "display_name": "Python 3",
   "language": "python",
   "name": "python3"
  },
  "language_info": {
   "codemirror_mode": {
    "name": "ipython",
    "version": 3
   },
   "file_extension": ".py",
   "mimetype": "text/x-python",
   "name": "python",
   "nbconvert_exporter": "python",
   "pygments_lexer": "ipython3",
   "version": "3.6.7"
  }
 },
 "nbformat": 4,
 "nbformat_minor": 2
}
