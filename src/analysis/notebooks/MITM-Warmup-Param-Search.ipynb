{
 "cells": [
  {
   "cell_type": "code",
   "execution_count": 4,
   "metadata": {
    "pycharm": {}
   },
   "outputs": [],
   "source": [
    "import numpy as np\n",
    "import pandas as pd\n",
    "from log_analysis import (get_unique_tcp_stream_ids, load_timestamps_from_crawl_data,\n",
    "                          get_distinct_tcp_conns, get_crawl_data_path,\n",
    "                          get_crawl_status, get_epoch)\n",
    "\n",
    "from os.path import isdir, join\n",
    "from datetime import datetime\n",
    "from glob import glob\n",
    "\n",
    "ROKU_WARMUP_CRAWL = 'roku-data-20190427-014017'\n",
    "crawl_data_dir_roku = get_crawl_data_path(ROKU_WARMUP_CRAWL)"
   ]
  },
  {
   "cell_type": "code",
   "execution_count": 5,
   "metadata": {
    "pycharm": {}
   },
   "outputs": [],
   "source": [
    "assert isdir(crawl_data_dir_roku)"
   ]
  },
  {
   "cell_type": "code",
   "execution_count": 6,
   "metadata": {
    "pycharm": {}
   },
   "outputs": [],
   "source": [
    "crawl_results = get_crawl_status(crawl_data_dir_roku)"
   ]
  },
  {
   "cell_type": "markdown",
   "metadata": {
    "pycharm": {}
   },
   "source": [
    "## Load timestamps"
   ]
  },
  {
   "cell_type": "code",
   "execution_count": 7,
   "metadata": {
    "pycharm": {}
   },
   "outputs": [
    {
     "name": "stdout",
     "output_type": "stream",
     "text": [
      "Loading timestamp data from /home/gacar/dev/smart-tv/data/roku-data-20190427-014017\n"
     ]
    }
   ],
   "source": [
    "channel_timestamps = load_timestamps_from_crawl_data(crawl_data_dir_roku)\n",
    "\n",
    "longest_label_set = max(list(channel_timestamps.values()), key=len)\n",
    "label_set = [i[0] for i in longest_label_set]\n",
    "smart_crawl_labels = list(filter(lambda x: 'key-seq' in x, label_set))\n"
   ]
  },
  {
   "cell_type": "code",
   "execution_count": 37,
   "metadata": {},
   "outputs": [
    {
     "name": "stderr",
     "output_type": "stream",
     "text": [
      "/home/gacar/.local/lib/python3.6/site-packages/ipykernel_launcher.py:8: SettingWithCopyWarning: \n",
      "A value is trying to be set on a copy of a slice from a DataFrame.\n",
      "Try using .loc[row_indexer,col_indexer] = value instead\n",
      "\n",
      "See the caveats in the documentation: http://pandas.pydata.org/pandas-docs/stable/indexing.html#indexing-view-versus-copy\n",
      "  \n"
     ]
    }
   ],
   "source": [
    "def get_launch_no(epoch):\n",
    "    launch_idx = int(epoch.split(\"-\", 2)[1])\n",
    "    if \"smartlaunch\" in epoch:\n",
    "        return 10 + launch_idx\n",
    "    elif \"launch\" in epoch:\n",
    "        return launch_idx"
   ]
  },
  {
   "cell_type": "code",
   "execution_count": 10,
   "metadata": {
    "pycharm": {}
   },
   "outputs": [],
   "source": [
    "# Load all (All SSL/TCP Streams)\n",
    "def get_stream_df(crawl_name, channel_timestamps):\n",
    "    crawl_data_dir = get_crawl_data_path(crawl_name)\n",
    "    print (crawl_data_dir)\n",
    "    post_process_dir = join(crawl_data_dir, 'post-process')\n",
    "    ssl_df = get_distinct_tcp_conns(crawl_data_dir)\n",
    "    ssl_df = ssl_df[ssl_df.tcp_dstport == 443]\n",
    "    #Add SSL artifacts \n",
    "    # ssl_fails = get_tcp_conns(post_process_dir, \"*.pcap.ssl_fail\")\n",
    "    ssl_attempts = get_unique_tcp_stream_ids(post_process_dir, \"*.pcap.mitmproxy-attempt\")\n",
    "    ssl_success = get_unique_tcp_stream_ids(post_process_dir, \"*.pcap.ssl_connections\")\n",
    "    # print(ssl_success)\n",
    "    ssl_df['mitm_attempt'] = ssl_df.apply(lambda x: x['tcp_stream'] in ssl_attempts[x['channel_id']], axis=1)\n",
    "    # ssl_df['mitm_fail'] = ssl_df.apply(lambda x: x['tcp.stream'] in ssl_fails[x['channel_id']], axis=1)\n",
    "    # mitm_fail doesn't capture some corner cases, we should test and use mitm success\n",
    "    ssl_df['ssl_success'] = ssl_df.apply(lambda x: x['tcp_stream'] in ssl_success[x['channel_id']], axis=1)\n",
    "    ssl_df[\"crawl_status\"] = ssl_df[\"channel_id\"].map(lambda x: crawl_results[x])\n",
    "    ssl_df['epoch'] = ssl_df.apply(lambda x: get_epoch(x, channel_timestamps), axis=1)\n",
    "    ssl_df['n_smart_crawl_launch'] = ssl_df['epoch'].map(lambda x: int(x.split('-')[1]) if 'key-seq' in x else -1)\n",
    "    ssl_df['launch_no'] = ssl_df.epoch.map(lambda x: \"-\".join(x.split(\"-\", 2)[:2]))\n",
    "    ssl_df['launch_no_int'] = ssl_df.epoch.map(get_launch_no)\n",
    "    return ssl_df"
   ]
  },
  {
   "cell_type": "code",
   "execution_count": 12,
   "metadata": {
    "pycharm": {}
   },
   "outputs": [
    {
     "name": "stdout",
     "output_type": "stream",
     "text": [
      "/home/gacar/dev/smart-tv/data/roku-data-20190427-014017\n",
      "Loading distinct TCP connections from /home/gacar/dev/smart-tv/data/roku-data-20190427-014017/post-process \n"
     ]
    }
   ],
   "source": [
    "roku_df = get_stream_df(ROKU_WARMUP_CRAWL, channel_timestamps)"
   ]
  },
  {
   "cell_type": "markdown",
   "metadata": {
    "pycharm": {}
   },
   "source": [
    "### Crawl outcome\n",
    "- `TERMINATED` means success"
   ]
  },
  {
   "cell_type": "code",
   "execution_count": 13,
   "metadata": {
    "pycharm": {}
   },
   "outputs": [
    {
     "data": {
      "text/plain": [
       "TERMINATED    141\n",
       "INSTALLING      9\n",
       "Name: crawl_status, dtype: int64"
      ]
     },
     "execution_count": 13,
     "metadata": {},
     "output_type": "execute_result"
    }
   ],
   "source": [
    "roku_df.drop_duplicates(\"channel_id\").crawl_status.value_counts()"
   ]
  },
  {
   "cell_type": "markdown",
   "metadata": {
    "pycharm": {}
   },
   "source": [
    "## Make sure all missing epoch are due to unfinished crawls"
   ]
  },
  {
   "cell_type": "code",
   "execution_count": 14,
   "metadata": {
    "pycharm": {}
   },
   "outputs": [],
   "source": [
    "assert len(roku_df[(roku_df.epoch == \"unknown\") & (roku_df.crawl_status == \"TERMINATED\")]) == 0"
   ]
  },
  {
   "cell_type": "code",
   "execution_count": 15,
   "metadata": {
    "pycharm": {}
   },
   "outputs": [
    {
     "name": "stdout",
     "output_type": "stream",
     "text": [
      "Roku 164\n"
     ]
    }
   ],
   "source": [
    "print (\"Roku\", len(roku_df[(roku_df.epoch == \"unknown\")]))"
   ]
  },
  {
   "cell_type": "markdown",
   "metadata": {
    "pycharm": {}
   },
   "source": [
    "## Filter out connections from channels that could not be scraped"
   ]
  },
  {
   "cell_type": "code",
   "execution_count": 16,
   "metadata": {
    "pycharm": {}
   },
   "outputs": [],
   "source": [
    "roku_df = roku_df[(roku_df.epoch != \"unknown\") & (roku_df.crawl_status == \"TERMINATED\")]"
   ]
  },
  {
   "cell_type": "markdown",
   "metadata": {
    "pycharm": {}
   },
   "source": [
    "## MITM Succes rate"
   ]
  },
  {
   "cell_type": "code",
   "execution_count": 17,
   "metadata": {
    "pycharm": {}
   },
   "outputs": [],
   "source": [
    "roku_attempts = roku_df[roku_df.mitm_attempt]\n",
    "roku_fails  = roku_attempts[~roku_attempts.ssl_success]\n",
    "roku_successes  = roku_attempts[roku_attempts.ssl_success]\n",
    "n_roku_attempts = len(roku_attempts)"
   ]
  },
  {
   "cell_type": "code",
   "execution_count": 18,
   "metadata": {
    "pycharm": {}
   },
   "outputs": [
    {
     "name": "stdout",
     "output_type": "stream",
     "text": [
      "41301 total SSL connections to 473 distinct hosts\n",
      " 1298 SSL MITM attempts to 313 distinct hosts\n",
      " 267 successfully MITMed SSL connections to 4 distinct hosts in 3 distinct channels\n",
      " Success rate (n_successes/n_attempts): 20.6%\n"
     ]
    }
   ],
   "source": [
    "print (len(roku_df), \"total SSL connections to\", roku_df.host_by_dns.nunique(), \"distinct hosts\\n\",\n",
    "            n_roku_attempts, \"SSL MITM attempts to\", roku_attempts.host_by_dns.nunique(), \"distinct hosts\\n\",\n",
    "              len(roku_successes), \"successfully MITMed SSL connections to\",\n",
    "       roku_successes.host_by_dns.nunique(), \"distinct hosts in\",\n",
    "       roku_successes.channel_id.nunique(), \"distinct channels\\n\",\n",
    "      \"Success rate (n_successes/n_attempts): %0.1f%%\" % (100*len(roku_successes)/n_roku_attempts))"
   ]
  },
  {
   "cell_type": "code",
   "execution_count": 19,
   "metadata": {
    "pycharm": {}
   },
   "outputs": [
    {
     "data": {
      "text/html": [
       "<div>\n",
       "<style scoped>\n",
       "    .dataframe tbody tr th:only-of-type {\n",
       "        vertical-align: middle;\n",
       "    }\n",
       "\n",
       "    .dataframe tbody tr th {\n",
       "        vertical-align: top;\n",
       "    }\n",
       "\n",
       "    .dataframe thead th {\n",
       "        text-align: right;\n",
       "    }\n",
       "</style>\n",
       "<table border=\"1\" class=\"dataframe\">\n",
       "  <thead>\n",
       "    <tr style=\"text-align: right;\">\n",
       "      <th></th>\n",
       "      <th>channel_id</th>\n",
       "      <th>host_by_dns</th>\n",
       "    </tr>\n",
       "  </thead>\n",
       "  <tbody>\n",
       "    <tr>\n",
       "      <th>5</th>\n",
       "      <td>90131</td>\n",
       "      <td>api.yuyutv.com</td>\n",
       "    </tr>\n",
       "    <tr>\n",
       "      <th>19</th>\n",
       "      <td>68669</td>\n",
       "      <td>ws-cloudpath.media.nbcuni.com</td>\n",
       "    </tr>\n",
       "    <tr>\n",
       "      <th>20</th>\n",
       "      <td>13842</td>\n",
       "      <td>vudu.d1.sc.omtrdc.net</td>\n",
       "    </tr>\n",
       "    <tr>\n",
       "      <th>22</th>\n",
       "      <td>13842</td>\n",
       "      <td>images2.vudu.com</td>\n",
       "    </tr>\n",
       "  </tbody>\n",
       "</table>\n",
       "</div>"
      ],
      "text/plain": [
       "   channel_id                    host_by_dns\n",
       "5       90131                 api.yuyutv.com\n",
       "19      68669  ws-cloudpath.media.nbcuni.com\n",
       "20      13842          vudu.d1.sc.omtrdc.net\n",
       "22      13842               images2.vudu.com"
      ]
     },
     "execution_count": 19,
     "metadata": {},
     "output_type": "execute_result"
    }
   ],
   "source": [
    "roku_successes.drop_duplicates(['host_by_dns', 'channel_id'])[['channel_id', 'host_by_dns']]"
   ]
  },
  {
   "cell_type": "markdown",
   "metadata": {
    "pycharm": {}
   },
   "source": [
    "### Make sure we don't have missing DNS data\n",
    "- TODO: we don't isolate IP-domain mappings by channel. Should we parse pcaps instead of using Redis dumps?"
   ]
  },
  {
   "cell_type": "code",
   "execution_count": 20,
   "metadata": {
    "pycharm": {}
   },
   "outputs": [
    {
     "name": "stdout",
     "output_type": "stream",
     "text": [
      "39\n"
     ]
    }
   ],
   "source": [
    "print(len(roku_df[(roku_df.host_by_dns ==\"unknown\") | (roku_df.host_by_dns ==\"\")]))"
   ]
  },
  {
   "cell_type": "markdown",
   "metadata": {
    "pycharm": {}
   },
   "source": [
    "### SSL fails without MITM attempt\n",
    "- Using the pcaps we verified that these SSL failures are due to issues such as Unknown CA (not caused by mitmproxy)."
   ]
  },
  {
   "cell_type": "markdown",
   "metadata": {
    "pycharm": {}
   },
   "source": [
    "### MITM fails breakdown by stage - relaunches and smart crawls"
   ]
  },
  {
   "cell_type": "code",
   "execution_count": 21,
   "metadata": {
    "pycharm": {}
   },
   "outputs": [
    {
     "name": "stdout",
     "output_type": "stream",
     "text": [
      "Roku Relaunch 494 154\n",
      "Roku Smart crawl 537 181\n"
     ]
    }
   ],
   "source": [
    "roku_relaunch_fails = roku_fails[roku_fails.epoch.str.contains('launch-') &\n",
    "                                     ~roku_fails.epoch.str.contains('key-seq')]\n",
    "\n",
    "roku_smartcrawl_fails = roku_fails[roku_fails.epoch.str.contains('key-seq')]\n",
    "\n",
    "\n",
    "print (\"Roku Relaunch\", len(roku_relaunch_fails), roku_relaunch_fails.host_by_dns.nunique())\n",
    "print (\"Roku Smart crawl\", len(roku_smartcrawl_fails), roku_smartcrawl_fails.host_by_dns.nunique())"
   ]
  },
  {
   "cell_type": "code",
   "execution_count": 22,
   "metadata": {
    "pycharm": {}
   },
   "outputs": [],
   "source": [
    "import matplotlib.pyplot as plt\n",
    "import seaborn as sns\n",
    "sns.set(rc={'figure.figsize':(6,3)}, style=\"darkgrid\")\n",
    "sns.set(font_scale = 0.8)"
   ]
  },
  {
   "cell_type": "code",
   "execution_count": 23,
   "metadata": {
    "pycharm": {}
   },
   "outputs": [],
   "source": [
    "def plot_ssl_by(df, filename=None, group_by=\"epoch\",rotation=45,\n",
    "                xlabel='Launch number', ylabel='Number of SSL errors'):\n",
    "    g = sns.countplot(data=df.sort_values(group_by), x=group_by)\n",
    "    g.set_xticklabels(g.get_xticklabels(), rotation=45)\n",
    "    g.set(xlabel=xlabel, ylabel=ylabel)\n",
    "    if filename is not None:\n",
    "        g.get_figure().savefig(filename, bbox_inches='tight')\n",
    "    g"
   ]
  },
  {
   "cell_type": "markdown",
   "metadata": {
    "pycharm": {}
   },
   "source": [
    "## SSL connections by epoch"
   ]
  },
  {
   "cell_type": "code",
   "execution_count": 83,
   "metadata": {
    "pycharm": {}
   },
   "outputs": [],
   "source": [
    "# plot_ssl_by(roku_df)"
   ]
  },
  {
   "cell_type": "markdown",
   "metadata": {
    "pycharm": {}
   },
   "source": [
    "## MITM fails by launch number"
   ]
  },
  {
   "cell_type": "code",
   "execution_count": 80,
   "metadata": {},
   "outputs": [
    {
     "data": {
      "image/png": "[encoded data removed]",
      "text/plain": [
       "<Figure size 432x288 with 1 Axes>"
      ]
     },
     "metadata": {
      "needs_background": "light"
     },
     "output_type": "display_data"
    }
   ],
   "source": [
    "plot_ssl_by(roku_fails, group_by=\"launch_no_int\",\n",
    "            filename=\"roku_ssl_fails_launch_no_combined.pdf\",\n",
    "           xlabel='Launch number', ylabel='Number of TLS failures')"
   ]
  },
  {
   "cell_type": "code",
   "execution_count": 77,
   "metadata": {},
   "outputs": [
    {
     "data": {
      "image/png": "[encoded data removed]",
      "text/plain": [
       "<Figure size 432x288 with 1 Axes>"
      ]
     },
     "metadata": {
      "needs_background": "light"
     },
     "output_type": "display_data"
    }
   ],
   "source": [
    "ax = roku_fails['launch_no_int'].hist(cumulative=True, bins=20, density=True, histtype=\"step\")\n",
    "ax.set(xlabel=\"Launch number\")\n",
    "plt.xticks(np.arange(min(roku_fails['launch_no_int']), max(roku_fails['launch_no_int'])+1, 1.0))\n",
    "fig = ax.get_figure()\n",
    "fig.savefig('cdf_warmup_param_selection_step.pdf', bbox_inches='tight')"
   ]
  },
  {
   "cell_type": "code",
   "execution_count": 78,
   "metadata": {},
   "outputs": [
    {
     "data": {
      "image/png": "[encoded data removed]",
      "text/plain": [
       "<Figure size 432x288 with 1 Axes>"
      ]
     },
     "metadata": {
      "needs_background": "light"
     },
     "output_type": "display_data"
    }
   ],
   "source": [
    "ax = roku_fails['launch_no_int'].hist(cumulative=True, bins=20, density=True, histtype=\"stepfilled\")\n",
    "ax.set(xlabel=\"Launch number\")\n",
    "plt.xticks(np.arange(min(roku_fails['launch_no_int']), max(roku_fails['launch_no_int'])+1, 1.0))\n",
    "fig = ax.get_figure()\n",
    "fig.savefig('cdf_warmup_param_selection_stepfilled.pdf', bbox_inches='tight')"
   ]
  },
  {
   "cell_type": "code",
   "execution_count": 79,
   "metadata": {},
   "outputs": [
    {
     "data": {
      "image/png": "[encoded data removed]",
      "text/plain": [
       "<Figure size 432x288 with 1 Axes>"
      ]
     },
     "metadata": {
      "needs_background": "light"
     },
     "output_type": "display_data"
    }
   ],
   "source": [
    "ax = sns.kdeplot(roku_fails['launch_no_int'], cumulative=True, legend=False)\n",
    "ax.set(xlabel=\"Launch number\")\n",
    "#plt.xticks(np.arange(min(roku_fails['launch_no_int']), max(roku_fails['launch_no_int'])+1, 1.0))\n",
    "fig = ax.get_figure()\n",
    "fig.savefig('kde_warmup_param_selection.pdf', bbox_inches='tight')"
   ]
  },
  {
   "cell_type": "markdown",
   "metadata": {},
   "source": [
    "## Parameter selection"
   ]
  },
  {
   "cell_type": "code",
   "execution_count": 56,
   "metadata": {},
   "outputs": [],
   "source": [
    "n_ssl_errs_after_5th_smart_crawl = len(roku_fails[roku_fails.n_smart_crawl_launch > 5])"
   ]
  },
  {
   "cell_type": "code",
   "execution_count": 57,
   "metadata": {},
   "outputs": [],
   "source": [
    "n_ssl_errs_before_5th_smart_crawl = len(roku_fails[roku_fails.n_smart_crawl_launch <= 5])"
   ]
  },
  {
   "cell_type": "code",
   "execution_count": 58,
   "metadata": {},
   "outputs": [
    {
     "name": "stdout",
     "output_type": "stream",
     "text": [
      "96.4% of the errors are encountered on or before 5th smart crawl\n"
     ]
    }
   ],
   "source": [
    "cdf_at_5th_smart = 100*n_ssl_errs_before_5th_smart_crawl / (n_ssl_errs_after_5th_smart_crawl + n_ssl_errs_before_5th_smart_crawl)\n",
    "print(\"%0.1f%% of the errors are encountered on or before 5th smart crawl\" % cdf_at_5th_smart)"
   ]
  },
  {
   "cell_type": "markdown",
   "metadata": {
    "pycharm": {}
   },
   "source": [
    "### MITM Fails during smart crawl"
   ]
  },
  {
   "cell_type": "code",
   "execution_count": 48,
   "metadata": {
    "pycharm": {}
   },
   "outputs": [
    {
     "data": {
      "image/png": "[encoded data removed]",
      "text/plain": [
       "<Figure size 432x288 with 1 Axes>"
      ]
     },
     "metadata": {
      "needs_background": "light"
     },
     "output_type": "display_data"
    }
   ],
   "source": [
    "plot_ssl_by(roku_fails, group_by='n_smart_crawl_launch')"
   ]
  },
  {
   "cell_type": "code",
   "execution_count": 49,
   "metadata": {
    "pycharm": {}
   },
   "outputs": [
    {
     "data": {
      "text/plain": [
       "<matplotlib.axes._subplots.AxesSubplot at 0x7f31dc409eb8>"
      ]
     },
     "execution_count": 49,
     "metadata": {},
     "output_type": "execute_result"
    },
    {
     "data": {
      "image/png": "[encoded data removed]",
      "text/plain": [
       "<Figure size 432x288 with 1 Axes>"
      ]
     },
     "metadata": {
      "needs_background": "light"
     },
     "output_type": "display_data"
    }
   ],
   "source": [
    "roku_fails['n_smart_crawl_launch'].hist(cumulative=True, bins=11)"
   ]
  },
  {
   "cell_type": "code",
   "execution_count": 50,
   "metadata": {
    "pycharm": {}
   },
   "outputs": [
    {
     "data": {
      "text/plain": [
       "<matplotlib.axes._subplots.AxesSubplot at 0x7f31dc3bf438>"
      ]
     },
     "execution_count": 50,
     "metadata": {},
     "output_type": "execute_result"
    },
    {
     "data": {
      "image/png": "[encoded data removed]",
      "text/plain": [
       "<Figure size 432x288 with 1 Axes>"
      ]
     },
     "metadata": {
      "needs_background": "light"
     },
     "output_type": "display_data"
    }
   ],
   "source": [
    "group_by = \"n_smart_crawl_launch\"\n",
    "sns.kdeplot(roku_fails['n_smart_crawl_launch']\n",
    "            , cumulative=True\n",
    "           )\n"
   ]
  },
  {
   "cell_type": "markdown",
   "metadata": {
    "pycharm": {}
   },
   "source": [
    "### MITM Fails during channel relaunch"
   ]
  },
  {
   "cell_type": "code",
   "execution_count": 81,
   "metadata": {
    "pycharm": {}
   },
   "outputs": [
    {
     "data": {
      "image/png": "[encoded data removed]",
      "text/plain": [
       "<Figure size 432x288 with 1 Axes>"
      ]
     },
     "metadata": {
      "needs_background": "light"
     },
     "output_type": "display_data"
    }
   ],
   "source": [
    "plot_ssl_by(roku_relaunch_fails, filename=\"images/roku_relaunch_fails.pdf\")"
   ]
  },
  {
   "cell_type": "markdown",
   "metadata": {
    "pycharm": {}
   },
   "source": [
    "## Late stage MITM fails\n",
    "- why do we still have mitm fails in later stages\n",
    "- it looks like, these are indeer hosts we have not seen before"
   ]
  },
  {
   "cell_type": "code",
   "execution_count": 42,
   "metadata": {
    "pycharm": {},
    "scrolled": true
   },
   "outputs": [
    {
     "data": {
      "text/plain": [
       "www.google-analytics.com        4\n",
       "secure-gl.imrworldwide.com      2\n",
       "d.agkn.com                      2\n",
       "ade.googlesyndication.com       2\n",
       "secure-gg.imrworldwide.com      2\n",
       "us-west-2.event.prod.bidr.io    2\n",
       "pixel.mtrcs.samba.tv            1\n",
       "redirector.gvt1.com             1\n",
       "imtwjwoasak.com                 1\n",
       "secure.insightexpressai.com     1\n",
       "Name: host_by_dns, dtype: int64"
      ]
     },
     "execution_count": 42,
     "metadata": {},
     "output_type": "execute_result"
    }
   ],
   "source": [
    "roku_fails[roku_fails.n_smart_crawl_launch > 5].host_by_dns.value_counts().head(10)"
   ]
  },
  {
   "cell_type": "code",
   "execution_count": 43,
   "metadata": {
    "pycharm": {}
   },
   "outputs": [
    {
     "name": "stdout",
     "output_type": "stream",
     "text": [
      "13 141\n"
     ]
    }
   ],
   "source": [
    "# No of channels failing on last smart crawl attempt\n",
    "print(roku_smartcrawl_fails[roku_smartcrawl_fails.n_smart_crawl_launch==4].channel_id.nunique(),  roku_df.channel_id.nunique())"
   ]
  },
  {
   "cell_type": "code",
   "execution_count": 44,
   "metadata": {
    "pycharm": {}
   },
   "outputs": [
    {
     "name": "stdout",
     "output_type": "stream",
     "text": [
      "25 141\n"
     ]
    }
   ],
   "source": [
    "print(roku_smartcrawl_fails[roku_smartcrawl_fails.n_smart_crawl_launch==3].channel_id.nunique(),  roku_df.channel_id.nunique())"
   ]
  },
  {
   "cell_type": "code",
   "execution_count": null,
   "metadata": {
    "pycharm": {}
   },
   "outputs": [],
   "source": []
  }
 ],
 "metadata": {
  "kernelspec": {
   "display_name": "Python 3",
   "language": "python",
   "name": "python3"
  },
  "language_info": {
   "codemirror_mode": {
    "name": "ipython",
    "version": 3
   },
   "file_extension": ".py",
   "mimetype": "text/x-python",
   "name": "python",
   "nbconvert_exporter": "python",
   "pygments_lexer": "ipython3",
   "version": "3.6.7"
  }
 },
 "nbformat": 4,
 "nbformat_minor": 2
}
