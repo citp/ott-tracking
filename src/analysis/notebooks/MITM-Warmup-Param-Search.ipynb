{
 "cells": [
  {
   "cell_type": "code",
   "execution_count": 1,
   "metadata": {
    "pycharm": {}
   },
   "outputs": [],
   "source": [
    "import numpy as np\n",
    "import pandas as pd\n",
    "from log_analysis import (get_unique_tcp_stream_ids, load_timestamps_from_crawl_data,\n",
    "                          get_distinct_tcp_conns, get_crawl_data_path,\n",
    "                          get_crawl_status, get_epoch)\n",
    "\n",
    "from os.path import isdir, join\n",
    "from datetime import datetime\n",
    "from glob import glob\n",
    "\n",
    "ROKU_WARMUP_CRAWL = 'roku-data-20190427-014017'\n",
    "crawl_data_dir_roku = get_crawl_data_path(ROKU_WARMUP_CRAWL)"
   ]
  },
  {
   "cell_type": "code",
   "execution_count": 2,
   "metadata": {
    "pycharm": {}
   },
   "outputs": [],
   "source": [
    "assert isdir(crawl_data_dir_roku)"
   ]
  },
  {
   "cell_type": "code",
   "execution_count": 3,
   "metadata": {
    "pycharm": {}
   },
   "outputs": [],
   "source": [
    "crawl_results = get_crawl_status(crawl_data_dir_roku)"
   ]
  },
  {
   "cell_type": "markdown",
   "metadata": {
    "pycharm": {}
   },
   "source": [
    "## Load timestamps"
   ]
  },
  {
   "cell_type": "code",
   "execution_count": 4,
   "metadata": {
    "pycharm": {}
   },
   "outputs": [
    {
     "name": "stdout",
     "output_type": "stream",
     "text": [
      "Loading timestamp data from /home/hooman/Desktop/crawl-data/roku-data-20190427-014017\n"
     ]
    }
   ],
   "source": [
    "channel_timestamps = load_timestamps_from_crawl_data(crawl_data_dir_roku)\n",
    "\n",
    "longest_label_set = max(list(channel_timestamps.values()), key=len)\n",
    "label_set = [i[0] for i in longest_label_set]\n",
    "smart_crawl_labels = list(filter(lambda x: 'key-seq' in x, label_set))\n"
   ]
  },
  {
   "cell_type": "code",
   "execution_count": 5,
   "metadata": {},
   "outputs": [],
   "source": [
    "def get_launch_no(epoch):\n",
    "    if 'launch' not in epoch:\n",
    "        return -1\n",
    "    launch_idx = int(epoch.split(\"-\", 2)[1])\n",
    "    if \"smartlaunch\" in epoch:\n",
    "        return 10 + launch_idx\n",
    "    elif \"launch\" in epoch:\n",
    "        return launch_idx"
   ]
  },
  {
   "cell_type": "code",
   "execution_count": 6,
   "metadata": {
    "pycharm": {}
   },
   "outputs": [
    {
     "name": "stdout",
     "output_type": "stream",
     "text": [
      "/home/hooman/Desktop/crawl-data/roku-data-20190427-014017\n",
      "Loading distinct TCP connections from /home/hooman/Desktop/crawl-data/roku-data-20190427-014017/post-process \n"
     ]
    },
    {
     "name": "stderr",
     "output_type": "stream",
     "text": [
      "b'Skipping line 58375: expected 6 fields, saw 8\\n'\n",
      "/home/hooman/Desktop/Princeton/tracking/smart-tv/src/analysis/notebooks/nb_utils.py:230: SettingWithCopyWarning: \n",
      "A value is trying to be set on a copy of a slice from a DataFrame\n",
      "\n",
      "See the caveats in the documentation: http://pandas.pydata.org/pandas-docs/stable/user_guide/indexing.html#returning-a-view-versus-a-copy\n",
      "  amazon_df.category[amazon_df.category == \"\"] = 'Others'\n"
     ]
    },
    {
     "name": "stdout",
     "output_type": "stream",
     "text": [
      "32269\n",
      "Multiple messages 410\n",
      "Loaded 76247 from EasyList, 16516 rules from EasyPrivacy\n",
      "Loading distinct SSL connections from /home/hooman/Desktop/crawl-data/roku-data-20190427-014017/post-process \n"
     ]
    }
   ],
   "source": [
    "# Load all (All SSL/TCP Streams)\n",
    "crawl_name = ROKU_WARMUP_CRAWL\n",
    "crawl_data_dir = get_crawl_data_path(crawl_name)\n",
    "print (crawl_data_dir)\n",
    "post_process_dir = join(crawl_data_dir, 'post-process')\n",
    "ssl_df = get_distinct_tcp_conns(crawl_data_dir, adBlockStat=False)\n",
    "ssl_df = ssl_df[ssl_df.tcp_dstport == 443]\n",
    "#Add SSL artifacts \n",
    "# ssl_fails = get_tcp_conns(post_process_dir, \"*.pcap.ssl_fail\")\n",
    "ssl_attempts = get_unique_tcp_stream_ids(post_process_dir, \"*.pcap.mitmproxy-attempt\")\n",
    "ssl_success = get_unique_tcp_stream_ids(post_process_dir, \"*.pcap.ssl_connections\")\n",
    "# print(ssl_success)\n",
    "ssl_df['mitm_attempt'] = ssl_df.apply(lambda x: x['tcp_stream'] in ssl_attempts[x['channel_id']], axis=1)\n",
    "# ssl_df['mitm_fail'] = ssl_df.apply(lambda x: x['tcp.stream'] in ssl_fails[x['channel_id']], axis=1)\n",
    "# mitm_fail doesn't capture some corner cases, we should test and use mitm success\n",
    "ssl_df['ssl_success'] = ssl_df.apply(lambda x: x['tcp_stream'] in ssl_success[x['channel_id']], axis=1)\n",
    "ssl_df[\"crawl_status\"] = ssl_df[\"channel_id\"].map(lambda x: crawl_results[x])\n",
    "ssl_df['epoch'] = ssl_df.apply(lambda x: get_epoch(x, channel_timestamps), axis=1)\n",
    "ssl_df['n_smart_crawl_launch'] = ssl_df['epoch'].map(lambda x: int(x.split('-')[1]) if 'key-seq' in x else -1)\n",
    "ssl_df['launch_no'] = ssl_df.epoch.map(lambda x: \"-\".join(x.split(\"-\", 2)[:2]))\n",
    "ssl_df['launch_no_int'] = ssl_df.epoch.map(get_launch_no)\n",
    "roku_df = ssl_df"
   ]
  },
  {
   "cell_type": "markdown",
   "metadata": {
    "pycharm": {}
   },
   "source": [
    "### Crawl outcome\n",
    "- `TERMINATED` means success"
   ]
  },
  {
   "cell_type": "code",
   "execution_count": 7,
   "metadata": {
    "pycharm": {}
   },
   "outputs": [
    {
     "data": {
      "text/plain": [
       "TERMINATED    141\n",
       "INSTALLING      9\n",
       "Name: crawl_status, dtype: int64"
      ]
     },
     "execution_count": 7,
     "metadata": {},
     "output_type": "execute_result"
    }
   ],
   "source": [
    "roku_df.drop_duplicates(\"channel_id\").crawl_status.value_counts()"
   ]
  },
  {
   "cell_type": "markdown",
   "metadata": {
    "pycharm": {}
   },
   "source": [
    "## Make sure all missing epoch are due to unfinished crawls"
   ]
  },
  {
   "cell_type": "code",
   "execution_count": 8,
   "metadata": {
    "pycharm": {}
   },
   "outputs": [],
   "source": [
    "assert len(roku_df[(roku_df.epoch == \"unknown\") & (roku_df.crawl_status == \"TERMINATED\")]) == 0"
   ]
  },
  {
   "cell_type": "code",
   "execution_count": 9,
   "metadata": {
    "pycharm": {}
   },
   "outputs": [
    {
     "name": "stdout",
     "output_type": "stream",
     "text": [
      "Roku 173\n"
     ]
    }
   ],
   "source": [
    "print (\"Roku\", len(roku_df[(roku_df.epoch == \"unknown\")]))"
   ]
  },
  {
   "cell_type": "markdown",
   "metadata": {
    "pycharm": {}
   },
   "source": [
    "## Filter out connections from channels that could not be scraped"
   ]
  },
  {
   "cell_type": "code",
   "execution_count": 10,
   "metadata": {
    "pycharm": {}
   },
   "outputs": [],
   "source": [
    "roku_df = roku_df[(roku_df.epoch != \"unknown\") & (roku_df.crawl_status == \"TERMINATED\")]"
   ]
  },
  {
   "cell_type": "markdown",
   "metadata": {
    "pycharm": {}
   },
   "source": [
    "## MITM Succes rate"
   ]
  },
  {
   "cell_type": "code",
   "execution_count": 11,
   "metadata": {
    "pycharm": {}
   },
   "outputs": [],
   "source": [
    "roku_attempts = roku_df[roku_df.mitm_attempt]\n",
    "roku_fails  = roku_attempts[~roku_attempts.ssl_success]\n",
    "roku_successes  = roku_attempts[roku_attempts.ssl_success]\n",
    "n_roku_attempts = len(roku_attempts)"
   ]
  },
  {
   "cell_type": "code",
   "execution_count": 12,
   "metadata": {
    "pycharm": {}
   },
   "outputs": [
    {
     "name": "stdout",
     "output_type": "stream",
     "text": [
      "35798 total SSL connections to 473 distinct hosts\n",
      " 1298 SSL MITM attempts to 313 distinct hosts\n",
      " 267 successfully MITMed SSL connections to 4 distinct hosts in 3 distinct channels\n",
      " Success rate (n_successes/n_attempts): 20.6%\n"
     ]
    }
   ],
   "source": [
    "print (len(roku_df), \"total SSL connections to\", roku_df.host_by_dns.nunique(), \"distinct hosts\\n\",\n",
    "            n_roku_attempts, \"SSL MITM attempts to\", roku_attempts.host_by_dns.nunique(), \"distinct hosts\\n\",\n",
    "              len(roku_successes), \"successfully MITMed SSL connections to\",\n",
    "       roku_successes.host_by_dns.nunique(), \"distinct hosts in\",\n",
    "       roku_successes.channel_id.nunique(), \"distinct channels\\n\",\n",
    "      \"Success rate (n_successes/n_attempts): %0.1f%%\" % (100*len(roku_successes)/n_roku_attempts))"
   ]
  },
  {
   "cell_type": "code",
   "execution_count": 13,
   "metadata": {
    "pycharm": {}
   },
   "outputs": [
    {
     "data": {
      "text/html": [
       "<div>\n",
       "<style scoped>\n",
       "    .dataframe tbody tr th:only-of-type {\n",
       "        vertical-align: middle;\n",
       "    }\n",
       "\n",
       "    .dataframe tbody tr th {\n",
       "        vertical-align: top;\n",
       "    }\n",
       "\n",
       "    .dataframe thead th {\n",
       "        text-align: right;\n",
       "    }\n",
       "</style>\n",
       "<table border=\"1\" class=\"dataframe\">\n",
       "  <thead>\n",
       "    <tr style=\"text-align: right;\">\n",
       "      <th></th>\n",
       "      <th>channel_id</th>\n",
       "      <th>host_by_dns</th>\n",
       "    </tr>\n",
       "  </thead>\n",
       "  <tbody>\n",
       "    <tr>\n",
       "      <td>641</td>\n",
       "      <td>13842</td>\n",
       "      <td>vudu.d1.sc.omtrdc.net</td>\n",
       "    </tr>\n",
       "    <tr>\n",
       "      <td>847</td>\n",
       "      <td>13842</td>\n",
       "      <td>images2.vudu.com</td>\n",
       "    </tr>\n",
       "    <tr>\n",
       "      <td>2788</td>\n",
       "      <td>68669</td>\n",
       "      <td>ws-cloudpath.media.nbcuni.com</td>\n",
       "    </tr>\n",
       "    <tr>\n",
       "      <td>38</td>\n",
       "      <td>90131</td>\n",
       "      <td>api.yuyutv.com</td>\n",
       "    </tr>\n",
       "  </tbody>\n",
       "</table>\n",
       "</div>"
      ],
      "text/plain": [
       "     channel_id                    host_by_dns\n",
       "641       13842          vudu.d1.sc.omtrdc.net\n",
       "847       13842               images2.vudu.com\n",
       "2788      68669  ws-cloudpath.media.nbcuni.com\n",
       "38        90131                 api.yuyutv.com"
      ]
     },
     "execution_count": 13,
     "metadata": {},
     "output_type": "execute_result"
    }
   ],
   "source": [
    "roku_successes.drop_duplicates(['host_by_dns', 'channel_id'])[['channel_id', 'host_by_dns']]"
   ]
  },
  {
   "cell_type": "markdown",
   "metadata": {
    "pycharm": {}
   },
   "source": [
    "### Make sure we don't have missing DNS data\n",
    "\n",
    "- TODO: we don't isolate IP-domain mappings by channel. Should we parse pcaps instead of using Redis dumps?"
   ]
  },
  {
   "cell_type": "code",
   "execution_count": 14,
   "metadata": {
    "pycharm": {}
   },
   "outputs": [
    {
     "name": "stdout",
     "output_type": "stream",
     "text": [
      "191\n"
     ]
    }
   ],
   "source": [
    "print(len(roku_df[(roku_df.host_by_dns ==\"unknown\") | (roku_df.host_by_dns ==\"\")]))"
   ]
  },
  {
   "cell_type": "markdown",
   "metadata": {
    "pycharm": {}
   },
   "source": [
    "### SSL fails without MITM attempt\n",
    "- Using the pcaps we verified that these SSL failures are due to issues such as Unknown CA (not caused by mitmproxy)."
   ]
  },
  {
   "cell_type": "markdown",
   "metadata": {
    "pycharm": {}
   },
   "source": [
    "### MITM fails breakdown by stage - relaunches and smart crawls"
   ]
  },
  {
   "cell_type": "code",
   "execution_count": 15,
   "metadata": {
    "pycharm": {}
   },
   "outputs": [
    {
     "name": "stdout",
     "output_type": "stream",
     "text": [
      "Roku Relaunch 494 154\n",
      "Roku Smart crawl 537 181\n"
     ]
    }
   ],
   "source": [
    "roku_relaunch_fails = roku_fails[roku_fails.epoch.str.contains('launch-') &\n",
    "                                     ~roku_fails.epoch.str.contains('key-seq')]\n",
    "\n",
    "roku_smartcrawl_fails = roku_fails[roku_fails.epoch.str.contains('key-seq')]\n",
    "\n",
    "\n",
    "print (\"Roku Relaunch\", len(roku_relaunch_fails), roku_relaunch_fails.host_by_dns.nunique())\n",
    "print (\"Roku Smart crawl\", len(roku_smartcrawl_fails), roku_smartcrawl_fails.host_by_dns.nunique())"
   ]
  },
  {
   "cell_type": "code",
   "execution_count": 16,
   "metadata": {
    "pycharm": {}
   },
   "outputs": [],
   "source": [
    "import matplotlib.pyplot as plt\n",
    "import seaborn as sns\n",
    "import matplotlib\n",
    "matplotlib.rcParams['pdf.fonttype'] = 42\n",
    "matplotlib.rcParams['ps.fonttype'] = 42\n",
    "matplotlib.rcParams['text.usetex'] = True\n",
    "\n",
    "sns.set(rc={'figure.figsize':(6,3)}, style=\"darkgrid\")\n",
    "sns.set(font_scale = 0.8)"
   ]
  },
  {
   "cell_type": "code",
   "execution_count": 17,
   "metadata": {
    "pycharm": {}
   },
   "outputs": [],
   "source": [
    "def plot_ssl_by(df, filename=None, group_by=\"epoch\",rotation=45,\n",
    "                xlabel='Launch number', ylabel='Number of SSL errors'):\n",
    "    sns.set(font='Latin Modern Roman')\n",
    "    g = sns.countplot(data=df.sort_values(group_by), x=group_by)\n",
    "    g.set_xticklabels(g.get_xticklabels(), rotation=45)\n",
    "    g.set(xlabel=xlabel, ylabel=ylabel)\n",
    "    if filename is not None:\n",
    "        g.get_figure().savefig(filename, bbox_inches='tight')\n",
    "    g"
   ]
  },
  {
   "cell_type": "markdown",
   "metadata": {
    "pycharm": {}
   },
   "source": [
    "## SSL connections by epoch"
   ]
  },
  {
   "cell_type": "code",
   "execution_count": 18,
   "metadata": {
    "pycharm": {}
   },
   "outputs": [],
   "source": [
    "# plot_ssl_by(roku_df)"
   ]
  },
  {
   "cell_type": "markdown",
   "metadata": {
    "pycharm": {}
   },
   "source": [
    "## MITM fails by launch number"
   ]
  },
  {
   "cell_type": "code",
   "execution_count": 19,
   "metadata": {},
   "outputs": [
    {
     "data": {
      "image/png": "[encoded data removed]",
      "text/plain": [
       "<Figure size 432x288 with 1 Axes>"
      ]
     },
     "metadata": {},
     "output_type": "display_data"
    }
   ],
   "source": [
    "roku_fails  = roku_attempts[~roku_attempts.ssl_success]\n",
    "plot_ssl_by(roku_fails, group_by=\"launch_no_int\",\n",
    "            filename=\"roku_ssl_fails_launch_no_combined.pdf\",\n",
    "           xlabel='Launch number', ylabel='Number of TLS failures')"
   ]
  },
  {
   "cell_type": "code",
   "execution_count": 20,
   "metadata": {},
   "outputs": [
    {
     "data": {
      "text/html": [
       "<div>\n",
       "<style scoped>\n",
       "    .dataframe tbody tr th:only-of-type {\n",
       "        vertical-align: middle;\n",
       "    }\n",
       "\n",
       "    .dataframe tbody tr th {\n",
       "        vertical-align: top;\n",
       "    }\n",
       "\n",
       "    .dataframe thead th {\n",
       "        text-align: right;\n",
       "    }\n",
       "</style>\n",
       "<table border=\"1\" class=\"dataframe\">\n",
       "  <thead>\n",
       "    <tr style=\"text-align: right;\">\n",
       "      <th></th>\n",
       "      <th>tcp_stream</th>\n",
       "      <th>frame_time_epoch</th>\n",
       "      <th>ip_src</th>\n",
       "      <th>tcp_srcport</th>\n",
       "      <th>ip_dst</th>\n",
       "      <th>tcp_dstport</th>\n",
       "      <th>channel_id</th>\n",
       "      <th>mitm_attempt</th>\n",
       "      <th>host_by_dns</th>\n",
       "      <th>domain_by_dns</th>\n",
       "      <th>...</th>\n",
       "      <th>playback</th>\n",
       "      <th>status</th>\n",
       "      <th>host</th>\n",
       "      <th>domain</th>\n",
       "      <th>ssl_success</th>\n",
       "      <th>crawl_status</th>\n",
       "      <th>epoch</th>\n",
       "      <th>n_smart_crawl_launch</th>\n",
       "      <th>launch_no</th>\n",
       "      <th>launch_no_int</th>\n",
       "    </tr>\n",
       "  </thead>\n",
       "  <tbody>\n",
       "    <tr>\n",
       "      <td>10910</td>\n",
       "      <td>46</td>\n",
       "      <td>1.556351e+09</td>\n",
       "      <td>10.42.0.119</td>\n",
       "      <td>58493</td>\n",
       "      <td>34.236.215.144</td>\n",
       "      <td>443</td>\n",
       "      <td>195316</td>\n",
       "      <td>True</td>\n",
       "      <td>scribe.logs.roku.com</td>\n",
       "      <td>roku.com</td>\n",
       "      <td>...</td>\n",
       "      <td>False</td>\n",
       "      <td>TERMINATED</td>\n",
       "      <td>scribe.logs.roku.com</td>\n",
       "      <td>roku.com</td>\n",
       "      <td>False</td>\n",
       "      <td>TERMINATED</td>\n",
       "      <td>launch-01</td>\n",
       "      <td>-1</td>\n",
       "      <td>launch-01</td>\n",
       "      <td>1</td>\n",
       "    </tr>\n",
       "    <tr>\n",
       "      <td>10925</td>\n",
       "      <td>50</td>\n",
       "      <td>1.556351e+09</td>\n",
       "      <td>10.42.0.119</td>\n",
       "      <td>47216</td>\n",
       "      <td>172.217.11.46</td>\n",
       "      <td>443</td>\n",
       "      <td>195316</td>\n",
       "      <td>True</td>\n",
       "      <td>www.youtube-nocookie.com</td>\n",
       "      <td>youtube-nocookie.com</td>\n",
       "      <td>...</td>\n",
       "      <td>False</td>\n",
       "      <td>TERMINATED</td>\n",
       "      <td>www.youtube.com</td>\n",
       "      <td>youtube.com</td>\n",
       "      <td>False</td>\n",
       "      <td>TERMINATED</td>\n",
       "      <td>launch-01</td>\n",
       "      <td>-1</td>\n",
       "      <td>launch-01</td>\n",
       "      <td>1</td>\n",
       "    </tr>\n",
       "    <tr>\n",
       "      <td>11030</td>\n",
       "      <td>64</td>\n",
       "      <td>1.556351e+09</td>\n",
       "      <td>10.42.0.119</td>\n",
       "      <td>34243</td>\n",
       "      <td>172.217.3.106</td>\n",
       "      <td>443</td>\n",
       "      <td>195316</td>\n",
       "      <td>True</td>\n",
       "      <td>fonts.googleapis.com</td>\n",
       "      <td>fonts.googleapis.com</td>\n",
       "      <td>...</td>\n",
       "      <td>False</td>\n",
       "      <td>TERMINATED</td>\n",
       "      <td>fonts.googleapis.com</td>\n",
       "      <td>fonts.googleapis.com</td>\n",
       "      <td>False</td>\n",
       "      <td>TERMINATED</td>\n",
       "      <td>launch-02</td>\n",
       "      <td>-1</td>\n",
       "      <td>launch-02</td>\n",
       "      <td>2</td>\n",
       "    </tr>\n",
       "    <tr>\n",
       "      <td>11334</td>\n",
       "      <td>66</td>\n",
       "      <td>1.556351e+09</td>\n",
       "      <td>10.42.0.119</td>\n",
       "      <td>36206</td>\n",
       "      <td>172.217.10.2</td>\n",
       "      <td>443</td>\n",
       "      <td>195316</td>\n",
       "      <td>True</td>\n",
       "      <td>googleads.g.doubleclick.net</td>\n",
       "      <td>doubleclick.net</td>\n",
       "      <td>...</td>\n",
       "      <td>False</td>\n",
       "      <td>TERMINATED</td>\n",
       "      <td>googleads.g.doubleclick.net</td>\n",
       "      <td>doubleclick.net</td>\n",
       "      <td>False</td>\n",
       "      <td>TERMINATED</td>\n",
       "      <td>launch-02</td>\n",
       "      <td>-1</td>\n",
       "      <td>launch-02</td>\n",
       "      <td>2</td>\n",
       "    </tr>\n",
       "    <tr>\n",
       "      <td>11349</td>\n",
       "      <td>67</td>\n",
       "      <td>1.556351e+09</td>\n",
       "      <td>10.42.0.119</td>\n",
       "      <td>60347</td>\n",
       "      <td>172.217.12.131</td>\n",
       "      <td>443</td>\n",
       "      <td>195316</td>\n",
       "      <td>True</td>\n",
       "      <td>fonts.gstatic.com</td>\n",
       "      <td>gstatic.com</td>\n",
       "      <td>...</td>\n",
       "      <td>False</td>\n",
       "      <td>TERMINATED</td>\n",
       "      <td>fonts.gstatic.com</td>\n",
       "      <td>gstatic.com</td>\n",
       "      <td>False</td>\n",
       "      <td>TERMINATED</td>\n",
       "      <td>launch-02</td>\n",
       "      <td>-1</td>\n",
       "      <td>launch-02</td>\n",
       "      <td>2</td>\n",
       "    </tr>\n",
       "    <tr>\n",
       "      <td>...</td>\n",
       "      <td>...</td>\n",
       "      <td>...</td>\n",
       "      <td>...</td>\n",
       "      <td>...</td>\n",
       "      <td>...</td>\n",
       "      <td>...</td>\n",
       "      <td>...</td>\n",
       "      <td>...</td>\n",
       "      <td>...</td>\n",
       "      <td>...</td>\n",
       "      <td>...</td>\n",
       "      <td>...</td>\n",
       "      <td>...</td>\n",
       "      <td>...</td>\n",
       "      <td>...</td>\n",
       "      <td>...</td>\n",
       "      <td>...</td>\n",
       "      <td>...</td>\n",
       "      <td>...</td>\n",
       "      <td>...</td>\n",
       "      <td>...</td>\n",
       "    </tr>\n",
       "    <tr>\n",
       "      <td>25840</td>\n",
       "      <td>157</td>\n",
       "      <td>1.556432e+09</td>\n",
       "      <td>10.42.0.119</td>\n",
       "      <td>37481</td>\n",
       "      <td>172.217.7.2</td>\n",
       "      <td>443</td>\n",
       "      <td>219692</td>\n",
       "      <td>True</td>\n",
       "      <td>pubads.g.doubleclick.net</td>\n",
       "      <td>doubleclick.net</td>\n",
       "      <td>...</td>\n",
       "      <td>False</td>\n",
       "      <td>TERMINATED</td>\n",
       "      <td>pubads.g.doubleclick.net</td>\n",
       "      <td>doubleclick.net</td>\n",
       "      <td>False</td>\n",
       "      <td>TERMINATED</td>\n",
       "      <td>launch-06</td>\n",
       "      <td>-1</td>\n",
       "      <td>launch-06</td>\n",
       "      <td>6</td>\n",
       "    </tr>\n",
       "    <tr>\n",
       "      <td>25859</td>\n",
       "      <td>159</td>\n",
       "      <td>1.556432e+09</td>\n",
       "      <td>10.42.0.119</td>\n",
       "      <td>49709</td>\n",
       "      <td>172.217.12.161</td>\n",
       "      <td>443</td>\n",
       "      <td>219692</td>\n",
       "      <td>True</td>\n",
       "      <td>tpc.googlesyndication.com</td>\n",
       "      <td>googlesyndication.com</td>\n",
       "      <td>...</td>\n",
       "      <td>False</td>\n",
       "      <td>TERMINATED</td>\n",
       "      <td>tpc.googlesyndication.com</td>\n",
       "      <td>googlesyndication.com</td>\n",
       "      <td>False</td>\n",
       "      <td>TERMINATED</td>\n",
       "      <td>launch-06</td>\n",
       "      <td>-1</td>\n",
       "      <td>launch-06</td>\n",
       "      <td>6</td>\n",
       "    </tr>\n",
       "    <tr>\n",
       "      <td>1003</td>\n",
       "      <td>44</td>\n",
       "      <td>1.556425e+09</td>\n",
       "      <td>10.42.0.119</td>\n",
       "      <td>36105</td>\n",
       "      <td>34.197.122.214</td>\n",
       "      <td>443</td>\n",
       "      <td>176562</td>\n",
       "      <td>True</td>\n",
       "      <td>scribe.logs.roku.com</td>\n",
       "      <td>roku.com</td>\n",
       "      <td>...</td>\n",
       "      <td>True</td>\n",
       "      <td>TERMINATED</td>\n",
       "      <td>scribe.logs.roku.com</td>\n",
       "      <td>roku.com</td>\n",
       "      <td>False</td>\n",
       "      <td>TERMINATED</td>\n",
       "      <td>launch-01</td>\n",
       "      <td>-1</td>\n",
       "      <td>launch-01</td>\n",
       "      <td>1</td>\n",
       "    </tr>\n",
       "    <tr>\n",
       "      <td>3033</td>\n",
       "      <td>226</td>\n",
       "      <td>1.556425e+09</td>\n",
       "      <td>10.42.0.119</td>\n",
       "      <td>36455</td>\n",
       "      <td>207.241.227.81</td>\n",
       "      <td>443</td>\n",
       "      <td>176562</td>\n",
       "      <td>True</td>\n",
       "      <td>ia601601.us.archive.org</td>\n",
       "      <td>archive.org</td>\n",
       "      <td>...</td>\n",
       "      <td>True</td>\n",
       "      <td>TERMINATED</td>\n",
       "      <td>ia601601.us.archive.org</td>\n",
       "      <td>archive.org</td>\n",
       "      <td>False</td>\n",
       "      <td>TERMINATED</td>\n",
       "      <td>smartlaunch-01-key-seq-01-key-02</td>\n",
       "      <td>1</td>\n",
       "      <td>smartlaunch-01</td>\n",
       "      <td>11</td>\n",
       "    </tr>\n",
       "    <tr>\n",
       "      <td>76013</td>\n",
       "      <td>289</td>\n",
       "      <td>1.556425e+09</td>\n",
       "      <td>10.42.0.119</td>\n",
       "      <td>53225</td>\n",
       "      <td>192.35.249.124</td>\n",
       "      <td>443</td>\n",
       "      <td>176562</td>\n",
       "      <td>True</td>\n",
       "      <td>search.spotxchange.com</td>\n",
       "      <td>spotxchange.com</td>\n",
       "      <td>...</td>\n",
       "      <td>True</td>\n",
       "      <td>TERMINATED</td>\n",
       "      <td>search.spotxchange.com</td>\n",
       "      <td>spotxchange.com</td>\n",
       "      <td>False</td>\n",
       "      <td>TERMINATED</td>\n",
       "      <td>smartlaunch-02-key-seq-01-key-03</td>\n",
       "      <td>2</td>\n",
       "      <td>smartlaunch-02</td>\n",
       "      <td>12</td>\n",
       "    </tr>\n",
       "  </tbody>\n",
       "</table>\n",
       "<p>1031 rows × 24 columns</p>\n",
       "</div>"
      ],
      "text/plain": [
       "       tcp_stream  frame_time_epoch       ip_src  tcp_srcport          ip_dst  \\\n",
       "10910          46      1.556351e+09  10.42.0.119        58493  34.236.215.144   \n",
       "10925          50      1.556351e+09  10.42.0.119        47216   172.217.11.46   \n",
       "11030          64      1.556351e+09  10.42.0.119        34243   172.217.3.106   \n",
       "11334          66      1.556351e+09  10.42.0.119        36206    172.217.10.2   \n",
       "11349          67      1.556351e+09  10.42.0.119        60347  172.217.12.131   \n",
       "...           ...               ...          ...          ...             ...   \n",
       "25840         157      1.556432e+09  10.42.0.119        37481     172.217.7.2   \n",
       "25859         159      1.556432e+09  10.42.0.119        49709  172.217.12.161   \n",
       "1003           44      1.556425e+09  10.42.0.119        36105  34.197.122.214   \n",
       "3033          226      1.556425e+09  10.42.0.119        36455  207.241.227.81   \n",
       "76013         289      1.556425e+09  10.42.0.119        53225  192.35.249.124   \n",
       "\n",
       "       tcp_dstport channel_id  mitm_attempt                  host_by_dns  \\\n",
       "10910          443     195316          True         scribe.logs.roku.com   \n",
       "10925          443     195316          True     www.youtube-nocookie.com   \n",
       "11030          443     195316          True         fonts.googleapis.com   \n",
       "11334          443     195316          True  googleads.g.doubleclick.net   \n",
       "11349          443     195316          True            fonts.gstatic.com   \n",
       "...            ...        ...           ...                          ...   \n",
       "25840          443     219692          True     pubads.g.doubleclick.net   \n",
       "25859          443     219692          True    tpc.googlesyndication.com   \n",
       "1003           443     176562          True         scribe.logs.roku.com   \n",
       "3033           443     176562          True      ia601601.us.archive.org   \n",
       "76013          443     176562          True       search.spotxchange.com   \n",
       "\n",
       "               domain_by_dns  ... playback      status  \\\n",
       "10910               roku.com  ...    False  TERMINATED   \n",
       "10925   youtube-nocookie.com  ...    False  TERMINATED   \n",
       "11030   fonts.googleapis.com  ...    False  TERMINATED   \n",
       "11334        doubleclick.net  ...    False  TERMINATED   \n",
       "11349            gstatic.com  ...    False  TERMINATED   \n",
       "...                      ...  ...      ...         ...   \n",
       "25840        doubleclick.net  ...    False  TERMINATED   \n",
       "25859  googlesyndication.com  ...    False  TERMINATED   \n",
       "1003                roku.com  ...     True  TERMINATED   \n",
       "3033             archive.org  ...     True  TERMINATED   \n",
       "76013        spotxchange.com  ...     True  TERMINATED   \n",
       "\n",
       "                              host                 domain  ssl_success  \\\n",
       "10910         scribe.logs.roku.com               roku.com        False   \n",
       "10925              www.youtube.com            youtube.com        False   \n",
       "11030         fonts.googleapis.com   fonts.googleapis.com        False   \n",
       "11334  googleads.g.doubleclick.net        doubleclick.net        False   \n",
       "11349            fonts.gstatic.com            gstatic.com        False   \n",
       "...                            ...                    ...          ...   \n",
       "25840     pubads.g.doubleclick.net        doubleclick.net        False   \n",
       "25859    tpc.googlesyndication.com  googlesyndication.com        False   \n",
       "1003          scribe.logs.roku.com               roku.com        False   \n",
       "3033       ia601601.us.archive.org            archive.org        False   \n",
       "76013       search.spotxchange.com        spotxchange.com        False   \n",
       "\n",
       "      crawl_status                             epoch n_smart_crawl_launch  \\\n",
       "10910   TERMINATED                         launch-01                   -1   \n",
       "10925   TERMINATED                         launch-01                   -1   \n",
       "11030   TERMINATED                         launch-02                   -1   \n",
       "11334   TERMINATED                         launch-02                   -1   \n",
       "11349   TERMINATED                         launch-02                   -1   \n",
       "...            ...                               ...                  ...   \n",
       "25840   TERMINATED                         launch-06                   -1   \n",
       "25859   TERMINATED                         launch-06                   -1   \n",
       "1003    TERMINATED                         launch-01                   -1   \n",
       "3033    TERMINATED  smartlaunch-01-key-seq-01-key-02                    1   \n",
       "76013   TERMINATED  smartlaunch-02-key-seq-01-key-03                    2   \n",
       "\n",
       "            launch_no launch_no_int  \n",
       "10910       launch-01             1  \n",
       "10925       launch-01             1  \n",
       "11030       launch-02             2  \n",
       "11334       launch-02             2  \n",
       "11349       launch-02             2  \n",
       "...               ...           ...  \n",
       "25840       launch-06             6  \n",
       "25859       launch-06             6  \n",
       "1003        launch-01             1  \n",
       "3033   smartlaunch-01            11  \n",
       "76013  smartlaunch-02            12  \n",
       "\n",
       "[1031 rows x 24 columns]"
      ]
     },
     "execution_count": 20,
     "metadata": {},
     "output_type": "execute_result"
    }
   ],
   "source": [
    "roku_fails"
   ]
  },
  {
   "cell_type": "code",
   "execution_count": 21,
   "metadata": {},
   "outputs": [
    {
     "data": {
      "image/png": "[encoded data removed]",
      "text/plain": [
       "<Figure size 432x288 with 1 Axes>"
      ]
     },
     "metadata": {},
     "output_type": "display_data"
    }
   ],
   "source": [
    "ax = roku_fails['launch_no_int'].hist(cumulative=True, bins=20, density=True, histtype=\"step\")\n",
    "ax.set(xlabel=\"Launch number\")\n",
    "plt.xticks(np.arange(min(roku_fails['launch_no_int']), max(roku_fails['launch_no_int'])+1, 1.0))\n",
    "fig = ax.get_figure()\n",
    "fig.savefig('cdf_warmup_param_selection_step.pdf', bbox_inches='tight')"
   ]
  },
  {
   "cell_type": "code",
   "execution_count": 22,
   "metadata": {},
   "outputs": [
    {
     "data": {
      "image/png": "[encoded data removed]",
      "text/plain": [
       "<Figure size 432x288 with 1 Axes>"
      ]
     },
     "metadata": {},
     "output_type": "display_data"
    }
   ],
   "source": [
    "ax = roku_fails['launch_no_int'].hist(cumulative=True, bins=20, density=True, histtype=\"stepfilled\")\n",
    "ax.set(xlabel=\"Launch number\")\n",
    "plt.xticks(np.arange(min(roku_fails['launch_no_int']), max(roku_fails['launch_no_int'])+1, 1.0))\n",
    "fig = ax.get_figure()\n",
    "fig.savefig('cdf_warmup_param_selection_stepfilled.pdf', bbox_inches='tight')"
   ]
  },
  {
   "cell_type": "code",
   "execution_count": 23,
   "metadata": {},
   "outputs": [
    {
     "name": "stderr",
     "output_type": "stream",
     "text": [
      "/home/hooman/anaconda3/lib/python3.7/site-packages/scipy/stats/stats.py:1713: FutureWarning: Using a non-tuple sequence for multidimensional indexing is deprecated; use `arr[tuple(seq)]` instead of `arr[seq]`. In the future this will be interpreted as an array index, `arr[np.array(seq)]`, which will result either in an error or a different result.\n",
      "  return np.add.reduce(sorted[indexer] * weights, axis=axis) / sumval\n"
     ]
    },
    {
     "data": {
      "image/png": "[encoded data removed]",
      "text/plain": [
       "<Figure size 432x288 with 1 Axes>"
      ]
     },
     "metadata": {},
     "output_type": "display_data"
    }
   ],
   "source": [
    "ax = sns.kdeplot(roku_fails['launch_no_int'], cumulative=True, legend=False)\n",
    "ax.set(xlabel=\"Launch number\")\n",
    "#plt.xticks(np.arange(min(roku_fails['launch_no_int']), max(roku_fails['launch_no_int'])+1, 1.0))\n",
    "fig = ax.get_figure()\n",
    "fig.savefig('kde_warmup_param_selection.pdf', bbox_inches='tight')"
   ]
  },
  {
   "cell_type": "markdown",
   "metadata": {},
   "source": [
    "## Parameter selection"
   ]
  },
  {
   "cell_type": "code",
   "execution_count": 24,
   "metadata": {},
   "outputs": [],
   "source": [
    "n_ssl_errs_after_5th_smart_crawl = len(roku_fails[roku_fails.n_smart_crawl_launch > 5])"
   ]
  },
  {
   "cell_type": "code",
   "execution_count": 25,
   "metadata": {},
   "outputs": [],
   "source": [
    "n_ssl_errs_before_5th_smart_crawl = len(roku_fails[roku_fails.n_smart_crawl_launch <= 5])"
   ]
  },
  {
   "cell_type": "code",
   "execution_count": 26,
   "metadata": {},
   "outputs": [
    {
     "name": "stdout",
     "output_type": "stream",
     "text": [
      "96.4% of the errors are encountered on or before 5th smart crawl\n"
     ]
    }
   ],
   "source": [
    "cdf_at_5th_smart = 100*n_ssl_errs_before_5th_smart_crawl / (n_ssl_errs_after_5th_smart_crawl + n_ssl_errs_before_5th_smart_crawl)\n",
    "print(\"%0.1f%% of the errors are encountered on or before 5th smart crawl\" % cdf_at_5th_smart)"
   ]
  },
  {
   "cell_type": "markdown",
   "metadata": {
    "pycharm": {}
   },
   "source": [
    "### MITM Fails during smart crawl"
   ]
  },
  {
   "cell_type": "code",
   "execution_count": 27,
   "metadata": {
    "pycharm": {}
   },
   "outputs": [
    {
     "data": {
      "image/png": "[encoded data removed]",
      "text/plain": [
       "<Figure size 432x288 with 1 Axes>"
      ]
     },
     "metadata": {},
     "output_type": "display_data"
    }
   ],
   "source": [
    "plot_ssl_by(roku_fails, group_by='n_smart_crawl_launch')"
   ]
  },
  {
   "cell_type": "code",
   "execution_count": 28,
   "metadata": {
    "pycharm": {}
   },
   "outputs": [
    {
     "data": {
      "text/plain": [
       "<matplotlib.axes._subplots.AxesSubplot at 0x7f94b25f7c90>"
      ]
     },
     "execution_count": 28,
     "metadata": {},
     "output_type": "execute_result"
    },
    {
     "data": {
      "image/png": "[encoded data removed]",
      "text/plain": [
       "<Figure size 432x288 with 1 Axes>"
      ]
     },
     "metadata": {},
     "output_type": "display_data"
    }
   ],
   "source": [
    "roku_fails['n_smart_crawl_launch'].hist(cumulative=True, bins=11)"
   ]
  },
  {
   "cell_type": "code",
   "execution_count": 29,
   "metadata": {
    "pycharm": {}
   },
   "outputs": [
    {
     "name": "stderr",
     "output_type": "stream",
     "text": [
      "/home/hooman/anaconda3/lib/python3.7/site-packages/scipy/stats/stats.py:1713: FutureWarning: Using a non-tuple sequence for multidimensional indexing is deprecated; use `arr[tuple(seq)]` instead of `arr[seq]`. In the future this will be interpreted as an array index, `arr[np.array(seq)]`, which will result either in an error or a different result.\n",
      "  return np.add.reduce(sorted[indexer] * weights, axis=axis) / sumval\n"
     ]
    },
    {
     "data": {
      "text/plain": [
       "<matplotlib.axes._subplots.AxesSubplot at 0x7f94d2e2d410>"
      ]
     },
     "execution_count": 29,
     "metadata": {},
     "output_type": "execute_result"
    },
    {
     "data": {
      "image/png": "[encoded data removed]",
      "text/plain": [
       "<Figure size 432x288 with 1 Axes>"
      ]
     },
     "metadata": {},
     "output_type": "display_data"
    }
   ],
   "source": [
    "group_by = \"n_smart_crawl_launch\"\n",
    "r_n_smart_crawl_launch = roku_fails['n_smart_crawl_launch']\n",
    "r_n_smart_crawl_launch.name = 'Number of Smart Crawl Launches'\n",
    "sns.kdeplot(r_n_smart_crawl_launch\n",
    "            , cumulative=True\n",
    "           )\n"
   ]
  },
  {
   "cell_type": "markdown",
   "metadata": {
    "pycharm": {}
   },
   "source": [
    "### MITM Fails during channel relaunch"
   ]
  },
  {
   "cell_type": "code",
   "execution_count": 30,
   "metadata": {
    "pycharm": {}
   },
   "outputs": [
    {
     "data": {
      "image/png": "[encoded data removed]",
      "text/plain": [
       "<Figure size 432x288 with 1 Axes>"
      ]
     },
     "metadata": {},
     "output_type": "display_data"
    }
   ],
   "source": [
    "plot_ssl_by(roku_relaunch_fails, filename=\"images/roku_relaunch_fails.pdf\")"
   ]
  },
  {
   "cell_type": "markdown",
   "metadata": {
    "pycharm": {}
   },
   "source": [
    "## Late stage MITM fails\n",
    "- why do we still have mitm fails in later stages\n",
    "- it looks like, these are indeer hosts we have not seen before"
   ]
  },
  {
   "cell_type": "code",
   "execution_count": 31,
   "metadata": {
    "pycharm": {},
    "scrolled": true
   },
   "outputs": [
    {
     "data": {
      "text/plain": [
       "www.google-analytics.com                          4\n",
       "secure-gg.imrworldwide.com                        2\n",
       "us-west-2.event.prod.bidr.io                      2\n",
       "d.agkn.com                                        2\n",
       "ade.googlesyndication.com                         2\n",
       "secure-gl.imrworldwide.com                        2\n",
       "ads.samba.tv                                      1\n",
       "video-transcoded-api-main-awesomeads.sacdn.net    1\n",
       "pippio.com                                        1\n",
       "bs.serving-sys.com                                1\n",
       "Name: host_by_dns, dtype: int64"
      ]
     },
     "execution_count": 31,
     "metadata": {},
     "output_type": "execute_result"
    }
   ],
   "source": [
    "roku_fails[roku_fails.n_smart_crawl_launch > 5].host_by_dns.value_counts().head(10)"
   ]
  },
  {
   "cell_type": "code",
   "execution_count": 32,
   "metadata": {
    "pycharm": {}
   },
   "outputs": [
    {
     "name": "stdout",
     "output_type": "stream",
     "text": [
      "13 141\n"
     ]
    }
   ],
   "source": [
    "# No of channels failing on last smart crawl attempt\n",
    "print(roku_smartcrawl_fails[roku_smartcrawl_fails.n_smart_crawl_launch==4].channel_id.nunique(),  roku_df.channel_id.nunique())"
   ]
  },
  {
   "cell_type": "code",
   "execution_count": 33,
   "metadata": {
    "pycharm": {}
   },
   "outputs": [
    {
     "name": "stdout",
     "output_type": "stream",
     "text": [
      "25 141\n"
     ]
    }
   ],
   "source": [
    "print(roku_smartcrawl_fails[roku_smartcrawl_fails.n_smart_crawl_launch==3].channel_id.nunique(),  roku_df.channel_id.nunique())"
   ]
  },
  {
   "cell_type": "code",
   "execution_count": null,
   "metadata": {
    "pycharm": {}
   },
   "outputs": [],
   "source": []
  }
 ],
 "metadata": {
  "kernelspec": {
   "display_name": "Python 3",
   "language": "python",
   "name": "python3"
  },
  "language_info": {
   "codemirror_mode": {
    "name": "ipython",
    "version": 3
   },
   "file_extension": ".py",
   "mimetype": "text/x-python",
   "name": "python",
   "nbconvert_exporter": "python",
   "pygments_lexer": "ipython3",
   "version": "3.7.4"
  }
 },
 "nbformat": 4,
 "nbformat_minor": 2
}
