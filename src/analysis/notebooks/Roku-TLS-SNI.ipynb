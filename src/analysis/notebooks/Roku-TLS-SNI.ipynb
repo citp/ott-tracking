{
 "cells": [
  {
   "cell_type": "code",
   "execution_count": 1,
   "metadata": {},
   "outputs": [],
   "source": [
    "import pandas as pd\n",
    "from os.path import dirname, realpath, join, isfile\n",
    "from utils import get_ps1_or_ipaddress, read_pcap_fields_from_txts, download_roku_channel_details, ROKU_MACS"
   ]
  },
  {
   "cell_type": "code",
   "execution_count": 2,
   "metadata": {},
   "outputs": [],
   "source": [
    "import seaborn as sns\n",
    "%matplotlib inline\n",
    "sns.set(color_codes=True)\n",
    "sns.set(rc={'figure.figsize':(16,9)})"
   ]
  },
  {
   "cell_type": "code",
   "execution_count": 3,
   "metadata": {},
   "outputs": [],
   "source": [
    "ROOT_PROJ_DIR = dirname(dirname(dirname(dirname(realpath('__file__')))))\n",
    "DATA_DIR = join(ROOT_PROJ_DIR, \"data/pcap_analysis/roku-channel-surfer/2018-09-27\")\n",
    "HTTP_REQS_DIR = join(DATA_DIR, \"http\")\n",
    "DNS_QUERIES_DIR = join(DATA_DIR, \"dns\")\n",
    "TLS_SNI_DIR = join(DATA_DIR, \"tls_sni\")\n",
    "HTTP_CSV = join(DATA_DIR, \"roku-2018-09-27-requests.csv\")\n",
    "DNS_CSV = join(DATA_DIR, \"roku-2018-09-27-dns.csv\")\n",
    "TLS_SNI_CSV = join(DATA_DIR, \"roku-2018-09-27-tls-sni.csv\")"
   ]
  },
  {
   "cell_type": "markdown",
   "metadata": {},
   "source": [
    "### Load channel details\n",
    "- We only channels details to add helper columns to request dataframe\n",
    "- Once we build and store the request details, we don't actually need to do this"
   ]
  },
  {
   "cell_type": "code",
   "execution_count": 4,
   "metadata": {},
   "outputs": [],
   "source": [
    "channel_df = download_roku_channel_details()"
   ]
  },
  {
   "cell_type": "markdown",
   "metadata": {},
   "source": [
    "## Load TLS connection details\n",
    "- Load the DNS details from the CSV or build from scratch\n",
    "- The command used to generate the txt files from pcaps:\n",
    "\n",
    "```./extract_fields.sh -i /media/gacar/Data/dev/smart-data/pcaps/ -f ssl.handshake.extensions_server_name -e eth.src -e ip.dst -e ssl.handshake.extensions_server_name```"
   ]
  },
  {
   "cell_type": "code",
   "execution_count": 5,
   "metadata": {},
   "outputs": [],
   "source": [
    "if isfile(TLS_SNI_CSV):\n",
    "    # load from csv if we already built the dataframe\n",
    "    df = pd.read_csv(TLS_SNI_CSV, sep='\\t', encoding='utf-8')\n",
    "else:\n",
    "    # we use `extract_fields.sh` script to extract the following\n",
    "    # eth.src, ip.dst, ssl.handshake.extensions_server_name\n",
    "    # here we read the extracted fields into a dataframe\n",
    "    all_sni_fields = [sni_fields for sni_fields in read_pcap_fields_from_txts(TLS_SNI_DIR)]\n",
    "    df = pd.DataFrame(all_sni_fields, columns=['channel_id', 'start_ts', 'command', 'select_idx', 'eth_src', 'ip_dst', 'host'])\n",
    "    # exclude packets from other devices\n",
    "    df = df[df.eth_src.isin(ROKU_MACS)]\n",
    "    df['channel_name'] = df['channel_id'].map(lambda x: channel_df.loc[int(x)]['name'])\n",
    "    df['rank'] = df['channel_id'].map(lambda x: channel_df.loc[int(x)]['rankByWatched'])\n",
    "    df['category'] = df['channel_id'].map(lambda x: channel_df.loc[int(x)]['_category'])\n",
    "    df['domain'] = df['host'].map(lambda x: get_ps1_or_ipaddress(\"http://\" + x))\n",
    "    df.to_csv(TLS_SNI_CSV, index=False, sep='\\t', encoding='utf-8')\n",
    "    "
   ]
  },
  {
   "cell_type": "code",
   "execution_count": 6,
   "metadata": {},
   "outputs": [
    {
     "data": {
      "text/html": [
       "<div>\n",
       "<style scoped>\n",
       "    .dataframe tbody tr th:only-of-type {\n",
       "        vertical-align: middle;\n",
       "    }\n",
       "\n",
       "    .dataframe tbody tr th {\n",
       "        vertical-align: top;\n",
       "    }\n",
       "\n",
       "    .dataframe thead th {\n",
       "        text-align: right;\n",
       "    }\n",
       "</style>\n",
       "<table border=\"1\" class=\"dataframe\">\n",
       "  <thead>\n",
       "    <tr style=\"text-align: right;\">\n",
       "      <th></th>\n",
       "      <th>channel_id</th>\n",
       "      <th>start_ts</th>\n",
       "      <th>command</th>\n",
       "      <th>select_idx</th>\n",
       "      <th>eth_src</th>\n",
       "      <th>ip_dst</th>\n",
       "      <th>host</th>\n",
       "      <th>channel_name</th>\n",
       "      <th>rank</th>\n",
       "      <th>category</th>\n",
       "      <th>domain</th>\n",
       "    </tr>\n",
       "  </thead>\n",
       "  <tbody>\n",
       "    <tr>\n",
       "      <th>0</th>\n",
       "      <td>145651</td>\n",
       "      <td>1538303764</td>\n",
       "      <td>launch</td>\n",
       "      <td>0</td>\n",
       "      <td>d8:31:34:22:e6:ff</td>\n",
       "      <td>52.45.134.131</td>\n",
       "      <td>api.roku.com</td>\n",
       "      <td>BIO TV</td>\n",
       "      <td>2068</td>\n",
       "      <td>movies-tvs</td>\n",
       "      <td>roku.com</td>\n",
       "    </tr>\n",
       "    <tr>\n",
       "      <th>1</th>\n",
       "      <td>145651</td>\n",
       "      <td>1538303764</td>\n",
       "      <td>launch</td>\n",
       "      <td>0</td>\n",
       "      <td>d8:31:34:22:e6:ff</td>\n",
       "      <td>52.84.122.195</td>\n",
       "      <td>wwwimg.roku.com</td>\n",
       "      <td>BIO TV</td>\n",
       "      <td>2068</td>\n",
       "      <td>movies-tvs</td>\n",
       "      <td>roku.com</td>\n",
       "    </tr>\n",
       "    <tr>\n",
       "      <th>2</th>\n",
       "      <td>145651</td>\n",
       "      <td>1538303764</td>\n",
       "      <td>launch</td>\n",
       "      <td>0</td>\n",
       "      <td>d8:31:34:22:e6:ff</td>\n",
       "      <td>52.21.59.215</td>\n",
       "      <td>api.sr.roku.com</td>\n",
       "      <td>BIO TV</td>\n",
       "      <td>2068</td>\n",
       "      <td>movies-tvs</td>\n",
       "      <td>roku.com</td>\n",
       "    </tr>\n",
       "    <tr>\n",
       "      <th>3</th>\n",
       "      <td>145651</td>\n",
       "      <td>1538303764</td>\n",
       "      <td>launch</td>\n",
       "      <td>0</td>\n",
       "      <td>d8:31:34:22:e6:ff</td>\n",
       "      <td>52.84.122.175</td>\n",
       "      <td>cigars.roku.com</td>\n",
       "      <td>BIO TV</td>\n",
       "      <td>2068</td>\n",
       "      <td>movies-tvs</td>\n",
       "      <td>roku.com</td>\n",
       "    </tr>\n",
       "    <tr>\n",
       "      <th>4</th>\n",
       "      <td>145651</td>\n",
       "      <td>1538303764</td>\n",
       "      <td>launch</td>\n",
       "      <td>0</td>\n",
       "      <td>d8:31:34:22:e6:ff</td>\n",
       "      <td>52.84.122.179</td>\n",
       "      <td>cigars.roku.com</td>\n",
       "      <td>BIO TV</td>\n",
       "      <td>2068</td>\n",
       "      <td>movies-tvs</td>\n",
       "      <td>roku.com</td>\n",
       "    </tr>\n",
       "  </tbody>\n",
       "</table>\n",
       "</div>"
      ],
      "text/plain": [
       "   channel_id    start_ts command  select_idx            eth_src  \\\n",
       "0      145651  1538303764  launch           0  d8:31:34:22:e6:ff   \n",
       "1      145651  1538303764  launch           0  d8:31:34:22:e6:ff   \n",
       "2      145651  1538303764  launch           0  d8:31:34:22:e6:ff   \n",
       "3      145651  1538303764  launch           0  d8:31:34:22:e6:ff   \n",
       "4      145651  1538303764  launch           0  d8:31:34:22:e6:ff   \n",
       "\n",
       "          ip_dst             host channel_name  rank    category    domain  \n",
       "0  52.45.134.131     api.roku.com       BIO TV  2068  movies-tvs  roku.com  \n",
       "1  52.84.122.195  wwwimg.roku.com       BIO TV  2068  movies-tvs  roku.com  \n",
       "2   52.21.59.215  api.sr.roku.com       BIO TV  2068  movies-tvs  roku.com  \n",
       "3  52.84.122.175  cigars.roku.com       BIO TV  2068  movies-tvs  roku.com  \n",
       "4  52.84.122.179  cigars.roku.com       BIO TV  2068  movies-tvs  roku.com  "
      ]
     },
     "execution_count": 6,
     "metadata": {},
     "output_type": "execute_result"
    }
   ],
   "source": [
    "df.head()"
   ]
  },
  {
   "cell_type": "markdown",
   "metadata": {},
   "source": [
    "### TLS connections - overview"
   ]
  },
  {
   "cell_type": "code",
   "execution_count": 7,
   "metadata": {},
   "outputs": [
    {
     "name": "stdout",
     "output_type": "stream",
     "text": [
      "11185 TLS connections to 485 distinct domains from 1406 distinct channels\n"
     ]
    }
   ],
   "source": [
    "print \"%d TLS connections to %d distinct domains from %s distinct channels\" %\\\n",
    "    (len(df), df.domain.nunique(), df.channel_id.nunique())"
   ]
  },
  {
   "cell_type": "markdown",
   "metadata": {},
   "source": [
    "### Top domains\n",
    "- domains contacted by most channels"
   ]
  },
  {
   "cell_type": "code",
   "execution_count": 8,
   "metadata": {},
   "outputs": [
    {
     "data": {
      "text/html": [
       "<div>\n",
       "<style scoped>\n",
       "    .dataframe tbody tr th:only-of-type {\n",
       "        vertical-align: middle;\n",
       "    }\n",
       "\n",
       "    .dataframe tbody tr th {\n",
       "        vertical-align: top;\n",
       "    }\n",
       "\n",
       "    .dataframe thead th {\n",
       "        text-align: right;\n",
       "    }\n",
       "</style>\n",
       "<table border=\"1\" class=\"dataframe\">\n",
       "  <thead>\n",
       "    <tr style=\"text-align: right;\">\n",
       "      <th></th>\n",
       "      <th>domain</th>\n",
       "      <th># channels</th>\n",
       "    </tr>\n",
       "  </thead>\n",
       "  <tbody>\n",
       "    <tr>\n",
       "      <th>336</th>\n",
       "      <td>roku.com</td>\n",
       "      <td>1186</td>\n",
       "    </tr>\n",
       "    <tr>\n",
       "      <th>449</th>\n",
       "      <td>vimeo.com</td>\n",
       "      <td>163</td>\n",
       "    </tr>\n",
       "    <tr>\n",
       "      <th>130</th>\n",
       "      <td>doubleclick.net</td>\n",
       "      <td>161</td>\n",
       "    </tr>\n",
       "    <tr>\n",
       "      <th>195</th>\n",
       "      <td>ifood.tv</td>\n",
       "      <td>161</td>\n",
       "    </tr>\n",
       "    <tr>\n",
       "      <th>172</th>\n",
       "      <td>google-analytics.com</td>\n",
       "      <td>141</td>\n",
       "    </tr>\n",
       "    <tr>\n",
       "      <th>450</th>\n",
       "      <td>vimeocdn.com</td>\n",
       "      <td>118</td>\n",
       "    </tr>\n",
       "    <tr>\n",
       "      <th>45</th>\n",
       "      <td>archive.org</td>\n",
       "      <td>91</td>\n",
       "    </tr>\n",
       "    <tr>\n",
       "      <th>349</th>\n",
       "      <td>scorecardresearch.com</td>\n",
       "      <td>89</td>\n",
       "    </tr>\n",
       "    <tr>\n",
       "      <th>49</th>\n",
       "      <td>att.net</td>\n",
       "      <td>84</td>\n",
       "    </tr>\n",
       "    <tr>\n",
       "      <th>29</th>\n",
       "      <td>akamaized.net</td>\n",
       "      <td>82</td>\n",
       "    </tr>\n",
       "  </tbody>\n",
       "</table>\n",
       "</div>"
      ],
      "text/plain": [
       "                    domain  # channels\n",
       "336               roku.com        1186\n",
       "449              vimeo.com         163\n",
       "130        doubleclick.net         161\n",
       "195               ifood.tv         161\n",
       "172   google-analytics.com         141\n",
       "450           vimeocdn.com         118\n",
       "45             archive.org          91\n",
       "349  scorecardresearch.com          89\n",
       "49                 att.net          84\n",
       "29           akamaized.net          82"
      ]
     },
     "execution_count": 8,
     "metadata": {},
     "output_type": "execute_result"
    }
   ],
   "source": [
    "df.drop_duplicates(subset=[\"channel_id\", \"domain\"]).\\\n",
    "    groupby([\"domain\"]).size().reset_index(name=\"# channels\").\\\n",
    "    sort_values(by=['# channels'], ascending=False).head(10)"
   ]
  },
  {
   "cell_type": "code",
   "execution_count": 9,
   "metadata": {},
   "outputs": [
    {
     "data": {
      "text/html": [
       "<div>\n",
       "<style scoped>\n",
       "    .dataframe tbody tr th:only-of-type {\n",
       "        vertical-align: middle;\n",
       "    }\n",
       "\n",
       "    .dataframe tbody tr th {\n",
       "        vertical-align: top;\n",
       "    }\n",
       "\n",
       "    .dataframe thead th {\n",
       "        text-align: right;\n",
       "    }\n",
       "</style>\n",
       "<table border=\"1\" class=\"dataframe\">\n",
       "  <thead>\n",
       "    <tr style=\"text-align: right;\">\n",
       "      <th></th>\n",
       "      <th>channel_id</th>\n",
       "      <th>start_ts</th>\n",
       "      <th>command</th>\n",
       "      <th>select_idx</th>\n",
       "      <th>eth_src</th>\n",
       "      <th>ip_dst</th>\n",
       "      <th>host</th>\n",
       "      <th>channel_name</th>\n",
       "      <th>rank</th>\n",
       "      <th>category</th>\n",
       "      <th>domain</th>\n",
       "    </tr>\n",
       "  </thead>\n",
       "  <tbody>\n",
       "    <tr>\n",
       "      <th>36</th>\n",
       "      <td>85830</td>\n",
       "      <td>1538389118</td>\n",
       "      <td>select</td>\n",
       "      <td>2</td>\n",
       "      <td>d8:31:34:22:e6:ff</td>\n",
       "      <td>144.160.127.24</td>\n",
       "      <td>tprodsmsx.att.net</td>\n",
       "      <td>MarkWHO42</td>\n",
       "      <td>7132</td>\n",
       "      <td>movies-tvs</td>\n",
       "      <td>att.net</td>\n",
       "    </tr>\n",
       "    <tr>\n",
       "      <th>269</th>\n",
       "      <td>134321</td>\n",
       "      <td>1538384710</td>\n",
       "      <td>select</td>\n",
       "      <td>2</td>\n",
       "      <td>d8:31:34:22:e6:ff</td>\n",
       "      <td>144.160.225.152</td>\n",
       "      <td>tprodsmsx.att.net</td>\n",
       "      <td>FLIXXNOW</td>\n",
       "      <td>6771</td>\n",
       "      <td>movies-tvs</td>\n",
       "      <td>att.net</td>\n",
       "    </tr>\n",
       "    <tr>\n",
       "      <th>283</th>\n",
       "      <td>122651</td>\n",
       "      <td>1538395918</td>\n",
       "      <td>select</td>\n",
       "      <td>1</td>\n",
       "      <td>d8:31:34:22:e6:ff</td>\n",
       "      <td>144.160.147.49</td>\n",
       "      <td>tprodsmsx.att.net</td>\n",
       "      <td>Usilk</td>\n",
       "      <td>7796</td>\n",
       "      <td>movies-tvs</td>\n",
       "      <td>att.net</td>\n",
       "    </tr>\n",
       "    <tr>\n",
       "      <th>397</th>\n",
       "      <td>94581</td>\n",
       "      <td>1538385463</td>\n",
       "      <td>select</td>\n",
       "      <td>1</td>\n",
       "      <td>d8:31:34:22:e6:ff</td>\n",
       "      <td>144.160.225.152</td>\n",
       "      <td>tprodsmsx.att.net</td>\n",
       "      <td>FontellWave</td>\n",
       "      <td>6779</td>\n",
       "      <td>movies-tvs</td>\n",
       "      <td>att.net</td>\n",
       "    </tr>\n",
       "    <tr>\n",
       "      <th>477</th>\n",
       "      <td>20660</td>\n",
       "      <td>1538398312</td>\n",
       "      <td>select</td>\n",
       "      <td>2</td>\n",
       "      <td>d8:31:34:22:e6:ff</td>\n",
       "      <td>144.160.147.49</td>\n",
       "      <td>tprodsmsx.att.net</td>\n",
       "      <td>iflixtv Lite</td>\n",
       "      <td>6949</td>\n",
       "      <td>movies-tvs</td>\n",
       "      <td>att.net</td>\n",
       "    </tr>\n",
       "  </tbody>\n",
       "</table>\n",
       "</div>"
      ],
      "text/plain": [
       "     channel_id    start_ts command  select_idx            eth_src  \\\n",
       "36        85830  1538389118  select           2  d8:31:34:22:e6:ff   \n",
       "269      134321  1538384710  select           2  d8:31:34:22:e6:ff   \n",
       "283      122651  1538395918  select           1  d8:31:34:22:e6:ff   \n",
       "397       94581  1538385463  select           1  d8:31:34:22:e6:ff   \n",
       "477       20660  1538398312  select           2  d8:31:34:22:e6:ff   \n",
       "\n",
       "              ip_dst               host  channel_name  rank    category  \\\n",
       "36    144.160.127.24  tprodsmsx.att.net     MarkWHO42  7132  movies-tvs   \n",
       "269  144.160.225.152  tprodsmsx.att.net      FLIXXNOW  6771  movies-tvs   \n",
       "283   144.160.147.49  tprodsmsx.att.net         Usilk  7796  movies-tvs   \n",
       "397  144.160.225.152  tprodsmsx.att.net   FontellWave  6779  movies-tvs   \n",
       "477   144.160.147.49  tprodsmsx.att.net  iflixtv Lite  6949  movies-tvs   \n",
       "\n",
       "      domain  \n",
       "36   att.net  \n",
       "269  att.net  \n",
       "283  att.net  \n",
       "397  att.net  \n",
       "477  att.net  "
      ]
     },
     "execution_count": 9,
     "metadata": {},
     "output_type": "execute_result"
    }
   ],
   "source": [
    "df[df.domain==\"att.net\"].head()"
   ]
  },
  {
   "cell_type": "markdown",
   "metadata": {},
   "source": [
    "### Top domains - Kids and family channels"
   ]
  },
  {
   "cell_type": "code",
   "execution_count": 10,
   "metadata": {},
   "outputs": [
    {
     "data": {
      "text/html": [
       "<div>\n",
       "<style scoped>\n",
       "    .dataframe tbody tr th:only-of-type {\n",
       "        vertical-align: middle;\n",
       "    }\n",
       "\n",
       "    .dataframe tbody tr th {\n",
       "        vertical-align: top;\n",
       "    }\n",
       "\n",
       "    .dataframe thead th {\n",
       "        text-align: right;\n",
       "    }\n",
       "</style>\n",
       "<table border=\"1\" class=\"dataframe\">\n",
       "  <thead>\n",
       "    <tr style=\"text-align: right;\">\n",
       "      <th></th>\n",
       "      <th>domain</th>\n",
       "      <th># channels</th>\n",
       "    </tr>\n",
       "  </thead>\n",
       "  <tbody>\n",
       "    <tr>\n",
       "      <th>76</th>\n",
       "      <td>roku.com</td>\n",
       "      <td>389</td>\n",
       "    </tr>\n",
       "    <tr>\n",
       "      <th>41</th>\n",
       "      <td>ifood.tv</td>\n",
       "      <td>125</td>\n",
       "    </tr>\n",
       "    <tr>\n",
       "      <th>26</th>\n",
       "      <td>doubleclick.net</td>\n",
       "      <td>62</td>\n",
       "    </tr>\n",
       "    <tr>\n",
       "      <th>72</th>\n",
       "      <td>ravm.tv</td>\n",
       "      <td>28</td>\n",
       "    </tr>\n",
       "    <tr>\n",
       "      <th>93</th>\n",
       "      <td>superawesome.tv</td>\n",
       "      <td>27</td>\n",
       "    </tr>\n",
       "    <tr>\n",
       "      <th>90</th>\n",
       "      <td>spotxchange.com</td>\n",
       "      <td>26</td>\n",
       "    </tr>\n",
       "    <tr>\n",
       "      <th>109</th>\n",
       "      <td>vimeo.com</td>\n",
       "      <td>24</td>\n",
       "    </tr>\n",
       "    <tr>\n",
       "      <th>81</th>\n",
       "      <td>scorecardresearch.com</td>\n",
       "      <td>24</td>\n",
       "    </tr>\n",
       "    <tr>\n",
       "      <th>42</th>\n",
       "      <td>imrworldwide.com</td>\n",
       "      <td>21</td>\n",
       "    </tr>\n",
       "    <tr>\n",
       "      <th>27</th>\n",
       "      <td>doubleverify.com</td>\n",
       "      <td>21</td>\n",
       "    </tr>\n",
       "  </tbody>\n",
       "</table>\n",
       "</div>"
      ],
      "text/plain": [
       "                    domain  # channels\n",
       "76                roku.com         389\n",
       "41                ifood.tv         125\n",
       "26         doubleclick.net          62\n",
       "72                 ravm.tv          28\n",
       "93         superawesome.tv          27\n",
       "90         spotxchange.com          26\n",
       "109              vimeo.com          24\n",
       "81   scorecardresearch.com          24\n",
       "42        imrworldwide.com          21\n",
       "27        doubleverify.com          21"
      ]
     },
     "execution_count": 10,
     "metadata": {},
     "output_type": "execute_result"
    }
   ],
   "source": [
    "df[df.category == \"kids-family\"].drop_duplicates(subset=[\"channel_id\", \"domain\"]).\\\n",
    "    groupby([\"domain\"]).size().reset_index(name=\"# channels\").\\\n",
    "    sort_values(by=['# channels'], ascending=False).head(10)"
   ]
  },
  {
   "cell_type": "markdown",
   "metadata": {},
   "source": [
    "### Channels talking to most domains over TLS"
   ]
  },
  {
   "cell_type": "code",
   "execution_count": 11,
   "metadata": {},
   "outputs": [
    {
     "data": {
      "text/html": [
       "<div>\n",
       "<style scoped>\n",
       "    .dataframe tbody tr th:only-of-type {\n",
       "        vertical-align: middle;\n",
       "    }\n",
       "\n",
       "    .dataframe tbody tr th {\n",
       "        vertical-align: top;\n",
       "    }\n",
       "\n",
       "    .dataframe thead th {\n",
       "        text-align: right;\n",
       "    }\n",
       "</style>\n",
       "<table border=\"1\" class=\"dataframe\">\n",
       "  <thead>\n",
       "    <tr style=\"text-align: right;\">\n",
       "      <th></th>\n",
       "      <th>channel_name</th>\n",
       "      <th>rank</th>\n",
       "      <th># domains</th>\n",
       "    </tr>\n",
       "  </thead>\n",
       "  <tbody>\n",
       "    <tr>\n",
       "      <th>60</th>\n",
       "      <td>American Cowboy Classics</td>\n",
       "      <td>2267</td>\n",
       "      <td>56</td>\n",
       "    </tr>\n",
       "    <tr>\n",
       "      <th>7</th>\n",
       "      <td>8ctave HD</td>\n",
       "      <td>936</td>\n",
       "      <td>22</td>\n",
       "    </tr>\n",
       "    <tr>\n",
       "      <th>1035</th>\n",
       "      <td>Shout Factory TV</td>\n",
       "      <td>258</td>\n",
       "      <td>21</td>\n",
       "    </tr>\n",
       "    <tr>\n",
       "      <th>86</th>\n",
       "      <td>B-Movie TV</td>\n",
       "      <td>233</td>\n",
       "      <td>19</td>\n",
       "    </tr>\n",
       "    <tr>\n",
       "      <th>1249</th>\n",
       "      <td>Trashy Movies Channel</td>\n",
       "      <td>2034</td>\n",
       "      <td>18</td>\n",
       "    </tr>\n",
       "    <tr>\n",
       "      <th>818</th>\n",
       "      <td>Movee4U Free</td>\n",
       "      <td>680</td>\n",
       "      <td>17</td>\n",
       "    </tr>\n",
       "    <tr>\n",
       "      <th>1098</th>\n",
       "      <td>Superman 3D</td>\n",
       "      <td>1708</td>\n",
       "      <td>17</td>\n",
       "    </tr>\n",
       "    <tr>\n",
       "      <th>195</th>\n",
       "      <td>Cartoon Club LIVE</td>\n",
       "      <td>1570</td>\n",
       "      <td>17</td>\n",
       "    </tr>\n",
       "    <tr>\n",
       "      <th>1175</th>\n",
       "      <td>The Killer Movie Channel</td>\n",
       "      <td>664</td>\n",
       "      <td>17</td>\n",
       "    </tr>\n",
       "    <tr>\n",
       "      <th>277</th>\n",
       "      <td>Comedy Classics</td>\n",
       "      <td>1492</td>\n",
       "      <td>17</td>\n",
       "    </tr>\n",
       "  </tbody>\n",
       "</table>\n",
       "</div>"
      ],
      "text/plain": [
       "                  channel_name  rank  # domains\n",
       "60    American Cowboy Classics  2267         56\n",
       "7                    8ctave HD   936         22\n",
       "1035          Shout Factory TV   258         21\n",
       "86                  B-Movie TV   233         19\n",
       "1249     Trashy Movies Channel  2034         18\n",
       "818               Movee4U Free   680         17\n",
       "1098               Superman 3D  1708         17\n",
       "195          Cartoon Club LIVE  1570         17\n",
       "1175  The Killer Movie Channel   664         17\n",
       "277            Comedy Classics  1492         17"
      ]
     },
     "execution_count": 11,
     "metadata": {},
     "output_type": "execute_result"
    }
   ],
   "source": [
    "df_n_domains_by_channel = df.drop_duplicates(subset=[\"channel_name\", \"domain\", \"rank\"]).\\\n",
    "    groupby([\"channel_name\", \"rank\"]).size().reset_index(name=\"# domains\").\\\n",
    "    sort_values(by=['# domains'], ascending=False)\n",
    "df_n_domains_by_channel.head(10)"
   ]
  },
  {
   "cell_type": "markdown",
   "metadata": {},
   "source": [
    "### Kids and family channels talking to most domains over TLS"
   ]
  },
  {
   "cell_type": "code",
   "execution_count": 12,
   "metadata": {},
   "outputs": [
    {
     "data": {
      "text/html": [
       "<div>\n",
       "<style scoped>\n",
       "    .dataframe tbody tr th:only-of-type {\n",
       "        vertical-align: middle;\n",
       "    }\n",
       "\n",
       "    .dataframe tbody tr th {\n",
       "        vertical-align: top;\n",
       "    }\n",
       "\n",
       "    .dataframe thead th {\n",
       "        text-align: right;\n",
       "    }\n",
       "</style>\n",
       "<table border=\"1\" class=\"dataframe\">\n",
       "  <thead>\n",
       "    <tr style=\"text-align: right;\">\n",
       "      <th></th>\n",
       "      <th>channel_name</th>\n",
       "      <th>rank</th>\n",
       "      <th># domains</th>\n",
       "    </tr>\n",
       "  </thead>\n",
       "  <tbody>\n",
       "    <tr>\n",
       "      <th>333</th>\n",
       "      <td>Superman 3D</td>\n",
       "      <td>1708</td>\n",
       "      <td>17</td>\n",
       "    </tr>\n",
       "    <tr>\n",
       "      <th>55</th>\n",
       "      <td>Cartoon Club LIVE</td>\n",
       "      <td>1570</td>\n",
       "      <td>17</td>\n",
       "    </tr>\n",
       "    <tr>\n",
       "      <th>376</th>\n",
       "      <td>Toontime TV</td>\n",
       "      <td>1641</td>\n",
       "      <td>15</td>\n",
       "    </tr>\n",
       "    <tr>\n",
       "      <th>38</th>\n",
       "      <td>Blossom</td>\n",
       "      <td>3085</td>\n",
       "      <td>15</td>\n",
       "    </tr>\n",
       "    <tr>\n",
       "      <th>279</th>\n",
       "      <td>Only Animation TV</td>\n",
       "      <td>3207</td>\n",
       "      <td>14</td>\n",
       "    </tr>\n",
       "    <tr>\n",
       "      <th>11</th>\n",
       "      <td>Andrews Toy Channel</td>\n",
       "      <td>3831</td>\n",
       "      <td>13</td>\n",
       "    </tr>\n",
       "    <tr>\n",
       "      <th>26</th>\n",
       "      <td>BabyFirst Español</td>\n",
       "      <td>1834</td>\n",
       "      <td>13</td>\n",
       "    </tr>\n",
       "    <tr>\n",
       "      <th>318</th>\n",
       "      <td>So Yummy</td>\n",
       "      <td>2637</td>\n",
       "      <td>12</td>\n",
       "    </tr>\n",
       "    <tr>\n",
       "      <th>299</th>\n",
       "      <td>Popcornflix Kids</td>\n",
       "      <td>268</td>\n",
       "      <td>12</td>\n",
       "    </tr>\n",
       "    <tr>\n",
       "      <th>74</th>\n",
       "      <td>Cocoro</td>\n",
       "      <td>798</td>\n",
       "      <td>11</td>\n",
       "    </tr>\n",
       "  </tbody>\n",
       "</table>\n",
       "</div>"
      ],
      "text/plain": [
       "            channel_name  rank  # domains\n",
       "333          Superman 3D  1708         17\n",
       "55     Cartoon Club LIVE  1570         17\n",
       "376          Toontime TV  1641         15\n",
       "38               Blossom  3085         15\n",
       "279    Only Animation TV  3207         14\n",
       "11   Andrews Toy Channel  3831         13\n",
       "26     BabyFirst Español  1834         13\n",
       "318             So Yummy  2637         12\n",
       "299     Popcornflix Kids   268         12\n",
       "74                Cocoro   798         11"
      ]
     },
     "execution_count": 12,
     "metadata": {},
     "output_type": "execute_result"
    }
   ],
   "source": [
    "df_n_domains_by_kids_channel = df[df.category == \"kids-family\"].drop_duplicates(subset=[\"channel_name\", \"domain\", \"rank\"]).\\\n",
    "    groupby([\"channel_name\", \"rank\"]).size().reset_index(name=\"# domains\").\\\n",
    "    sort_values(by=['# domains'], ascending=False)\n",
    "df_n_domains_by_kids_channel.head(10)"
   ]
  },
  {
   "cell_type": "markdown",
   "metadata": {},
   "source": [
    "### Effect of popularity (rank)\n",
    "- Do popular channels resolve more domains?"
   ]
  },
  {
   "cell_type": "code",
   "execution_count": 20,
   "metadata": {},
   "outputs": [
    {
     "data": {
      "text/plain": [
       "<seaborn.axisgrid.FacetGrid at 0x7f808681b390>"
      ]
     },
     "execution_count": 20,
     "metadata": {},
     "output_type": "execute_result"
    },
    {
     "data": {
      "image/png": "[encoded data removed]",
      "text/plain": [
       "<matplotlib.figure.Figure at 0x7f80862b1e10>"
      ]
     },
     "metadata": {},
     "output_type": "display_data"
    }
   ],
   "source": [
    "ax = sns.lmplot(x=\"rank\", y=\"# domains\", data=df_n_domains_by_channel, size=5, aspect=2)\n",
    "ax.set(ylim=(-1, 25))"
   ]
  },
  {
   "cell_type": "markdown",
   "metadata": {},
   "source": [
    "### Effect of popularity (rank) - Kids and family channels"
   ]
  },
  {
   "cell_type": "code",
   "execution_count": 19,
   "metadata": {},
   "outputs": [
    {
     "data": {
      "text/plain": [
       "<seaborn.axisgrid.FacetGrid at 0x7f80864afe50>"
      ]
     },
     "execution_count": 19,
     "metadata": {},
     "output_type": "execute_result"
    },
    {
     "data": {
      "image/png": "[encoded data removed]",
      "text/plain": [
       "<matplotlib.figure.Figure at 0x7f808649f310>"
      ]
     },
     "metadata": {},
     "output_type": "display_data"
    }
   ],
   "source": [
    "sns.lmplot(x=\"rank\", y=\"# domains\", data=df_n_domains_by_kids_channel, size=5, aspect=2)"
   ]
  },
  {
   "cell_type": "markdown",
   "metadata": {},
   "source": [
    "### TODO - blocked status analysis\n",
    "- which TLS domains are blocked by block lists\n",
    "- what are the domains that are TV/OTT only (e.g. checking on the HTTPArchive data`spotxchange.com` domain is never seen on the web)\n",
    "- do popular channels resolve more tracking domains? (effect of popularity on tracking)\n",
    "- we don't include channels with zero DNS queries into this analysis (i.e. the above plots need to be redrawn)"
   ]
  },
  {
   "cell_type": "code",
   "execution_count": null,
   "metadata": {},
   "outputs": [],
   "source": []
  }
 ],
 "metadata": {
  "kernelspec": {
   "display_name": "Python 2",
   "language": "python",
   "name": "python2"
  },
  "language_info": {
   "codemirror_mode": {
    "name": "ipython",
    "version": 2
   },
   "file_extension": ".py",
   "mimetype": "text/x-python",
   "name": "python",
   "nbconvert_exporter": "python",
   "pygments_lexer": "ipython2",
   "version": "2.7.15rc1"
  }
 },
 "nbformat": 4,
 "nbformat_minor": 2
}
