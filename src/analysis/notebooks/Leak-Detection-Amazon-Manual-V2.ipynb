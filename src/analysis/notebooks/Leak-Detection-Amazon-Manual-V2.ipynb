{
 "cells": [
  {
   "cell_type": "code",
   "execution_count": 25,
   "metadata": {},
   "outputs": [],
   "source": [
    "import LeakDetector\n",
    "import numpy as np\n",
    "import pandas as pd\n",
    "from os.path import isdir, join, basename\n",
    "from datetime import datetime\n",
    "from glob import glob"
   ]
  },
  {
   "cell_type": "code",
   "execution_count": 26,
   "metadata": {},
   "outputs": [],
   "source": [
    "from log_analysis import get_crawl_parameter\n",
    "from crawl_ids import CrawlFireTVManualV2\n",
    "from df_utils import load_df\n",
    "from nb_utils import make_latex_table\n",
    "\n",
    "from ott_leaks import run_leak_detection, DEVICE_ID_NAMES, print_leak_stats, remove_ch_name_url_false_positives"
   ]
  },
  {
   "cell_type": "markdown",
   "metadata": {},
   "source": [
    "## Load leaks\n",
    "- Run the following to detect and pickle leaks\n",
    "  - Detect on all crawls: `python2 detect_leaks.py`\n",
    "  - Detect on a single crawl: `python2 detect_leaks.py roku-data-20190508-013650`"
   ]
  },
  {
   "cell_type": "code",
   "execution_count": 27,
   "metadata": {},
   "outputs": [
    {
     "data": {
      "text/html": [
       "<div>\n",
       "<style scoped>\n",
       "    .dataframe tbody tr th:only-of-type {\n",
       "        vertical-align: middle;\n",
       "    }\n",
       "\n",
       "    .dataframe tbody tr th {\n",
       "        vertical-align: top;\n",
       "    }\n",
       "\n",
       "    .dataframe thead th {\n",
       "        text-align: right;\n",
       "    }\n",
       "</style>\n",
       "<table border=\"1\" class=\"dataframe\">\n",
       "  <thead>\n",
       "    <tr style=\"text-align: right;\">\n",
       "      <th></th>\n",
       "      <th>ID</th>\n",
       "      <th>Num. of leaks</th>\n",
       "      <th>Num. of channels</th>\n",
       "    </tr>\n",
       "  </thead>\n",
       "  <tbody>\n",
       "    <tr>\n",
       "      <th>0</th>\n",
       "      <td>Android ID</td>\n",
       "      <td>166</td>\n",
       "      <td>9</td>\n",
       "    </tr>\n",
       "    <tr>\n",
       "      <th>1</th>\n",
       "      <td>directtv_email</td>\n",
       "      <td>7</td>\n",
       "      <td>1</td>\n",
       "    </tr>\n",
       "    <tr>\n",
       "      <th>2</th>\n",
       "      <td>directtv_password</td>\n",
       "      <td>1</td>\n",
       "      <td>1</td>\n",
       "    </tr>\n",
       "    <tr>\n",
       "      <th>3</th>\n",
       "      <td>Serial No</td>\n",
       "      <td>7</td>\n",
       "      <td>6</td>\n",
       "    </tr>\n",
       "    <tr>\n",
       "      <th>4</th>\n",
       "      <td>Channel name</td>\n",
       "      <td>1004</td>\n",
       "      <td>7</td>\n",
       "    </tr>\n",
       "    <tr>\n",
       "      <th>5</th>\n",
       "      <td>AD ID</td>\n",
       "      <td>122</td>\n",
       "      <td>7</td>\n",
       "    </tr>\n",
       "    <tr>\n",
       "      <th>6</th>\n",
       "      <td>Wifi SSID</td>\n",
       "      <td>5</td>\n",
       "      <td>1</td>\n",
       "    </tr>\n",
       "    <tr>\n",
       "      <th>7</th>\n",
       "      <td>Device name</td>\n",
       "      <td>5</td>\n",
       "      <td>1</td>\n",
       "    </tr>\n",
       "    <tr>\n",
       "      <th>8</th>\n",
       "      <td>Profile Email</td>\n",
       "      <td>1</td>\n",
       "      <td>1</td>\n",
       "    </tr>\n",
       "    <tr>\n",
       "      <th>9</th>\n",
       "      <td>Profile Firstname</td>\n",
       "      <td>1</td>\n",
       "      <td>1</td>\n",
       "    </tr>\n",
       "    <tr>\n",
       "      <th>10</th>\n",
       "      <td>Profile Lastname</td>\n",
       "      <td>1</td>\n",
       "      <td>1</td>\n",
       "    </tr>\n",
       "    <tr>\n",
       "      <th>11</th>\n",
       "      <td>MAC</td>\n",
       "      <td>5</td>\n",
       "      <td>2</td>\n",
       "    </tr>\n",
       "    <tr>\n",
       "      <th>12</th>\n",
       "      <td>Zip</td>\n",
       "      <td>7</td>\n",
       "      <td>2</td>\n",
       "    </tr>\n",
       "  </tbody>\n",
       "</table>\n",
       "</div>"
      ],
      "text/plain": [
       "                   ID  Num. of leaks  Num. of channels\n",
       "0          Android ID            166                 9\n",
       "1      directtv_email              7                 1\n",
       "2   directtv_password              1                 1\n",
       "3           Serial No              7                 6\n",
       "4        Channel name           1004                 7\n",
       "5               AD ID            122                 7\n",
       "6           Wifi SSID              5                 1\n",
       "7         Device name              5                 1\n",
       "8       Profile Email              1                 1\n",
       "9   Profile Firstname              1                 1\n",
       "10   Profile Lastname              1                 1\n",
       "11                MAC              5                 2\n",
       "12                Zip              7                 2"
      ]
     },
     "execution_count": 27,
     "metadata": {},
     "output_type": "execute_result"
    }
   ],
   "source": [
    "leaks = load_df(CrawlFireTVManualV2, \"leak\")\n",
    "openwpm_leaks = load_df(CrawlFireTVManualV2, \"openwpm_leak\")\n",
    "leaks = leaks[leaks.id_type!=\"Build Number\"]\n",
    "remove_ch_name_url_false_positives(leaks)  # this is part of the leak detection flow now\n",
    "# remove leaks to roku.com\n",
    "\n",
    "AMAZON_DOMAINS = [\"amazon.com\", \"amazonvideo.com\"]\n",
    "leaks = leaks[~leaks.req_domain.isin(AMAZON_DOMAINS)]\n",
    "id_leaks = leaks[leaks.id_type.isin(DEVICE_ID_NAMES)\n",
    "                           | leaks.id_type.str.contains(\"password\", case=False)\n",
    "                           | leaks.id_type.str.contains(\"email\", case=False)\n",
    "                           | leaks.id_type.str.contains(\"cc\", case=False)\n",
    "                           | leaks.id_type.str.contains(\"password\", case=False)]\n",
    "\n",
    "df = print_leak_stats(leaks)\n",
    "df"
   ]
  },
  {
   "cell_type": "code",
   "execution_count": 29,
   "metadata": {},
   "outputs": [
    {
     "name": "stdout",
     "output_type": "stream",
     "text": [
      "\n",
      "\\begin{table}[H]\n",
      "%\\centering\n",
      "%\\resizebox{\\columnwidth}{!}{%\n",
      "\\begin{tabular}{lrr}\n",
      "\\toprule\n",
      " Id                &   Num. of leaks &   Num. of channels \\\\\n",
      "\\midrule\n",
      " Android ID        &             166 &                  9 \\\\\n",
      " directtv\\_email    &               7 &                  1 \\\\\n",
      " directtv\\_password &               1 &                  1 \\\\\n",
      " Serial No         &               7 &                  6 \\\\\n",
      " Channel name      &            1004 &                  7 \\\\\n",
      " AD ID             &             122 &                  7 \\\\\n",
      " Wifi SSID         &               5 &                  1 \\\\\n",
      " Device name       &               5 &                  1 \\\\\n",
      " Profile Email     &               1 &                  1 \\\\\n",
      " Profile Firstname &               1 &                  1 \\\\\n",
      " Profile Lastname  &               1 &                  1 \\\\\n",
      " MAC               &               5 &                  2 \\\\\n",
      " Zip               &               7 &                  2 \\\\\n",
      "\\bottomrule\n",
      "\\end{tabular}\n",
      "%}\n",
      "\\caption{Overview of information leakage detected in Roku-Top1K-NoMITM crawl}\n",
      "\\label{tab:leaks_roku}\n",
      "\\end{table}\n"
     ]
    }
   ],
   "source": [
    "print(make_latex_table(\n",
    "    df, caption=\"Overview of information leakage detected in Fire TV-Top30-Manual-MITM crawl\",\n",
    "    label=\"leaks_amazon_manual\"))"
   ]
  },
  {
   "cell_type": "markdown",
   "metadata": {},
   "source": [
    "## OpenWPM Leaks"
   ]
  },
  {
   "cell_type": "code",
   "execution_count": 28,
   "metadata": {},
   "outputs": [
    {
     "data": {
      "text/html": [
       "<div>\n",
       "<style scoped>\n",
       "    .dataframe tbody tr th:only-of-type {\n",
       "        vertical-align: middle;\n",
       "    }\n",
       "\n",
       "    .dataframe tbody tr th {\n",
       "        vertical-align: top;\n",
       "    }\n",
       "\n",
       "    .dataframe thead th {\n",
       "        text-align: right;\n",
       "    }\n",
       "</style>\n",
       "<table border=\"1\" class=\"dataframe\">\n",
       "  <thead>\n",
       "    <tr style=\"text-align: right;\">\n",
       "      <th></th>\n",
       "      <th>channel_id</th>\n",
       "      <th>channel_name</th>\n",
       "      <th>id_type</th>\n",
       "      <th>encoding</th>\n",
       "      <th>search</th>\n",
       "      <th>leak_type</th>\n",
       "      <th>referrer</th>\n",
       "      <th>req_domain</th>\n",
       "    </tr>\n",
       "  </thead>\n",
       "  <tbody>\n",
       "    <tr>\n",
       "      <th>0</th>\n",
       "      <td>com.aetn.aetv.watch</td>\n",
       "      <td>A&amp;amp;E</td>\n",
       "      <td>Profile Email</td>\n",
       "      <td>urlencode</td>\n",
       "      <td>baaaaaaab54@gmail.com</td>\n",
       "      <td>url_leaks</td>\n",
       "      <td>https://www.aetv.com/profile/activate</td>\n",
       "      <td>aetv.com</td>\n",
       "    </tr>\n",
       "    <tr>\n",
       "      <th>0</th>\n",
       "      <td>com.aetn.aetv.watch</td>\n",
       "      <td>A&amp;amp;E</td>\n",
       "      <td>Profile Email</td>\n",
       "      <td>sha256</td>\n",
       "      <td>baaaaaaab54@gmail.com</td>\n",
       "      <td>url_leaks</td>\n",
       "      <td>https://www.aetv.com/profile/activate</td>\n",
       "      <td>krxd.net</td>\n",
       "    </tr>\n",
       "    <tr>\n",
       "      <th>0</th>\n",
       "      <td>com.onemainstream.nbcunivers.android</td>\n",
       "      <td>NBC</td>\n",
       "      <td>Profile Email</td>\n",
       "      <td>base64</td>\n",
       "      <td>baaaaaaab54@gmail.com</td>\n",
       "      <td>url_leaks</td>\n",
       "      <td>https://www.nbc.com/sign-in</td>\n",
       "      <td>mixpanel.com</td>\n",
       "    </tr>\n",
       "    <tr>\n",
       "      <th>0</th>\n",
       "      <td>com.onemainstream.nbcunivers.android</td>\n",
       "      <td>NBC</td>\n",
       "      <td>Profile Email</td>\n",
       "      <td>base64</td>\n",
       "      <td>baaaaaaab54@gmail.com</td>\n",
       "      <td>url_leaks</td>\n",
       "      <td>https://www.nbc.com/sign-up</td>\n",
       "      <td>mixpanel.com</td>\n",
       "    </tr>\n",
       "    <tr>\n",
       "      <th>1</th>\n",
       "      <td>com.onemainstream.nbcunivers.android</td>\n",
       "      <td>NBC</td>\n",
       "      <td>Profile Email</td>\n",
       "      <td>base64</td>\n",
       "      <td>baaaaaaab54@gmail.com</td>\n",
       "      <td>url_leaks</td>\n",
       "      <td>https://www.nbc.com/nbcuniversalfamily/activate</td>\n",
       "      <td>mixpanel.com</td>\n",
       "    </tr>\n",
       "    <tr>\n",
       "      <th>0</th>\n",
       "      <td>com.onemainstream.nbcunivers.android</td>\n",
       "      <td>NBC</td>\n",
       "      <td>Profile Email</td>\n",
       "      <td>urlencode</td>\n",
       "      <td>baaaaaaab54@gmail.com</td>\n",
       "      <td>url_leaks</td>\n",
       "      <td>https://www.nbc.com/sign-in</td>\n",
       "      <td>mixpanel.com</td>\n",
       "    </tr>\n",
       "    <tr>\n",
       "      <th>0</th>\n",
       "      <td>com.nbcuni.com.nbcsports.liveextra.firetv</td>\n",
       "      <td>NBC Sports</td>\n",
       "      <td>Zip</td>\n",
       "      <td>unencoded</td>\n",
       "      <td>08540</td>\n",
       "      <td>url_leaks</td>\n",
       "      <td>https://buy.tinypass.com/checkout/offer/show?d...</td>\n",
       "      <td>tinypass.com</td>\n",
       "    </tr>\n",
       "  </tbody>\n",
       "</table>\n",
       "</div>"
      ],
      "text/plain": [
       "                                  channel_id channel_name        id_type  \\\n",
       "0                        com.aetn.aetv.watch      A&amp;E  Profile Email   \n",
       "0                        com.aetn.aetv.watch      A&amp;E  Profile Email   \n",
       "0       com.onemainstream.nbcunivers.android          NBC  Profile Email   \n",
       "0       com.onemainstream.nbcunivers.android          NBC  Profile Email   \n",
       "1       com.onemainstream.nbcunivers.android          NBC  Profile Email   \n",
       "0       com.onemainstream.nbcunivers.android          NBC  Profile Email   \n",
       "0  com.nbcuni.com.nbcsports.liveextra.firetv   NBC Sports            Zip   \n",
       "\n",
       "    encoding                 search  leak_type  \\\n",
       "0  urlencode  baaaaaaab54@gmail.com  url_leaks   \n",
       "0     sha256  baaaaaaab54@gmail.com  url_leaks   \n",
       "0     base64  baaaaaaab54@gmail.com  url_leaks   \n",
       "0     base64  baaaaaaab54@gmail.com  url_leaks   \n",
       "1     base64  baaaaaaab54@gmail.com  url_leaks   \n",
       "0  urlencode  baaaaaaab54@gmail.com  url_leaks   \n",
       "0  unencoded                  08540  url_leaks   \n",
       "\n",
       "                                            referrer    req_domain  \n",
       "0              https://www.aetv.com/profile/activate      aetv.com  \n",
       "0              https://www.aetv.com/profile/activate      krxd.net  \n",
       "0                        https://www.nbc.com/sign-in  mixpanel.com  \n",
       "0                        https://www.nbc.com/sign-up  mixpanel.com  \n",
       "1    https://www.nbc.com/nbcuniversalfamily/activate  mixpanel.com  \n",
       "0                        https://www.nbc.com/sign-in  mixpanel.com  \n",
       "0  https://buy.tinypass.com/checkout/offer/show?d...  tinypass.com  "
      ]
     },
     "execution_count": 28,
     "metadata": {},
     "output_type": "execute_result"
    }
   ],
   "source": [
    "from log_analysis import add_domain_column\n",
    "add_domain_column(openwpm_leaks)\n",
    "\n",
    "df = openwpm_leaks[openwpm_leaks.id_type !=\"Channel name\"][['channel_id', 'channel_name', 'id_type', 'encoding', 'search', 'leak_type', 'referrer', 'req_domain']].drop_duplicates()\n",
    "#.url.iloc[2]"
   ]
  },
  {
   "cell_type": "code",
   "execution_count": 31,
   "metadata": {},
   "outputs": [
    {
     "name": "stdout",
     "output_type": "stream",
     "text": [
      "\n",
      "\\begin{table}[H]\n",
      "%\\centering\n",
      "%\\resizebox{\\columnwidth}{!}{%\n",
      "\\begin{tabular}{lrr}\n",
      "\\toprule\n",
      " Id                &   Num. of leaks &   Num. of channels \\\\\n",
      "\\midrule\n",
      " Android ID        &             166 &                  9 \\\\\n",
      " directtv\\_email    &               7 &                  1 \\\\\n",
      " directtv\\_password &               1 &                  1 \\\\\n",
      " Serial No         &               7 &                  6 \\\\\n",
      " Channel name      &            1004 &                  7 \\\\\n",
      " AD ID             &             122 &                  7 \\\\\n",
      " Wifi SSID         &               5 &                  1 \\\\\n",
      " Device name       &               5 &                  1 \\\\\n",
      " Profile Email     &               1 &                  1 \\\\\n",
      " Profile Firstname &               1 &                  1 \\\\\n",
      " Profile Lastname  &               1 &                  1 \\\\\n",
      " MAC               &               5 &                  2 \\\\\n",
      " Zip               &               7 &                  2 \\\\\n",
      "\\bottomrule\n",
      "\\end{tabular}\n",
      "%}\n",
      "\\caption{}\n",
      "\\label{tab:leaks_roku_manual_web}\n",
      "\\end{table}\n"
     ]
    }
   ],
   "source": [
    "print(make_latex_table(\n",
    "    df, caption=\"\",\n",
    "    label=\"leaks_roku_manual_web\"))"
   ]
  },
  {
   "cell_type": "markdown",
   "metadata": {},
   "source": [
    "### Email leaks"
   ]
  },
  {
   "cell_type": "code",
   "execution_count": 32,
   "metadata": {},
   "outputs": [
    {
     "data": {
      "text/html": [
       "<div>\n",
       "<style scoped>\n",
       "    .dataframe tbody tr th:only-of-type {\n",
       "        vertical-align: middle;\n",
       "    }\n",
       "\n",
       "    .dataframe tbody tr th {\n",
       "        vertical-align: top;\n",
       "    }\n",
       "\n",
       "    .dataframe thead th {\n",
       "        text-align: right;\n",
       "    }\n",
       "</style>\n",
       "<table border=\"1\" class=\"dataframe\">\n",
       "  <thead>\n",
       "    <tr style=\"text-align: right;\">\n",
       "      <th></th>\n",
       "      <th>adblocked</th>\n",
       "      <th>adblocked_by_url</th>\n",
       "      <th>category</th>\n",
       "      <th>channel_id</th>\n",
       "      <th>channel_name</th>\n",
       "      <th>cookie</th>\n",
       "      <th>decoded_data</th>\n",
       "      <th>disconnect_blocked</th>\n",
       "      <th>disconnect_blocked_by_url</th>\n",
       "      <th>domain_by_dns</th>\n",
       "      <th>...</th>\n",
       "      <th>referer</th>\n",
       "      <th>req_domain</th>\n",
       "      <th>search</th>\n",
       "      <th>status</th>\n",
       "      <th>tcp_dstport</th>\n",
       "      <th>tcp_stream</th>\n",
       "      <th>time</th>\n",
       "      <th>url</th>\n",
       "      <th>user_agent</th>\n",
       "      <th>ch_name_url_false_pos</th>\n",
       "    </tr>\n",
       "  </thead>\n",
       "  <tbody>\n",
       "    <tr>\n",
       "      <th>0</th>\n",
       "      <td>False</td>\n",
       "      <td>False</td>\n",
       "      <td>Movies &amp; TV</td>\n",
       "      <td>com.feeln.androidapp</td>\n",
       "      <td>Hallmark Movies Now</td>\n",
       "      <td></td>\n",
       "      <td></td>\n",
       "      <td>False</td>\n",
       "      <td>False</td>\n",
       "      <td>feeln.com</td>\n",
       "      <td>...</td>\n",
       "      <td></td>\n",
       "      <td>feeln.com</td>\n",
       "      <td>baaaaaaab54@gmail.com</td>\n",
       "      <td>TERMINATED</td>\n",
       "      <td>443</td>\n",
       "      <td>40</td>\n",
       "      <td>1562278877.810364000</td>\n",
       "      <td>https://apify.feeln.com/v3/registration.json</td>\n",
       "      <td>Dalvik/2.1.0 (Linux; U; Android 5.1.1; AFTT Bu...</td>\n",
       "      <td>False</td>\n",
       "    </tr>\n",
       "  </tbody>\n",
       "</table>\n",
       "<p>1 rows × 41 columns</p>\n",
       "</div>"
      ],
      "text/plain": [
       "   adblocked  adblocked_by_url     category            channel_id  \\\n",
       "0      False             False  Movies & TV  com.feeln.androidapp   \n",
       "\n",
       "          channel_name cookie decoded_data  disconnect_blocked  \\\n",
       "0  Hallmark Movies Now                                   False   \n",
       "\n",
       "   disconnect_blocked_by_url domain_by_dns          ...            referer  \\\n",
       "0                      False     feeln.com          ...                      \n",
       "\n",
       "   req_domain                 search      status tcp_dstport  tcp_stream  \\\n",
       "0   feeln.com  baaaaaaab54@gmail.com  TERMINATED         443          40   \n",
       "\n",
       "                   time                                           url  \\\n",
       "0  1562278877.810364000  https://apify.feeln.com/v3/registration.json   \n",
       "\n",
       "                                          user_agent  ch_name_url_false_pos  \n",
       "0  Dalvik/2.1.0 (Linux; U; Android 5.1.1; AFTT Bu...                  False  \n",
       "\n",
       "[1 rows x 41 columns]"
      ]
     },
     "execution_count": 32,
     "metadata": {},
     "output_type": "execute_result"
    }
   ],
   "source": [
    "leaks[leaks.id_type.isin(['Profile Email', 'Email'])]"
   ]
  },
  {
   "cell_type": "markdown",
   "metadata": {},
   "source": [
    "### Leaked IDs"
   ]
  },
  {
   "cell_type": "code",
   "execution_count": 33,
   "metadata": {},
   "outputs": [
    {
     "data": {
      "text/plain": [
       "Channel name         1004\n",
       "Android ID            166\n",
       "AD ID                 122\n",
       "Serial No               7\n",
       "directtv_email          7\n",
       "Zip                     7\n",
       "Device name             5\n",
       "Wifi SSID               5\n",
       "MAC                     5\n",
       "Profile Firstname       1\n",
       "Profile Lastname        1\n",
       "Profile Email           1\n",
       "directtv_password       1\n",
       "Name: id_type, dtype: int64"
      ]
     },
     "execution_count": 33,
     "metadata": {},
     "output_type": "execute_result"
    }
   ],
   "source": [
    "leaks.id_type.value_counts()"
   ]
  },
  {
   "cell_type": "markdown",
   "metadata": {},
   "source": [
    "### Leak location"
   ]
  },
  {
   "cell_type": "code",
   "execution_count": 34,
   "metadata": {},
   "outputs": [
    {
     "data": {
      "text/plain": [
       "url_leaks         799\n",
       "post_leaks        395\n",
       "referrer_leaks    129\n",
       "cookie_leaks        9\n",
       "Name: leak_type, dtype: int64"
      ]
     },
     "execution_count": 34,
     "metadata": {},
     "output_type": "execute_result"
    }
   ],
   "source": [
    "leaks.leak_type.value_counts()"
   ]
  },
  {
   "cell_type": "markdown",
   "metadata": {},
   "source": [
    "### Leak encodings"
   ]
  },
  {
   "cell_type": "code",
   "execution_count": 35,
   "metadata": {},
   "outputs": [
    {
     "data": {
      "text/plain": [
       "unencoded    1185\n",
       "urlencode      73\n",
       "sha1           41\n",
       "base64         15\n",
       "md5            14\n",
       "base16          4\n",
       "Name: encoding, dtype: int64"
      ]
     },
     "execution_count": 35,
     "metadata": {},
     "output_type": "execute_result"
    }
   ],
   "source": [
    "leaks.encoding.value_counts()"
   ]
  },
  {
   "cell_type": "markdown",
   "metadata": {},
   "source": [
    "## Top trackers"
   ]
  },
  {
   "cell_type": "code",
   "execution_count": 36,
   "metadata": {},
   "outputs": [
    {
     "data": {
      "text/html": [
       "<div>\n",
       "<style scoped>\n",
       "    .dataframe tbody tr th:only-of-type {\n",
       "        vertical-align: middle;\n",
       "    }\n",
       "\n",
       "    .dataframe tbody tr th {\n",
       "        vertical-align: top;\n",
       "    }\n",
       "\n",
       "    .dataframe thead th {\n",
       "        text-align: right;\n",
       "    }\n",
       "</style>\n",
       "<table border=\"1\" class=\"dataframe\">\n",
       "  <thead>\n",
       "    <tr style=\"text-align: right;\">\n",
       "      <th></th>\n",
       "      <th>domain</th>\n",
       "      <th>Num. of channels</th>\n",
       "    </tr>\n",
       "  </thead>\n",
       "  <tbody>\n",
       "    <tr>\n",
       "      <th>12</th>\n",
       "      <td>amazon.com</td>\n",
       "      <td>21</td>\n",
       "    </tr>\n",
       "    <tr>\n",
       "      <th>53</th>\n",
       "      <td>mobileanalytics.us-east-1.amazonaws.com</td>\n",
       "      <td>16</td>\n",
       "    </tr>\n",
       "    <tr>\n",
       "      <th>28</th>\n",
       "      <td>doubleclick.net</td>\n",
       "      <td>8</td>\n",
       "    </tr>\n",
       "    <tr>\n",
       "      <th>11</th>\n",
       "      <td>amazon-adsystem.com</td>\n",
       "      <td>8</td>\n",
       "    </tr>\n",
       "    <tr>\n",
       "      <th>5</th>\n",
       "      <td>adobe.com</td>\n",
       "      <td>7</td>\n",
       "    </tr>\n",
       "    <tr>\n",
       "      <th>62</th>\n",
       "      <td>scorecardresearch.com</td>\n",
       "      <td>6</td>\n",
       "    </tr>\n",
       "    <tr>\n",
       "      <th>21</th>\n",
       "      <td>crashlytics.com</td>\n",
       "      <td>6</td>\n",
       "    </tr>\n",
       "    <tr>\n",
       "      <th>27</th>\n",
       "      <td>demdex.net</td>\n",
       "      <td>6</td>\n",
       "    </tr>\n",
       "    <tr>\n",
       "      <th>31</th>\n",
       "      <td>facebook.com</td>\n",
       "      <td>5</td>\n",
       "    </tr>\n",
       "    <tr>\n",
       "      <th>24</th>\n",
       "      <td>d3a510xmpll7o6.cloudfront.net</td>\n",
       "      <td>5</td>\n",
       "    </tr>\n",
       "  </tbody>\n",
       "</table>\n",
       "</div>"
      ],
      "text/plain": [
       "                                     domain  Num. of channels\n",
       "12                               amazon.com                21\n",
       "53  mobileanalytics.us-east-1.amazonaws.com                16\n",
       "28                          doubleclick.net                 8\n",
       "11                      amazon-adsystem.com                 8\n",
       "5                                 adobe.com                 7\n",
       "62                    scorecardresearch.com                 6\n",
       "21                          crashlytics.com                 6\n",
       "27                               demdex.net                 6\n",
       "31                             facebook.com                 5\n",
       "24            d3a510xmpll7o6.cloudfront.net                 5"
      ]
     },
     "execution_count": 36,
     "metadata": {},
     "output_type": "execute_result"
    }
   ],
   "source": [
    "from nb_utils import get_popular_domains_from_tcp_conns\n",
    "tcp = load_df(CrawlFireTVManualV2, \"tcp_conn\")\n",
    "df = get_popular_domains_from_tcp_conns(tcp[tcp.adblocked])\n",
    "df"
   ]
  },
  {
   "cell_type": "code",
   "execution_count": 37,
   "metadata": {},
   "outputs": [
    {
     "name": "stdout",
     "output_type": "stream",
     "text": [
      "\n",
      "\\begin{table}[H]\n",
      "%\\centering\n",
      "%\\resizebox{\\columnwidth}{!}{%\n",
      "\\begin{tabular}{lr}\n",
      "\\toprule\n",
      " Domain                                  &   Num. of channels \\\\\n",
      "\\midrule\n",
      " amazon.com                              &                 21 \\\\\n",
      " mobileanalytics.us-east-1.amazonaws.com &                 16 \\\\\n",
      " doubleclick.net                         &                  8 \\\\\n",
      " amazon-adsystem.com                     &                  8 \\\\\n",
      " adobe.com                               &                  7 \\\\\n",
      " scorecardresearch.com                   &                  6 \\\\\n",
      " crashlytics.com                         &                  6 \\\\\n",
      " demdex.net                              &                  6 \\\\\n",
      " facebook.com                            &                  5 \\\\\n",
      " d3a510xmpll7o6.cloudfront.net           &                  5 \\\\\n",
      "\\bottomrule\n",
      "\\end{tabular}\n",
      "%}\n",
      "\\caption{Most prevalent trackers in the Amazon manual crawl}\n",
      "\\label{tab:tab:top_trackers_amazon_manual_v2}\n",
      "\\end{table}\n"
     ]
    }
   ],
   "source": [
    "print make_latex_table(df, caption=\"Most prevalent trackers in the Amazon manual crawl\", label=\"tab:top_trackers_amazon_manual_v2\")"
   ]
  },
  {
   "cell_type": "code",
   "execution_count": null,
   "metadata": {},
   "outputs": [],
   "source": []
  }
 ],
 "metadata": {
  "kernelspec": {
   "display_name": "Python 2",
   "language": "python",
   "name": "python2"
  },
  "language_info": {
   "codemirror_mode": {
    "name": "ipython",
    "version": 2
   },
   "file_extension": ".py",
   "mimetype": "text/x-python",
   "name": "python",
   "nbconvert_exporter": "python",
   "pygments_lexer": "ipython2",
   "version": "2.7.15+"
  }
 },
 "nbformat": 4,
 "nbformat_minor": 2
}
