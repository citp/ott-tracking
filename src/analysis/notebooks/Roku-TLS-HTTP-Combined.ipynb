{
 "cells": [
  {
   "cell_type": "markdown",
   "metadata": {},
   "source": [
    "## HTTP and TLS traffic\n",
    "- Overview of TLS and HTTP endpoints combined\n",
    "- We have a separate HTTP notebook, but it doesn't capture the TLS connections. We use TLS SNI field to draw a more complete picture."
   ]
  },
  {
   "cell_type": "code",
   "execution_count": 1,
   "metadata": {},
   "outputs": [],
   "source": [
    "import pandas as pd\n",
    "from os.path import dirname, realpath, join, isfile\n",
    "from nb_utils import (get_ps1_or_ipaddress, read_pcap_fields_from_txts,\n",
    "                   download_roku_channel_details, ROKU_MACS)"
   ]
  },
  {
   "cell_type": "code",
   "execution_count": 2,
   "metadata": {},
   "outputs": [],
   "source": [
    "import seaborn as sns\n",
    "%matplotlib inline\n",
    "sns.set(color_codes=True)\n",
    "sns.set(rc={'figure.figsize':(16,9)})"
   ]
  },
  {
   "cell_type": "code",
   "execution_count": 3,
   "metadata": {},
   "outputs": [],
   "source": [
    "ROOT_PROJ_DIR = dirname(dirname(dirname(dirname(realpath('__file__')))))\n",
    "DATA_DIR = join(ROOT_PROJ_DIR, \"data/pcap_analysis/roku-channel-surfer/2018-09-27\")\n",
    "HTTP_REQS_DIR = join(DATA_DIR, \"http\")\n",
    "DNS_QUERIES_DIR = join(DATA_DIR, \"dns\")\n",
    "HTTP_CSV = join(DATA_DIR, \"roku-2018-09-27-requests.csv\")\n",
    "TLS_SNI_CSV = join(DATA_DIR, \"roku-2018-09-27-tls-sni.csv\")"
   ]
  },
  {
   "cell_type": "markdown",
   "metadata": {},
   "source": [
    "### Load channel details\n",
    "- We only channels details to add helper columns to request dataframe\n",
    "- Once we build and store the request details, we don't actually need to do this"
   ]
  },
  {
   "cell_type": "code",
   "execution_count": 4,
   "metadata": {},
   "outputs": [],
   "source": [
    "channel_df = download_roku_channel_details()"
   ]
  },
  {
   "cell_type": "markdown",
   "metadata": {},
   "source": [
    "## Load HTTP request details\n",
    "- Load the request details from the CSV or build from scratch"
   ]
  },
  {
   "cell_type": "code",
   "execution_count": 5,
   "metadata": {},
   "outputs": [],
   "source": [
    "req_df = pd.read_csv(HTTP_CSV, sep='\\t', encoding='utf-8')\n",
    "tls_df = pd.read_csv(TLS_SNI_CSV, sep='\\t', encoding='utf-8')"
   ]
  },
  {
   "cell_type": "code",
   "execution_count": 6,
   "metadata": {},
   "outputs": [
    {
     "data": {
      "text/html": [
       "<div>\n",
       "<style scoped>\n",
       "    .dataframe tbody tr th:only-of-type {\n",
       "        vertical-align: middle;\n",
       "    }\n",
       "\n",
       "    .dataframe tbody tr th {\n",
       "        vertical-align: top;\n",
       "    }\n",
       "\n",
       "    .dataframe thead th {\n",
       "        text-align: right;\n",
       "    }\n",
       "</style>\n",
       "<table border=\"1\" class=\"dataframe\">\n",
       "  <thead>\n",
       "    <tr style=\"text-align: right;\">\n",
       "      <th></th>\n",
       "      <th>channel_id</th>\n",
       "      <th>start_ts</th>\n",
       "      <th>command</th>\n",
       "      <th>select_idx</th>\n",
       "      <th>eth_src</th>\n",
       "      <th>ip_dst</th>\n",
       "      <th>req_method</th>\n",
       "      <th>url</th>\n",
       "      <th>channel_name</th>\n",
       "      <th>domain</th>\n",
       "      <th>rank</th>\n",
       "      <th>category</th>\n",
       "    </tr>\n",
       "  </thead>\n",
       "  <tbody>\n",
       "    <tr>\n",
       "      <th>0</th>\n",
       "      <td>63344</td>\n",
       "      <td>1538096403</td>\n",
       "      <td>select</td>\n",
       "      <td>1</td>\n",
       "      <td>d8:31:34:22:e6:ff</td>\n",
       "      <td>23.33.105.154</td>\n",
       "      <td>GET</td>\n",
       "      <td>http://api.playplex.viacom.com/feeds/networkap...</td>\n",
       "      <td>Comedy Central</td>\n",
       "      <td>viacom.com</td>\n",
       "      <td>77</td>\n",
       "      <td>movies-tvs</td>\n",
       "    </tr>\n",
       "    <tr>\n",
       "      <th>1</th>\n",
       "      <td>63344</td>\n",
       "      <td>1538096403</td>\n",
       "      <td>select</td>\n",
       "      <td>1</td>\n",
       "      <td>d8:31:34:22:e6:ff</td>\n",
       "      <td>23.33.105.154</td>\n",
       "      <td>GET</td>\n",
       "      <td>http://api.playplex.viacom.com/feeds/networkap...</td>\n",
       "      <td>Comedy Central</td>\n",
       "      <td>viacom.com</td>\n",
       "      <td>77</td>\n",
       "      <td>movies-tvs</td>\n",
       "    </tr>\n",
       "    <tr>\n",
       "      <th>2</th>\n",
       "      <td>63344</td>\n",
       "      <td>1538096403</td>\n",
       "      <td>select</td>\n",
       "      <td>1</td>\n",
       "      <td>d8:31:34:22:e6:ff</td>\n",
       "      <td>173.222.212.76</td>\n",
       "      <td>GET</td>\n",
       "      <td>http://comedycentral.mtvnimages.com/uri/mgid:a...</td>\n",
       "      <td>Comedy Central</td>\n",
       "      <td>mtvnimages.com</td>\n",
       "      <td>77</td>\n",
       "      <td>movies-tvs</td>\n",
       "    </tr>\n",
       "    <tr>\n",
       "      <th>3</th>\n",
       "      <td>63344</td>\n",
       "      <td>1538096403</td>\n",
       "      <td>select</td>\n",
       "      <td>1</td>\n",
       "      <td>d8:31:34:22:e6:ff</td>\n",
       "      <td>23.33.105.154</td>\n",
       "      <td>GET</td>\n",
       "      <td>http://api.playplex.viacom.com/feeds/networkap...</td>\n",
       "      <td>Comedy Central</td>\n",
       "      <td>viacom.com</td>\n",
       "      <td>77</td>\n",
       "      <td>movies-tvs</td>\n",
       "    </tr>\n",
       "    <tr>\n",
       "      <th>4</th>\n",
       "      <td>63344</td>\n",
       "      <td>1538096403</td>\n",
       "      <td>select</td>\n",
       "      <td>1</td>\n",
       "      <td>d8:31:34:22:e6:ff</td>\n",
       "      <td>23.33.105.154</td>\n",
       "      <td>GET</td>\n",
       "      <td>http://api.playplex.viacom.com/feeds/networkap...</td>\n",
       "      <td>Comedy Central</td>\n",
       "      <td>viacom.com</td>\n",
       "      <td>77</td>\n",
       "      <td>movies-tvs</td>\n",
       "    </tr>\n",
       "  </tbody>\n",
       "</table>\n",
       "</div>"
      ],
      "text/plain": [
       "   channel_id    start_ts command  select_idx            eth_src  \\\n",
       "0       63344  1538096403  select           1  d8:31:34:22:e6:ff   \n",
       "1       63344  1538096403  select           1  d8:31:34:22:e6:ff   \n",
       "2       63344  1538096403  select           1  d8:31:34:22:e6:ff   \n",
       "3       63344  1538096403  select           1  d8:31:34:22:e6:ff   \n",
       "4       63344  1538096403  select           1  d8:31:34:22:e6:ff   \n",
       "\n",
       "           ip_dst req_method  \\\n",
       "0   23.33.105.154        GET   \n",
       "1   23.33.105.154        GET   \n",
       "2  173.222.212.76        GET   \n",
       "3   23.33.105.154        GET   \n",
       "4   23.33.105.154        GET   \n",
       "\n",
       "                                                 url    channel_name  \\\n",
       "0  http://api.playplex.viacom.com/feeds/networkap...  Comedy Central   \n",
       "1  http://api.playplex.viacom.com/feeds/networkap...  Comedy Central   \n",
       "2  http://comedycentral.mtvnimages.com/uri/mgid:a...  Comedy Central   \n",
       "3  http://api.playplex.viacom.com/feeds/networkap...  Comedy Central   \n",
       "4  http://api.playplex.viacom.com/feeds/networkap...  Comedy Central   \n",
       "\n",
       "           domain  rank    category  \n",
       "0      viacom.com    77  movies-tvs  \n",
       "1      viacom.com    77  movies-tvs  \n",
       "2  mtvnimages.com    77  movies-tvs  \n",
       "3      viacom.com    77  movies-tvs  \n",
       "4      viacom.com    77  movies-tvs  "
      ]
     },
     "execution_count": 6,
     "metadata": {},
     "output_type": "execute_result"
    }
   ],
   "source": [
    "req_df.head()"
   ]
  },
  {
   "cell_type": "code",
   "execution_count": 7,
   "metadata": {},
   "outputs": [
    {
     "data": {
      "text/html": [
       "<div>\n",
       "<style scoped>\n",
       "    .dataframe tbody tr th:only-of-type {\n",
       "        vertical-align: middle;\n",
       "    }\n",
       "\n",
       "    .dataframe tbody tr th {\n",
       "        vertical-align: top;\n",
       "    }\n",
       "\n",
       "    .dataframe thead th {\n",
       "        text-align: right;\n",
       "    }\n",
       "</style>\n",
       "<table border=\"1\" class=\"dataframe\">\n",
       "  <thead>\n",
       "    <tr style=\"text-align: right;\">\n",
       "      <th></th>\n",
       "      <th>channel_id</th>\n",
       "      <th>start_ts</th>\n",
       "      <th>command</th>\n",
       "      <th>select_idx</th>\n",
       "      <th>eth_src</th>\n",
       "      <th>ip_dst</th>\n",
       "      <th>host</th>\n",
       "      <th>channel_name</th>\n",
       "      <th>rank</th>\n",
       "      <th>category</th>\n",
       "      <th>domain</th>\n",
       "    </tr>\n",
       "  </thead>\n",
       "  <tbody>\n",
       "    <tr>\n",
       "      <th>0</th>\n",
       "      <td>145651</td>\n",
       "      <td>1538303764</td>\n",
       "      <td>launch</td>\n",
       "      <td>0</td>\n",
       "      <td>d8:31:34:22:e6:ff</td>\n",
       "      <td>52.45.134.131</td>\n",
       "      <td>api.roku.com</td>\n",
       "      <td>BIO TV</td>\n",
       "      <td>2068</td>\n",
       "      <td>movies-tvs</td>\n",
       "      <td>roku.com</td>\n",
       "    </tr>\n",
       "    <tr>\n",
       "      <th>1</th>\n",
       "      <td>145651</td>\n",
       "      <td>1538303764</td>\n",
       "      <td>launch</td>\n",
       "      <td>0</td>\n",
       "      <td>d8:31:34:22:e6:ff</td>\n",
       "      <td>52.84.122.195</td>\n",
       "      <td>wwwimg.roku.com</td>\n",
       "      <td>BIO TV</td>\n",
       "      <td>2068</td>\n",
       "      <td>movies-tvs</td>\n",
       "      <td>roku.com</td>\n",
       "    </tr>\n",
       "    <tr>\n",
       "      <th>2</th>\n",
       "      <td>145651</td>\n",
       "      <td>1538303764</td>\n",
       "      <td>launch</td>\n",
       "      <td>0</td>\n",
       "      <td>d8:31:34:22:e6:ff</td>\n",
       "      <td>52.21.59.215</td>\n",
       "      <td>api.sr.roku.com</td>\n",
       "      <td>BIO TV</td>\n",
       "      <td>2068</td>\n",
       "      <td>movies-tvs</td>\n",
       "      <td>roku.com</td>\n",
       "    </tr>\n",
       "    <tr>\n",
       "      <th>3</th>\n",
       "      <td>145651</td>\n",
       "      <td>1538303764</td>\n",
       "      <td>launch</td>\n",
       "      <td>0</td>\n",
       "      <td>d8:31:34:22:e6:ff</td>\n",
       "      <td>52.84.122.175</td>\n",
       "      <td>cigars.roku.com</td>\n",
       "      <td>BIO TV</td>\n",
       "      <td>2068</td>\n",
       "      <td>movies-tvs</td>\n",
       "      <td>roku.com</td>\n",
       "    </tr>\n",
       "    <tr>\n",
       "      <th>4</th>\n",
       "      <td>145651</td>\n",
       "      <td>1538303764</td>\n",
       "      <td>launch</td>\n",
       "      <td>0</td>\n",
       "      <td>d8:31:34:22:e6:ff</td>\n",
       "      <td>52.84.122.179</td>\n",
       "      <td>cigars.roku.com</td>\n",
       "      <td>BIO TV</td>\n",
       "      <td>2068</td>\n",
       "      <td>movies-tvs</td>\n",
       "      <td>roku.com</td>\n",
       "    </tr>\n",
       "  </tbody>\n",
       "</table>\n",
       "</div>"
      ],
      "text/plain": [
       "   channel_id    start_ts command  select_idx            eth_src  \\\n",
       "0      145651  1538303764  launch           0  d8:31:34:22:e6:ff   \n",
       "1      145651  1538303764  launch           0  d8:31:34:22:e6:ff   \n",
       "2      145651  1538303764  launch           0  d8:31:34:22:e6:ff   \n",
       "3      145651  1538303764  launch           0  d8:31:34:22:e6:ff   \n",
       "4      145651  1538303764  launch           0  d8:31:34:22:e6:ff   \n",
       "\n",
       "          ip_dst             host channel_name  rank    category    domain  \n",
       "0  52.45.134.131     api.roku.com       BIO TV  2068  movies-tvs  roku.com  \n",
       "1  52.84.122.195  wwwimg.roku.com       BIO TV  2068  movies-tvs  roku.com  \n",
       "2   52.21.59.215  api.sr.roku.com       BIO TV  2068  movies-tvs  roku.com  \n",
       "3  52.84.122.175  cigars.roku.com       BIO TV  2068  movies-tvs  roku.com  \n",
       "4  52.84.122.179  cigars.roku.com       BIO TV  2068  movies-tvs  roku.com  "
      ]
     },
     "execution_count": 7,
     "metadata": {},
     "output_type": "execute_result"
    }
   ],
   "source": [
    "tls_df.head()"
   ]
  },
  {
   "cell_type": "code",
   "execution_count": 8,
   "metadata": {},
   "outputs": [],
   "source": [
    "df = pd.concat([req_df, tls_df], axis=0, ignore_index=True, sort=False)"
   ]
  },
  {
   "cell_type": "markdown",
   "metadata": {},
   "source": [
    "### HTTP requests - overview"
   ]
  },
  {
   "cell_type": "code",
   "execution_count": 9,
   "metadata": {},
   "outputs": [
    {
     "name": "stdout",
     "output_type": "stream",
     "text": [
      "41214 requests to 810 distinct domains from 1503 distinct channels\n"
     ]
    }
   ],
   "source": [
    "print \"%d requests to %d distinct domains from %s distinct channels\" %\\\n",
    "    (len(df), df.domain.nunique(), df.channel_id.nunique())"
   ]
  },
  {
   "cell_type": "markdown",
   "metadata": {},
   "source": [
    "### Top domains\n",
    "- domains contacted by most channels"
   ]
  },
  {
   "cell_type": "code",
   "execution_count": 10,
   "metadata": {},
   "outputs": [
    {
     "data": {
      "text/html": [
       "<div>\n",
       "<style scoped>\n",
       "    .dataframe tbody tr th:only-of-type {\n",
       "        vertical-align: middle;\n",
       "    }\n",
       "\n",
       "    .dataframe tbody tr th {\n",
       "        vertical-align: top;\n",
       "    }\n",
       "\n",
       "    .dataframe thead th {\n",
       "        text-align: right;\n",
       "    }\n",
       "</style>\n",
       "<table border=\"1\" class=\"dataframe\">\n",
       "  <thead>\n",
       "    <tr style=\"text-align: right;\">\n",
       "      <th></th>\n",
       "      <th>domain</th>\n",
       "      <th># channels</th>\n",
       "    </tr>\n",
       "  </thead>\n",
       "  <tbody>\n",
       "    <tr>\n",
       "      <th>576</th>\n",
       "      <td>roku.com</td>\n",
       "      <td>1187</td>\n",
       "    </tr>\n",
       "    <tr>\n",
       "      <th>351</th>\n",
       "      <td>ifood.tv</td>\n",
       "      <td>329</td>\n",
       "    </tr>\n",
       "    <tr>\n",
       "      <th>319</th>\n",
       "      <td>google-analytics.com</td>\n",
       "      <td>242</td>\n",
       "    </tr>\n",
       "    <tr>\n",
       "      <th>235</th>\n",
       "      <td>doubleclick.net</td>\n",
       "      <td>218</td>\n",
       "    </tr>\n",
       "    <tr>\n",
       "      <th>377</th>\n",
       "      <td>irchan.com</td>\n",
       "      <td>183</td>\n",
       "    </tr>\n",
       "    <tr>\n",
       "      <th>594</th>\n",
       "      <td>scorecardresearch.com</td>\n",
       "      <td>164</td>\n",
       "    </tr>\n",
       "    <tr>\n",
       "      <th>755</th>\n",
       "      <td>vimeo.com</td>\n",
       "      <td>163</td>\n",
       "    </tr>\n",
       "    <tr>\n",
       "      <th>629</th>\n",
       "      <td>spotxchange.com</td>\n",
       "      <td>137</td>\n",
       "    </tr>\n",
       "    <tr>\n",
       "      <th>756</th>\n",
       "      <td>vimeocdn.com</td>\n",
       "      <td>126</td>\n",
       "    </tr>\n",
       "    <tr>\n",
       "      <th>800</th>\n",
       "      <td>yumenetworks.com</td>\n",
       "      <td>115</td>\n",
       "    </tr>\n",
       "  </tbody>\n",
       "</table>\n",
       "</div>"
      ],
      "text/plain": [
       "                    domain  # channels\n",
       "576               roku.com        1187\n",
       "351               ifood.tv         329\n",
       "319   google-analytics.com         242\n",
       "235        doubleclick.net         218\n",
       "377             irchan.com         183\n",
       "594  scorecardresearch.com         164\n",
       "755              vimeo.com         163\n",
       "629        spotxchange.com         137\n",
       "756           vimeocdn.com         126\n",
       "800       yumenetworks.com         115"
      ]
     },
     "execution_count": 10,
     "metadata": {},
     "output_type": "execute_result"
    }
   ],
   "source": [
    "df.drop_duplicates(subset=[\"channel_id\", \"domain\"]).\\\n",
    "    groupby([\"domain\"]).size().reset_index(name=\"# channels\").\\\n",
    "    sort_values(by=['# channels'], ascending=False).head(10)"
   ]
  },
  {
   "cell_type": "markdown",
   "metadata": {},
   "source": [
    "### Top domains - Kids and family channels"
   ]
  },
  {
   "cell_type": "code",
   "execution_count": 11,
   "metadata": {},
   "outputs": [
    {
     "data": {
      "text/html": [
       "<div>\n",
       "<style scoped>\n",
       "    .dataframe tbody tr th:only-of-type {\n",
       "        vertical-align: middle;\n",
       "    }\n",
       "\n",
       "    .dataframe tbody tr th {\n",
       "        vertical-align: top;\n",
       "    }\n",
       "\n",
       "    .dataframe thead th {\n",
       "        text-align: right;\n",
       "    }\n",
       "</style>\n",
       "<table border=\"1\" class=\"dataframe\">\n",
       "  <thead>\n",
       "    <tr style=\"text-align: right;\">\n",
       "      <th></th>\n",
       "      <th>domain</th>\n",
       "      <th># channels</th>\n",
       "    </tr>\n",
       "  </thead>\n",
       "  <tbody>\n",
       "    <tr>\n",
       "      <th>126</th>\n",
       "      <td>roku.com</td>\n",
       "      <td>389</td>\n",
       "    </tr>\n",
       "    <tr>\n",
       "      <th>70</th>\n",
       "      <td>ifood.tv</td>\n",
       "      <td>272</td>\n",
       "    </tr>\n",
       "    <tr>\n",
       "      <th>45</th>\n",
       "      <td>doubleclick.net</td>\n",
       "      <td>74</td>\n",
       "    </tr>\n",
       "    <tr>\n",
       "      <th>145</th>\n",
       "      <td>spotxchange.com</td>\n",
       "      <td>64</td>\n",
       "    </tr>\n",
       "    <tr>\n",
       "      <th>133</th>\n",
       "      <td>scorecardresearch.com</td>\n",
       "      <td>47</td>\n",
       "    </tr>\n",
       "    <tr>\n",
       "      <th>182</th>\n",
       "      <td>yumenetworks.com</td>\n",
       "      <td>39</td>\n",
       "    </tr>\n",
       "    <tr>\n",
       "      <th>61</th>\n",
       "      <td>google-analytics.com</td>\n",
       "      <td>37</td>\n",
       "    </tr>\n",
       "    <tr>\n",
       "      <th>121</th>\n",
       "      <td>ravm.tv</td>\n",
       "      <td>28</td>\n",
       "    </tr>\n",
       "    <tr>\n",
       "      <th>148</th>\n",
       "      <td>superawesome.tv</td>\n",
       "      <td>27</td>\n",
       "    </tr>\n",
       "    <tr>\n",
       "      <th>172</th>\n",
       "      <td>vimeo.com</td>\n",
       "      <td>24</td>\n",
       "    </tr>\n",
       "  </tbody>\n",
       "</table>\n",
       "</div>"
      ],
      "text/plain": [
       "                    domain  # channels\n",
       "126               roku.com         389\n",
       "70                ifood.tv         272\n",
       "45         doubleclick.net          74\n",
       "145        spotxchange.com          64\n",
       "133  scorecardresearch.com          47\n",
       "182       yumenetworks.com          39\n",
       "61    google-analytics.com          37\n",
       "121                ravm.tv          28\n",
       "148        superawesome.tv          27\n",
       "172              vimeo.com          24"
      ]
     },
     "execution_count": 11,
     "metadata": {},
     "output_type": "execute_result"
    }
   ],
   "source": [
    "df[df.category == \"kids-family\"].drop_duplicates(subset=[\"channel_id\", \"domain\"]).\\\n",
    "    groupby([\"domain\"]).size().reset_index(name=\"# channels\").\\\n",
    "    sort_values(by=['# channels'], ascending=False).head(10)"
   ]
  },
  {
   "cell_type": "markdown",
   "metadata": {},
   "source": [
    "### Channels contacting the most domains"
   ]
  },
  {
   "cell_type": "code",
   "execution_count": 12,
   "metadata": {},
   "outputs": [
    {
     "data": {
      "text/html": [
       "<div>\n",
       "<style scoped>\n",
       "    .dataframe tbody tr th:only-of-type {\n",
       "        vertical-align: middle;\n",
       "    }\n",
       "\n",
       "    .dataframe tbody tr th {\n",
       "        vertical-align: top;\n",
       "    }\n",
       "\n",
       "    .dataframe thead th {\n",
       "        text-align: right;\n",
       "    }\n",
       "</style>\n",
       "<table border=\"1\" class=\"dataframe\">\n",
       "  <thead>\n",
       "    <tr style=\"text-align: right;\">\n",
       "      <th></th>\n",
       "      <th>channel_name</th>\n",
       "      <th>rank</th>\n",
       "      <th># domains</th>\n",
       "    </tr>\n",
       "  </thead>\n",
       "  <tbody>\n",
       "    <tr>\n",
       "      <th>11</th>\n",
       "      <td>8ctave HD</td>\n",
       "      <td>936</td>\n",
       "      <td>61</td>\n",
       "    </tr>\n",
       "    <tr>\n",
       "      <th>67</th>\n",
       "      <td>American Cowboy Classics</td>\n",
       "      <td>2267</td>\n",
       "      <td>59</td>\n",
       "    </tr>\n",
       "    <tr>\n",
       "      <th>1420</th>\n",
       "      <td>WatchFreeForeignFlix</td>\n",
       "      <td>1100</td>\n",
       "      <td>47</td>\n",
       "    </tr>\n",
       "    <tr>\n",
       "      <th>86</th>\n",
       "      <td>AsianCrush</td>\n",
       "      <td>277</td>\n",
       "      <td>43</td>\n",
       "    </tr>\n",
       "    <tr>\n",
       "      <th>1417</th>\n",
       "      <td>WatchFreeActionThrillerFlix</td>\n",
       "      <td>738</td>\n",
       "      <td>40</td>\n",
       "    </tr>\n",
       "    <tr>\n",
       "      <th>635</th>\n",
       "      <td>Horror Films by Fawesome.tv</td>\n",
       "      <td>983</td>\n",
       "      <td>39</td>\n",
       "    </tr>\n",
       "    <tr>\n",
       "      <th>709</th>\n",
       "      <td>KMTV - Watch K-Pop</td>\n",
       "      <td>2185</td>\n",
       "      <td>38</td>\n",
       "    </tr>\n",
       "    <tr>\n",
       "      <th>854</th>\n",
       "      <td>Midnight Pulp</td>\n",
       "      <td>315</td>\n",
       "      <td>37</td>\n",
       "    </tr>\n",
       "    <tr>\n",
       "      <th>1419</th>\n",
       "      <td>WatchFreeFlix</td>\n",
       "      <td>81</td>\n",
       "      <td>36</td>\n",
       "    </tr>\n",
       "    <tr>\n",
       "      <th>1418</th>\n",
       "      <td>WatchFreeDocumentaryFlix</td>\n",
       "      <td>990</td>\n",
       "      <td>33</td>\n",
       "    </tr>\n",
       "  </tbody>\n",
       "</table>\n",
       "</div>"
      ],
      "text/plain": [
       "                     channel_name  rank  # domains\n",
       "11                      8ctave HD   936         61\n",
       "67       American Cowboy Classics  2267         59\n",
       "1420         WatchFreeForeignFlix  1100         47\n",
       "86                     AsianCrush   277         43\n",
       "1417  WatchFreeActionThrillerFlix   738         40\n",
       "635   Horror Films by Fawesome.tv   983         39\n",
       "709            KMTV - Watch K-Pop  2185         38\n",
       "854                 Midnight Pulp   315         37\n",
       "1419                WatchFreeFlix    81         36\n",
       "1418     WatchFreeDocumentaryFlix   990         33"
      ]
     },
     "execution_count": 12,
     "metadata": {},
     "output_type": "execute_result"
    }
   ],
   "source": [
    "df_n_domains_by_channel = df.drop_duplicates(subset=[\"channel_name\", \"domain\", \"rank\"]).\\\n",
    "    groupby([\"channel_name\", \"rank\"]).size().reset_index(name=\"# domains\").\\\n",
    "    sort_values(by=['# domains'], ascending=False)\n",
    "df_n_domains_by_channel.head(10)"
   ]
  },
  {
   "cell_type": "markdown",
   "metadata": {},
   "source": [
    "### Kids and family channels contacting the most domains"
   ]
  },
  {
   "cell_type": "code",
   "execution_count": 13,
   "metadata": {},
   "outputs": [
    {
     "data": {
      "text/html": [
       "<div>\n",
       "<style scoped>\n",
       "    .dataframe tbody tr th:only-of-type {\n",
       "        vertical-align: middle;\n",
       "    }\n",
       "\n",
       "    .dataframe tbody tr th {\n",
       "        vertical-align: top;\n",
       "    }\n",
       "\n",
       "    .dataframe thead th {\n",
       "        text-align: right;\n",
       "    }\n",
       "</style>\n",
       "<table border=\"1\" class=\"dataframe\">\n",
       "  <thead>\n",
       "    <tr style=\"text-align: right;\">\n",
       "      <th></th>\n",
       "      <th>channel_name</th>\n",
       "      <th>rank</th>\n",
       "      <th># domains</th>\n",
       "    </tr>\n",
       "  </thead>\n",
       "  <tbody>\n",
       "    <tr>\n",
       "      <th>351</th>\n",
       "      <td>Superman 3D</td>\n",
       "      <td>1708</td>\n",
       "      <td>25</td>\n",
       "    </tr>\n",
       "    <tr>\n",
       "      <th>397</th>\n",
       "      <td>Toontime TV</td>\n",
       "      <td>1641</td>\n",
       "      <td>22</td>\n",
       "    </tr>\n",
       "    <tr>\n",
       "      <th>296</th>\n",
       "      <td>Only Animation TV</td>\n",
       "      <td>3207</td>\n",
       "      <td>21</td>\n",
       "    </tr>\n",
       "    <tr>\n",
       "      <th>316</th>\n",
       "      <td>Popcornflix Kids</td>\n",
       "      <td>268</td>\n",
       "      <td>21</td>\n",
       "    </tr>\n",
       "    <tr>\n",
       "      <th>61</th>\n",
       "      <td>Cartoon Club LIVE</td>\n",
       "      <td>1570</td>\n",
       "      <td>21</td>\n",
       "    </tr>\n",
       "    <tr>\n",
       "      <th>394</th>\n",
       "      <td>Toontime 2</td>\n",
       "      <td>2170</td>\n",
       "      <td>20</td>\n",
       "    </tr>\n",
       "    <tr>\n",
       "      <th>43</th>\n",
       "      <td>Blossom</td>\n",
       "      <td>3085</td>\n",
       "      <td>19</td>\n",
       "    </tr>\n",
       "    <tr>\n",
       "      <th>335</th>\n",
       "      <td>So Yummy</td>\n",
       "      <td>2637</td>\n",
       "      <td>18</td>\n",
       "    </tr>\n",
       "    <tr>\n",
       "      <th>60</th>\n",
       "      <td>Cartoon Club</td>\n",
       "      <td>1637</td>\n",
       "      <td>18</td>\n",
       "    </tr>\n",
       "    <tr>\n",
       "      <th>30</th>\n",
       "      <td>BabyFirst Español</td>\n",
       "      <td>1834</td>\n",
       "      <td>17</td>\n",
       "    </tr>\n",
       "  </tbody>\n",
       "</table>\n",
       "</div>"
      ],
      "text/plain": [
       "          channel_name  rank  # domains\n",
       "351        Superman 3D  1708         25\n",
       "397        Toontime TV  1641         22\n",
       "296  Only Animation TV  3207         21\n",
       "316   Popcornflix Kids   268         21\n",
       "61   Cartoon Club LIVE  1570         21\n",
       "394         Toontime 2  2170         20\n",
       "43             Blossom  3085         19\n",
       "335           So Yummy  2637         18\n",
       "60        Cartoon Club  1637         18\n",
       "30   BabyFirst Español  1834         17"
      ]
     },
     "execution_count": 13,
     "metadata": {},
     "output_type": "execute_result"
    }
   ],
   "source": [
    "df_n_domains_by_kids_channel = df[df.category == \"kids-family\"].drop_duplicates(subset=[\"channel_name\", \"domain\", \"rank\"]).\\\n",
    "    groupby([\"channel_name\", \"rank\"]).size().reset_index(name=\"# domains\").\\\n",
    "    sort_values(by=['# domains'], ascending=False)\n",
    "df_n_domains_by_kids_channel.head(10)"
   ]
  },
  {
   "cell_type": "markdown",
   "metadata": {},
   "source": [
    "### Effect of popularity (rank)\n",
    "- Do popular channels contact more domains?"
   ]
  },
  {
   "cell_type": "code",
   "execution_count": 14,
   "metadata": {},
   "outputs": [
    {
     "name": "stderr",
     "output_type": "stream",
     "text": [
      "/usr/local/lib/python2.7/dist-packages/scipy/stats/stats.py:1706: FutureWarning: Using a non-tuple sequence for multidimensional indexing is deprecated; use `arr[tuple(seq)]` instead of `arr[seq]`. In the future this will be interpreted as an array index, `arr[np.array(seq)]`, which will result either in an error or a different result.\n",
      "  return np.add.reduce(sorted[indexer] * weights, axis=axis) / sumval\n"
     ]
    },
    {
     "data": {
      "text/plain": [
       "<seaborn.axisgrid.FacetGrid at 0x7f3b16e0cc90>"
      ]
     },
     "execution_count": 14,
     "metadata": {},
     "output_type": "execute_result"
    },
    {
     "data": {
      "image/png": "[encoded data removed]",
      "text/plain": [
       "<matplotlib.figure.Figure at 0x7f3b16e0c710>"
      ]
     },
     "metadata": {},
     "output_type": "display_data"
    }
   ],
   "source": [
    "sns.lmplot(x=\"rank\", y=\"# domains\", data=df_n_domains_by_kids_channel, size=5, aspect=2)"
   ]
  },
  {
   "cell_type": "code",
   "execution_count": 15,
   "metadata": {},
   "outputs": [
    {
     "data": {
      "text/plain": [
       "<seaborn.axisgrid.FacetGrid at 0x7f3b6c082ed0>"
      ]
     },
     "execution_count": 15,
     "metadata": {},
     "output_type": "execute_result"
    },
    {
     "data": {
      "image/png": "[encoded data removed]",
      "text/plain": [
       "<matplotlib.figure.Figure at 0x7f3b16c76b50>"
      ]
     },
     "metadata": {},
     "output_type": "display_data"
    }
   ],
   "source": [
    "ax = sns.lmplot(x=\"rank\", y=\"# domains\", data=df_n_domains_by_channel, size=5, aspect=2)\n",
    "ax.set(ylim=(-1, 25))"
   ]
  },
  {
   "cell_type": "code",
   "execution_count": null,
   "metadata": {},
   "outputs": [],
   "source": []
  }
 ],
 "metadata": {
  "kernelspec": {
   "display_name": "Python 2",
   "language": "python",
   "name": "python2"
  },
  "language_info": {
   "codemirror_mode": {
    "name": "ipython",
    "version": 2
   },
   "file_extension": ".py",
   "mimetype": "text/x-python",
   "name": "python",
   "nbconvert_exporter": "python",
   "pygments_lexer": "ipython2",
   "version": "2.7.15rc1"
  }
 },
 "nbformat": 4,
 "nbformat_minor": 2
}
