{
 "cells": [
  {
   "cell_type": "code",
   "execution_count": 1,
   "metadata": {},
   "outputs": [],
   "source": [
    "from df_utils import load_df\n",
    "from crawl_ids import CrawlRokuTop1KMITM\n",
    "from nb_utils import make_latex_table, get_popular_domains_from_reqs, get_popular_domains_from_tcp_conns\n",
    "from ott_leaks import DEVICE_ID_NAMES, print_leak_stats"
   ]
  },
  {
   "cell_type": "code",
   "execution_count": 3,
   "metadata": {},
   "outputs": [],
   "source": [
    "roku_req = load_df(CrawlRokuTop1KMITM, \"http_req\")\n",
    "req_adblocked = roku_req[roku_req.adblocked]\n",
    "req_pihole_blocked = roku_req[roku_req.pihole_blocked]"
   ]
  },
  {
   "cell_type": "code",
   "execution_count": 4,
   "metadata": {},
   "outputs": [
    {
     "data": {
      "text/plain": [
       "(86220, 21760)"
      ]
     },
     "execution_count": 4,
     "metadata": {},
     "output_type": "execute_result"
    }
   ],
   "source": [
    "len(roku_req), len(req_pihole_blocked)"
   ]
  },
  {
   "cell_type": "code",
   "execution_count": 5,
   "metadata": {},
   "outputs": [
    {
     "data": {
      "text/plain": [
       "(306, 140)"
      ]
     },
     "execution_count": 5,
     "metadata": {},
     "output_type": "execute_result"
    }
   ],
   "source": [
    "req_adblocked.host.nunique(), req_adblocked.req_domain.nunique()"
   ]
  },
  {
   "cell_type": "code",
   "execution_count": 6,
   "metadata": {},
   "outputs": [
    {
     "data": {
      "text/plain": [
       "(192, 85)"
      ]
     },
     "execution_count": 6,
     "metadata": {},
     "output_type": "execute_result"
    }
   ],
   "source": [
    "req_missed_by_pihole = roku_req[roku_req.adblocked & ~roku_req.pihole_blocked]\n",
    "req_missed_by_pihole.host.nunique(), req_missed_by_pihole.req_domain.nunique()"
   ]
  },
  {
   "cell_type": "code",
   "execution_count": 7,
   "metadata": {},
   "outputs": [
    {
     "data": {
      "text/plain": [
       "(85, 46)"
      ]
     },
     "execution_count": 7,
     "metadata": {},
     "output_type": "execute_result"
    }
   ],
   "source": [
    "from tld import get_fld\n",
    "pi_missed_domains = set(req_missed_by_pihole.req_domain.unique())\n",
    "\n",
    "domains = set()\n",
    "for l in open(\"../../blocklistparser//blocklists/pi-hole.txt\"):\n",
    "    domains.add(get_fld(\"http://\" + l.rstrip(), fail_silently=True))\n",
    "\n",
    "\n",
    "len(pi_missed_domains), len(pi_missed_domains.intersection(domains))"
   ]
  },
  {
   "cell_type": "code",
   "execution_count": 8,
   "metadata": {},
   "outputs": [
    {
     "data": {
      "text/plain": [
       "(30099, 21760)"
      ]
     },
     "execution_count": 8,
     "metadata": {},
     "output_type": "execute_result"
    }
   ],
   "source": [
    "len(req_adblocked), len(req_pihole_blocked)"
   ]
  },
  {
   "cell_type": "code",
   "execution_count": 10,
   "metadata": {},
   "outputs": [
    {
     "data": {
      "text/plain": [
       "75"
      ]
     },
     "execution_count": 10,
     "metadata": {},
     "output_type": "execute_result"
    }
   ],
   "source": [
    "roku_tcp = load_df(CrawlRokuTop1KMITM, \"tcp_conn\")\n",
    "adblocked = roku_tcp[roku_tcp.adblocked]\n",
    "pihole_blocked = roku_tcp[roku_tcp.pihole_blocked]\n",
    "missed_by_pihole = roku_tcp[roku_tcp.adblocked & ~roku_tcp.pihole_blocked]\n",
    "len(set(adblocked.domain.unique()) - set(missed_by_pihole.domain.unique()))"
   ]
  },
  {
   "cell_type": "code",
   "execution_count": 11,
   "metadata": {},
   "outputs": [
    {
     "data": {
      "text/html": [
       "<div>\n",
       "<style scoped>\n",
       "    .dataframe tbody tr th:only-of-type {\n",
       "        vertical-align: middle;\n",
       "    }\n",
       "\n",
       "    .dataframe tbody tr th {\n",
       "        vertical-align: top;\n",
       "    }\n",
       "\n",
       "    .dataframe thead th {\n",
       "        text-align: right;\n",
       "    }\n",
       "</style>\n",
       "<table border=\"1\" class=\"dataframe\">\n",
       "  <thead>\n",
       "    <tr style=\"text-align: right;\">\n",
       "      <th></th>\n",
       "      <th>domain</th>\n",
       "      <th>Num. of channels</th>\n",
       "    </tr>\n",
       "  </thead>\n",
       "  <tbody>\n",
       "    <tr>\n",
       "      <th>147</th>\n",
       "      <td>tremorhub.com</td>\n",
       "      <td>97</td>\n",
       "    </tr>\n",
       "    <tr>\n",
       "      <th>141</th>\n",
       "      <td>spotxchange.com</td>\n",
       "      <td>90</td>\n",
       "    </tr>\n",
       "    <tr>\n",
       "      <th>153</th>\n",
       "      <td>vimeo.com</td>\n",
       "      <td>86</td>\n",
       "    </tr>\n",
       "    <tr>\n",
       "      <th>20</th>\n",
       "      <td>bidswitch.net</td>\n",
       "      <td>70</td>\n",
       "    </tr>\n",
       "    <tr>\n",
       "      <th>154</th>\n",
       "      <td>vimeocdn.com</td>\n",
       "      <td>69</td>\n",
       "    </tr>\n",
       "    <tr>\n",
       "      <th>142</th>\n",
       "      <td>springserve.com</td>\n",
       "      <td>61</td>\n",
       "    </tr>\n",
       "    <tr>\n",
       "      <th>112</th>\n",
       "      <td>innovid.com</td>\n",
       "      <td>61</td>\n",
       "    </tr>\n",
       "    <tr>\n",
       "      <th>28</th>\n",
       "      <td>clrstm.com</td>\n",
       "      <td>60</td>\n",
       "    </tr>\n",
       "    <tr>\n",
       "      <th>10</th>\n",
       "      <td>adsrvr.org</td>\n",
       "      <td>57</td>\n",
       "    </tr>\n",
       "    <tr>\n",
       "      <th>1</th>\n",
       "      <td>2mdn.net</td>\n",
       "      <td>55</td>\n",
       "    </tr>\n",
       "  </tbody>\n",
       "</table>\n",
       "</div>"
      ],
      "text/plain": [
       "              domain  Num. of channels\n",
       "147    tremorhub.com                97\n",
       "141  spotxchange.com                90\n",
       "153        vimeo.com                86\n",
       "20     bidswitch.net                70\n",
       "154     vimeocdn.com                69\n",
       "142  springserve.com                61\n",
       "112      innovid.com                61\n",
       "28        clrstm.com                60\n",
       "10        adsrvr.org                57\n",
       "1           2mdn.net                55"
      ]
     },
     "execution_count": 11,
     "metadata": {},
     "output_type": "execute_result"
    }
   ],
   "source": [
    "get_popular_domains_from_tcp_conns(missed_by_pihole)"
   ]
  },
  {
   "cell_type": "code",
   "execution_count": 12,
   "metadata": {},
   "outputs": [],
   "source": [
    "roku_tcp['web_mobile_blocked'] =  roku_tcp.disconnect_blocked | roku_tcp.ghostery_blocked | \\\n",
    "        roku_tcp.easylist_blocked | roku_tcp.easyprivacy_blocked"
   ]
  },
  {
   "cell_type": "code",
   "execution_count": 17,
   "metadata": {},
   "outputs": [
    {
     "data": {
      "text/plain": [
       "array([u'aetn.com', u'nbcuni.com', u'cbsi.com', u'yahoo.com',\n",
       "       u'alphonso.tv', u'nbcsports.com', u'foxnews.com', u'piksel.com',\n",
       "       u'crackle.com', u'dowjoneson.com', u'fox.com', u'nba.com',\n",
       "       u'adultswim.com', u'bet.com', u'samplicio.us', u'mlb.com',\n",
       "       u'ip-api.com'], dtype=object)"
      ]
     },
     "execution_count": 17,
     "metadata": {},
     "output_type": "execute_result"
    }
   ],
   "source": [
    "roku_tcp[roku_tcp.pihole_blocked & ~roku_tcp.web_mobile_blocked].domain.unique()"
   ]
  },
  {
   "cell_type": "code",
   "execution_count": 18,
   "metadata": {},
   "outputs": [
    {
     "data": {
      "text/plain": [
       "array([u'vid.springserve.com', u'678pd-i3tvn.ads.tremorhub.com',\n",
       "       u'7mqc9-qo1ow.ads.tremorhub.com', u'ioms.bfmio.com',\n",
       "       u'd3jwlm43fjnwxe.cloudfront.net', u'player.vimeo.com',\n",
       "       u'event.spotxchange.com', u'node-p2e-egh9ca.sitescout.com',\n",
       "       u'node-p2e-o9tee3.sitescout.com', u'tkx2-prod.anvato.net',\n",
       "       u'd1xka8tofigsut.cloudfront.net', u'secure.brightcove.com',\n",
       "       u'brightcove01.brightcove.com', u'27ql0-2l89t.ads.tremorhub.com',\n",
       "       u'r4---sn-ab5l6nzr.c.2mdn.net', u'r4---sn-vgqsrnez.c.2mdn.net',\n",
       "       u'r3---sn-ab5l6n6l.c.2mdn.net', u'proxy.spotxchange.com',\n",
       "       u'imasdk.googleapis.com', u'video-static-01.clipsyndicate.com',\n",
       "       u'nqs-wdc1-c2.youboranqs01.com', u'data.ad-score.com',\n",
       "       u'wcnc-download.edgesuite.net', u'geoip.maxmind.com',\n",
       "       u'ag.innovid.com', u'r3---sn-ab5l6nsy.c.2mdn.net',\n",
       "       u'amdlive-ch01.ctnd.com.edgesuite.net', u'api.vimeo.com',\n",
       "       u'fpdl.vimeocdn.com', u'assets.springserve.com',\n",
       "       u'vid-io-iad.springserve.com', u'us-west-2.event.prod.bidr.io',\n",
       "       u'v.adsrvr.org', u'cbsdigitalmedia.sc.omtrdc.net',\n",
       "       u'presentation-sjc2.turn.com', u'va.tag.clrstm.com',\n",
       "       u'gce-sc.bidswitch.net', u'gce-or.bidswitch.net',\n",
       "       u'playtime-tm.everesttech.net', u'statsf-tm.everesttech.net',\n",
       "       u'rtb-lb-event-iad-1b-tm.everesttech.net',\n",
       "       u'event.altitude-arena.com', u'ads.altitude-arena.com',\n",
       "       u'bsw.digitru.st', u'pixeltrack.eyeviewads.com',\n",
       "       u'us-east-sync.bidswitch.net', u'vast.doubleverify.com',\n",
       "       u'rtb-lb-event-iad-1a-tm.everesttech.net', u'cdn.clearstream.tv',\n",
       "       u'match.sharethrough.com', u'tag.cogocast.net', u's.rfihub.com',\n",
       "       u'gpush.cogocast.net', u'd329pxzi5l4hlg.cloudfront.net',\n",
       "       u'fhls.vimeocdn.com', u'nbcume.hb.omtrdc.net',\n",
       "       u'29773.s.fwmrm.net', u'sync.tidaltv.com', u'1f2e7.v.fwmrm.net',\n",
       "       u'insights-collector.newrelic.com',\n",
       "       u'd2rxohj08n82d5.cloudfront.net', u'd2pvyxdw30n8fd.cloudfront.net',\n",
       "       u'sne.demdex.net', u'i.vimeocdn.com',\n",
       "       u'd1a2sdczik96cc.cloudfront.net', u'tv.rlcdn.com',\n",
       "       u'api.mtrcs.samba.tv', u'api.auth.adobe.com', u'api.krxd.net',\n",
       "       u'tms.truoptik.com', u'sp.auth.adobe.com',\n",
       "       u'turnersidigital.sc.omtrdc.net', u'manifest.auditude.com',\n",
       "       u'7f038a9491cd24e77f15e2753ee869dd2461d219.cws.conviva.com',\n",
       "       u'pcva3.manifest.auditude.com', u'pcva4.manifest.auditude.com',\n",
       "       u'pcva5.manifest.auditude.com', u'mssl.fwmrm.net',\n",
       "       u'02877f9dafd21826d2f5713e0ddb0fd17479a8f5.cws.conviva.com',\n",
       "       u'a-sjo.1rx.io', u'usw-lax.adsrvr.org', u'asf-tm.everesttech.net',\n",
       "       u'stats-tm.everesttech.net', u'vast.adsafeprotected.com',\n",
       "       u'r6---sn-ab5szn7z.c.2mdn.net', u'vastpixel.adsafeprotected.com',\n",
       "       u'r2---sn-ab5szn76.c.2mdn.net', u'cloudapi.imrworldwide.com',\n",
       "       u'dmp.truoptik.com', u'www.google.com', u'usw-ca2.adsrvr.org',\n",
       "       u'r4---sn-ab5sznld.c.2mdn.net', u'r2---sn-ab5l6n6e.c.2mdn.net',\n",
       "       u'r2---sn-ab5sznlk.c.2mdn.net', u'loadr.exelator.com',\n",
       "       u'd1akq03u1jevln.cloudfront.net', u'd3otgmjhy4llet.cloudfront.net',\n",
       "       u'pd13201-vbfsw.ads.tremorhub.com',\n",
       "       u'd3o7539r7eokg.cloudfront.net', u'beacon-nf.rubiconproject.com',\n",
       "       u'vtrk.doubleverify.com', u'r5---sn-ab5sznly.c.2mdn.net',\n",
       "       u'use-va1.adsrvr.org', u'r5---sn-ab5szn7d.c.2mdn.net',\n",
       "       u'rtd-tm.everesttech.net', u'lt160.tritondigital.com',\n",
       "       u'runspot4.tritondigital.com', u'd1qg6pckcqcdk0.cloudfront.net',\n",
       "       u'disney.demdex.net', u'r2---sn-ab5l6nzr.c.2mdn.net',\n",
       "       u'r2---sn-ab5szn7l.c.2mdn.net', u'd23tm1coba72ax.cloudfront.net',\n",
       "       u'vrgvj-4up4c.ads.tremorhub.com', u'log.adaptv.advertising.com',\n",
       "       u'r5---sn-ab5l6nzd.c.2mdn.net', u'r4---sn-ab5sznle.c.2mdn.net',\n",
       "       u'r3---sn-ab5szn7l.c.2mdn.net', u'cdnsecakmi.kaltura.com',\n",
       "       u'www.kaltura.com', u'cfvod.kaltura.com', u'cdnapisec.kaltura.com',\n",
       "       u'download.cnettv.com.edgesuite.net', u'streamo.vo.llnwd.net',\n",
       "       u'video.innovid.com', u'd3ssq486uujrkh.cloudfront.net',\n",
       "       u'd2bkoa5ro8kpjl.cloudfront.net', u'load77.exelator.com',\n",
       "       u'247eda56317d1549491233a36.litix.io',\n",
       "       u'r3---sn-ab5sznly.c.2mdn.net', u'us-west-sync.bidswitch.net',\n",
       "       u'd1wdgbxqfhyvfu.cloudfront.net', u'dotstudio.vo.llnwd.net',\n",
       "       u'wzzm-download.edgesuite.net', u'brightcove.hs.llnwd.net',\n",
       "       u'f1.media.brightcove.com', u'ab168357.adbutler-exciton.com',\n",
       "       u'maine-download.edgesuite.net', u'wusa-download.edgesuite.net',\n",
       "       u's-video.innovid.com', u'nqs-nl1-c2.youboranqs01.com',\n",
       "       u'nqs-nl8-c15.youboranqs01.com', u'5cae3.v.fwmrm.net',\n",
       "       u'graph.facebook.com', u'd3en5xriihnzfd.cloudfront.net',\n",
       "       u'plg2.yumenetworks.com', u'my4am-riryt.ads.tremorhub.com',\n",
       "       u'skyfire.vimeocdn.com', u'r3---sn-ab5sznl7.c.2mdn.net',\n",
       "       u'ktvb-download.edgesuite.net', u'adserver-east.extend.tv',\n",
       "       u'freewheeleventsbidder-east.extend.tv', u'sync.extend.tv',\n",
       "       u'www.fqtag.com', u'kortv.vo.llnwd.net', u'identity.mparticle.com',\n",
       "       u'e12872de91aaca7a39095801bdf5f168d87912fa.cws.conviva.com',\n",
       "       u'vastpixel2.adsafeprotected.com', u'r3---sn-ab5l6ndr.c.2mdn.net',\n",
       "       u'r1---sn-ab5l6ndy.c.2mdn.net', u'r3---sn-ab5l6nzl.c.2mdn.net',\n",
       "       u'analytics.plex.tv', u'secure.gravatar.com',\n",
       "       u'd8j24uu18z1zs.cloudfront.net', u'webanalytics.localytics.com',\n",
       "       u'ksdk-download.edgesuite.net', u'd3sklm2z1kxgbb.cloudfront.net',\n",
       "       u'd1acid63ghtydj.cloudfront.net', u'vimeo.com',\n",
       "       u'tpci.sc.omtrdc.net', u'krem-download.edgesuite.net',\n",
       "       u'wxia-download.edgesuite.net', u'king-download.edgesuite.net',\n",
       "       u'script.google.com', u'script.googleusercontent.com',\n",
       "       u'dej8i0bsmdnib.cloudfront.net', u'd27wx7ytq78mow.cloudfront.net',\n",
       "       u'd1p1k20i1k81ft.cloudfront.net', u'r1---sn-ab5l6nzk.c.2mdn.net',\n",
       "       u'ds.reson8.com', u'rjreynolds.demdex.net',\n",
       "       u'nbcuniversal.sc.omtrdc.net', u'new.fqtag.com',\n",
       "       u'wwl-download.edgesuite.net', u'pd13201-gc48b.ads.tremorhub.com',\n",
       "       u'vudu.d1.sc.omtrdc.net', u'dq3z83vpu3x2v.cloudfront.net',\n",
       "       u'vid.buzzfeed.com', u'www.buzzfeed.com',\n",
       "       u'telariaeventsbidder-east.extend.tv',\n",
       "       u'r5---sn-ab5szn7k.c.2mdn.net', u'nqs-nl12-c3.youboranqs01.com',\n",
       "       u'pcor5.manifest.auditude.com', u'p.dlx.addthis.com',\n",
       "       u'r2---sn-ab5sznly.c.2mdn.net', u'unilever2.demdex.net',\n",
       "       u'conversions.adaptv.advertising.com',\n",
       "       u'r2---sn-ab5l6nzd.c.2mdn.net', u'sync.doubleverify.com',\n",
       "       u'cs.lkqd.net', u'cs.rtb-seller.com', u'sync.springserve.com',\n",
       "       u'vonetize.vo.llnwd.net', u'ctmc5-s6ns5.ads.tremorhub.com',\n",
       "       u'nqs-nl1-c10.youboranqs01.com', u'nqs-nl-c5-c2.youboranqs01.com',\n",
       "       u'live-beacons.spotxchange.com', u'r1---sn-ab5l6nsk.c.2mdn.net',\n",
       "       u'us-east-1.event.prod.bidr.io', u'r2---sn-ab5szne7.c.2mdn.net',\n",
       "       u'www.youtube.com', u's-files.innovid.com',\n",
       "       u'd2hpjte286tc4h.cloudfront.net', u'd2ndoay8acp5cw.cloudfront.net',\n",
       "       u'r1---sn-ab5sznly.c.2mdn.net', u'd1tqizto1zxme7.cloudfront.net',\n",
       "       u'c742ecb7-lp-omega.ums.services.video.ibm.com',\n",
       "       u'c742eca7-lp-omega.ums.services.video.ibm.com',\n",
       "       u'c742ec84-lp-omega.ums.services.video.ibm.com',\n",
       "       u'edge.api.brightcove.com', u'nortpoinus-prog.edgesuite.net',\n",
       "       u'7cd5a.v.fwmrm.net', u'play.google.com', u'www.googleapis.com',\n",
       "       u'lh3.googleusercontent.com', u'oauth2.googleapis.com',\n",
       "       u'w88.espn.com', u'r5---sn-ab5sznld.c.2mdn.net', u'sync.jivox.com',\n",
       "       u'aoa.demdex.net', u'Telariaeventsbidder-east.extend.tv',\n",
       "       u'cf.c.ooyala.com', u'node-p2e-xa1pao.sitescout.com',\n",
       "       u'd3uc4wuqnt61m1.cloudfront.net', u'kvue-download.edgesuite.net',\n",
       "       u's.yimg.com', u'l.yimg.com', u'l1.yimg.com',\n",
       "       u'nyarack04.vpg.cdn.yimg.com', u'nyarack02.vpg.cdn.yimg.com',\n",
       "       u'pd13201-bnblt.ads.tremorhub.com', u'r4---sn-ab5l6ndr.c.2mdn.net',\n",
       "       u'kusa-download.edgesuite.net', u'wltx-download.edgesuite.net',\n",
       "       u'streaming-ent.shoutcast.com', u'r5---sn-ab5l6ndy.c.2mdn.net',\n",
       "       u'pd13201-oc642.ads.tremorhub.com',\n",
       "       u'thv11-download.edgesuite.net', u'adbutler-fermion.com',\n",
       "       u'r2---sn-ab5szn7d.c.2mdn.net', u's.update.adsrvr.org',\n",
       "       u'mtv.hb.omtrdc.net', u'r2---sn-ab5szn7y.c.2mdn.net',\n",
       "       u'r5---sn-ab5l6n6l.c.2mdn.net', u'r5---sn-ab5szn7e.c.2mdn.net',\n",
       "       u'wgrz-download.edgesuite.net', u'amcshudd.vo.llnwd.net',\n",
       "       u'd1d0j1u9ayd8uc.cloudfront.net', u'fonts.googleapis.com',\n",
       "       u'fonts.gstatic.com', u'yt3.ggpht.com',\n",
       "       u'wmaz-download.edgesuite.net', u'wtsp-download.edgesuite.net',\n",
       "       u'wfmy-download.edgesuite.net', u'storage.googleapis.com',\n",
       "       u'd1kjc9mom6vmyp.cloudfront.net', u'd151l6v8er5bdm.cloudfront.net',\n",
       "       u'd2ttzf2z28f6tb.cloudfront.net', u'd17x3n2u54ktyq.cloudfront.net',\n",
       "       u'd3je5q1nueb5wn.cloudfront.net', u't.lkqd.net',\n",
       "       u'vast.brealtime.com', u'nfl-mcp-download.storage.googleapis.com',\n",
       "       u'crackle.hb.omtrdc.net',\n",
       "       u'd8cfa9b855476b04fa2d1dfa7c9154c09b55f9ca.cws.conviva.com',\n",
       "       u'2517d.v.fwmrm.net', u'foxnews.hb.omtrdc.net',\n",
       "       u'ir.surveywall-api.survata.com', u'd3f5csffqfs9wo.cloudfront.net',\n",
       "       u'my4am-jrkxk.ads.tremorhub.com', u'r3---sn-ab5l6nzr.c.2mdn.net',\n",
       "       u'r2---sn-ab5szn7e.c.2mdn.net', u'r4---sn-ab5sznl7.c.2mdn.net',\n",
       "       u'bbnradio.org.edgesuite.net', u'p.videologygroup.com',\n",
       "       u'disp.tidaltv.com', u'evt.bfmio.com', u'trk-useast.tidaltv.com',\n",
       "       u'r2---sn-ab5szn7r.c.2mdn.net', u'r3---sn-ab5sznle.c.2mdn.net',\n",
       "       u'r1---sn-ab5szn7r.c.2mdn.net', u'r4---sn-ab5szn7z.c.2mdn.net',\n",
       "       u'player.ooyala.com', u'www.panoramio.com',\n",
       "       u'jewelrytelevision.sc.omtrdc.net',\n",
       "       u'jewelrytelevision.hb.omtrdc.net',\n",
       "       u'd1i6vahw24eb07.cloudfront.net', u'static.innovid.com',\n",
       "       u'd1ptdv59avwx8y.cloudfront.net', u'd2ufudlfb4rsg4.cloudfront.net',\n",
       "       u'dn6q4f0q0kh23.cloudfront.net', u'byubroadcasting.sc.omtrdc.net',\n",
       "       u'cdn.adap.tv', u'7d074.v.fwmrm.net',\n",
       "       u'8unl5-314xm.ads.tremorhub.com', u'brightcove04.o.brightcove.com',\n",
       "       u'50tc3.ads.tremorhub.com', u'd2779tscntxxsw.cloudfront.net',\n",
       "       u'dp8hsntg6do36.cloudfront.net',\n",
       "       u'438b44e68a18a815aaf4aa6ab.litix.io', u'whirlpool.demdex.net',\n",
       "       u'rtb-lb-event-sjc-1b-tm.everesttech.net',\n",
       "       u'wfaa-download.edgesuite.net', u'ma1169-r.analytics.edgekey.net',\n",
       "       u'node-p2e-aiv8i1.sitescout.com', u'node-p2e-eng3su.sitescout.com',\n",
       "       u'node-p2e-h6ech6.sitescout.com',\n",
       "       u'elevchur-us-prog.edgesuite.net',\n",
       "       u'd3ti5fpyp1gdj3.cloudfront.net', u'atv-ext.amazon.com',\n",
       "       u'iot-col.eum-appdynamics.com',\n",
       "       u'a6709203f34992a5095d2bc7ceaf2ec504f651a8.cws.conviva.com',\n",
       "       u'pv-tm.everesttech.net', u'7ft5q-cjcmr.ads.tremorhub.com',\n",
       "       u'd2sy1af2shs9ve.cloudfront.net',\n",
       "       u'beacon-us-iad3.rubiconproject.com', u'nbagroup.hb.omtrdc.net',\n",
       "       u'pv.surveywall-api.survata.com', u'd2rk50diug0dse.cloudfront.net',\n",
       "       u'd2946p8dx8ia9.cloudfront.net', u'nbcuadops-vh.akamaihd.net',\n",
       "       u'cdnbakmi.kaltura.com', u'kgw-download.edgesuite.net',\n",
       "       u'plg1.yumenetworks.com',\n",
       "       u'www.pastormelissascott.com.edgesuite.net', u'omsdk.vidible.tv',\n",
       "       u'app.prod.vidible.tv', u'app.vidible.tv', u'img.vidible.tv',\n",
       "       u'strips.vidible.tv', u'adultswim.hb.omtrdc.net',\n",
       "       u'tve.112.2o7.net', u'a3krscrg9223j3877578rth0l.litix.io',\n",
       "       u'cbn.sc.omtrdc.net', u'img.litix.io', u'cbn.hb.omtrdc.net',\n",
       "       u'khou-download.edgesuite.net', u'r2---sn-ab5sznld.c.2mdn.net',\n",
       "       u'r1---sn-ab5szn7d.c.2mdn.net', u'd6ew5fw7x0406.cloudfront.net',\n",
       "       u'video-assets.mathtag.com', u'files.innovid.com',\n",
       "       u'analytics.livestream.com', u'kens-download.edgesuite.net',\n",
       "       u'odr.mookie1.com', u'r4---sn-ab5szn7l.c.2mdn.net',\n",
       "       u'ad-us-west.ipredictive.com', u'cache.vindicosuite.com',\n",
       "       u'r1---sn-ab5l6n6e.c.2mdn.net', u'r5---sn-ab5l6nsy.c.2mdn.net',\n",
       "       u'd1pv4des13xhh9.cloudfront.net', u'dyywvl37rgjgd.cloudfront.net',\n",
       "       u'd27vg42sdg5vem.cloudfront.net', u'7cb77.v.fwmrm.net',\n",
       "       u'kxtv-download.edgesuite.net', u'wkyc-download.edgesuite.net',\n",
       "       u'r2---sn-ab5l6ndr.c.2mdn.net', u'r6---sn-ab5l6nzy.c.2mdn.net',\n",
       "       u'd289kfmz8rqpnp.cloudfront.net', u'd3lyihdno7nd8k.cloudfront.net',\n",
       "       u'd229kpbsb5jevy.cloudfront.net', u'd2zub9v50g8scn.cloudfront.net',\n",
       "       u'r1---sn-ab5l6n6l.c.2mdn.net',\n",
       "       u'dishanalyticsandtesting.sc.omtrdc.net', u'match.prod.bidr.io',\n",
       "       u'd38w434r8pzhbn.cloudfront.net', u'media.bidr.io',\n",
       "       u'wvec-download.edgesuite.net', u'd2j769lqkt6xpm.cloudfront.net',\n",
       "       u'd30iwowld3vuue.cloudfront.net', u'r5---sn-ab5sznl7.c.2mdn.net',\n",
       "       u'r5---sn-ab5l6nzr.c.2mdn.net', u'imp.emxdgt.com',\n",
       "       u'secure-wbw.imrworldwide.com', u'r2---sn-ab5szn7k.c.2mdn.net',\n",
       "       u'r4---sn-ab5l6nsk.c.2mdn.net', u'my4am-az5ts.ads.tremorhub.com',\n",
       "       u'wbir-download.edgesuite.net', u'lt503.tritondigital.com',\n",
       "       u'api.ooyala.com', u'hopx.cedexis.com',\n",
       "       u'hallmarkchannel.sc.omtrdc.net', u'hallmarkcom.hb.omtrdc.net',\n",
       "       u'gov.aniview.com', u'r5---sn-ab5l6ndr.c.2mdn.net',\n",
       "       u'r3---sn-ab5szn7d.c.2mdn.net', u'd3us09chq6la5g.cloudfront.net',\n",
       "       u's.update.stickyadstv.com', u'vidtech.cbsinteractive.com',\n",
       "       u'2in9ha4ucl0pbt657dhf7561a.litix.io',\n",
       "       u'whas-download.edgesuite.net', u'r2---sn-ab5sznl7.c.2mdn.net',\n",
       "       u'r5---sn-ab5l6nzl.c.2mdn.net', u'r6---sn-ab5l6nzk.c.2mdn.net',\n",
       "       u'r6---sn-ab5l6n6l.c.2mdn.net', u'd2tmqer2yv5j13.cloudfront.net',\n",
       "       u'api.shoutcast.com', u'6ate2.ads.tremorhub.com',\n",
       "       u'04qwy-s5xys.ads.tremorhub.com', u'plg5.yumenetworks.com',\n",
       "       u'd3ha45nkqohwc5.cloudfront.net'], dtype=object)"
      ]
     },
     "execution_count": 18,
     "metadata": {},
     "output_type": "execute_result"
    }
   ],
   "source": [
    "roku_tcp[~roku_tcp.pihole_blocked & roku_tcp.web_mobile_blocked].host.unique()"
   ]
  },
  {
   "cell_type": "markdown",
   "metadata": {},
   "source": [
    "### Does Pi-Hole block ID leaks?"
   ]
  },
  {
   "cell_type": "code",
   "execution_count": 20,
   "metadata": {},
   "outputs": [
    {
     "data": {
      "text/html": [
       "<div>\n",
       "<style scoped>\n",
       "    .dataframe tbody tr th:only-of-type {\n",
       "        vertical-align: middle;\n",
       "    }\n",
       "\n",
       "    .dataframe tbody tr th {\n",
       "        vertical-align: top;\n",
       "    }\n",
       "\n",
       "    .dataframe thead th {\n",
       "        text-align: right;\n",
       "    }\n",
       "</style>\n",
       "<table border=\"1\" class=\"dataframe\">\n",
       "  <thead>\n",
       "    <tr style=\"text-align: right;\">\n",
       "      <th></th>\n",
       "      <th>ID</th>\n",
       "      <th>Num. of leaks</th>\n",
       "      <th>Num. of channels</th>\n",
       "    </tr>\n",
       "  </thead>\n",
       "  <tbody>\n",
       "    <tr>\n",
       "      <th>0</th>\n",
       "      <td>AD ID</td>\n",
       "      <td>5747</td>\n",
       "      <td>165</td>\n",
       "    </tr>\n",
       "    <tr>\n",
       "      <th>1</th>\n",
       "      <td>Serial No</td>\n",
       "      <td>2938</td>\n",
       "      <td>73</td>\n",
       "    </tr>\n",
       "  </tbody>\n",
       "</table>\n",
       "</div>"
      ],
      "text/plain": [
       "          ID  Num. of leaks  Num. of channels\n",
       "0      AD ID           5747               165\n",
       "1  Serial No           2938                73"
      ]
     },
     "execution_count": 20,
     "metadata": {},
     "output_type": "execute_result"
    }
   ],
   "source": [
    "leaks_roku = load_df(CrawlRokuTop1KMITM, 'leak')\n",
    "id_leaks_roku = leaks_roku[leaks_roku.id_type.isin(DEVICE_ID_NAMES)]\n",
    "\n",
    "missed_id_leaks_roku = id_leaks_roku[~id_leaks_roku.pihole_blocked]\n",
    "missed_leaks_roku = leaks_roku[~leaks_roku.pihole_blocked]\n",
    "\n",
    "id_leaks_table_missed = print_leak_stats(missed_id_leaks_roku)\n",
    "id_leaks_table_missed"
   ]
  },
  {
   "cell_type": "code",
   "execution_count": 21,
   "metadata": {},
   "outputs": [
    {
     "data": {
      "text/html": [
       "<div>\n",
       "<style scoped>\n",
       "    .dataframe tbody tr th:only-of-type {\n",
       "        vertical-align: middle;\n",
       "    }\n",
       "\n",
       "    .dataframe tbody tr th {\n",
       "        vertical-align: top;\n",
       "    }\n",
       "\n",
       "    .dataframe thead th {\n",
       "        text-align: right;\n",
       "    }\n",
       "</style>\n",
       "<table border=\"1\" class=\"dataframe\">\n",
       "  <thead>\n",
       "    <tr style=\"text-align: right;\">\n",
       "      <th></th>\n",
       "      <th>ID</th>\n",
       "      <th>Num. of leaks</th>\n",
       "      <th>Num. of channels</th>\n",
       "    </tr>\n",
       "  </thead>\n",
       "  <tbody>\n",
       "    <tr>\n",
       "      <th>0</th>\n",
       "      <td>Build Number</td>\n",
       "      <td>3145</td>\n",
       "      <td>123</td>\n",
       "    </tr>\n",
       "    <tr>\n",
       "      <th>1</th>\n",
       "      <td>AD ID</td>\n",
       "      <td>5747</td>\n",
       "      <td>165</td>\n",
       "    </tr>\n",
       "    <tr>\n",
       "      <th>2</th>\n",
       "      <td>Channel name</td>\n",
       "      <td>21960</td>\n",
       "      <td>131</td>\n",
       "    </tr>\n",
       "    <tr>\n",
       "      <th>3</th>\n",
       "      <td>Email</td>\n",
       "      <td>25</td>\n",
       "      <td>5</td>\n",
       "    </tr>\n",
       "    <tr>\n",
       "      <th>4</th>\n",
       "      <td>City</td>\n",
       "      <td>167</td>\n",
       "      <td>28</td>\n",
       "    </tr>\n",
       "    <tr>\n",
       "      <th>5</th>\n",
       "      <td>State</td>\n",
       "      <td>27</td>\n",
       "      <td>20</td>\n",
       "    </tr>\n",
       "    <tr>\n",
       "      <th>6</th>\n",
       "      <td>Zip</td>\n",
       "      <td>183</td>\n",
       "      <td>30</td>\n",
       "    </tr>\n",
       "    <tr>\n",
       "      <th>7</th>\n",
       "      <td>Serial No</td>\n",
       "      <td>2938</td>\n",
       "      <td>73</td>\n",
       "    </tr>\n",
       "  </tbody>\n",
       "</table>\n",
       "</div>"
      ],
      "text/plain": [
       "             ID  Num. of leaks  Num. of channels\n",
       "0  Build Number           3145               123\n",
       "1         AD ID           5747               165\n",
       "2  Channel name          21960               131\n",
       "3         Email             25                 5\n",
       "4          City            167                28\n",
       "5         State             27                20\n",
       "6           Zip            183                30\n",
       "7     Serial No           2938                73"
      ]
     },
     "execution_count": 21,
     "metadata": {},
     "output_type": "execute_result"
    }
   ],
   "source": [
    "leaks_table_missed = print_leak_stats(missed_leaks_roku)\n",
    "leaks_table_missed\n"
   ]
  },
  {
   "cell_type": "code",
   "execution_count": 22,
   "metadata": {},
   "outputs": [
    {
     "data": {
      "text/html": [
       "<div>\n",
       "<style scoped>\n",
       "    .dataframe tbody tr th:only-of-type {\n",
       "        vertical-align: middle;\n",
       "    }\n",
       "\n",
       "    .dataframe tbody tr th {\n",
       "        vertical-align: top;\n",
       "    }\n",
       "\n",
       "    .dataframe thead th {\n",
       "        text-align: right;\n",
       "    }\n",
       "</style>\n",
       "<table border=\"1\" class=\"dataframe\">\n",
       "  <thead>\n",
       "    <tr style=\"text-align: right;\">\n",
       "      <th></th>\n",
       "      <th>ID</th>\n",
       "      <th>Num. of leaks</th>\n",
       "      <th>Num. of channels</th>\n",
       "    </tr>\n",
       "  </thead>\n",
       "  <tbody>\n",
       "    <tr>\n",
       "      <th>0</th>\n",
       "      <td>AD ID</td>\n",
       "      <td>23963</td>\n",
       "      <td>359</td>\n",
       "    </tr>\n",
       "    <tr>\n",
       "      <th>1</th>\n",
       "      <td>Serial No</td>\n",
       "      <td>6717</td>\n",
       "      <td>114</td>\n",
       "    </tr>\n",
       "  </tbody>\n",
       "</table>\n",
       "</div>"
      ],
      "text/plain": [
       "          ID  Num. of leaks  Num. of channels\n",
       "0      AD ID          23963               359\n",
       "1  Serial No           6717               114"
      ]
     },
     "execution_count": 22,
     "metadata": {},
     "output_type": "execute_result"
    }
   ],
   "source": [
    "id_leaks_table = print_leak_stats(id_leaks_roku)\n",
    "id_leaks_table"
   ]
  },
  {
   "cell_type": "code",
   "execution_count": 23,
   "metadata": {},
   "outputs": [
    {
     "name": "stdout",
     "output_type": "stream",
     "text": [
      "\n",
      "\\begin{table}[H]\n",
      "%\\centering\n",
      "%\\resizebox{\\columnwidth}{!}{%\n",
      "\\begin{tabular}{lrr}\n",
      "\\toprule\n",
      " Id        &   Num. of leaks &   Num. of channels \\\\\n",
      "\\midrule\n",
      " AD ID     &            5747 &                165 \\\\\n",
      " Serial No &            2938 &                 73 \\\\\n",
      "\\bottomrule\n",
      "\\end{tabular}\n",
      "%}\n",
      "\\caption{ID leakage missed by Pi-Hole}\n",
      "\\label{tab:missed_ids_pi_hole}\n",
      "\\end{table}\n"
     ]
    }
   ],
   "source": [
    "print(make_latex_table(id_leaks_table_missed, label='missed_ids_pi_hole', caption='ID leakage missed by Pi-Hole'))\n"
   ]
  },
  {
   "cell_type": "code",
   "execution_count": 24,
   "metadata": {},
   "outputs": [
    {
     "data": {
      "text/html": [
       "<div>\n",
       "<style scoped>\n",
       "    .dataframe tbody tr th:only-of-type {\n",
       "        vertical-align: middle;\n",
       "    }\n",
       "\n",
       "    .dataframe tbody tr th {\n",
       "        vertical-align: top;\n",
       "    }\n",
       "\n",
       "    .dataframe thead th {\n",
       "        text-align: right;\n",
       "    }\n",
       "</style>\n",
       "<table border=\"1\" class=\"dataframe\">\n",
       "  <thead>\n",
       "    <tr style=\"text-align: right;\">\n",
       "      <th></th>\n",
       "      <th>ID</th>\n",
       "      <th>Num. of leaks</th>\n",
       "      <th>Num. of channels</th>\n",
       "    </tr>\n",
       "  </thead>\n",
       "  <tbody>\n",
       "    <tr>\n",
       "      <th>0</th>\n",
       "      <td>AD ID</td>\n",
       "      <td>23963</td>\n",
       "      <td>359</td>\n",
       "    </tr>\n",
       "    <tr>\n",
       "      <th>1</th>\n",
       "      <td>Serial No</td>\n",
       "      <td>6717</td>\n",
       "      <td>114</td>\n",
       "    </tr>\n",
       "  </tbody>\n",
       "</table>\n",
       "</div>"
      ],
      "text/plain": [
       "          ID  Num. of leaks  Num. of channels\n",
       "0      AD ID          23963               359\n",
       "1  Serial No           6717               114"
      ]
     },
     "execution_count": 24,
     "metadata": {},
     "output_type": "execute_result"
    }
   ],
   "source": [
    "df = print_leak_stats(id_leaks_roku)\n",
    "df"
   ]
  },
  {
   "cell_type": "code",
   "execution_count": 25,
   "metadata": {},
   "outputs": [
    {
     "data": {
      "text/html": [
       "<div>\n",
       "<style scoped>\n",
       "    .dataframe tbody tr th:only-of-type {\n",
       "        vertical-align: middle;\n",
       "    }\n",
       "\n",
       "    .dataframe tbody tr th {\n",
       "        vertical-align: top;\n",
       "    }\n",
       "\n",
       "    .dataframe thead th {\n",
       "        text-align: right;\n",
       "    }\n",
       "</style>\n",
       "<table border=\"1\" class=\"dataframe\">\n",
       "  <thead>\n",
       "    <tr style=\"text-align: right;\">\n",
       "      <th></th>\n",
       "      <th>req_domain</th>\n",
       "      <th>Num. of channels</th>\n",
       "    </tr>\n",
       "  </thead>\n",
       "  <tbody>\n",
       "    <tr>\n",
       "      <th>50</th>\n",
       "      <td>tremorhub.com</td>\n",
       "      <td>73</td>\n",
       "    </tr>\n",
       "    <tr>\n",
       "      <th>11</th>\n",
       "      <td>bfmio.com</td>\n",
       "      <td>44</td>\n",
       "    </tr>\n",
       "    <tr>\n",
       "      <th>26</th>\n",
       "      <td>irchan.com</td>\n",
       "      <td>42</td>\n",
       "    </tr>\n",
       "    <tr>\n",
       "      <th>30</th>\n",
       "      <td>monarchads.com</td>\n",
       "      <td>40</td>\n",
       "    </tr>\n",
       "    <tr>\n",
       "      <th>12</th>\n",
       "      <td>bidswitch.net</td>\n",
       "      <td>26</td>\n",
       "    </tr>\n",
       "    <tr>\n",
       "      <th>16</th>\n",
       "      <td>digitru.st</td>\n",
       "      <td>26</td>\n",
       "    </tr>\n",
       "    <tr>\n",
       "      <th>43</th>\n",
       "      <td>sharethrough.com</td>\n",
       "      <td>19</td>\n",
       "    </tr>\n",
       "    <tr>\n",
       "      <th>3</th>\n",
       "      <td>adrise.tv</td>\n",
       "      <td>18</td>\n",
       "    </tr>\n",
       "    <tr>\n",
       "      <th>4</th>\n",
       "      <td>adsrvr.org</td>\n",
       "      <td>18</td>\n",
       "    </tr>\n",
       "    <tr>\n",
       "      <th>28</th>\n",
       "      <td>kargo.com</td>\n",
       "      <td>16</td>\n",
       "    </tr>\n",
       "  </tbody>\n",
       "</table>\n",
       "</div>"
      ],
      "text/plain": [
       "          req_domain  Num. of channels\n",
       "50     tremorhub.com                73\n",
       "11         bfmio.com                44\n",
       "26        irchan.com                42\n",
       "30    monarchads.com                40\n",
       "12     bidswitch.net                26\n",
       "16        digitru.st                26\n",
       "43  sharethrough.com                19\n",
       "3          adrise.tv                18\n",
       "4         adsrvr.org                18\n",
       "28         kargo.com                16"
      ]
     },
     "execution_count": 25,
     "metadata": {},
     "output_type": "execute_result"
    }
   ],
   "source": [
    "df = get_popular_domains_from_reqs(missed_id_leaks_roku)\n",
    "df\n",
    "\n",
    "#missed_id_leaks_roku.req_domain.value_counts()"
   ]
  },
  {
   "cell_type": "code",
   "execution_count": 26,
   "metadata": {},
   "outputs": [
    {
     "name": "stdout",
     "output_type": "stream",
     "text": [
      "\n",
      "\\begin{table}[H]\n",
      "%\\centering\n",
      "%\\resizebox{\\columnwidth}{!}{%\n",
      "\\begin{tabular}{lr}\n",
      "\\toprule\n",
      " Req domain       &   Num. of channels \\\\\n",
      "\\midrule\n",
      " tremorhub.com    &                 73 \\\\\n",
      " bfmio.com        &                 44 \\\\\n",
      " irchan.com       &                 42 \\\\\n",
      " monarchads.com   &                 40 \\\\\n",
      " bidswitch.net    &                 26 \\\\\n",
      " digitru.st       &                 26 \\\\\n",
      " sharethrough.com &                 19 \\\\\n",
      " adrise.tv        &                 18 \\\\\n",
      " adsrvr.org       &                 18 \\\\\n",
      " kargo.com        &                 16 \\\\\n",
      "\\bottomrule\n",
      "\\end{tabular}\n",
      "%}\n",
      "\\caption{Domains that receive Ad ID and Serial number after filtering requests with Pi-hole}\n",
      "\\label{tab:trackers_missed_by_pihole}\n",
      "\\end{table}\n"
     ]
    }
   ],
   "source": [
    "print(make_latex_table(\n",
    "    df, label=\"trackers_missed_by_pihole\",\n",
    "    caption=\"Domains that receive Ad ID and Serial number after filtering requests with Pi-hole\"))"
   ]
  },
  {
   "cell_type": "code",
   "execution_count": null,
   "metadata": {},
   "outputs": [],
   "source": []
  }
 ],
 "metadata": {
  "kernelspec": {
   "display_name": "Python 2",
   "language": "python",
   "name": "python2"
  },
  "language_info": {
   "codemirror_mode": {
    "name": "ipython",
    "version": 2
   },
   "file_extension": ".py",
   "mimetype": "text/x-python",
   "name": "python",
   "nbconvert_exporter": "python",
   "pygments_lexer": "ipython2",
   "version": "2.7.15+"
  }
 },
 "nbformat": 4,
 "nbformat_minor": 2
}
