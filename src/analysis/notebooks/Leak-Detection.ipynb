{
 "cells": [
  {
   "cell_type": "code",
   "execution_count": 1,
   "metadata": {},
   "outputs": [],
   "source": [
    "import LeakDetector\n",
    "import numpy as np\n",
    "import pandas as pd\n",
    "from nb_utils import get_crawl_data_path\n",
    "from device_ids import TV_ID_MAP\n",
    "from log_analysis import (load_dns_data, load_timestamps_from_crawl_data,\n",
    "                          get_distinct_tcp_conns, get_crawl_parameter,\n",
    "                          get_crawl_status, get_http_df, get_http2_df)\n",
    "\n",
    "from os.path import isdir, join, basename\n",
    "from datetime import datetime\n",
    "from glob import glob\n"
   ]
  },
  {
   "cell_type": "code",
   "execution_count": 17,
   "metadata": {},
   "outputs": [],
   "source": [
    "from crawl_ids import CrawlRokuTop1K\n",
    "from df_utils import load_df"
   ]
  },
  {
   "cell_type": "code",
   "execution_count": 56,
   "metadata": {},
   "outputs": [],
   "source": [
    "reqs = load_df(CrawlRokuTop1K, \"http_req\")"
   ]
  },
  {
   "cell_type": "code",
   "execution_count": 47,
   "metadata": {},
   "outputs": [],
   "source": [
    "CHECK_REFERRER_LEAKS = True\n",
    "\n",
    "def check_row_for_leaks(detector, req):\n",
    "    url, cookie_str, post_body, referrer_str = req['url'], req['cookie'], req['post_data'], req['referer']\n",
    "    url_leaks = detector.check_url(url)\n",
    "    url_leaks += detector.substring_search(url, max_layers=2)\n",
    "    cookie_leaks = detector.substring_search(cookie_str, max_layers=2)\n",
    "    post_leaks = detector.substring_search(post_body, max_layers=2)\n",
    "    if CHECK_REFERRER_LEAKS:\n",
    "        referrer_leaks = detector.substring_search(referrer_str, max_layers=2)\n",
    "        return url_leaks, cookie_leaks, post_leaks, referrer_leaks\n",
    "    else:\n",
    "        return url_leaks, cookie_leaks, post_leaks"
   ]
  },
  {
   "cell_type": "code",
   "execution_count": 48,
   "metadata": {},
   "outputs": [],
   "source": [
    "def reverse_dict(d):\n",
    "    new_d = dict()\n",
    "    for k, v in d.items():\n",
    "        new_d[v.lower()] = k\n",
    "    return new_d"
   ]
  },
  {
   "cell_type": "code",
   "execution_count": 49,
   "metadata": {},
   "outputs": [],
   "source": [
    "def convert_leaks_to_df(device_ids, leaks_dict):\n",
    "    r_ids = reverse_dict(device_ids)\n",
    "    leaks_dicts = []\n",
    "    for leak_type, leaks in leaks_dict.items():\n",
    "        for leak in leaks:            \n",
    "            # print(leak, len(leak), leak[0])\n",
    "            assert len(leak) <= 2\n",
    "            if len(leak) == 2:\n",
    "                encoding, search = leak\n",
    "            elif len(leak) == 1:\n",
    "                search = leak[0]\n",
    "                encoding = \"unencoded\"\n",
    "            id_type = r_ids.get(search.lower(), \"Unknown\")\n",
    "            leaks_dicts.append({'id_type': id_type, 'search': search,\n",
    "                                \"encoding\": encoding, \"leak_type\": leak_type})\n",
    "    return pd.DataFrame(leaks_dicts)\n"
   ]
  },
  {
   "cell_type": "code",
   "execution_count": 50,
   "metadata": {},
   "outputs": [],
   "source": [
    "import unicodedata\n",
    "\n",
    "def detect_leaks_in_requests(df, device_ids):\n",
    "    df.sort_values(\"channel_name\", inplace=True)\n",
    "    last_channel = \"\"\n",
    "    leak_df = pd.DataFrame({})\n",
    "    #for idx, req in df[df.channel_name.str.contains(\"Z\")].iterrows():\n",
    "    for idx, req in df.iterrows():\n",
    "        channel_name = unicodedata.normalize('NFKD', req['channel_name']).encode('ascii','ignore')\n",
    "        channel_id = str(req['channel_id'])\n",
    "        if channel_name !=last_channel:\n",
    "            last_channel = channel_name\n",
    "            device_ids[\"Channel name\"] = channel_name\n",
    "            r_device_ids = reverse_dict(device_ids)\n",
    "            leak_detector = LeakDetector.LeakDetector(\n",
    "                device_ids.values(), encoding_set=LeakDetector.ENCODINGS_NO_ROT,\n",
    "                encoding_layers=2, hash_layers=2, debugging=False\n",
    "            )\n",
    "        url_leaks, cookie_leaks, post_leaks, referrer_leaks = check_row_for_leaks(leak_detector, req)\n",
    "        tmp_df = convert_leaks_to_df(device_ids,\n",
    "                                     {\"url_leaks\": url_leaks, \"cookie_leaks\": cookie_leaks,\n",
    "                                      \"post_leaks\": post_leaks, \"referrer_leaks\": referrer_leaks})\n",
    "        tmp_df['channel_name'] = channel_name\n",
    "        for col in df.columns:  # copy data from requests to leaks df\n",
    "            if col not in ['channel_name',]:  #  already added, skip\n",
    "                tmp_df[col] = req[col]\n",
    "        leak_df = leak_df.append(tmp_df, sort=True)\n",
    "\n",
    "    device_ids[\"Channel name\"] = \"\"  # reset back\n",
    "    return leak_df\n"
   ]
  },
  {
   "cell_type": "code",
   "execution_count": 114,
   "metadata": {},
   "outputs": [],
   "source": [
    "def print_leak_stats(leak_df):\n",
    "    for id_type in list(leak_df.id_type.unique()):\n",
    "        num_leaks = leak_df[leak_df.id_type==id_type].channel_id.nunique()\n",
    "        if num_leaks:\n",
    "            print (\"%d channels leaked %s\" % (num_leaks, id_type))\n",
    "\n",
    "    \n",
    "def analyze_leaks(crawl_name, req_df=None):\n",
    "    craw_dir = get_crawl_data_path(crawl_name)\n",
    "    if req_df is None:\n",
    "        req_df, _, _ = get_http_df(crawl_name)\n",
    "    print(\"\\nCrawl name: %s\" % crawl_name)\n",
    "    print(\"%d reqs from %d channels\" % (len(req_df), req_df.channel_id.nunique()))\n",
    "    id_dict = TV_ID_MAP[get_crawl_parameter(craw_dir, \"WLANIF\")]\n",
    "    print(\"Will search for the following IDs\", id_dict)\n",
    "    leak_df = detect_leaks_in_requests(req_df, id_dict)\n",
    "\n",
    "    for id_type in id_dict.keys():\n",
    "        num_leaks = leak_df[leak_df.id_type==id_type].channel_id.nunique()\n",
    "        if num_leaks:\n",
    "            print (\"%d channels leaked %s\" % (num_leaks, id_type))\n",
    "\n",
    "    return leak_df, req_df, id_dict"
   ]
  },
  {
   "cell_type": "markdown",
   "metadata": {},
   "source": [
    "## Run leak detection"
   ]
  },
  {
   "cell_type": "code",
   "execution_count": 60,
   "metadata": {},
   "outputs": [
    {
     "name": "stdout",
     "output_type": "stream",
     "text": [
      "\n",
      "Crawl name: roku-data-20190508-013650\n",
      "29664 reqs from 794 channels\n",
      "('Will search for the following IDs', {'City': 'Princeton', 'AD ID': 'ded0f0e3-b3aa-59a2-a143-f6c1157a7ae8', 'Device Name': 'Office tv', 'Zip': '08540', 'State': 'New Jersey', 'Device ID': 'C33858901841', 'Email': 'macyli47@gmail.com', 'Wifi SSID': 'IoT-Pi-3-2', 'Channel name': '', 'Serial No': 'YG0080901841', 'MAC': 'd8:31:34:22:e6:ff', 'Build Number': '519.00E04142A', 'Password': 'RoheuskEdfekJa3'})\n",
      "5 channels leaked City\n",
      "313 channels leaked AD ID\n",
      "5 channels leaked Zip\n",
      "2 channels leaked State\n",
      "1 channels leaked Email\n",
      "225 channels leaked Channel name\n",
      "108 channels leaked Serial No\n",
      "317 channels leaked Build Number\n"
     ]
    }
   ],
   "source": [
    "# leaks_amazon, requests_amazon, id_dict = analyze_leaks(AMAZON_CRAWL)\n",
    "r = reqs\n",
    "leaks_roku, requests_roku, id_dict = analyze_leaks(CrawlRokuTop1K, r)"
   ]
  },
  {
   "cell_type": "markdown",
   "metadata": {},
   "source": [
    "## Roku leaks"
   ]
  },
  {
   "cell_type": "code",
   "execution_count": 106,
   "metadata": {},
   "outputs": [
    {
     "data": {
      "text/plain": [
       "6314"
      ]
     },
     "execution_count": 106,
     "metadata": {},
     "output_type": "execute_result"
    }
   ],
   "source": [
    "DEVICE_ID_NAMES = ['AD ID', 'Serial No', 'MAC', 'Device name', 'Device name', 'Wifi SSID', 'Device ID']\n",
    "id_leaks_roku = leaks_roku[leaks_roku.id_type.isin(DEVICE_ID_NAMES)]"
   ]
  },
  {
   "cell_type": "code",
   "execution_count": 115,
   "metadata": {},
   "outputs": [
    {
     "name": "stdout",
     "output_type": "stream",
     "text": [
      "313 channels leaked AD ID\n",
      "317 channels leaked Build Number\n",
      "225 channels leaked Channel name\n",
      "108 channels leaked Serial No\n",
      "5 channels leaked City\n",
      "2 channels leaked State\n",
      "5 channels leaked Zip\n",
      "1 channels leaked Email\n",
      "1 channels leaked Unknown\n"
     ]
    }
   ],
   "source": [
    "print_leak_stats(leaks_roku)"
   ]
  },
  {
   "cell_type": "markdown",
   "metadata": {},
   "source": [
    "## ID Leaks"
   ]
  },
  {
   "cell_type": "code",
   "execution_count": 116,
   "metadata": {},
   "outputs": [
    {
     "name": "stdout",
     "output_type": "stream",
     "text": [
      "313 channels leaked AD ID\n",
      "108 channels leaked Serial No\n"
     ]
    }
   ],
   "source": [
    "print_leak_stats(id_leaks_roku)"
   ]
  },
  {
   "cell_type": "code",
   "execution_count": 123,
   "metadata": {},
   "outputs": [
    {
     "name": "stdout",
     "output_type": "stream",
     "text": [
      "('IDs leaked', 6314, 'times in', 373, 'channels')\n",
      "('Channel name leaked in ', 225, 'channels')\n"
     ]
    }
   ],
   "source": [
    "len(leaks_roku), len(id_leaks_roku), leaks_roku.channel_id.nunique(), id_leaks_roku.channel_id.nunique()\n",
    "print (\"IDs leaked\", len(id_leaks_roku), \"times in\", id_leaks_roku.channel_id.nunique(), \"channels\")\n",
    "print (\"Channel name leaked in \", leaks_roku[leaks_roku.id_type==\"Channel name\"].channel_id.nunique(), \"channels\")"
   ]
  },
  {
   "cell_type": "code",
   "execution_count": 124,
   "metadata": {},
   "outputs": [
    {
     "ename": "AttributeError",
     "evalue": "'DataFrame' object has no attribute 'playback'",
     "output_type": "error",
     "traceback": [
      "\u001b[0;31m\u001b[0m",
      "\u001b[0;31mAttributeError\u001b[0mTraceback (most recent call last)",
      "\u001b[0;32m<ipython-input-124-05165b735015>\u001b[0m in \u001b[0;36m<module>\u001b[0;34m()\u001b[0m\n\u001b[0;32m----> 1\u001b[0;31m \u001b[0mleaks_roku\u001b[0m\u001b[0;34m.\u001b[0m\u001b[0mplayback\u001b[0m\u001b[0;34m.\u001b[0m\u001b[0mvalue_counts\u001b[0m\u001b[0;34m(\u001b[0m\u001b[0;34m)\u001b[0m\u001b[0;34m\u001b[0m\u001b[0m\n\u001b[0m",
      "\u001b[0;32m/home/gacar/.local/lib/python2.7/site-packages/pandas/core/generic.pyc\u001b[0m in \u001b[0;36m__getattr__\u001b[0;34m(self, name)\u001b[0m\n\u001b[1;32m   4374\u001b[0m             \u001b[0;32mif\u001b[0m \u001b[0mself\u001b[0m\u001b[0;34m.\u001b[0m\u001b[0m_info_axis\u001b[0m\u001b[0;34m.\u001b[0m\u001b[0m_can_hold_identifiers_and_holds_name\u001b[0m\u001b[0;34m(\u001b[0m\u001b[0mname\u001b[0m\u001b[0;34m)\u001b[0m\u001b[0;34m:\u001b[0m\u001b[0;34m\u001b[0m\u001b[0m\n\u001b[1;32m   4375\u001b[0m                 \u001b[0;32mreturn\u001b[0m \u001b[0mself\u001b[0m\u001b[0;34m[\u001b[0m\u001b[0mname\u001b[0m\u001b[0;34m]\u001b[0m\u001b[0;34m\u001b[0m\u001b[0m\n\u001b[0;32m-> 4376\u001b[0;31m             \u001b[0;32mreturn\u001b[0m \u001b[0mobject\u001b[0m\u001b[0;34m.\u001b[0m\u001b[0m__getattribute__\u001b[0m\u001b[0;34m(\u001b[0m\u001b[0mself\u001b[0m\u001b[0;34m,\u001b[0m \u001b[0mname\u001b[0m\u001b[0;34m)\u001b[0m\u001b[0;34m\u001b[0m\u001b[0m\n\u001b[0m\u001b[1;32m   4377\u001b[0m \u001b[0;34m\u001b[0m\u001b[0m\n\u001b[1;32m   4378\u001b[0m     \u001b[0;32mdef\u001b[0m \u001b[0m__setattr__\u001b[0m\u001b[0;34m(\u001b[0m\u001b[0mself\u001b[0m\u001b[0;34m,\u001b[0m \u001b[0mname\u001b[0m\u001b[0;34m,\u001b[0m \u001b[0mvalue\u001b[0m\u001b[0;34m)\u001b[0m\u001b[0;34m:\u001b[0m\u001b[0;34m\u001b[0m\u001b[0m\n",
      "\u001b[0;31mAttributeError\u001b[0m: 'DataFrame' object has no attribute 'playback'"
     ]
    }
   ],
   "source": [
    "leaks_roku.playback.value_counts()"
   ]
  },
  {
   "cell_type": "markdown",
   "metadata": {},
   "source": [
    "## Leak types"
   ]
  },
  {
   "cell_type": "code",
   "execution_count": 109,
   "metadata": {},
   "outputs": [
    {
     "data": {
      "text/plain": [
       "Channel name    7291\n",
       "AD ID           4606\n",
       "Build Number    2910\n",
       "Serial No       1708\n",
       "Zip               35\n",
       "City              30\n",
       "State             11\n",
       "Email              2\n",
       "Unknown            2\n",
       "Name: id_type, dtype: int64"
      ]
     },
     "execution_count": 109,
     "metadata": {},
     "output_type": "execute_result"
    }
   ],
   "source": [
    "leaks_roku.id_type.value_counts()"
   ]
  },
  {
   "cell_type": "code",
   "execution_count": 110,
   "metadata": {},
   "outputs": [
    {
     "data": {
      "text/plain": [
       "AD ID        4606\n",
       "Serial No    1708\n",
       "Name: id_type, dtype: int64"
      ]
     },
     "execution_count": 110,
     "metadata": {},
     "output_type": "execute_result"
    }
   ],
   "source": [
    "id_leaks_roku.id_type.value_counts()"
   ]
  },
  {
   "cell_type": "code",
   "execution_count": 111,
   "metadata": {},
   "outputs": [
    {
     "data": {
      "text/plain": [
       "AD ID        313\n",
       "Serial No    108\n",
       "Name: id_type, dtype: int64"
      ]
     },
     "execution_count": 111,
     "metadata": {},
     "output_type": "execute_result"
    }
   ],
   "source": [
    "id_leaks_roku.drop_duplicates(['channel_id', 'id_type']).id_type.value_counts()"
   ]
  },
  {
   "cell_type": "code",
   "execution_count": 62,
   "metadata": {},
   "outputs": [
    {
     "data": {
      "text/plain": [
       "True     10278\n",
       "False     6317\n",
       "Name: adblocked, dtype: int64"
      ]
     },
     "execution_count": 62,
     "metadata": {},
     "output_type": "execute_result"
    }
   ],
   "source": [
    "leaks_roku.adblocked.value_counts()"
   ]
  },
  {
   "cell_type": "code",
   "execution_count": 65,
   "metadata": {},
   "outputs": [
    {
     "data": {
      "text/plain": [
       "array(['AD ID', 'Build Number', 'Channel name', 'Serial No', 'City',\n",
       "       'State', 'Zip', 'Email', 'Unknown'], dtype=object)"
      ]
     },
     "execution_count": 65,
     "metadata": {},
     "output_type": "execute_result"
    }
   ],
   "source": [
    "leaks_roku.id_type.unique()"
   ]
  },
  {
   "cell_type": "code",
   "execution_count": null,
   "metadata": {},
   "outputs": [],
   "source": [
    "- email address sent to  http://api.qello.com/users/register/ for registration purposes\n",
    "- crawler actually clicked the dialog to allow email address to be accessed from Roku"
   ]
  },
  {
   "cell_type": "code",
   "execution_count": 66,
   "metadata": {},
   "outputs": [
    {
     "data": {
      "text/html": [
       "<div>\n",
       "<style scoped>\n",
       "    .dataframe tbody tr th:only-of-type {\n",
       "        vertical-align: middle;\n",
       "    }\n",
       "\n",
       "    .dataframe tbody tr th {\n",
       "        vertical-align: top;\n",
       "    }\n",
       "\n",
       "    .dataframe thead th {\n",
       "        text-align: right;\n",
       "    }\n",
       "</style>\n",
       "<table border=\"1\" class=\"dataframe\">\n",
       "  <thead>\n",
       "    <tr style=\"text-align: right;\">\n",
       "      <th></th>\n",
       "      <th>adblocked</th>\n",
       "      <th>category</th>\n",
       "      <th>channel_id</th>\n",
       "      <th>channel_name</th>\n",
       "      <th>cookie</th>\n",
       "      <th>decoded_data</th>\n",
       "      <th>disconnect_blocked</th>\n",
       "      <th>domain_by_dns</th>\n",
       "      <th>easylist_blocked</th>\n",
       "      <th>easypivacy_blocked</th>\n",
       "      <th>...</th>\n",
       "      <th>rank</th>\n",
       "      <th>referer</th>\n",
       "      <th>req_domain</th>\n",
       "      <th>search</th>\n",
       "      <th>status</th>\n",
       "      <th>tcp_dstport</th>\n",
       "      <th>tcp_stream</th>\n",
       "      <th>time</th>\n",
       "      <th>url</th>\n",
       "      <th>user_agent</th>\n",
       "    </tr>\n",
       "  </thead>\n",
       "  <tbody>\n",
       "    <tr>\n",
       "      <th>1</th>\n",
       "      <td>False</td>\n",
       "      <td>Music</td>\n",
       "      <td>40299</td>\n",
       "      <td>Stingray Qello</td>\n",
       "      <td></td>\n",
       "      <td></td>\n",
       "      <td>False</td>\n",
       "      <td>qello.com</td>\n",
       "      <td>False</td>\n",
       "      <td>False</td>\n",
       "      <td>...</td>\n",
       "      <td>498</td>\n",
       "      <td></td>\n",
       "      <td>qello.com</td>\n",
       "      <td>macyli47</td>\n",
       "      <td>TERMINATED</td>\n",
       "      <td>80</td>\n",
       "      <td>84</td>\n",
       "      <td>1557386763.457430000</td>\n",
       "      <td>http://api.qello.com/users/register/</td>\n",
       "      <td>Roku/DVP-9.0 (519.00E04142A)</td>\n",
       "    </tr>\n",
       "    <tr>\n",
       "      <th>1</th>\n",
       "      <td>False</td>\n",
       "      <td>Music</td>\n",
       "      <td>40299</td>\n",
       "      <td>Stingray Qello</td>\n",
       "      <td></td>\n",
       "      <td></td>\n",
       "      <td>False</td>\n",
       "      <td>qello.com</td>\n",
       "      <td>False</td>\n",
       "      <td>False</td>\n",
       "      <td>...</td>\n",
       "      <td>498</td>\n",
       "      <td></td>\n",
       "      <td>qello.com</td>\n",
       "      <td>macyli47</td>\n",
       "      <td>TERMINATED</td>\n",
       "      <td>80</td>\n",
       "      <td>59</td>\n",
       "      <td>1557386729.679612000</td>\n",
       "      <td>http://api.qello.com/users/register/</td>\n",
       "      <td>Roku/DVP-9.0 (519.00E04142A)</td>\n",
       "    </tr>\n",
       "  </tbody>\n",
       "</table>\n",
       "<p>2 rows × 32 columns</p>\n",
       "</div>"
      ],
      "text/plain": [
       "   adblocked category channel_id    channel_name cookie decoded_data  \\\n",
       "1      False    Music      40299  Stingray Qello                       \n",
       "1      False    Music      40299  Stingray Qello                       \n",
       "\n",
       "   disconnect_blocked domain_by_dns  easylist_blocked  easypivacy_blocked  \\\n",
       "1               False     qello.com             False               False   \n",
       "1               False     qello.com             False               False   \n",
       "\n",
       "               ...              rank  referer req_domain    search  \\\n",
       "1              ...               498           qello.com  macyli47   \n",
       "1              ...               498           qello.com  macyli47   \n",
       "\n",
       "       status tcp_dstport tcp_stream                  time  \\\n",
       "1  TERMINATED          80         84  1557386763.457430000   \n",
       "1  TERMINATED          80         59  1557386729.679612000   \n",
       "\n",
       "                                    url                    user_agent  \n",
       "1  http://api.qello.com/users/register/  Roku/DVP-9.0 (519.00E04142A)  \n",
       "1  http://api.qello.com/users/register/  Roku/DVP-9.0 (519.00E04142A)  \n",
       "\n",
       "[2 rows x 32 columns]"
      ]
     },
     "execution_count": 66,
     "metadata": {},
     "output_type": "execute_result"
    }
   ],
   "source": [
    "leaks_roku[leaks_roku.id_type==\"Unknown\"]"
   ]
  },
  {
   "cell_type": "code",
   "execution_count": 67,
   "metadata": {},
   "outputs": [
    {
     "data": {
      "text/html": [
       "<div>\n",
       "<style scoped>\n",
       "    .dataframe tbody tr th:only-of-type {\n",
       "        vertical-align: middle;\n",
       "    }\n",
       "\n",
       "    .dataframe tbody tr th {\n",
       "        vertical-align: top;\n",
       "    }\n",
       "\n",
       "    .dataframe thead th {\n",
       "        text-align: right;\n",
       "    }\n",
       "</style>\n",
       "<table border=\"1\" class=\"dataframe\">\n",
       "  <thead>\n",
       "    <tr style=\"text-align: right;\">\n",
       "      <th></th>\n",
       "      <th>adblocked</th>\n",
       "      <th>category</th>\n",
       "      <th>channel_id</th>\n",
       "      <th>channel_name</th>\n",
       "      <th>cookie</th>\n",
       "      <th>decoded_data</th>\n",
       "      <th>disconnect_blocked</th>\n",
       "      <th>domain_by_dns</th>\n",
       "      <th>easylist_blocked</th>\n",
       "      <th>easypivacy_blocked</th>\n",
       "      <th>...</th>\n",
       "      <th>rank</th>\n",
       "      <th>referer</th>\n",
       "      <th>req_domain</th>\n",
       "      <th>search</th>\n",
       "      <th>status</th>\n",
       "      <th>tcp_dstport</th>\n",
       "      <th>tcp_stream</th>\n",
       "      <th>time</th>\n",
       "      <th>url</th>\n",
       "      <th>user_agent</th>\n",
       "    </tr>\n",
       "  </thead>\n",
       "  <tbody>\n",
       "    <tr>\n",
       "      <th>0</th>\n",
       "      <td>False</td>\n",
       "      <td>Music</td>\n",
       "      <td>40299</td>\n",
       "      <td>Stingray Qello</td>\n",
       "      <td></td>\n",
       "      <td></td>\n",
       "      <td>False</td>\n",
       "      <td>qello.com</td>\n",
       "      <td>False</td>\n",
       "      <td>False</td>\n",
       "      <td>...</td>\n",
       "      <td>498</td>\n",
       "      <td></td>\n",
       "      <td>qello.com</td>\n",
       "      <td>macyli47@gmail.com</td>\n",
       "      <td>TERMINATED</td>\n",
       "      <td>80</td>\n",
       "      <td>84</td>\n",
       "      <td>1557386763.457430000</td>\n",
       "      <td>http://api.qello.com/users/register/</td>\n",
       "      <td>Roku/DVP-9.0 (519.00E04142A)</td>\n",
       "    </tr>\n",
       "    <tr>\n",
       "      <th>0</th>\n",
       "      <td>False</td>\n",
       "      <td>Music</td>\n",
       "      <td>40299</td>\n",
       "      <td>Stingray Qello</td>\n",
       "      <td></td>\n",
       "      <td></td>\n",
       "      <td>False</td>\n",
       "      <td>qello.com</td>\n",
       "      <td>False</td>\n",
       "      <td>False</td>\n",
       "      <td>...</td>\n",
       "      <td>498</td>\n",
       "      <td></td>\n",
       "      <td>qello.com</td>\n",
       "      <td>macyli47@gmail.com</td>\n",
       "      <td>TERMINATED</td>\n",
       "      <td>80</td>\n",
       "      <td>59</td>\n",
       "      <td>1557386729.679612000</td>\n",
       "      <td>http://api.qello.com/users/register/</td>\n",
       "      <td>Roku/DVP-9.0 (519.00E04142A)</td>\n",
       "    </tr>\n",
       "  </tbody>\n",
       "</table>\n",
       "<p>2 rows × 32 columns</p>\n",
       "</div>"
      ],
      "text/plain": [
       "   adblocked category channel_id    channel_name cookie decoded_data  \\\n",
       "0      False    Music      40299  Stingray Qello                       \n",
       "0      False    Music      40299  Stingray Qello                       \n",
       "\n",
       "   disconnect_blocked domain_by_dns  easylist_blocked  easypivacy_blocked  \\\n",
       "0               False     qello.com             False               False   \n",
       "0               False     qello.com             False               False   \n",
       "\n",
       "               ...              rank  referer req_domain              search  \\\n",
       "0              ...               498           qello.com  macyli47@gmail.com   \n",
       "0              ...               498           qello.com  macyli47@gmail.com   \n",
       "\n",
       "       status tcp_dstport tcp_stream                  time  \\\n",
       "0  TERMINATED          80         84  1557386763.457430000   \n",
       "0  TERMINATED          80         59  1557386729.679612000   \n",
       "\n",
       "                                    url                    user_agent  \n",
       "0  http://api.qello.com/users/register/  Roku/DVP-9.0 (519.00E04142A)  \n",
       "0  http://api.qello.com/users/register/  Roku/DVP-9.0 (519.00E04142A)  \n",
       "\n",
       "[2 rows x 32 columns]"
      ]
     },
     "execution_count": 67,
     "metadata": {},
     "output_type": "execute_result"
    }
   ],
   "source": [
    "leaks_roku[leaks_roku.id_type==\"Email\"]"
   ]
  },
  {
   "cell_type": "code",
   "execution_count": 71,
   "metadata": {},
   "outputs": [
    {
     "data": {
      "text/plain": [
       "True     4853\n",
       "False    1461\n",
       "Name: adblocked, dtype: int64"
      ]
     },
     "execution_count": 71,
     "metadata": {},
     "output_type": "execute_result"
    }
   ],
   "source": [
    "id_leaks_roku.adblocked.value_counts()"
   ]
  },
  {
   "cell_type": "code",
   "execution_count": 103,
   "metadata": {},
   "outputs": [],
   "source": [
    "## AD ID leaks"
   ]
  },
  {
   "cell_type": "code",
   "execution_count": 98,
   "metadata": {},
   "outputs": [
    {
     "data": {
      "text/plain": [
       "monarchads.com     33\n",
       "adrise.tv          18\n",
       "ewscloud.com        7\n",
       "lightcast.com       4\n",
       "myspotlight.tv      4\n",
       "aragoncreek.com     4\n",
       "kargo.com           2\n",
       "brightline.tv       2\n",
       "theplatform.com     1\n",
       "nbcuni.com          1\n",
       "Name: req_domain, dtype: int64"
      ]
     },
     "execution_count": 98,
     "metadata": {},
     "output_type": "execute_result"
    }
   ],
   "source": [
    "not_blocked = id_leaks_roku[~id_leaks_roku.adblocked]\n",
    "not_blocked[not_blocked.id_type==\"AD ID\"].drop_duplicates([\"channel_id\", \"req_domain\"]).req_domain.value_counts().head(10)"
   ]
  },
  {
   "cell_type": "code",
   "execution_count": 104,
   "metadata": {},
   "outputs": [
    {
     "data": {
      "text/plain": [
       "irchan.com       47\n",
       "lightcast.com     5\n",
       "bigstar.tv        3\n",
       "adrise.tv         2\n",
       "rfdcc.com         1\n",
       "                  1\n",
       "slacker.com       1\n",
       "eulive.eu         1\n",
       "ihopkc.org        1\n",
       "nmax.tv           1\n",
       "Name: req_domain, dtype: int64"
      ]
     },
     "execution_count": 104,
     "metadata": {},
     "output_type": "execute_result"
    }
   ],
   "source": [
    "not_blocked[not_blocked.id_type==\"Serial No\"].drop_duplicates([\"channel_id\", \"req_domain\"]).req_domain.value_counts().head(10)"
   ]
  },
  {
   "cell_type": "code",
   "execution_count": 97,
   "metadata": {},
   "outputs": [
    {
     "data": {
      "text/plain": [
       "irchan.com         47\n",
       "monarchads.com     33\n",
       "adrise.tv          19\n",
       "ewscloud.com        7\n",
       "lightcast.com       6\n",
       "aragoncreek.com     4\n",
       "myspotlight.tv      4\n",
       "bigstar.tv          3\n",
       "brightline.tv       2\n",
       "kargo.com           2\n",
       "turner.com          1\n",
       "Name: req_domain, dtype: int64"
      ]
     },
     "execution_count": 97,
     "metadata": {},
     "output_type": "execute_result"
    }
   ],
   "source": [
    "not_blocked = id_leaks_roku[~id_leaks_roku.adblocked]\n",
    "not_blocked.drop_duplicates([\"channel_id\", \"req_domain\"]).req_domain.value_counts().head(11)"
   ]
  },
  {
   "cell_type": "code",
   "execution_count": 11,
   "metadata": {},
   "outputs": [],
   "source": [
    "# leaks_amazon.head(3)"
   ]
  },
  {
   "cell_type": "markdown",
   "metadata": {},
   "source": [
    "### Leaked IDs"
   ]
  },
  {
   "cell_type": "code",
   "execution_count": 99,
   "metadata": {},
   "outputs": [
    {
     "data": {
      "text/plain": [
       "Channel name    7291\n",
       "AD ID           4606\n",
       "Build Number    2910\n",
       "Serial No       1708\n",
       "Zip               35\n",
       "City              30\n",
       "State             11\n",
       "Email              2\n",
       "Unknown            2\n",
       "Name: id_type, dtype: int64"
      ]
     },
     "execution_count": 99,
     "metadata": {},
     "output_type": "execute_result"
    }
   ],
   "source": [
    "leaks_roku.id_type.value_counts()"
   ]
  },
  {
   "cell_type": "markdown",
   "metadata": {},
   "source": [
    "### Leak location"
   ]
  },
  {
   "cell_type": "code",
   "execution_count": 101,
   "metadata": {},
   "outputs": [
    {
     "data": {
      "text/plain": [
       "url_leaks         15134\n",
       "post_leaks         1268\n",
       "referrer_leaks      183\n",
       "cookie_leaks         10\n",
       "Name: leak_type, dtype: int64"
      ]
     },
     "execution_count": 101,
     "metadata": {},
     "output_type": "execute_result"
    }
   ],
   "source": [
    "leaks_roku.leak_type.value_counts()"
   ]
  },
  {
   "cell_type": "markdown",
   "metadata": {},
   "source": [
    "### Leak encodings"
   ]
  },
  {
   "cell_type": "code",
   "execution_count": 102,
   "metadata": {},
   "outputs": [
    {
     "data": {
      "text/plain": [
       "unencoded    13913\n",
       "md5           1110\n",
       "sha1          1004\n",
       "urlencode      522\n",
       "base64          42\n",
       "sha256           4\n",
       "Name: encoding, dtype: int64"
      ]
     },
     "execution_count": 102,
     "metadata": {},
     "output_type": "execute_result"
    }
   ],
   "source": [
    "leaks_roku.encoding.value_counts()"
   ]
  },
  {
   "cell_type": "code",
   "execution_count": 16,
   "metadata": {},
   "outputs": [],
   "source": [
    "#leaks_amazon.encoding.value_counts()"
   ]
  },
  {
   "cell_type": "code",
   "execution_count": null,
   "metadata": {},
   "outputs": [],
   "source": []
  },
  {
   "cell_type": "markdown",
   "metadata": {},
   "source": [
    "### Manual investigation of domains"
   ]
  },
  {
   "cell_type": "code",
   "execution_count": 85,
   "metadata": {},
   "outputs": [
    {
     "data": {
      "text/plain": [
       "array([u'http://api.myspotlight.tv/vmap/5c83418097f815b71495ef07/1280/720?secure=true&app_idfa=ded0f0e3-b3aa-59a2-a143-f6c1157a7ae8&device_make=Roku&device_model=3900X&app_name=American%20Beauty%20Star&device_type=roku&app_id=200404&app_url=https://channelstore.roku.com/details/200404/american-beauty-starapp_version=28.6&app_bundle=com.roku.americanbeautystar',\n",
       "       u'http://api.myspotlight.tv/vmap/5cccb8d699f8158e06c89a80/1280/720?secure=true&app_idfa=ded0f0e3-b3aa-59a2-a143-f6c1157a7ae8&device_make=Roku&device_model=3900X&app_name=vikings&device_type=roku&app_id=176822&app_url=https://channelstore.roku.com/details/176822/minnesota-vikingsapp_version=31.4&app_bundle=com.roku.vikings',\n",
       "       u'http://api.myspotlight.tv/vmap/5cccbfdb99f815fc0dc89a82/1280/720?secure=true&app_idfa=ded0f0e3-b3aa-59a2-a143-f6c1157a7ae8&device_make=Roku&device_model=3900X&app_name=vikings&device_type=roku&app_id=176822&app_url=https://channelstore.roku.com/details/176822/minnesota-vikingsapp_version=31.4&app_bundle=com.roku.vikings',\n",
       "       u'http://api.myspotlight.tv/vmap/5cccc48b98f815bb77264fdb/1280/720?secure=true&app_idfa=ded0f0e3-b3aa-59a2-a143-f6c1157a7ae8&device_make=Roku&device_model=3900X&app_name=vikings&device_type=roku&app_id=176822&app_url=https://channelstore.roku.com/details/176822/minnesota-vikingsapp_version=31.4&app_bundle=com.roku.vikings',\n",
       "       u'http://api.myspotlight.tv/vmap/5aa09f3b98f815d46cda8f1b/1280/720?secure=true&app_idfa=ded0f0e3-b3aa-59a2-a143-f6c1157a7ae8&device_make=Roku&device_model=3900X&app_name=The%20Killer%20Movie%20Channel&device_type=roku&app_id=225473&app_url=https://channelstore.roku.com/details/225473/the-killer-movie-channelapp_version=12.1&app_bundle=com.roku.killermoviechannel',\n",
       "       u'http://api.myspotlight.tv/vmap/5c8adf2199f815ed2ea27e39/1280/720?secure=true&app_idfa=ded0f0e3-b3aa-59a2-a143-f6c1157a7ae8&device_make=Roku&device_model=3900X&app_name=pocketwatch&device_type=roku&app_id=261732&app_url=https://channelstore.roku.com/details/261732/pocket.watchapp_version=1.1&app_bundle=com.roku.pocketwatch',\n",
       "       u'http://api.myspotlight.tv/vmap/5c8ae17d98f8157366ce389f/1280/720?secure=true&app_idfa=ded0f0e3-b3aa-59a2-a143-f6c1157a7ae8&device_make=Roku&device_model=3900X&app_name=pocketwatch&device_type=roku&app_id=261732&app_url=https://channelstore.roku.com/details/261732/pocket.watchapp_version=1.1&app_bundle=com.roku.pocketwatch'],\n",
       "      dtype=object)"
      ]
     },
     "execution_count": 85,
     "metadata": {},
     "output_type": "execute_result"
    }
   ],
   "source": [
    "id_leaks_roku[id_leaks_roku.req_domain==\"myspotlight.tv\"].url.unique()"
   ]
  },
  {
   "cell_type": "code",
   "execution_count": 82,
   "metadata": {},
   "outputs": [
    {
     "data": {
      "text/plain": [
       "array([u'http://ads.ewscloud.com/preplay/nb15_film?ad.preroll=1&ad=nb_futuretoday45fawesome&pp2ip=0&cdur=15&app_name=Fawesome.tv&ga_track=1&ad.cust_params=rdid%3Dded0f0e3-b3aa-59a2-a143-f6c1157a7ae8%26app_name%3DFawesome.tv%26bundle_id%3Droku.fawesome.tv%26is_lat%3D0',\n",
       "       u'http://ads.ewscloud.com/preplay/nb15_film?ad.preroll=1&ad=nb_vitormediastandard&pp2ip=0&cdur=15&app_name=Comedy%20Classics&ga_track=1&ad.cust_params=rdid%3Dded0f0e3-b3aa-59a2-a143-f6c1157a7ae8%26app_name%3DComedy%20Classics%26bundle_id%3Dcom.roku.vm-comedy-classics%26is_lat%3D',\n",
       "       u'http://ads.ewscloud.com/preplay/nb15_film?ad.preroll=1&ad=nb_vitormediapremium&pp2ip=0&cdur=15&app_name=freehorrorchannel&ga_track=1&ad.cust_params=rdid%3Dded0f0e3-b3aa-59a2-a143-f6c1157a7ae8%26app_name%3Dfreehorrorchannel%26bundle_id%3Droku.freehorrorchannel%26is_lat%3D',\n",
       "       u'http://ads.ewscloud.com/preplay/nb15_film?ad.preroll=1&ad=nb_vitormediapremium&pp2ip=0&cdur=15&app_name=freemoviesnow&ga_track=1&ad.cust_params=rdid%3Dded0f0e3-b3aa-59a2-a143-f6c1157a7ae8%26app_name%3Dfreemoviesnow%26bundle_id%3Droku.freemoviesnow%26is_lat%3D',\n",
       "       u'http://ads.ewscloud.com/preplay/nb15_film?ad.preroll=1&ad=nb_vitormediapremium&pp2ip=0&cdur=15&app_name=freeflixtonight&ga_track=1&ad.cust_params=rdid%3Dded0f0e3-b3aa-59a2-a143-f6c1157a7ae8%26app_name%3Dfreeflixtonight%26bundle_id%3Droku.freeflixtonight%26is_lat%3D',\n",
       "       u'http://ads.ewscloud.com/preplay/nb15_film?ad.preroll=1&ad=nb_vitormediastandard&pp2ip=0&cdur=15&app_name=HollywoodClassics&ga_track=1&ad.cust_params=rdid%3Dded0f0e3-b3aa-59a2-a143-f6c1157a7ae8%26app_name%3DHollywoodClassics%26bundle_id%3Dcom.roku.vm-hollywood-classics%26is_lat%3D',\n",
       "       u'http://ads.ewscloud.com/preplay/nb15_film?ad.preroll=1&ad=nb_futuretoday45fawesome&pp2ip=0&cdur=15&app_name=Fawesome.tv&ga_track=1&ad.cust_params=rdid%3Dded0f0e3-b3aa-59a2-a143-f6c1157a7ae8%26app_name%3DFawesome.tv%26bundle_id%3Droku.fawesome.tv%26is_lat%3D',\n",
       "       u'http://ads.ewscloud.com/preplay/nb15_film?ad.preroll=1&ad=nb_futuretoday30ftv&pp2ip=0&cdur=15&app_name=Fawesome.tv&ga_track=1&ad.cust_params=rdid%3Dded0f0e3-b3aa-59a2-a143-f6c1157a7ae8%26app_name%3DFawesome.tv%26bundle_id%3Droku.fawesome.tv%26is_lat%3D'],\n",
       "      dtype=object)"
      ]
     },
     "execution_count": 82,
     "metadata": {},
     "output_type": "execute_result"
    }
   ],
   "source": [
    "id_leaks_roku[id_leaks_roku.req_domain == \"ewscloud.com\"].url.unique()"
   ]
  },
  {
   "cell_type": "code",
   "execution_count": 95,
   "metadata": {},
   "outputs": [
    {
     "data": {
      "text/plain": [
       "array([u'http://artofseduction.bigstar.tv/mobile/verifyToken?os=ROKU&device=aa26569d5b22bece2040ee7d92b01a12-YG0080901841&lan=en',\n",
       "       u'http://artofseduction.bigstar.tv/mobile/genres?os=ROKU&device=aa26569d5b22bece2040ee7d92b01a12-YG0080901841&lan=en&avod_min=1',\n",
       "       u'http://artofseduction.bigstar.tv/mobile/movies?os=ROKU&device=aa26569d5b22bece2040ee7d92b01a12-YG0080901841&lan=en&genre=most-popular&limit=30&shortDescription&ph=-1&rp=-1&se=-1&fi=-1&st=-1&lc=-1&ge=-1&du=-1&di=-1&wr=-1&ca=-1&ma=-1&hd=-1&sl=-1&vi=-1&li=-1&rd=-1&fe=-1&rt=-1&ra=-1&xml&ao=true&po=false',\n",
       "       u'http://artofseduction.bigstar.tv/mobile/userInfo?os=ROKU&device=aa26569d5b22bece2040ee7d92b01a12-YG0080901841&lan=en',\n",
       "       u'http://artofseduction.bigstar.tv/mobile/userMovieDetails?os=ROKU&device=aa26569d5b22bece2040ee7d92b01a12-YG0080901841&lan=en&film=18204',\n",
       "       u'http://artofseduction.bigstar.tv/mobile/movies?os=ROKU&device=aa26569d5b22bece2040ee7d92b01a12-YG0080901841&lan=en&noAdultFilter&shortDescription&xmdl&i=18204&su=1',\n",
       "       u'http://artofseduction.bigstar.tv/mobile/movies?os=ROKU&device=aa26569d5b22bece2040ee7d92b01a12-YG0080901841&lan=en&genre=award-winning&limit=30&shortDescription&ph=-1&rp=-1&se=-1&fi=-1&st=-1&lc=-1&ge=-1&du=-1&di=-1&wr=-1&ca=-1&ma=-1&hd=-1&sl=-1&vi=-1&li=-1&rd=-1&fe=-1&rt=-1&ra=-1&xml&ao=true&po=false',\n",
       "       u'http://artofseduction.bigstar.tv/mobile/movies?os=ROKU&device=aa26569d5b22bece2040ee7d92b01a12-YG0080901841&lan=en&genre=romance&limit=30&shortDescription&ph=-1&rp=-1&se=-1&fi=-1&st=-1&lc=-1&ge=-1&du=-1&di=-1&wr=-1&ca=-1&ma=-1&hd=-1&sl=-1&vi=-1&li=-1&rd=-1&fe=-1&rt=-1&ra=-1&xml&ao=true&po=false',\n",
       "       u'http://artofseduction.bigstar.tv/mobile/movies?os=ROKU&device=aa26569d5b22bece2040ee7d92b01a12-YG0080901841&lan=en&genre=playboy-tv&limit=30&shortDescription&ph=-1&rp=-1&se=-1&fi=-1&st=-1&lc=-1&ge=-1&du=-1&di=-1&wr=-1&ca=-1&ma=-1&hd=-1&sl=-1&vi=-1&li=-1&rd=-1&fe=-1&rt=-1&ra=-1&xml&ao=true&po=false',\n",
       "       u'http://artofseduction.bigstar.tv/mobile/movies?os=ROKU&device=aa26569d5b22bece2040ee7d92b01a12-YG0080901841&lan=en&genre=mystery-and-crime&limit=30&shortDescription&ph=-1&rp=-1&se=-1&fi=-1&st=-1&lc=-1&ge=-1&du=-1&di=-1&wr=-1&ca=-1&ma=-1&hd=-1&sl=-1&vi=-1&li=-1&rd=-1&fe=-1&rt=-1&ra=-1&xml&ao=true&po=false',\n",
       "       u'http://artofseduction.bigstar.tv/mobile/movies?os=ROKU&device=aa26569d5b22bece2040ee7d92b01a12-YG0080901841&lan=en&genre=gay-and-lesbian&limit=30&shortDescription&ph=-1&rp=-1&se=-1&fi=-1&st=-1&lc=-1&ge=-1&du=-1&di=-1&wr=-1&ca=-1&ma=-1&hd=-1&sl=-1&vi=-1&li=-1&rd=-1&fe=-1&rt=-1&ra=-1&xml&ao=true&po=false',\n",
       "       u'http://artofseduction.bigstar.tv/mobile/movies?os=ROKU&device=aa26569d5b22bece2040ee7d92b01a12-YG0080901841&lan=en&genre=documentary&limit=30&shortDescription&ph=-1&rp=-1&se=-1&fi=-1&st=-1&lc=-1&ge=-1&du=-1&di=-1&wr=-1&ca=-1&ma=-1&hd=-1&sl=-1&vi=-1&li=-1&rd=-1&fe=-1&rt=-1&ra=-1&xml&ao=true&po=false',\n",
       "       u'http://artofseduction.bigstar.tv/mobile/movies?os=ROKU&device=aa26569d5b22bece2040ee7d92b01a12-YG0080901841&lan=en&genre=comedy&limit=30&shortDescription&ph=-1&rp=-1&se=-1&fi=-1&st=-1&lc=-1&ge=-1&du=-1&di=-1&wr=-1&ca=-1&ma=-1&hd=-1&sl=-1&vi=-1&li=-1&rd=-1&fe=-1&rt=-1&ra=-1&xml&ao=true&po=false',\n",
       "       u'http://artofseduction.bigstar.tv/mobile/movies?os=ROKU&device=aa26569d5b22bece2040ee7d92b01a12-YG0080901841&lan=en&genre=tv-episodes&limit=30&shortDescription&ph=-1&rp=-1&se=-1&fi=-1&st=-1&lc=-1&ge=-1&du=-1&di=-1&wr=-1&ca=-1&ma=-1&hd=-1&sl=-1&vi=-1&li=-1&rd=-1&fe=-1&rt=-1&ra=-1&xml&ao=true&po=false',\n",
       "       u'http://artofseduction.bigstar.tv/mobile/movies?os=ROKU&device=aa26569d5b22bece2040ee7d92b01a12-YG0080901841&lan=en&genre=recently-added&limit=30&shortDescription&ph=-1&rp=-1&se=-1&fi=-1&st=-1&lc=-1&ge=-1&du=-1&di=-1&wr=-1&ca=-1&ma=-1&hd=-1&sl=-1&vi=-1&li=-1&rd=-1&fe=-1&rt=-1&ra=-1&xml&ao=true&po=false',\n",
       "       u'http://artofseduction.bigstar.tv/mobile/movies?os=ROKU&device=aa26569d5b22bece2040ee7d92b01a12-YG0080901841&lan=en&genre=world-cinema&limit=30&shortDescription&ph=-1&rp=-1&se=-1&fi=-1&st=-1&lc=-1&ge=-1&du=-1&di=-1&wr=-1&ca=-1&ma=-1&hd=-1&sl=-1&vi=-1&li=-1&rd=-1&fe=-1&rt=-1&ra=-1&xml&ao=true&po=false',\n",
       "       u'http://artofseduction.bigstar.tv/mobile/featuredFilms?os=ROKU&device=aa26569d5b22bece2040ee7d92b01a12-YG0080901841&lan=en&df=-1&ep=1&id=1&ti=1&de=1&se=1&ir=1&rp=1&th=1&fi=1&fw=1&fs=1&limit=3&all=films&app_version=2&xml',\n",
       "       u'http://artofseduction.bigstar.tv/mobile/unlinkDevice?os=ROKU&device=YG0080901841-unlinked&lan=en',\n",
       "       u'http://artofseduction.bigstar.tv/mobile/verifyToken?os=ROKU&device=YG0080901841-unlinked&lan=en',\n",
       "       u'http://artofseduction.bigstar.tv/mobile/generateDeviceID?os=ROKU&device=YG0080901841-unlinked&lan=en',\n",
       "       u'http://www.bigstar.tv/mobile/featuredFilms?os=ROKU&device=cc35f0315a59eb926b433c6da4655428-YG0080901841&lan=en&df=-1&ep=1&id=1&ti=1&de=1&se=1&ir=1&rp=1&th=1&fi=1&fw=1&fs=1&limit=3&all=films&app_version=2&xml',\n",
       "       u'http://www.bigstar.tv/mobile/verifyToken?os=ROKU&device=cc35f0315a59eb926b433c6da4655428-YG0080901841&lan=en',\n",
       "       u'http://www.bigstar.tv/mobile/movies?os=ROKU&device=cc35f0315a59eb926b433c6da4655428-YG0080901841&lan=en&genre=faith-and-inspirational&limit=30&shortDescription&ph=-1&rp=-1&se=-1&fi=-1&st=-1&lc=-1&ge=-1&du=-1&di=-1&wr=-1&ca=-1&ma=-1&hd=-1&sl=-1&vi=-1&li=-1&rd=-1&fe=-1&rt=-1&ra=-1&xml&ao=true&po=false',\n",
       "       u'http://www.bigstar.tv/mobile/movies?os=ROKU&device=cc35f0315a59eb926b433c6da4655428-YG0080901841&lan=en&genre=educational&limit=30&shortDescription&ph=-1&rp=-1&se=-1&fi=-1&st=-1&lc=-1&ge=-1&du=-1&di=-1&wr=-1&ca=-1&ma=-1&hd=-1&sl=-1&vi=-1&li=-1&rd=-1&fe=-1&rt=-1&ra=-1&xml&ao=true&po=false',\n",
       "       u'http://www.bigstar.tv/mobile/movies?os=ROKU&device=cc35f0315a59eb926b433c6da4655428-YG0080901841&lan=en&genre=drama&limit=30&shortDescription&ph=-1&rp=-1&se=-1&fi=-1&st=-1&lc=-1&ge=-1&du=-1&di=-1&wr=-1&ca=-1&ma=-1&hd=-1&sl=-1&vi=-1&li=-1&rd=-1&fe=-1&rt=-1&ra=-1&xml&ao=true&po=false',\n",
       "       u'http://www.bigstar.tv/mobile/movies?os=ROKU&device=cc35f0315a59eb926b433c6da4655428-YG0080901841&lan=en&genre=documentary&limit=30&shortDescription&ph=-1&rp=-1&se=-1&fi=-1&st=-1&lc=-1&ge=-1&du=-1&di=-1&wr=-1&ca=-1&ma=-1&hd=-1&sl=-1&vi=-1&li=-1&rd=-1&fe=-1&rt=-1&ra=-1&xml&ao=true&po=false',\n",
       "       u'http://www.bigstar.tv/mobile/movies?os=ROKU&device=cc35f0315a59eb926b433c6da4655428-YG0080901841&lan=en&genre=award-winning&limit=30&shortDescription&ph=-1&rp=-1&se=-1&fi=-1&st=-1&lc=-1&ge=-1&du=-1&di=-1&wr=-1&ca=-1&ma=-1&hd=-1&sl=-1&vi=-1&li=-1&rd=-1&fe=-1&rt=-1&ra=-1&xml&ao=true&po=false',\n",
       "       u'http://www.bigstar.tv/mobile/movies?os=ROKU&device=cc35f0315a59eb926b433c6da4655428-YG0080901841&lan=en&genre=comedy&limit=30&shortDescription&ph=-1&rp=-1&se=-1&fi=-1&st=-1&lc=-1&ge=-1&du=-1&di=-1&wr=-1&ca=-1&ma=-1&hd=-1&sl=-1&vi=-1&li=-1&rd=-1&fe=-1&rt=-1&ra=-1&xml&ao=true&po=false',\n",
       "       u'http://www.bigstar.tv/mobile/genres?os=ROKU&device=cc35f0315a59eb926b433c6da4655428-YG0080901841&lan=en&avod_min=1',\n",
       "       u'http://www.bigstar.tv/mobile/movies?os=ROKU&device=cc35f0315a59eb926b433c6da4655428-YG0080901841&lan=en&genre=classics&limit=30&shortDescription&ph=-1&rp=-1&se=-1&fi=-1&st=-1&lc=-1&ge=-1&du=-1&di=-1&wr=-1&ca=-1&ma=-1&hd=-1&sl=-1&vi=-1&li=-1&rd=-1&fe=-1&rt=-1&ra=-1&xml&ao=true&po=false',\n",
       "       u'http://www.bigstar.tv/mobile/movies?os=ROKU&device=cc35f0315a59eb926b433c6da4655428-YG0080901841&lan=en&genre=biography&limit=30&shortDescription&ph=-1&rp=-1&se=-1&fi=-1&st=-1&lc=-1&ge=-1&du=-1&di=-1&wr=-1&ca=-1&ma=-1&hd=-1&sl=-1&vi=-1&li=-1&rd=-1&fe=-1&rt=-1&ra=-1&xml&ao=true&po=false',\n",
       "       u'http://www.bigstar.tv/mobile/movies?os=ROKU&device=cc35f0315a59eb926b433c6da4655428-YG0080901841&lan=en&genre=animation&limit=30&shortDescription&ph=-1&rp=-1&se=-1&fi=-1&st=-1&lc=-1&ge=-1&du=-1&di=-1&wr=-1&ca=-1&ma=-1&hd=-1&sl=-1&vi=-1&li=-1&rd=-1&fe=-1&rt=-1&ra=-1&xml&ao=true&po=false',\n",
       "       u'http://www.bigstar.tv/mobile/movies?os=ROKU&device=cc35f0315a59eb926b433c6da4655428-YG0080901841&lan=en&genre=action-and-adventure&limit=30&shortDescription&ph=-1&rp=-1&se=-1&fi=-1&st=-1&lc=-1&ge=-1&du=-1&di=-1&wr=-1&ca=-1&ma=-1&hd=-1&sl=-1&vi=-1&li=-1&rd=-1&fe=-1&rt=-1&ra=-1&xml&ao=true&po=false',\n",
       "       u'http://www.bigstar.tv/mobile/movies?os=ROKU&device=cc35f0315a59eb926b433c6da4655428-YG0080901841&lan=en&genre=tv-episodes&limit=30&shortDescription&ph=-1&rp=-1&se=-1&fi=-1&st=-1&lc=-1&ge=-1&du=-1&di=-1&wr=-1&ca=-1&ma=-1&hd=-1&sl=-1&vi=-1&li=-1&rd=-1&fe=-1&rt=-1&ra=-1&xml&ao=true&po=false',\n",
       "       u'http://www.bigstar.tv/mobile/movies?os=ROKU&device=cc35f0315a59eb926b433c6da4655428-YG0080901841&lan=en&genre=recently-added&limit=30&shortDescription&ph=-1&rp=-1&se=-1&fi=-1&st=-1&lc=-1&ge=-1&du=-1&di=-1&wr=-1&ca=-1&ma=-1&hd=-1&sl=-1&vi=-1&li=-1&rd=-1&fe=-1&rt=-1&ra=-1&xml&ao=true&po=false',\n",
       "       u'http://www.bigstar.tv/mobile/movies?os=ROKU&device=cc35f0315a59eb926b433c6da4655428-YG0080901841&lan=en&genre=most-popular&limit=30&shortDescription&ph=-1&rp=-1&se=-1&fi=-1&st=-1&lc=-1&ge=-1&du=-1&di=-1&wr=-1&ca=-1&ma=-1&hd=-1&sl=-1&vi=-1&li=-1&rd=-1&fe=-1&rt=-1&ra=-1&xml&ao=true&po=false',\n",
       "       u'http://www.bigstar.tv/mobile/movies?os=ROKU&device=cc35f0315a59eb926b433c6da4655428-YG0080901841&lan=en&genre=children-and-family&limit=30&shortDescription&ph=-1&rp=-1&se=-1&fi=-1&st=-1&lc=-1&ge=-1&du=-1&di=-1&wr=-1&ca=-1&ma=-1&hd=-1&sl=-1&vi=-1&li=-1&rd=-1&fe=-1&rt=-1&ra=-1&xml&ao=true&po=false',\n",
       "       u'http://www.bigstar.tv/mobile/movies?os=ROKU&device=cc35f0315a59eb926b433c6da4655428-YG0080901841&lan=en&genre=foreign&limit=30&shortDescription&ph=-1&rp=-1&se=-1&fi=-1&st=-1&lc=-1&ge=-1&du=-1&di=-1&wr=-1&ca=-1&ma=-1&hd=-1&sl=-1&vi=-1&li=-1&rd=-1&fe=-1&rt=-1&ra=-1&xml&ao=true&po=false',\n",
       "       u'http://www.bigstar.tv/mobile/movies?os=ROKU&device=cc35f0315a59eb926b433c6da4655428-YG0080901841&lan=en&genre=film-noir&limit=30&shortDescription&ph=-1&rp=-1&se=-1&fi=-1&st=-1&lc=-1&ge=-1&du=-1&di=-1&wr=-1&ca=-1&ma=-1&hd=-1&sl=-1&vi=-1&li=-1&rd=-1&fe=-1&rt=-1&ra=-1&xml&ao=true&po=false',\n",
       "       u'http://www.bigstar.tv/mobile/movies?os=ROKU&device=cc35f0315a59eb926b433c6da4655428-YG0080901841&lan=en&genre=animals-pets&limit=30&shortDescription&ph=-1&rp=-1&se=-1&fi=-1&st=-1&lc=-1&ge=-1&du=-1&di=-1&wr=-1&ca=-1&ma=-1&hd=-1&sl=-1&vi=-1&li=-1&rd=-1&fe=-1&rt=-1&ra=-1&xml&ao=true&po=false',\n",
       "       u'http://www.bigstar.tv/mobile/verifyToken?os=ROKU&device=YG0080901841-unlinked&lan=en',\n",
       "       u'http://www.bigstar.tv/mobile/unlinkDevice?os=ROKU&device=YG0080901841-unlinked&lan=en',\n",
       "       u'http://www.bigstar.tv/mobile/userInfo?os=ROKU&device=cc35f0315a59eb926b433c6da4655428-YG0080901841&lan=en',\n",
       "       u'http://www.bigstar.tv/mobile/generateDeviceID?os=ROKU&device=YG0080901841-unlinked&lan=en',\n",
       "       u'http://www.bigstar.tv/mobile/userMovieDetails?os=ROKU&device=cc35f0315a59eb926b433c6da4655428-YG0080901841&lan=en&film=18783',\n",
       "       u'http://www.bigstar.tv/mobile/movies?os=ROKU&device=cc35f0315a59eb926b433c6da4655428-YG0080901841&lan=en&noAdultFilter&shortDescription&xmdl&i=18783&su=1',\n",
       "       u'http://blackfilm.bigstar.tv/mobile/movies?os=ROKU&device=f605efa241fcb2d9f2f69462e7e9b54a-YG0080901841&lan=en&genre=tv-episodes&limit=30&shortDescription&ph=-1&rp=-1&se=-1&fi=-1&st=-1&lc=-1&ge=-1&du=-1&di=-1&wr=-1&ca=-1&ma=-1&hd=-1&sl=-1&vi=-1&li=-1&rd=-1&fe=-1&rt=-1&ra=-1&xml&ao=true&po=false',\n",
       "       u'http://blackfilm.bigstar.tv/mobile/movies?os=ROKU&device=f605efa241fcb2d9f2f69462e7e9b54a-YG0080901841&lan=en&genre=drama&limit=30&shortDescription&ph=-1&rp=-1&se=-1&fi=-1&st=-1&lc=-1&ge=-1&du=-1&di=-1&wr=-1&ca=-1&ma=-1&hd=-1&sl=-1&vi=-1&li=-1&rd=-1&fe=-1&rt=-1&ra=-1&xml&ao=true&po=false',\n",
       "       u'http://blackfilm.bigstar.tv/mobile/movies?os=ROKU&device=f605efa241fcb2d9f2f69462e7e9b54a-YG0080901841&lan=en&genre=mystery-and-crime&limit=30&shortDescription&ph=-1&rp=-1&se=-1&fi=-1&st=-1&lc=-1&ge=-1&du=-1&di=-1&wr=-1&ca=-1&ma=-1&hd=-1&sl=-1&vi=-1&li=-1&rd=-1&fe=-1&rt=-1&ra=-1&xml&ao=true&po=false',\n",
       "       u'http://blackfilm.bigstar.tv/mobile/movies?os=ROKU&device=f605efa241fcb2d9f2f69462e7e9b54a-YG0080901841&lan=en&genre=retro-afrika-bioscope&limit=30&shortDescription&ph=-1&rp=-1&se=-1&fi=-1&st=-1&lc=-1&ge=-1&du=-1&di=-1&wr=-1&ca=-1&ma=-1&hd=-1&sl=-1&vi=-1&li=-1&rd=-1&fe=-1&rt=-1&ra=-1&xml&ao=true&po=false',\n",
       "       u'http://blackfilm.bigstar.tv/mobile/movies?os=ROKU&device=f605efa241fcb2d9f2f69462e7e9b54a-YG0080901841&lan=en&genre=romance&limit=30&shortDescription&ph=-1&rp=-1&se=-1&fi=-1&st=-1&lc=-1&ge=-1&du=-1&di=-1&wr=-1&ca=-1&ma=-1&hd=-1&sl=-1&vi=-1&li=-1&rd=-1&fe=-1&rt=-1&ra=-1&xml&ao=true&po=false',\n",
       "       u'http://blackfilm.bigstar.tv/mobile/movies?os=ROKU&device=f605efa241fcb2d9f2f69462e7e9b54a-YG0080901841&lan=en&genre=comedy&limit=30&shortDescription&ph=-1&rp=-1&se=-1&fi=-1&st=-1&lc=-1&ge=-1&du=-1&di=-1&wr=-1&ca=-1&ma=-1&hd=-1&sl=-1&vi=-1&li=-1&rd=-1&fe=-1&rt=-1&ra=-1&xml&ao=true&po=false',\n",
       "       u'http://blackfilm.bigstar.tv/mobile/movies?os=ROKU&device=f605efa241fcb2d9f2f69462e7e9b54a-YG0080901841&lan=en&genre=action-and-adventure&limit=30&shortDescription&ph=-1&rp=-1&se=-1&fi=-1&st=-1&lc=-1&ge=-1&du=-1&di=-1&wr=-1&ca=-1&ma=-1&hd=-1&sl=-1&vi=-1&li=-1&rd=-1&fe=-1&rt=-1&ra=-1&xml&ao=true&po=false',\n",
       "       u'http://blackfilm.bigstar.tv/mobile/movies?os=ROKU&device=f605efa241fcb2d9f2f69462e7e9b54a-YG0080901841&lan=en&genre=recently-added&limit=30&shortDescription&ph=-1&rp=-1&se=-1&fi=-1&st=-1&lc=-1&ge=-1&du=-1&di=-1&wr=-1&ca=-1&ma=-1&hd=-1&sl=-1&vi=-1&li=-1&rd=-1&fe=-1&rt=-1&ra=-1&xml&ao=true&po=false',\n",
       "       u'http://blackfilm.bigstar.tv/mobile/movies?os=ROKU&device=f605efa241fcb2d9f2f69462e7e9b54a-YG0080901841&lan=en&genre=most-popular&limit=30&shortDescription&ph=-1&rp=-1&se=-1&fi=-1&st=-1&lc=-1&ge=-1&du=-1&di=-1&wr=-1&ca=-1&ma=-1&hd=-1&sl=-1&vi=-1&li=-1&rd=-1&fe=-1&rt=-1&ra=-1&xml&ao=true&po=false',\n",
       "       u'http://blackfilm.bigstar.tv/mobile/movies?os=ROKU&device=f605efa241fcb2d9f2f69462e7e9b54a-YG0080901841&lan=en&genre=award-winning&limit=30&shortDescription&ph=-1&rp=-1&se=-1&fi=-1&st=-1&lc=-1&ge=-1&du=-1&di=-1&wr=-1&ca=-1&ma=-1&hd=-1&sl=-1&vi=-1&li=-1&rd=-1&fe=-1&rt=-1&ra=-1&xml&ao=true&po=false',\n",
       "       u'http://blackfilm.bigstar.tv/mobile/movies?os=ROKU&device=f605efa241fcb2d9f2f69462e7e9b54a-YG0080901841&lan=en&genre=documentary&limit=30&shortDescription&ph=-1&rp=-1&se=-1&fi=-1&st=-1&lc=-1&ge=-1&du=-1&di=-1&wr=-1&ca=-1&ma=-1&hd=-1&sl=-1&vi=-1&li=-1&rd=-1&fe=-1&rt=-1&ra=-1&xml&ao=true&po=false',\n",
       "       u'http://blackfilm.bigstar.tv/mobile/genres?os=ROKU&device=f605efa241fcb2d9f2f69462e7e9b54a-YG0080901841&lan=en&avod_min=1',\n",
       "       u'http://blackfilm.bigstar.tv/mobile/movies?os=ROKU&device=f605efa241fcb2d9f2f69462e7e9b54a-YG0080901841&lan=en&genre=world-cinema&limit=30&shortDescription&ph=-1&rp=-1&se=-1&fi=-1&st=-1&lc=-1&ge=-1&du=-1&di=-1&wr=-1&ca=-1&ma=-1&hd=-1&sl=-1&vi=-1&li=-1&rd=-1&fe=-1&rt=-1&ra=-1&xml&ao=true&po=false',\n",
       "       u'http://blackfilm.bigstar.tv/mobile/featuredFilms?os=ROKU&device=f605efa241fcb2d9f2f69462e7e9b54a-YG0080901841&lan=en&df=-1&ep=1&id=1&ti=1&de=1&se=1&ir=1&rp=1&th=1&fi=1&fw=1&fs=1&limit=3&all=films&app_version=2&xml',\n",
       "       u'http://blackfilm.bigstar.tv/mobile/verifyToken?os=ROKU&device=f605efa241fcb2d9f2f69462e7e9b54a-YG0080901841&lan=en',\n",
       "       u'http://blackfilm.bigstar.tv/mobile/userMovieDetails?os=ROKU&device=f605efa241fcb2d9f2f69462e7e9b54a-YG0080901841&lan=en&film=18784',\n",
       "       u'http://blackfilm.bigstar.tv/mobile/movies?os=ROKU&device=f605efa241fcb2d9f2f69462e7e9b54a-YG0080901841&lan=en&noAdultFilter&shortDescription&xmdl&i=18784&su=1',\n",
       "       u'http://blackfilm.bigstar.tv/mobile/movies?os=ROKU&device=f605efa241fcb2d9f2f69462e7e9b54a-YG0080901841&lan=en&noAdultFilter&shortDescription&i=18754&su=1',\n",
       "       u'http://blackfilm.bigstar.tv/mobile/generateDeviceID?os=ROKU&device=YG0080901841-unlinked&lan=en',\n",
       "       u'http://blackfilm.bigstar.tv/mobile/verifyToken?os=ROKU&device=YG0080901841-unlinked&lan=en',\n",
       "       u'http://blackfilm.bigstar.tv/mobile/unlinkDevice?os=ROKU&device=YG0080901841-unlinked&lan=en',\n",
       "       u'http://blackfilm.bigstar.tv/mobile/userInfo?os=ROKU&device=f605efa241fcb2d9f2f69462e7e9b54a-YG0080901841&lan=en',\n",
       "       u'http://blackfilm.bigstar.tv/mobile/userMovieDetails?os=ROKU&device=f605efa241fcb2d9f2f69462e7e9b54a-YG0080901841&lan=en&film=18754'],\n",
       "      dtype=object)"
      ]
     },
     "execution_count": 95,
     "metadata": {},
     "output_type": "execute_result"
    }
   ],
   "source": [
    "id_leaks_roku[id_leaks_roku.req_domain == \"bigstar.tv\"].url.unique()"
   ]
  }
 ],
 "metadata": {
  "kernelspec": {
   "display_name": "Python 2",
   "language": "python",
   "name": "python2"
  },
  "language_info": {
   "codemirror_mode": {
    "name": "ipython",
    "version": 2
   },
   "file_extension": ".py",
   "mimetype": "text/x-python",
   "name": "python",
   "nbconvert_exporter": "python",
   "pygments_lexer": "ipython2",
   "version": "2.7.15rc1"
  }
 },
 "nbformat": 4,
 "nbformat_minor": 2
}
