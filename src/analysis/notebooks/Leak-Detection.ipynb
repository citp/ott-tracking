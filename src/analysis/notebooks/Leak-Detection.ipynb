{
 "cells": [
  {
   "cell_type": "code",
   "execution_count": 1,
   "metadata": {},
   "outputs": [],
   "source": [
    "import LeakDetector\n",
    "import numpy as np\n",
    "import pandas as pd\n",
    "from log_analysis import (load_dns_data, load_timestamps_from_crawl_data,\n",
    "                          get_distinct_tcp_conns,\n",
    "                          get_crawl_status, get_http_df, get_http2_df)\n",
    "\n",
    "from os.path import isdir, join, basename\n",
    "from datetime import datetime\n",
    "from glob import glob\n",
    "\n",
    "AMAZON_CRAWL = 'amazon-data-20190415-124534'\n",
    "ROKU_CRAWL = 'roku-data-20190412-122224'\n",
    "\n",
    "ROOT_CRAWL_DIR = '/mnt/iot-house/crawl-data/'\n",
    "if not isdir(ROOT_CRAWL_DIR):\n",
    "    # ROOT_CRAWL_DIR = '/media/gacar/Data/iot-house/crawl-data/'\n",
    "    ROOT_CRAWL_DIR = '/home/gacar/dev/smart-tv/data'\n",
    "\n",
    "crawl_data_dir_amazon = join(ROOT_CRAWL_DIR, AMAZON_CRAWL)\n",
    "crawl_data_dir_roku = join(ROOT_CRAWL_DIR, ROKU_CRAWL)\n",
    "\n",
    "crawl_data_dirs = {\n",
    "    \"Amazon\": crawl_data_dir_amazon,\n",
    "    \"Roku\": crawl_data_dir_roku,\n",
    "}"
   ]
  },
  {
   "cell_type": "code",
   "execution_count": 2,
   "metadata": {},
   "outputs": [],
   "source": [
    "# TODO: update the IDs\n",
    "ROKU_IDS = {\n",
    "    \"Serial No\": \"YG0080901841\",\n",
    "    \"AD ID\": \"ded0f0e3-b3aa-59a2-a143-f6c1157a7ae8\",\n",
    "    \"Device ID\": \"C33858901841\",\n",
    "    \"MAC\": \"d8:31:34:22:e6:ff\",\n",
    "    \"City\": \"Princeton\",\n",
    "    \"State\": \"New Jersey\",\n",
    "    \"Zip\": \"08540\",\n",
    "    \"Email\": \"macyli47@gmail.com\",\n",
    "    \"Password\": \"RoheuskEdfekJa3\",\n",
    "    \"Build Number\": \"519.00E04142A\",\n",
    "    \"Device Name\": \"Office tv\",\n",
    "    \"Wifi SSID\": \"IoT-Pi-3-2\",\n",
    "}\n",
    "\n",
    "# TODO: ADD AD ID\n",
    "AMAZON_IDS = {\n",
    "    \"MAC\": \"68:9a:87:20:3d:1d\",\n",
    "    \"AD ID\": \"05baacb6-acdf-4e18-84cd-ae78eab7e081\",\n",
    "    \"Device name\": \"Macy's 4th Fire TV Stick\",\n",
    "    \"Amazon account\": \"Macy Li\",\n",
    "    \"Serial No\": \"G070L82185152J8P\",\n",
    "    \"City\": \"Princeton\",\n",
    "    \"State\": \"New Jersey\",\n",
    "    \"Zip\": \"08540\",\n",
    "    \"Software version\": \"Fire OS 5.2.6.9 (6325552020)\",\n",
    "    \"Email\": \"macyli47@gmail.com\",\n",
    "    \"Password\": \"M888777\",\n",
    "    \"Wifi SSID\": \"IoT-Pi-1\",\n",
    "}\n",
    "\n",
    "detector_roku = LeakDetector.LeakDetector(\n",
    "    ROKU_IDS.values(), encoding_set=LeakDetector.ENCODINGS_NO_ROT,\n",
    "    encoding_layers=2, hash_layers=2, debugging=False\n",
    ")\n"
   ]
  },
  {
   "cell_type": "code",
   "execution_count": 3,
   "metadata": {},
   "outputs": [
    {
     "name": "stdout",
     "output_type": "stream",
     "text": [
      "('Will load HTTP dataframe for', '/home/gacar/dev/smart-tv/data/roku-data-20190412-122224')\n"
     ]
    },
    {
     "name": "stderr",
     "output_type": "stream",
     "text": [
      "/home/gacar/.local/lib/python2.7/site-packages/pandas/core/frame.py:6211: FutureWarning: Sorting because non-concatenation axis is not aligned. A future version\n",
      "of pandas will change to not sort by default.\n",
      "\n",
      "To accept the future behavior, pass 'sort=False'.\n",
      "\n",
      "To retain the current behavior and silence the warning, pass 'sort=True'.\n",
      "\n",
      "  sort=sort)\n"
     ]
    },
    {
     "name": "stdout",
     "output_type": "stream",
     "text": [
      "('Multiple messages', 402)\n",
      "('Will load HTTP dataframe for', '/home/gacar/dev/smart-tv/data/amazon-data-20190415-124534')\n",
      "('Multiple messages', 47)\n",
      "('Decode errors', 103)\n",
      "('channels', set(['com.dotstudioz.dotstudioPRO.abstv']))\n"
     ]
    }
   ],
   "source": [
    "requests_roku, responses_roku, dns_df_roku = get_http_df(crawl_data_dir_roku)\n",
    "requests_amazon, responses_amazon, dns_df_amazon = get_http_df(crawl_data_dir_amazon)"
   ]
  },
  {
   "cell_type": "code",
   "execution_count": 4,
   "metadata": {},
   "outputs": [
    {
     "name": "stdout",
     "output_type": "stream",
     "text": [
      "(34345, 14589)\n"
     ]
    }
   ],
   "source": [
    "print(len(requests_roku), len(requests_amazon))"
   ]
  },
  {
   "cell_type": "code",
   "execution_count": 5,
   "metadata": {},
   "outputs": [
    {
     "data": {
      "text/html": [
       "<div>\n",
       "<style scoped>\n",
       "    .dataframe tbody tr th:only-of-type {\n",
       "        vertical-align: middle;\n",
       "    }\n",
       "\n",
       "    .dataframe tbody tr th {\n",
       "        vertical-align: top;\n",
       "    }\n",
       "\n",
       "    .dataframe thead th {\n",
       "        text-align: right;\n",
       "    }\n",
       "</style>\n",
       "<table border=\"1\" class=\"dataframe\">\n",
       "  <thead>\n",
       "    <tr style=\"text-align: right;\">\n",
       "      <th></th>\n",
       "      <th>channel_id</th>\n",
       "      <th>time</th>\n",
       "      <th>cookie</th>\n",
       "      <th>post_data</th>\n",
       "      <th>host</th>\n",
       "      <th>referer</th>\n",
       "      <th>url</th>\n",
       "      <th>method</th>\n",
       "      <th>user_agent</th>\n",
       "      <th>ip_dst</th>\n",
       "      <th>tcp_dstport</th>\n",
       "      <th>tcp_stream</th>\n",
       "      <th>http2</th>\n",
       "      <th>http2_type</th>\n",
       "      <th>host_by_dns</th>\n",
       "      <th>channel_name</th>\n",
       "      <th>rank</th>\n",
       "      <th>category</th>\n",
       "      <th>decoded_data</th>\n",
       "    </tr>\n",
       "  </thead>\n",
       "  <tbody>\n",
       "    <tr>\n",
       "      <th>0</th>\n",
       "      <td>73376</td>\n",
       "      <td>1555110679.099763000</td>\n",
       "      <td></td>\n",
       "      <td></td>\n",
       "      <td>b.scorecardresearch.com</td>\n",
       "      <td></td>\n",
       "      <td>http://b.scorecardresearch.com/p2?c1=19&amp;c2=153...</td>\n",
       "      <td>GET</td>\n",
       "      <td>Roku/DVP-9.0 (519.00E04142A)</td>\n",
       "      <td>204.153.49.131</td>\n",
       "      <td>80</td>\n",
       "      <td>65</td>\n",
       "      <td>False</td>\n",
       "      <td></td>\n",
       "      <td>b.scorecardresearch.com</td>\n",
       "      <td>ABC</td>\n",
       "      <td>34</td>\n",
       "      <td>movies-tvs</td>\n",
       "      <td></td>\n",
       "    </tr>\n",
       "    <tr>\n",
       "      <th>1</th>\n",
       "      <td>73376</td>\n",
       "      <td>1555110690.626828000</td>\n",
       "      <td></td>\n",
       "      <td></td>\n",
       "      <td>b.scorecardresearch.com</td>\n",
       "      <td></td>\n",
       "      <td>http://b.scorecardresearch.com/p2?c1=19&amp;c2=153...</td>\n",
       "      <td>GET</td>\n",
       "      <td>Roku/DVP-9.0 (519.00E04142A)</td>\n",
       "      <td>204.153.49.131</td>\n",
       "      <td>80</td>\n",
       "      <td>86</td>\n",
       "      <td>False</td>\n",
       "      <td></td>\n",
       "      <td>b.scorecardresearch.com</td>\n",
       "      <td>ABC</td>\n",
       "      <td>34</td>\n",
       "      <td>movies-tvs</td>\n",
       "      <td></td>\n",
       "    </tr>\n",
       "    <tr>\n",
       "      <th>2</th>\n",
       "      <td>73376</td>\n",
       "      <td>1555110702.181658000</td>\n",
       "      <td></td>\n",
       "      <td></td>\n",
       "      <td>b.scorecardresearch.com</td>\n",
       "      <td></td>\n",
       "      <td>http://b.scorecardresearch.com/p2?c1=19&amp;c2=153...</td>\n",
       "      <td>GET</td>\n",
       "      <td>Roku/DVP-9.0 (519.00E04142A)</td>\n",
       "      <td>204.153.49.131</td>\n",
       "      <td>80</td>\n",
       "      <td>110</td>\n",
       "      <td>False</td>\n",
       "      <td></td>\n",
       "      <td>b.scorecardresearch.com</td>\n",
       "      <td>ABC</td>\n",
       "      <td>34</td>\n",
       "      <td>movies-tvs</td>\n",
       "      <td></td>\n",
       "    </tr>\n",
       "  </tbody>\n",
       "</table>\n",
       "</div>"
      ],
      "text/plain": [
       "  channel_id                  time cookie post_data                     host  \\\n",
       "0      73376  1555110679.099763000                   b.scorecardresearch.com   \n",
       "1      73376  1555110690.626828000                   b.scorecardresearch.com   \n",
       "2      73376  1555110702.181658000                   b.scorecardresearch.com   \n",
       "\n",
       "  referer                                                url method  \\\n",
       "0          http://b.scorecardresearch.com/p2?c1=19&c2=153...    GET   \n",
       "1          http://b.scorecardresearch.com/p2?c1=19&c2=153...    GET   \n",
       "2          http://b.scorecardresearch.com/p2?c1=19&c2=153...    GET   \n",
       "\n",
       "                     user_agent          ip_dst tcp_dstport tcp_stream  http2  \\\n",
       "0  Roku/DVP-9.0 (519.00E04142A)  204.153.49.131          80         65  False   \n",
       "1  Roku/DVP-9.0 (519.00E04142A)  204.153.49.131          80         86  False   \n",
       "2  Roku/DVP-9.0 (519.00E04142A)  204.153.49.131          80        110  False   \n",
       "\n",
       "  http2_type              host_by_dns channel_name  rank    category  \\\n",
       "0             b.scorecardresearch.com          ABC    34  movies-tvs   \n",
       "1             b.scorecardresearch.com          ABC    34  movies-tvs   \n",
       "2             b.scorecardresearch.com          ABC    34  movies-tvs   \n",
       "\n",
       "  decoded_data  \n",
       "0               \n",
       "1               \n",
       "2               "
      ]
     },
     "execution_count": 5,
     "metadata": {},
     "output_type": "execute_result"
    }
   ],
   "source": [
    "requests_roku.head(3)"
   ]
  },
  {
   "cell_type": "code",
   "execution_count": 6,
   "metadata": {},
   "outputs": [
    {
     "data": {
      "text/html": [
       "<div>\n",
       "<style scoped>\n",
       "    .dataframe tbody tr th:only-of-type {\n",
       "        vertical-align: middle;\n",
       "    }\n",
       "\n",
       "    .dataframe tbody tr th {\n",
       "        vertical-align: top;\n",
       "    }\n",
       "\n",
       "    .dataframe thead th {\n",
       "        text-align: right;\n",
       "    }\n",
       "</style>\n",
       "<table border=\"1\" class=\"dataframe\">\n",
       "  <thead>\n",
       "    <tr style=\"text-align: right;\">\n",
       "      <th></th>\n",
       "      <th>channel_id</th>\n",
       "      <th>data</th>\n",
       "      <th>time</th>\n",
       "      <th>body</th>\n",
       "      <th>host</th>\n",
       "      <th>location</th>\n",
       "      <th>code</th>\n",
       "      <th>set_cookie</th>\n",
       "      <th>ip_src</th>\n",
       "      <th>tcp_srcport</th>\n",
       "      <th>tcp_stream</th>\n",
       "      <th>http2</th>\n",
       "      <th>host_by_dns</th>\n",
       "      <th>channel_name</th>\n",
       "      <th>rank</th>\n",
       "      <th>category</th>\n",
       "    </tr>\n",
       "  </thead>\n",
       "  <tbody>\n",
       "    <tr>\n",
       "      <th>0</th>\n",
       "      <td>73376</td>\n",
       "      <td>01d67b2269223a2266333334393630642d323166662d34...</td>\n",
       "      <td>1555110644.038669000</td>\n",
       "      <td></td>\n",
       "      <td></td>\n",
       "      <td></td>\n",
       "      <td></td>\n",
       "      <td></td>\n",
       "      <td>18.207.190.165</td>\n",
       "      <td>2350</td>\n",
       "      <td>17</td>\n",
       "      <td>False</td>\n",
       "      <td></td>\n",
       "      <td>ABC</td>\n",
       "      <td>34</td>\n",
       "      <td>movies-tvs</td>\n",
       "    </tr>\n",
       "    <tr>\n",
       "      <th>1</th>\n",
       "      <td>73376</td>\n",
       "      <td></td>\n",
       "      <td>1555110679.119502000</td>\n",
       "      <td>GIF89a\u0001</td>\n",
       "      <td></td>\n",
       "      <td></td>\n",
       "      <td>200</td>\n",
       "      <td></td>\n",
       "      <td>204.153.49.131</td>\n",
       "      <td>80</td>\n",
       "      <td>65</td>\n",
       "      <td>False</td>\n",
       "      <td>b.scorecardresearch.com</td>\n",
       "      <td>ABC</td>\n",
       "      <td>34</td>\n",
       "      <td>movies-tvs</td>\n",
       "    </tr>\n",
       "    <tr>\n",
       "      <th>2</th>\n",
       "      <td>73376</td>\n",
       "      <td></td>\n",
       "      <td>1555110690.642272000</td>\n",
       "      <td>GIF89a\u0001</td>\n",
       "      <td></td>\n",
       "      <td></td>\n",
       "      <td>200</td>\n",
       "      <td></td>\n",
       "      <td>204.153.49.131</td>\n",
       "      <td>80</td>\n",
       "      <td>86</td>\n",
       "      <td>False</td>\n",
       "      <td>b.scorecardresearch.com</td>\n",
       "      <td>ABC</td>\n",
       "      <td>34</td>\n",
       "      <td>movies-tvs</td>\n",
       "    </tr>\n",
       "  </tbody>\n",
       "</table>\n",
       "</div>"
      ],
      "text/plain": [
       "  channel_id                                               data  \\\n",
       "0      73376  01d67b2269223a2266333334393630642d323166662d34...   \n",
       "1      73376                                                      \n",
       "2      73376                                                      \n",
       "\n",
       "                   time     body host location code set_cookie  \\\n",
       "0  1555110644.038669000                                          \n",
       "1  1555110679.119502000  GIF89a\u0001                200              \n",
       "2  1555110690.642272000  GIF89a\u0001                200              \n",
       "\n",
       "           ip_src tcp_srcport tcp_stream  http2              host_by_dns  \\\n",
       "0  18.207.190.165        2350         17  False                            \n",
       "1  204.153.49.131          80         65  False  b.scorecardresearch.com   \n",
       "2  204.153.49.131          80         86  False  b.scorecardresearch.com   \n",
       "\n",
       "  channel_name  rank    category  \n",
       "0          ABC    34  movies-tvs  \n",
       "1          ABC    34  movies-tvs  \n",
       "2          ABC    34  movies-tvs  "
      ]
     },
     "execution_count": 6,
     "metadata": {},
     "output_type": "execute_result"
    }
   ],
   "source": [
    "responses_roku.head(3)"
   ]
  },
  {
   "cell_type": "code",
   "execution_count": 7,
   "metadata": {},
   "outputs": [
    {
     "data": {
      "text/html": [
       "<div>\n",
       "<style scoped>\n",
       "    .dataframe tbody tr th:only-of-type {\n",
       "        vertical-align: middle;\n",
       "    }\n",
       "\n",
       "    .dataframe tbody tr th {\n",
       "        vertical-align: top;\n",
       "    }\n",
       "\n",
       "    .dataframe thead th {\n",
       "        text-align: right;\n",
       "    }\n",
       "</style>\n",
       "<table border=\"1\" class=\"dataframe\">\n",
       "  <thead>\n",
       "    <tr style=\"text-align: right;\">\n",
       "      <th></th>\n",
       "      <th>channel_id</th>\n",
       "      <th>time</th>\n",
       "      <th>cookie</th>\n",
       "      <th>post_data</th>\n",
       "      <th>host</th>\n",
       "      <th>referer</th>\n",
       "      <th>url</th>\n",
       "      <th>method</th>\n",
       "      <th>user_agent</th>\n",
       "      <th>ip_dst</th>\n",
       "      <th>tcp_dstport</th>\n",
       "      <th>tcp_stream</th>\n",
       "      <th>http2</th>\n",
       "      <th>http2_type</th>\n",
       "      <th>host_by_dns</th>\n",
       "      <th>channel_name</th>\n",
       "      <th>rank</th>\n",
       "      <th>category</th>\n",
       "      <th>decoded_data</th>\n",
       "    </tr>\n",
       "  </thead>\n",
       "  <tbody>\n",
       "    <tr>\n",
       "      <th>0</th>\n",
       "      <td>com.amazon.rialto.cordova.webapp.webapp45ae33c...</td>\n",
       "      <td>1555405965.682210000</td>\n",
       "      <td></td>\n",
       "      <td></td>\n",
       "      <td>globalstreamingserver.com</td>\n",
       "      <td></td>\n",
       "      <td>http://globalstreamingserver.com/stv/fire-tv/b...</td>\n",
       "      <td>GET</td>\n",
       "      <td>Mozilla/5.0 (Linux; Android 5.1.1; AFTT Build/...</td>\n",
       "      <td>107.180.50.228</td>\n",
       "      <td>80</td>\n",
       "      <td>3</td>\n",
       "      <td>False</td>\n",
       "      <td></td>\n",
       "      <td>globalstreamingserver.com</td>\n",
       "      <td>Brick STV Channel</td>\n",
       "      <td>731</td>\n",
       "      <td></td>\n",
       "      <td></td>\n",
       "    </tr>\n",
       "    <tr>\n",
       "      <th>1</th>\n",
       "      <td>com.amazon.rialto.cordova.webapp.webapp45ae33c...</td>\n",
       "      <td>1555405965.914099000</td>\n",
       "      <td></td>\n",
       "      <td></td>\n",
       "      <td>globalstreamingserver.com</td>\n",
       "      <td>http://globalstreamingserver.com/stv/fire-tv/b...</td>\n",
       "      <td>http://globalstreamingserver.com/stv/fire-tv/b...</td>\n",
       "      <td>GET</td>\n",
       "      <td>Mozilla/5.0 (Linux; Android 5.1.1; AFTT Build/...</td>\n",
       "      <td>107.180.50.228</td>\n",
       "      <td>80</td>\n",
       "      <td>4</td>\n",
       "      <td>False</td>\n",
       "      <td></td>\n",
       "      <td>globalstreamingserver.com</td>\n",
       "      <td>Brick STV Channel</td>\n",
       "      <td>731</td>\n",
       "      <td></td>\n",
       "      <td></td>\n",
       "    </tr>\n",
       "    <tr>\n",
       "      <th>2</th>\n",
       "      <td>com.amazon.rialto.cordova.webapp.webapp45ae33c...</td>\n",
       "      <td>1555405965.917194000</td>\n",
       "      <td></td>\n",
       "      <td></td>\n",
       "      <td>globalstreamingserver.com</td>\n",
       "      <td>http://globalstreamingserver.com/stv/fire-tv/b...</td>\n",
       "      <td>http://globalstreamingserver.com/stv/fire-tv/b...</td>\n",
       "      <td>GET</td>\n",
       "      <td>Mozilla/5.0 (Linux; Android 5.1.1; AFTT Build/...</td>\n",
       "      <td>107.180.50.228</td>\n",
       "      <td>80</td>\n",
       "      <td>5</td>\n",
       "      <td>False</td>\n",
       "      <td></td>\n",
       "      <td>globalstreamingserver.com</td>\n",
       "      <td>Brick STV Channel</td>\n",
       "      <td>731</td>\n",
       "      <td></td>\n",
       "      <td></td>\n",
       "    </tr>\n",
       "  </tbody>\n",
       "</table>\n",
       "</div>"
      ],
      "text/plain": [
       "                                          channel_id                  time  \\\n",
       "0  com.amazon.rialto.cordova.webapp.webapp45ae33c...  1555405965.682210000   \n",
       "1  com.amazon.rialto.cordova.webapp.webapp45ae33c...  1555405965.914099000   \n",
       "2  com.amazon.rialto.cordova.webapp.webapp45ae33c...  1555405965.917194000   \n",
       "\n",
       "  cookie post_data                       host  \\\n",
       "0                   globalstreamingserver.com   \n",
       "1                   globalstreamingserver.com   \n",
       "2                   globalstreamingserver.com   \n",
       "\n",
       "                                             referer  \\\n",
       "0                                                      \n",
       "1  http://globalstreamingserver.com/stv/fire-tv/b...   \n",
       "2  http://globalstreamingserver.com/stv/fire-tv/b...   \n",
       "\n",
       "                                                 url method  \\\n",
       "0  http://globalstreamingserver.com/stv/fire-tv/b...    GET   \n",
       "1  http://globalstreamingserver.com/stv/fire-tv/b...    GET   \n",
       "2  http://globalstreamingserver.com/stv/fire-tv/b...    GET   \n",
       "\n",
       "                                          user_agent          ip_dst  \\\n",
       "0  Mozilla/5.0 (Linux; Android 5.1.1; AFTT Build/...  107.180.50.228   \n",
       "1  Mozilla/5.0 (Linux; Android 5.1.1; AFTT Build/...  107.180.50.228   \n",
       "2  Mozilla/5.0 (Linux; Android 5.1.1; AFTT Build/...  107.180.50.228   \n",
       "\n",
       "  tcp_dstport tcp_stream  http2 http2_type                host_by_dns  \\\n",
       "0          80          3  False             globalstreamingserver.com   \n",
       "1          80          4  False             globalstreamingserver.com   \n",
       "2          80          5  False             globalstreamingserver.com   \n",
       "\n",
       "        channel_name  rank category decoded_data  \n",
       "0  Brick STV Channel   731                        \n",
       "1  Brick STV Channel   731                        \n",
       "2  Brick STV Channel   731                        "
      ]
     },
     "execution_count": 7,
     "metadata": {},
     "output_type": "execute_result"
    }
   ],
   "source": [
    "requests_amazon.head(3)"
   ]
  },
  {
   "cell_type": "code",
   "execution_count": 8,
   "metadata": {},
   "outputs": [
    {
     "data": {
      "text/html": [
       "<div>\n",
       "<style scoped>\n",
       "    .dataframe tbody tr th:only-of-type {\n",
       "        vertical-align: middle;\n",
       "    }\n",
       "\n",
       "    .dataframe tbody tr th {\n",
       "        vertical-align: top;\n",
       "    }\n",
       "\n",
       "    .dataframe thead th {\n",
       "        text-align: right;\n",
       "    }\n",
       "</style>\n",
       "<table border=\"1\" class=\"dataframe\">\n",
       "  <thead>\n",
       "    <tr style=\"text-align: right;\">\n",
       "      <th></th>\n",
       "      <th>channel_id</th>\n",
       "      <th>data</th>\n",
       "      <th>time</th>\n",
       "      <th>body</th>\n",
       "      <th>location</th>\n",
       "      <th>code</th>\n",
       "      <th>set_cookie</th>\n",
       "      <th>ip_src</th>\n",
       "      <th>tcp_srcport</th>\n",
       "      <th>tcp_stream</th>\n",
       "      <th>http2</th>\n",
       "      <th>host_by_dns</th>\n",
       "      <th>channel_name</th>\n",
       "      <th>rank</th>\n",
       "      <th>category</th>\n",
       "      <th>content_type</th>\n",
       "      <th>http2_type</th>\n",
       "      <th>set-cookie</th>\n",
       "    </tr>\n",
       "  </thead>\n",
       "  <tbody>\n",
       "    <tr>\n",
       "      <th>0</th>\n",
       "      <td>com.amazon.rialto.cordova.webapp.webapp45ae33c...</td>\n",
       "      <td></td>\n",
       "      <td>1555405965.058993000</td>\n",
       "      <td>&lt;html&gt;\\n            &lt;head&gt;\\n                &lt;t...</td>\n",
       "      <td></td>\n",
       "      <td>502</td>\n",
       "      <td></td>\n",
       "      <td>52.216.176.195</td>\n",
       "      <td>443</td>\n",
       "      <td>1</td>\n",
       "      <td>False</td>\n",
       "      <td>amazon-web-app-whitelist.s3.amazonaws.com</td>\n",
       "      <td>Brick STV Channel</td>\n",
       "      <td>731</td>\n",
       "      <td></td>\n",
       "      <td></td>\n",
       "      <td></td>\n",
       "      <td></td>\n",
       "    </tr>\n",
       "    <tr>\n",
       "      <th>1</th>\n",
       "      <td>com.amazon.rialto.cordova.webapp.webapp45ae33c...</td>\n",
       "      <td></td>\n",
       "      <td>1555405965.781479000</td>\n",
       "      <td>&lt;!DOCTYPE html&gt;\\n\\n&lt;!-- \\n   Web App Starter K...</td>\n",
       "      <td></td>\n",
       "      <td>200</td>\n",
       "      <td></td>\n",
       "      <td>107.180.50.228</td>\n",
       "      <td>80</td>\n",
       "      <td>3</td>\n",
       "      <td>False</td>\n",
       "      <td>globalstreamingserver.com</td>\n",
       "      <td>Brick STV Channel</td>\n",
       "      <td>731</td>\n",
       "      <td></td>\n",
       "      <td></td>\n",
       "      <td></td>\n",
       "      <td></td>\n",
       "    </tr>\n",
       "    <tr>\n",
       "      <th>2</th>\n",
       "      <td>com.amazon.rialto.cordova.webapp.webapp45ae33c...</td>\n",
       "      <td></td>\n",
       "      <td>1555405966.057351000</td>\n",
       "      <td>/* Dialog View\\n *\\n * Handles modal dialog\\n ...</td>\n",
       "      <td></td>\n",
       "      <td>200</td>\n",
       "      <td></td>\n",
       "      <td>107.180.50.228</td>\n",
       "      <td>80</td>\n",
       "      <td>8</td>\n",
       "      <td>False</td>\n",
       "      <td>globalstreamingserver.com</td>\n",
       "      <td>Brick STV Channel</td>\n",
       "      <td>731</td>\n",
       "      <td></td>\n",
       "      <td></td>\n",
       "      <td></td>\n",
       "      <td></td>\n",
       "    </tr>\n",
       "  </tbody>\n",
       "</table>\n",
       "</div>"
      ],
      "text/plain": [
       "                                          channel_id data  \\\n",
       "0  com.amazon.rialto.cordova.webapp.webapp45ae33c...        \n",
       "1  com.amazon.rialto.cordova.webapp.webapp45ae33c...        \n",
       "2  com.amazon.rialto.cordova.webapp.webapp45ae33c...        \n",
       "\n",
       "                   time                                               body  \\\n",
       "0  1555405965.058993000  <html>\\n            <head>\\n                <t...   \n",
       "1  1555405965.781479000  <!DOCTYPE html>\\n\\n<!-- \\n   Web App Starter K...   \n",
       "2  1555405966.057351000  /* Dialog View\\n *\\n * Handles modal dialog\\n ...   \n",
       "\n",
       "  location code set_cookie          ip_src tcp_srcport tcp_stream  http2  \\\n",
       "0           502             52.216.176.195         443          1  False   \n",
       "1           200             107.180.50.228          80          3  False   \n",
       "2           200             107.180.50.228          80          8  False   \n",
       "\n",
       "                                 host_by_dns       channel_name  rank  \\\n",
       "0  amazon-web-app-whitelist.s3.amazonaws.com  Brick STV Channel   731   \n",
       "1                  globalstreamingserver.com  Brick STV Channel   731   \n",
       "2                  globalstreamingserver.com  Brick STV Channel   731   \n",
       "\n",
       "  category content_type http2_type set-cookie  \n",
       "0                                              \n",
       "1                                              \n",
       "2                                              "
      ]
     },
     "execution_count": 8,
     "metadata": {},
     "output_type": "execute_result"
    }
   ],
   "source": [
    "responses_amazon.head(3)"
   ]
  },
  {
   "cell_type": "code",
   "execution_count": 98,
   "metadata": {},
   "outputs": [],
   "source": [
    "CHECK_REFERRER_LEAKS = True\n",
    "\n",
    "def check_row_for_leaks(detector, req):\n",
    "    url, cookie_str, post_body, referrer_str = req['url'], req['cookie'], req['post_data'], req['referer']\n",
    "    url_leaks = detector.check_url(url)\n",
    "    url_leaks += detector.substring_search(url, max_layers=2)\n",
    "    #cookie_leaks = detector.check_cookies(headers)\n",
    "    #cookie_str = detector.get_cookie_str(headers, from_request=True)\n",
    "    cookie_leaks = detector.substring_search(cookie_str, max_layers=2)\n",
    "    post_leaks = detector.substring_search(post_body, max_layers=2)\n",
    "    if CHECK_REFERRER_LEAKS:\n",
    "        referrer_leaks = detector.substring_search(referrer_str, max_layers=2)\n",
    "        return url_leaks, cookie_leaks, post_leaks, referrer_leaks\n",
    "    else:\n",
    "        return url_leaks, cookie_leaks, post_leaks"
   ]
  },
  {
   "cell_type": "code",
   "execution_count": 99,
   "metadata": {},
   "outputs": [],
   "source": [
    "def reverse_dict(d):\n",
    "    new_d = dict()\n",
    "    for k, v in d.items():\n",
    "        new_d[v.lower()] = k\n",
    "    return new_d"
   ]
  },
  {
   "cell_type": "code",
   "execution_count": 100,
   "metadata": {},
   "outputs": [],
   "source": [
    "def convert_leaks_to_df(device_ids, leaks_dict):\n",
    "    r_ids = reverse_dict(device_ids)\n",
    "    leaks_dicts = []\n",
    "    for leak_type, leaks in leaks_dict.items():\n",
    "        for leak in leaks:            \n",
    "            # print(leak, len(leak), leak[0])\n",
    "            assert len(leak) <= 2\n",
    "            if len(leak) == 2:\n",
    "                encoding, search = leak\n",
    "            elif len(leak) == 1:\n",
    "                search = leak[0]\n",
    "                encoding = \"unencoded\"\n",
    "            id_type = r_ids[search.lower()]\n",
    "            leaks_dicts.append({'id_type': id_type, 'search': search,\n",
    "                                \"encoding\": encoding, \"leak_type\": leak_type})\n",
    "    return pd.DataFrame(leaks_dicts)\n",
    "\n"
   ]
  },
  {
   "cell_type": "code",
   "execution_count": 101,
   "metadata": {},
   "outputs": [],
   "source": [
    "def detect_leaks_in_requests(df, device_ids):\n",
    "    df.sort_values(\"channel_name\", inplace=True)\n",
    "    last_channel = \"\"\n",
    "    leak_df = pd.DataFrame({})\n",
    "    #for idx, req in df[df.channel_name.str.contains(\"Z\")].iterrows():\n",
    "    for idx, req in df.iterrows():\n",
    "        #print(idx, req['request_full_uri'], req['cookie'], req['post_data'], req['referer'], req['data'])\n",
    "        channel_name = str(req['channel_name'])\n",
    "        channel_id = str(req['channel_id'])\n",
    "        if channel_name !=last_channel:\n",
    "            last_channel = channel_name\n",
    "            # print(\"Channel name\", channel_name)\n",
    "            #device_ids = {}\n",
    "            device_ids[\"Channel name\"] = channel_name\n",
    "            r_device_ids = reverse_dict(device_ids)\n",
    "            leak_detector = LeakDetector.LeakDetector(\n",
    "                device_ids.values(), encoding_set=LeakDetector.ENCODINGS_NO_ROT,\n",
    "                encoding_layers=2, hash_layers=2, debugging=False\n",
    "            )\n",
    "        url_leaks, cookie_leaks, post_leaks, referrer_leaks = check_row_for_leaks(leak_detector, req)\n",
    "        tmp_df = convert_leaks_to_df(device_ids,\n",
    "                                     {\"url_leaks\": url_leaks, \"cookie_leaks\": cookie_leaks,\n",
    "                                      \"post_leaks\": post_leaks, \"referrer_leaks\": referrer_leaks})\n",
    "        tmp_df['channel_id'] = channel_id\n",
    "        tmp_df['channel_name'] = channel_name\n",
    "        tmp_df['url'] = req['url']\n",
    "        tmp_df['cookie'] = req['cookie']\n",
    "        tmp_df['post_data'] = req['post_data']\n",
    "        tmp_df['referer'] = req['referer']\n",
    "        leak_df = leak_df.append(tmp_df)\n",
    "        #if len(url_leaks) or len(cookie_leaks) or len(post_leaks) or len(referrer_leaks):\n",
    "        #    if \"scorecard\" not in req['url']:\n",
    "        #        print (req['url'], req['cookie'], req['post_data'], req['referer'], url_leaks, cookie_leaks, post_leaks, referrer_leaks)\n",
    "    device_ids[\"Channel name\"] = \"\"\n",
    "    return leak_df\n"
   ]
  },
  {
   "cell_type": "markdown",
   "metadata": {},
   "source": [
    "## Roku leaks"
   ]
  },
  {
   "cell_type": "code",
   "execution_count": null,
   "metadata": {},
   "outputs": [],
   "source": [
    "leak_df_roku = detect_leaks_in_requests(requests_roku, ROKU_IDS)"
   ]
  },
  {
   "cell_type": "code",
   "execution_count": null,
   "metadata": {},
   "outputs": [],
   "source": [
    "leak_df_roku.head()"
   ]
  },
  {
   "cell_type": "code",
   "execution_count": null,
   "metadata": {},
   "outputs": [],
   "source": [
    "leak_df_roku.id_type.value_counts()"
   ]
  },
  {
   "cell_type": "code",
   "execution_count": null,
   "metadata": {},
   "outputs": [],
   "source": [
    "leak_df_roku.leak_type.value_counts()"
   ]
  },
  {
   "cell_type": "code",
   "execution_count": null,
   "metadata": {},
   "outputs": [],
   "source": [
    "leak_df_roku.encoding.value_counts()"
   ]
  },
  {
   "cell_type": "code",
   "execution_count": null,
   "metadata": {},
   "outputs": [],
   "source": [
    "leak_df_roku[leak_df_roku.id_type==\"Channel name\"].channel_id.nunique()"
   ]
  },
  {
   "cell_type": "code",
   "execution_count": null,
   "metadata": {},
   "outputs": [],
   "source": [
    "leak_df_roku[leak_df_roku.id_type==\"AD ID\"].channel_id.nunique()"
   ]
  },
  {
   "cell_type": "code",
   "execution_count": null,
   "metadata": {},
   "outputs": [],
   "source": [
    "leak_df_roku[leak_df_roku.id_type==\"Build Number\"].channel_id.nunique()"
   ]
  },
  {
   "cell_type": "code",
   "execution_count": null,
   "metadata": {},
   "outputs": [],
   "source": [
    "leak_df_roku[leak_df_roku.id_type==\"Serial No\"].channel_id.nunique()"
   ]
  },
  {
   "cell_type": "code",
   "execution_count": null,
   "metadata": {},
   "outputs": [],
   "source": [
    "leak_df_roku[leak_df_roku.id_type==\"City\"].channel_id.nunique()"
   ]
  },
  {
   "cell_type": "code",
   "execution_count": null,
   "metadata": {},
   "outputs": [],
   "source": [
    "leak_df_roku[leak_df_roku.id_type==\"Zip\"].channel_id.nunique()"
   ]
  },
  {
   "cell_type": "code",
   "execution_count": null,
   "metadata": {},
   "outputs": [],
   "source": [
    "leak_df_roku[leak_df_roku.id_type==\"Device Name\"].channel_id.nunique()"
   ]
  },
  {
   "cell_type": "markdown",
   "metadata": {},
   "source": [
    "## Amazon leaks\n",
    "- TODO add AD ID"
   ]
  },
  {
   "cell_type": "code",
   "execution_count": 90,
   "metadata": {},
   "outputs": [],
   "source": [
    "leak_df_amazon = detect_leaks_in_requests(requests_amazon, AMAZON_IDS)"
   ]
  },
  {
   "cell_type": "code",
   "execution_count": 91,
   "metadata": {},
   "outputs": [
    {
     "data": {
      "text/plain": [
       "Channel name    2834\n",
       "City              30\n",
       "Zip               26\n",
       "State             13\n",
       "Name: id_type, dtype: int64"
      ]
     },
     "execution_count": 91,
     "metadata": {},
     "output_type": "execute_result"
    }
   ],
   "source": [
    "leak_df_amazon.id_type.value_counts()"
   ]
  },
  {
   "cell_type": "code",
   "execution_count": 92,
   "metadata": {},
   "outputs": [
    {
     "data": {
      "text/plain": [
       "url_leaks         2473\n",
       "referrer_leaks     318\n",
       "cookie_leaks        80\n",
       "post_leaks          32\n",
       "Name: leak_type, dtype: int64"
      ]
     },
     "execution_count": 92,
     "metadata": {},
     "output_type": "execute_result"
    }
   ],
   "source": [
    "leak_df_amazon.leak_type.value_counts()"
   ]
  },
  {
   "cell_type": "code",
   "execution_count": 93,
   "metadata": {},
   "outputs": [
    {
     "data": {
      "text/plain": [
       "unencoded    2890\n",
       "urlencode      13\n",
       "Name: encoding, dtype: int64"
      ]
     },
     "execution_count": 93,
     "metadata": {},
     "output_type": "execute_result"
    }
   ],
   "source": [
    "leak_df_amazon.encoding.value_counts()"
   ]
  },
  {
   "cell_type": "code",
   "execution_count": null,
   "metadata": {},
   "outputs": [],
   "source": []
  }
 ],
 "metadata": {
  "kernelspec": {
   "display_name": "Python 2",
   "language": "python",
   "name": "python2"
  },
  "language_info": {
   "codemirror_mode": {
    "name": "ipython",
    "version": 2
   },
   "file_extension": ".py",
   "mimetype": "text/x-python",
   "name": "python",
   "nbconvert_exporter": "python",
   "pygments_lexer": "ipython2",
   "version": "2.7.15rc1"
  }
 },
 "nbformat": 4,
 "nbformat_minor": 2
}
