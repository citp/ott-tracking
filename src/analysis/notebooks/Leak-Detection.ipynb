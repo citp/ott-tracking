{
 "cells": [
  {
   "cell_type": "code",
   "execution_count": 1,
   "metadata": {},
   "outputs": [],
   "source": [
    "import LeakDetector\n",
    "import numpy as np\n",
    "import pandas as pd\n",
    "from os.path import isdir, join, basename\n",
    "from datetime import datetime\n",
    "from glob import glob"
   ]
  },
  {
   "cell_type": "code",
   "execution_count": 2,
   "metadata": {},
   "outputs": [],
   "source": [
    "from device_ids import TV_ID_MAP\n",
    "from log_analysis import get_crawl_parameter\n",
    "from crawl_ids import CrawlRokuTop1KNoMITM\n",
    "from df_utils import load_df\n",
    "from nb_utils import make_latex_table\n",
    "\n",
    "from ott_leaks import run_leak_detection, DEVICE_ID_NAMES, print_leak_stats, remove_ch_name_url_false_positives"
   ]
  },
  {
   "cell_type": "markdown",
   "metadata": {},
   "source": [
    "## Load leaks\n",
    "- Run the following to detect and pickle leaks\n",
    "  - Detect on all crawls: `python2 detect_leaks.py`\n",
    "  - Detect on a single crawl: `python2 detect_leaks.py roku-data-20190508-013650`"
   ]
  },
  {
   "cell_type": "code",
   "execution_count": 3,
   "metadata": {},
   "outputs": [
    {
     "data": {
      "text/html": [
       "<div>\n",
       "<style scoped>\n",
       "    .dataframe tbody tr th:only-of-type {\n",
       "        vertical-align: middle;\n",
       "    }\n",
       "\n",
       "    .dataframe tbody tr th {\n",
       "        vertical-align: top;\n",
       "    }\n",
       "\n",
       "    .dataframe thead th {\n",
       "        text-align: right;\n",
       "    }\n",
       "</style>\n",
       "<table border=\"1\" class=\"dataframe\">\n",
       "  <thead>\n",
       "    <tr style=\"text-align: right;\">\n",
       "      <th></th>\n",
       "      <th>ID</th>\n",
       "      <th>Num. of leaks</th>\n",
       "      <th>Num. of channels</th>\n",
       "    </tr>\n",
       "  </thead>\n",
       "  <tbody>\n",
       "    <tr>\n",
       "      <th>0</th>\n",
       "      <td>AD ID</td>\n",
       "      <td>4606</td>\n",
       "      <td>313</td>\n",
       "    </tr>\n",
       "    <tr>\n",
       "      <th>1</th>\n",
       "      <td>Build Number</td>\n",
       "      <td>2910</td>\n",
       "      <td>317</td>\n",
       "    </tr>\n",
       "    <tr>\n",
       "      <th>2</th>\n",
       "      <td>Channel name</td>\n",
       "      <td>7291</td>\n",
       "      <td>225</td>\n",
       "    </tr>\n",
       "    <tr>\n",
       "      <th>3</th>\n",
       "      <td>Serial No</td>\n",
       "      <td>1708</td>\n",
       "      <td>108</td>\n",
       "    </tr>\n",
       "    <tr>\n",
       "      <th>4</th>\n",
       "      <td>City</td>\n",
       "      <td>30</td>\n",
       "      <td>5</td>\n",
       "    </tr>\n",
       "    <tr>\n",
       "      <th>5</th>\n",
       "      <td>State</td>\n",
       "      <td>11</td>\n",
       "      <td>2</td>\n",
       "    </tr>\n",
       "    <tr>\n",
       "      <th>6</th>\n",
       "      <td>Zip</td>\n",
       "      <td>35</td>\n",
       "      <td>5</td>\n",
       "    </tr>\n",
       "    <tr>\n",
       "      <th>7</th>\n",
       "      <td>Email</td>\n",
       "      <td>2</td>\n",
       "      <td>1</td>\n",
       "    </tr>\n",
       "  </tbody>\n",
       "</table>\n",
       "</div>"
      ],
      "text/plain": [
       "             ID  Num. of leaks  Num. of channels\n",
       "0         AD ID           4606               313\n",
       "1  Build Number           2910               317\n",
       "2  Channel name           7291               225\n",
       "3     Serial No           1708               108\n",
       "4          City             30                 5\n",
       "5         State             11                 2\n",
       "6           Zip             35                 5\n",
       "7         Email              2                 1"
      ]
     },
     "execution_count": 3,
     "metadata": {},
     "output_type": "execute_result"
    }
   ],
   "source": [
    "leaks_roku = load_df(CrawlRokuTop1KNoMITM, \"leak\")\n",
    "remove_ch_name_url_false_positives(leaks_roku)  # this is part of the leak detection flow now\n",
    "id_leaks_roku = leaks_roku[leaks_roku.id_type.isin(DEVICE_ID_NAMES)]\n",
    "df = print_leak_stats(leaks_roku)\n",
    "df"
   ]
  },
  {
   "cell_type": "code",
   "execution_count": 13,
   "metadata": {},
   "outputs": [
    {
     "name": "stdout",
     "output_type": "stream",
     "text": [
      "\n",
      "\\begin{table}[H]\n",
      "%\\centering\n",
      "\\resizebox{\\columnwidth}{!}{%\n",
      "\\begin{tabular}{lrr}\n",
      "\\toprule\n",
      " Id        &   Num. of leaks &   Num. of channels \\\\\n",
      "\\midrule\n",
      " AD ID     &            1029 &                111 \\\\\n",
      " Serial No &             964 &                 75 \\\\\n",
      "\\bottomrule\n",
      "\\end{tabular}\n",
      "}\n",
      "\\caption{Overview of information leakage detected in Roku-Top1K-NoMITM crawl}\n",
      "\\label{tab:leaks_roku}\n",
      "\\end{table}\n"
     ]
    }
   ],
   "source": [
    "print(make_latex_table(\n",
    "    df, caption=\"Overview of information leakage detected in Roku-Top1K-NoMITM crawl\",\n",
    "    label=\"leaks_roku\"))"
   ]
  },
  {
   "cell_type": "code",
   "execution_count": 14,
   "metadata": {},
   "outputs": [],
   "source": [
    "## Pi-Hole-Block"
   ]
  },
  {
   "cell_type": "markdown",
   "metadata": {},
   "source": [
    "## ID Leaks\n",
    "- Exclude non-Id search terms"
   ]
  },
  {
   "cell_type": "code",
   "execution_count": 15,
   "metadata": {},
   "outputs": [
    {
     "data": {
      "text/plain": [
       "True     4853\n",
       "False    1461\n",
       "Name: adblocked, dtype: int64"
      ]
     },
     "execution_count": 15,
     "metadata": {},
     "output_type": "execute_result"
    }
   ],
   "source": [
    "id_leaks_roku.adblocked.value_counts()"
   ]
  },
  {
   "cell_type": "markdown",
   "metadata": {},
   "source": [
    "### Email sent on channel (for registration)\n",
    "- email address sant to  http://api.qello.com/users/register/ for registration purposes\n",
    "- crawler actually clicked the dialog to allow email address to be accessed from Roku"
   ]
  },
  {
   "cell_type": "code",
   "execution_count": 12,
   "metadata": {},
   "outputs": [
    {
     "data": {
      "text/html": [
       "<div>\n",
       "<style scoped>\n",
       "    .dataframe tbody tr th:only-of-type {\n",
       "        vertical-align: middle;\n",
       "    }\n",
       "\n",
       "    .dataframe tbody tr th {\n",
       "        vertical-align: top;\n",
       "    }\n",
       "\n",
       "    .dataframe thead th {\n",
       "        text-align: right;\n",
       "    }\n",
       "</style>\n",
       "<table border=\"1\" class=\"dataframe\">\n",
       "  <thead>\n",
       "    <tr style=\"text-align: right;\">\n",
       "      <th></th>\n",
       "      <th>adblocked</th>\n",
       "      <th>adblocked_by_url</th>\n",
       "      <th>category</th>\n",
       "      <th>channel_id</th>\n",
       "      <th>channel_name</th>\n",
       "      <th>cookie</th>\n",
       "      <th>decoded_data</th>\n",
       "      <th>disconnect_blocked</th>\n",
       "      <th>disconnect_blocked_by_url</th>\n",
       "      <th>domain_by_dns</th>\n",
       "      <th>...</th>\n",
       "      <th>referer</th>\n",
       "      <th>req_domain</th>\n",
       "      <th>search</th>\n",
       "      <th>status</th>\n",
       "      <th>tcp_dstport</th>\n",
       "      <th>tcp_stream</th>\n",
       "      <th>time</th>\n",
       "      <th>url</th>\n",
       "      <th>user_agent</th>\n",
       "      <th>ch_name_url_false_pos</th>\n",
       "    </tr>\n",
       "  </thead>\n",
       "  <tbody>\n",
       "    <tr>\n",
       "      <th>0</th>\n",
       "      <td>False</td>\n",
       "      <td>False</td>\n",
       "      <td>Music</td>\n",
       "      <td>40299</td>\n",
       "      <td>Stingray Qello</td>\n",
       "      <td></td>\n",
       "      <td></td>\n",
       "      <td>False</td>\n",
       "      <td>False</td>\n",
       "      <td>qello.com</td>\n",
       "      <td>...</td>\n",
       "      <td></td>\n",
       "      <td>qello.com</td>\n",
       "      <td>macyli47@gmail.com</td>\n",
       "      <td>TERMINATED</td>\n",
       "      <td>80</td>\n",
       "      <td>84</td>\n",
       "      <td>1557386763.457430000</td>\n",
       "      <td>http://api.qello.com/users/register/</td>\n",
       "      <td>Roku/DVP-9.0 (519.00E04142A)</td>\n",
       "      <td>False</td>\n",
       "    </tr>\n",
       "    <tr>\n",
       "      <th>0</th>\n",
       "      <td>False</td>\n",
       "      <td>False</td>\n",
       "      <td>Music</td>\n",
       "      <td>40299</td>\n",
       "      <td>Stingray Qello</td>\n",
       "      <td></td>\n",
       "      <td></td>\n",
       "      <td>False</td>\n",
       "      <td>False</td>\n",
       "      <td>qello.com</td>\n",
       "      <td>...</td>\n",
       "      <td></td>\n",
       "      <td>qello.com</td>\n",
       "      <td>macyli47@gmail.com</td>\n",
       "      <td>TERMINATED</td>\n",
       "      <td>80</td>\n",
       "      <td>59</td>\n",
       "      <td>1557386729.679612000</td>\n",
       "      <td>http://api.qello.com/users/register/</td>\n",
       "      <td>Roku/DVP-9.0 (519.00E04142A)</td>\n",
       "      <td>False</td>\n",
       "    </tr>\n",
       "  </tbody>\n",
       "</table>\n",
       "<p>2 rows × 41 columns</p>\n",
       "</div>"
      ],
      "text/plain": [
       "   adblocked  adblocked_by_url category channel_id    channel_name cookie  \\\n",
       "0      False             False    Music      40299  Stingray Qello          \n",
       "0      False             False    Music      40299  Stingray Qello          \n",
       "\n",
       "  decoded_data  disconnect_blocked  disconnect_blocked_by_url domain_by_dns  \\\n",
       "0                            False                      False     qello.com   \n",
       "0                            False                      False     qello.com   \n",
       "\n",
       "           ...            referer  req_domain              search      status  \\\n",
       "0          ...                      qello.com  macyli47@gmail.com  TERMINATED   \n",
       "0          ...                      qello.com  macyli47@gmail.com  TERMINATED   \n",
       "\n",
       "  tcp_dstport  tcp_stream                  time  \\\n",
       "0          80          84  1557386763.457430000   \n",
       "0          80          59  1557386729.679612000   \n",
       "\n",
       "                                    url                    user_agent  \\\n",
       "0  http://api.qello.com/users/register/  Roku/DVP-9.0 (519.00E04142A)   \n",
       "0  http://api.qello.com/users/register/  Roku/DVP-9.0 (519.00E04142A)   \n",
       "\n",
       "   ch_name_url_false_pos  \n",
       "0                  False  \n",
       "0                  False  \n",
       "\n",
       "[2 rows x 41 columns]"
      ]
     },
     "execution_count": 12,
     "metadata": {},
     "output_type": "execute_result"
    }
   ],
   "source": [
    "leaks_roku[leaks_roku.id_type.isin([\"Email\", \"Unknown\"])]"
   ]
  },
  {
   "cell_type": "markdown",
   "metadata": {},
   "source": [
    "### Adblocked status\n",
    "- 4853 of the 6314 (76%) ID leaks are to domains flagged by ad blocker lists\n",
    "- 38 if the 76 domains IDs leaked to are flagged by ad blocker lists"
   ]
  },
  {
   "cell_type": "code",
   "execution_count": null,
   "metadata": {},
   "outputs": [],
   "source": [
    "id_leaks_roku.adblocked.value_counts()"
   ]
  },
  {
   "cell_type": "code",
   "execution_count": null,
   "metadata": {},
   "outputs": [],
   "source": [
    "leaks_roku.adblocked.value_counts()"
   ]
  },
  {
   "cell_type": "code",
   "execution_count": null,
   "metadata": {},
   "outputs": [],
   "source": [
    "id_leaks_roku.drop_duplicates(\"req_domain\").adblocked.value_counts()"
   ]
  },
  {
   "cell_type": "markdown",
   "metadata": {},
   "source": [
    "### Leaked IDs"
   ]
  },
  {
   "cell_type": "code",
   "execution_count": null,
   "metadata": {},
   "outputs": [],
   "source": [
    "leaks_roku.id_type.value_counts()"
   ]
  },
  {
   "cell_type": "markdown",
   "metadata": {},
   "source": [
    "### Leak location"
   ]
  },
  {
   "cell_type": "code",
   "execution_count": null,
   "metadata": {},
   "outputs": [],
   "source": [
    "leaks_roku.leak_type.value_counts()"
   ]
  },
  {
   "cell_type": "markdown",
   "metadata": {},
   "source": [
    "### Leak encodings"
   ]
  },
  {
   "cell_type": "code",
   "execution_count": null,
   "metadata": {},
   "outputs": [],
   "source": [
    "leaks_roku.encoding.value_counts()"
   ]
  },
  {
   "cell_type": "code",
   "execution_count": null,
   "metadata": {},
   "outputs": [],
   "source": []
  },
  {
   "cell_type": "code",
   "execution_count": null,
   "metadata": {},
   "outputs": [],
   "source": []
  },
  {
   "cell_type": "code",
   "execution_count": null,
   "metadata": {},
   "outputs": [],
   "source": []
  },
  {
   "cell_type": "code",
   "execution_count": null,
   "metadata": {},
   "outputs": [],
   "source": []
  },
  {
   "cell_type": "code",
   "execution_count": null,
   "metadata": {},
   "outputs": [],
   "source": []
  },
  {
   "cell_type": "code",
   "execution_count": null,
   "metadata": {},
   "outputs": [],
   "source": []
  },
  {
   "cell_type": "code",
   "execution_count": null,
   "metadata": {},
   "outputs": [],
   "source": []
  }
 ],
 "metadata": {
  "kernelspec": {
   "display_name": "Python 2",
   "language": "python",
   "name": "python2"
  },
  "language_info": {
   "codemirror_mode": {
    "name": "ipython",
    "version": 2
   },
   "file_extension": ".py",
   "mimetype": "text/x-python",
   "name": "python",
   "nbconvert_exporter": "python",
   "pygments_lexer": "ipython2",
   "version": "2.7.15rc1"
  }
 },
 "nbformat": 4,
 "nbformat_minor": 2
}
