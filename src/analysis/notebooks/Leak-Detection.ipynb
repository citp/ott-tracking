{
 "cells": [
  {
   "cell_type": "code",
   "execution_count": 1,
   "metadata": {},
   "outputs": [],
   "source": [
    "import LeakDetector\n",
    "import numpy as np\n",
    "import pandas as pd\n",
    "from nb_utils import get_crawl_data_path\n",
    "from device_ids import TV_ID_MAP\n",
    "from log_analysis import (load_dns_data, load_timestamps_from_crawl_data,\n",
    "                          get_distinct_tcp_conns, get_crawl_parameter,\n",
    "                          get_crawl_status, get_http_df, get_http2_df)\n",
    "\n",
    "from os.path import isdir, join, basename\n",
    "from datetime import datetime\n",
    "from glob import glob\n"
   ]
  },
  {
   "cell_type": "code",
   "execution_count": 2,
   "metadata": {},
   "outputs": [],
   "source": [
    "AMAZON_CRAWL = 'amazon-data-20190501-142343'\n",
    "ROKU_CRAWL = 'roku-data-20190412-122224'"
   ]
  },
  {
   "cell_type": "code",
   "execution_count": 3,
   "metadata": {},
   "outputs": [],
   "source": [
    "CHECK_REFERRER_LEAKS = True\n",
    "\n",
    "def check_row_for_leaks(detector, req):\n",
    "    url, cookie_str, post_body, referrer_str = req['url'], req['cookie'], req['post_data'], req['referer']\n",
    "    url_leaks = detector.check_url(url)\n",
    "    url_leaks += detector.substring_search(url, max_layers=2)\n",
    "    #cookie_leaks = detector.check_cookies(headers)\n",
    "    #cookie_str = detector.get_cookie_str(headers, from_request=True)\n",
    "    cookie_leaks = detector.substring_search(cookie_str, max_layers=2)\n",
    "    post_leaks = detector.substring_search(post_body, max_layers=2)\n",
    "    if CHECK_REFERRER_LEAKS:\n",
    "        referrer_leaks = detector.substring_search(referrer_str, max_layers=2)\n",
    "        return url_leaks, cookie_leaks, post_leaks, referrer_leaks\n",
    "    else:\n",
    "        return url_leaks, cookie_leaks, post_leaks"
   ]
  },
  {
   "cell_type": "code",
   "execution_count": 4,
   "metadata": {},
   "outputs": [],
   "source": [
    "def reverse_dict(d):\n",
    "    new_d = dict()\n",
    "    for k, v in d.items():\n",
    "        new_d[v.lower()] = k\n",
    "    return new_d"
   ]
  },
  {
   "cell_type": "code",
   "execution_count": 5,
   "metadata": {},
   "outputs": [],
   "source": [
    "def convert_leaks_to_df(device_ids, leaks_dict):\n",
    "    r_ids = reverse_dict(device_ids)\n",
    "    leaks_dicts = []\n",
    "    for leak_type, leaks in leaks_dict.items():\n",
    "        for leak in leaks:            \n",
    "            # print(leak, len(leak), leak[0])\n",
    "            assert len(leak) <= 2\n",
    "            if len(leak) == 2:\n",
    "                encoding, search = leak\n",
    "            elif len(leak) == 1:\n",
    "                search = leak[0]\n",
    "                encoding = \"unencoded\"\n",
    "            id_type = r_ids[search.lower()]\n",
    "            leaks_dicts.append({'id_type': id_type, 'search': search,\n",
    "                                \"encoding\": encoding, \"leak_type\": leak_type})\n",
    "    return pd.DataFrame(leaks_dicts)\n",
    "\n"
   ]
  },
  {
   "cell_type": "code",
   "execution_count": 6,
   "metadata": {},
   "outputs": [],
   "source": [
    "def detect_leaks_in_requests(df, device_ids):\n",
    "    df.sort_values(\"channel_name\", inplace=True)\n",
    "    last_channel = \"\"\n",
    "    leak_df = pd.DataFrame({})\n",
    "    #for idx, req in df[df.channel_name.str.contains(\"Z\")].iterrows():\n",
    "    for idx, req in df.iterrows():\n",
    "        #print(idx, req['request_full_uri'], req['cookie'], req['post_data'], req['referer'], req['data'])\n",
    "        channel_name = str(req['channel_name'])\n",
    "        channel_id = str(req['channel_id'])\n",
    "        if channel_name !=last_channel:\n",
    "            last_channel = channel_name\n",
    "            # print(\"Channel name\", channel_name)\n",
    "            #device_ids = {}\n",
    "            device_ids[\"Channel name\"] = channel_name\n",
    "            r_device_ids = reverse_dict(device_ids)\n",
    "            leak_detector = LeakDetector.LeakDetector(\n",
    "                device_ids.values(), encoding_set=LeakDetector.ENCODINGS_NO_ROT,\n",
    "                encoding_layers=2, hash_layers=2, debugging=False\n",
    "            )\n",
    "        url_leaks, cookie_leaks, post_leaks, referrer_leaks = check_row_for_leaks(leak_detector, req)\n",
    "        tmp_df = convert_leaks_to_df(device_ids,\n",
    "                                     {\"url_leaks\": url_leaks, \"cookie_leaks\": cookie_leaks,\n",
    "                                      \"post_leaks\": post_leaks, \"referrer_leaks\": referrer_leaks})\n",
    "        tmp_df['channel_id'] = channel_id\n",
    "        tmp_df['channel_name'] = channel_name\n",
    "        tmp_df['url'] = req['url']\n",
    "        tmp_df['cookie'] = req['cookie']\n",
    "        tmp_df['post_data'] = req['post_data']\n",
    "        tmp_df['referer'] = req['referer']\n",
    "        leak_df = leak_df.append(tmp_df, sort=True)\n",
    "        #if len(url_leaks) or len(cookie_leaks) or len(post_leaks) or len(referrer_leaks):\n",
    "        #    if \"scorecard\" not in req['url']:\n",
    "        #        print (req['url'], req['cookie'], req['post_data'], req['referer'], url_leaks, cookie_leaks, post_leaks, referrer_leaks)\n",
    "    device_ids[\"Channel name\"] = \"\"\n",
    "    return leak_df\n"
   ]
  },
  {
   "cell_type": "code",
   "execution_count": 9,
   "metadata": {},
   "outputs": [],
   "source": [
    "def analyze_leaks(crawl_name, req_df=None):\n",
    "    craw_dir = get_crawl_data_path(crawl_name)\n",
    "    if req_df is None:\n",
    "        req_df, _, _ = get_http_df(craw_dir)\n",
    "    print(\"\\nCrawl name: %s\" % crawl_name)\n",
    "    print(\"%d reqs from %d channels\" % (len(req_df), req_df.channel_id.nunique()))\n",
    "    id_dict = TV_ID_MAP[get_crawl_parameter(craw_dir, \"WLANIF\")]\n",
    "    print(\"Will search for the following IDs\", id_dict)\n",
    "    leak_df = detect_leaks_in_requests(req_df, id_dict)\n",
    "\n",
    "    for id_type in id_dict.keys():\n",
    "        num_leaks = leak_df[leak_df.id_type==id_type].channel_id.nunique()\n",
    "        if num_leaks:\n",
    "            print (\"%d channels leaked %s\" % (num_leaks, id_type))\n",
    "\n",
    "    return leak_df, req_df, id_dict"
   ]
  },
  {
   "cell_type": "code",
   "execution_count": 10,
   "metadata": {},
   "outputs": [
    {
     "name": "stdout",
     "output_type": "stream",
     "text": [
      "('Multiple messages', 96)\n",
      "\n",
      "Crawl name: amazon-data-20190501-142343\n",
      "3522 reqs from 78 channels\n",
      "('Will search for the following IDs', {'City': 'Princeton', 'AD ID': '05baacb6-acdf-4e18-84cd-ae78eab7e081', 'Zip': '08540', 'State': 'New Jersey', 'Email': 'macyli47@gmail.com', 'Wifi SSID': 'IoT-Pi-1', 'Device name': \"Macy's 4th Fire TV Stick\", 'Software version': 'Fire OS 5.2.6.9 (6325552020)', 'Channel name': '', 'Serial No': 'G070L82185152J8P', 'MAC': '68:9a:87:20:3d:1d', 'Amazon account': 'Macy Li', 'Password': 'M888777'})\n",
      "9 channels leaked AD ID\n",
      "13 channels leaked Channel name\n",
      "4 channels leaked Serial No\n",
      "('Multiple messages', 402)\n",
      "\n",
      "Crawl name: roku-data-20190412-122224\n",
      "34345 reqs from 130 channels\n",
      "('Will search for the following IDs', {'City': 'Princeton', 'AD ID': 'ded0f0e3-b3aa-59a2-a143-f6c1157a7ae8', 'Device Name': 'Office tv', 'Zip': '08540', 'State': 'New Jersey', 'Device ID': 'C33858901841', 'Email': 'macyli47@gmail.com', 'Wifi SSID': 'IoT-Pi-3-2', 'Serial No': 'YG0080901841', 'MAC': 'd8:31:34:22:e6:ff', 'Build Number': '519.00E04142A', 'Password': 'RoheuskEdfekJa3'})\n",
      "5 channels leaked City\n",
      "68 channels leaked AD ID\n",
      "1 channels leaked Device Name\n",
      "2 channels leaked Zip\n",
      "45 channels leaked Channel name\n",
      "25 channels leaked Serial No\n",
      "71 channels leaked Build Number\n"
     ]
    }
   ],
   "source": [
    "leaks_amazon, requests_amazon, id_dict = analyze_leaks(AMAZON_CRAWL)\n",
    "leaks_roku, requests_roku, id_dict = analyze_leaks(ROKU_CRAWL)"
   ]
  },
  {
   "cell_type": "markdown",
   "metadata": {},
   "source": [
    "## Roku leaks"
   ]
  },
  {
   "cell_type": "code",
   "execution_count": 12,
   "metadata": {},
   "outputs": [
    {
     "data": {
      "text/html": [
       "<div>\n",
       "<style scoped>\n",
       "    .dataframe tbody tr th:only-of-type {\n",
       "        vertical-align: middle;\n",
       "    }\n",
       "\n",
       "    .dataframe tbody tr th {\n",
       "        vertical-align: top;\n",
       "    }\n",
       "\n",
       "    .dataframe thead th {\n",
       "        text-align: right;\n",
       "    }\n",
       "</style>\n",
       "<table border=\"1\" class=\"dataframe\">\n",
       "  <thead>\n",
       "    <tr style=\"text-align: right;\">\n",
       "      <th></th>\n",
       "      <th>channel_id</th>\n",
       "      <th>channel_name</th>\n",
       "      <th>cookie</th>\n",
       "      <th>encoding</th>\n",
       "      <th>id_type</th>\n",
       "      <th>leak_type</th>\n",
       "      <th>post_data</th>\n",
       "      <th>referer</th>\n",
       "      <th>search</th>\n",
       "      <th>url</th>\n",
       "    </tr>\n",
       "  </thead>\n",
       "  <tbody>\n",
       "    <tr>\n",
       "      <th>0</th>\n",
       "      <td>86186</td>\n",
       "      <td>24 Hour Movie Channel</td>\n",
       "      <td></td>\n",
       "      <td>unencoded</td>\n",
       "      <td>AD ID</td>\n",
       "      <td>referrer_leaks</td>\n",
       "      <td></td>\n",
       "      <td>http://us-east-sync.bidswitch.net/ul_cb/sync?d...</td>\n",
       "      <td>ded0f0e3-b3aa-59a2-a143-f6c1157a7ae8</td>\n",
       "      <td>http://match.sharethrough.com/sync/v1?source_i...</td>\n",
       "    </tr>\n",
       "    <tr>\n",
       "      <th>1</th>\n",
       "      <td>86186</td>\n",
       "      <td>24 Hour Movie Channel</td>\n",
       "      <td></td>\n",
       "      <td>unencoded</td>\n",
       "      <td>AD ID</td>\n",
       "      <td>url_leaks</td>\n",
       "      <td></td>\n",
       "      <td>http://us-east-sync.bidswitch.net/ul_cb/sync?d...</td>\n",
       "      <td>ded0f0e3-b3aa-59a2-a143-f6c1157a7ae8</td>\n",
       "      <td>http://match.sharethrough.com/sync/v1?source_i...</td>\n",
       "    </tr>\n",
       "    <tr>\n",
       "      <th>2</th>\n",
       "      <td>86186</td>\n",
       "      <td>24 Hour Movie Channel</td>\n",
       "      <td></td>\n",
       "      <td>unencoded</td>\n",
       "      <td>AD ID</td>\n",
       "      <td>url_leaks</td>\n",
       "      <td></td>\n",
       "      <td>http://us-east-sync.bidswitch.net/ul_cb/sync?d...</td>\n",
       "      <td>ded0f0e3-b3aa-59a2-a143-f6c1157a7ae8</td>\n",
       "      <td>http://match.sharethrough.com/sync/v1?source_i...</td>\n",
       "    </tr>\n",
       "  </tbody>\n",
       "</table>\n",
       "</div>"
      ],
      "text/plain": [
       "  channel_id           channel_name cookie   encoding id_type       leak_type  \\\n",
       "0      86186  24 Hour Movie Channel         unencoded   AD ID  referrer_leaks   \n",
       "1      86186  24 Hour Movie Channel         unencoded   AD ID       url_leaks   \n",
       "2      86186  24 Hour Movie Channel         unencoded   AD ID       url_leaks   \n",
       "\n",
       "  post_data                                            referer  \\\n",
       "0            http://us-east-sync.bidswitch.net/ul_cb/sync?d...   \n",
       "1            http://us-east-sync.bidswitch.net/ul_cb/sync?d...   \n",
       "2            http://us-east-sync.bidswitch.net/ul_cb/sync?d...   \n",
       "\n",
       "                                 search  \\\n",
       "0  ded0f0e3-b3aa-59a2-a143-f6c1157a7ae8   \n",
       "1  ded0f0e3-b3aa-59a2-a143-f6c1157a7ae8   \n",
       "2  ded0f0e3-b3aa-59a2-a143-f6c1157a7ae8   \n",
       "\n",
       "                                                 url  \n",
       "0  http://match.sharethrough.com/sync/v1?source_i...  \n",
       "1  http://match.sharethrough.com/sync/v1?source_i...  \n",
       "2  http://match.sharethrough.com/sync/v1?source_i...  "
      ]
     },
     "execution_count": 12,
     "metadata": {},
     "output_type": "execute_result"
    }
   ],
   "source": [
    "leaks_roku.head(3)"
   ]
  },
  {
   "cell_type": "code",
   "execution_count": 22,
   "metadata": {},
   "outputs": [
    {
     "data": {
      "text/html": [
       "<div>\n",
       "<style scoped>\n",
       "    .dataframe tbody tr th:only-of-type {\n",
       "        vertical-align: middle;\n",
       "    }\n",
       "\n",
       "    .dataframe tbody tr th {\n",
       "        vertical-align: top;\n",
       "    }\n",
       "\n",
       "    .dataframe thead th {\n",
       "        text-align: right;\n",
       "    }\n",
       "</style>\n",
       "<table border=\"1\" class=\"dataframe\">\n",
       "  <thead>\n",
       "    <tr style=\"text-align: right;\">\n",
       "      <th></th>\n",
       "      <th>channel_id</th>\n",
       "      <th>channel_name</th>\n",
       "      <th>cookie</th>\n",
       "      <th>encoding</th>\n",
       "      <th>id_type</th>\n",
       "      <th>leak_type</th>\n",
       "      <th>post_data</th>\n",
       "      <th>referer</th>\n",
       "      <th>search</th>\n",
       "      <th>url</th>\n",
       "    </tr>\n",
       "  </thead>\n",
       "  <tbody>\n",
       "    <tr>\n",
       "      <th>0</th>\n",
       "      <td>com.amctve.amcfiretv</td>\n",
       "      <td>AMC</td>\n",
       "      <td></td>\n",
       "      <td>unencoded</td>\n",
       "      <td>Channel name</td>\n",
       "      <td>url_leaks</td>\n",
       "      <td></td>\n",
       "      <td></td>\n",
       "      <td>amc</td>\n",
       "      <td>http://amc-api-br.svc.ds.amcn.com/v2/public/mv...</td>\n",
       "    </tr>\n",
       "    <tr>\n",
       "      <th>1</th>\n",
       "      <td>com.amctve.amcfiretv</td>\n",
       "      <td>AMC</td>\n",
       "      <td></td>\n",
       "      <td>unencoded</td>\n",
       "      <td>Channel name</td>\n",
       "      <td>url_leaks</td>\n",
       "      <td></td>\n",
       "      <td></td>\n",
       "      <td>amc</td>\n",
       "      <td>http://amc-api-br.svc.ds.amcn.com/v2/public/mv...</td>\n",
       "    </tr>\n",
       "    <tr>\n",
       "      <th>0</th>\n",
       "      <td>com.amctve.amcfiretv</td>\n",
       "      <td>AMC</td>\n",
       "      <td></td>\n",
       "      <td>unencoded</td>\n",
       "      <td>Channel name</td>\n",
       "      <td>url_leaks</td>\n",
       "      <td></td>\n",
       "      <td></td>\n",
       "      <td>amc</td>\n",
       "      <td>http://amc-api-br.svc.ds.amcn.com/v2/public/fe...</td>\n",
       "    </tr>\n",
       "  </tbody>\n",
       "</table>\n",
       "</div>"
      ],
      "text/plain": [
       "             channel_id channel_name cookie   encoding       id_type  \\\n",
       "0  com.amctve.amcfiretv          AMC         unencoded  Channel name   \n",
       "1  com.amctve.amcfiretv          AMC         unencoded  Channel name   \n",
       "0  com.amctve.amcfiretv          AMC         unencoded  Channel name   \n",
       "\n",
       "   leak_type post_data referer search  \\\n",
       "0  url_leaks                      amc   \n",
       "1  url_leaks                      amc   \n",
       "0  url_leaks                      amc   \n",
       "\n",
       "                                                 url  \n",
       "0  http://amc-api-br.svc.ds.amcn.com/v2/public/mv...  \n",
       "1  http://amc-api-br.svc.ds.amcn.com/v2/public/mv...  \n",
       "0  http://amc-api-br.svc.ds.amcn.com/v2/public/fe...  "
      ]
     },
     "execution_count": 22,
     "metadata": {},
     "output_type": "execute_result"
    }
   ],
   "source": [
    "leaks_amazon.head(3)"
   ]
  },
  {
   "cell_type": "markdown",
   "metadata": {},
   "source": [
    "### Leaked IDs"
   ]
  },
  {
   "cell_type": "code",
   "execution_count": 14,
   "metadata": {},
   "outputs": [
    {
     "data": {
      "text/plain": [
       "Channel name    11272\n",
       "AD ID            4784\n",
       "Build Number     3974\n",
       "Serial No        2435\n",
       "City               86\n",
       "Zip                16\n",
       "Device Name         9\n",
       "Name: id_type, dtype: int64"
      ]
     },
     "execution_count": 14,
     "metadata": {},
     "output_type": "execute_result"
    }
   ],
   "source": [
    "leaks_roku.id_type.value_counts()"
   ]
  },
  {
   "cell_type": "code",
   "execution_count": 19,
   "metadata": {},
   "outputs": [
    {
     "data": {
      "text/plain": [
       "Channel name    488\n",
       "AD ID            82\n",
       "Serial No        28\n",
       "Name: id_type, dtype: int64"
      ]
     },
     "execution_count": 19,
     "metadata": {},
     "output_type": "execute_result"
    }
   ],
   "source": [
    "leaks_amazon.id_type.value_counts()"
   ]
  },
  {
   "cell_type": "markdown",
   "metadata": {},
   "source": [
    "### Leak location"
   ]
  },
  {
   "cell_type": "code",
   "execution_count": 15,
   "metadata": {},
   "outputs": [
    {
     "data": {
      "text/plain": [
       "url_leaks         19293\n",
       "post_leaks         2847\n",
       "referrer_leaks      364\n",
       "cookie_leaks         72\n",
       "Name: leak_type, dtype: int64"
      ]
     },
     "execution_count": 15,
     "metadata": {},
     "output_type": "execute_result"
    }
   ],
   "source": [
    "leaks_roku.leak_type.value_counts()"
   ]
  },
  {
   "cell_type": "code",
   "execution_count": 20,
   "metadata": {},
   "outputs": [
    {
     "data": {
      "text/plain": [
       "url_leaks     517\n",
       "post_leaks     81\n",
       "Name: leak_type, dtype: int64"
      ]
     },
     "execution_count": 20,
     "metadata": {},
     "output_type": "execute_result"
    }
   ],
   "source": [
    "leaks_amazon.leak_type.value_counts()"
   ]
  },
  {
   "cell_type": "markdown",
   "metadata": {},
   "source": [
    "### Leak encodings"
   ]
  },
  {
   "cell_type": "code",
   "execution_count": 17,
   "metadata": {},
   "outputs": [
    {
     "data": {
      "text/plain": [
       "unencoded    19209\n",
       "sha1          1466\n",
       "md5           1466\n",
       "base64         218\n",
       "urlencode      217\n",
       "Name: encoding, dtype: int64"
      ]
     },
     "execution_count": 17,
     "metadata": {},
     "output_type": "execute_result"
    }
   ],
   "source": [
    "leaks_roku.encoding.value_counts()"
   ]
  },
  {
   "cell_type": "code",
   "execution_count": 21,
   "metadata": {},
   "outputs": [
    {
     "data": {
      "text/plain": [
       "unencoded    575\n",
       "urlencode     19\n",
       "md5            4\n",
       "Name: encoding, dtype: int64"
      ]
     },
     "execution_count": 21,
     "metadata": {},
     "output_type": "execute_result"
    }
   ],
   "source": [
    "leaks_amazon.encoding.value_counts()"
   ]
  },
  {
   "cell_type": "code",
   "execution_count": null,
   "metadata": {},
   "outputs": [],
   "source": []
  }
 ],
 "metadata": {
  "kernelspec": {
   "display_name": "Python 2",
   "language": "python",
   "name": "python2"
  },
  "language_info": {
   "codemirror_mode": {
    "name": "ipython",
    "version": 2
   },
   "file_extension": ".py",
   "mimetype": "text/x-python",
   "name": "python",
   "nbconvert_exporter": "python",
   "pygments_lexer": "ipython2",
   "version": "2.7.15rc1"
  }
 },
 "nbformat": 4,
 "nbformat_minor": 2
}
