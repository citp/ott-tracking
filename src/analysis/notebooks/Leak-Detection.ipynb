{
 "cells": [
  {
   "cell_type": "code",
   "execution_count": 1,
   "metadata": {},
   "outputs": [],
   "source": [
    "import LeakDetector\n",
    "import numpy as np\n",
    "import pandas as pd\n",
    "from nb_utils import get_crawl_data_path\n",
    "from device_ids import TV_ID_MAP\n",
    "from log_analysis import (load_dns_data, load_timestamps_from_crawl_data,\n",
    "                          get_distinct_tcp_conns, get_crawl_parameter,\n",
    "                          get_crawl_status, get_http_df, get_http2_df)\n",
    "\n",
    "from os.path import isdir, join, basename\n",
    "from datetime import datetime\n",
    "from glob import glob\n"
   ]
  },
  {
   "cell_type": "code",
   "execution_count": 2,
   "metadata": {},
   "outputs": [],
   "source": [
    "AMAZON_CRAWL = 'amazon-data-20190501-142343'\n",
    "ROKU_CRAWL = 'roku-data-20190503-120644'"
   ]
  },
  {
   "cell_type": "code",
   "execution_count": 3,
   "metadata": {},
   "outputs": [],
   "source": [
    "CHECK_REFERRER_LEAKS = True\n",
    "\n",
    "def check_row_for_leaks(detector, req):\n",
    "    url, cookie_str, post_body, referrer_str = req['url'], req['cookie'], req['post_data'], req['referer']\n",
    "    url_leaks = detector.check_url(url)\n",
    "    url_leaks += detector.substring_search(url, max_layers=2)\n",
    "    #cookie_leaks = detector.check_cookies(headers)\n",
    "    #cookie_str = detector.get_cookie_str(headers, from_request=True)\n",
    "    cookie_leaks = detector.substring_search(cookie_str, max_layers=2)\n",
    "    post_leaks = detector.substring_search(post_body, max_layers=2)\n",
    "    if CHECK_REFERRER_LEAKS:\n",
    "        referrer_leaks = detector.substring_search(referrer_str, max_layers=2)\n",
    "        return url_leaks, cookie_leaks, post_leaks, referrer_leaks\n",
    "    else:\n",
    "        return url_leaks, cookie_leaks, post_leaks"
   ]
  },
  {
   "cell_type": "code",
   "execution_count": 4,
   "metadata": {},
   "outputs": [],
   "source": [
    "def reverse_dict(d):\n",
    "    new_d = dict()\n",
    "    for k, v in d.items():\n",
    "        new_d[v.lower()] = k\n",
    "    return new_d"
   ]
  },
  {
   "cell_type": "code",
   "execution_count": 5,
   "metadata": {},
   "outputs": [],
   "source": [
    "def convert_leaks_to_df(device_ids, leaks_dict):\n",
    "    r_ids = reverse_dict(device_ids)\n",
    "    leaks_dicts = []\n",
    "    for leak_type, leaks in leaks_dict.items():\n",
    "        for leak in leaks:            \n",
    "            # print(leak, len(leak), leak[0])\n",
    "            assert len(leak) <= 2\n",
    "            if len(leak) == 2:\n",
    "                encoding, search = leak\n",
    "            elif len(leak) == 1:\n",
    "                search = leak[0]\n",
    "                encoding = \"unencoded\"\n",
    "            id_type = r_ids[search.lower()]\n",
    "            leaks_dicts.append({'id_type': id_type, 'search': search,\n",
    "                                \"encoding\": encoding, \"leak_type\": leak_type})\n",
    "    return pd.DataFrame(leaks_dicts)\n",
    "\n"
   ]
  },
  {
   "cell_type": "code",
   "execution_count": 6,
   "metadata": {},
   "outputs": [],
   "source": [
    "def detect_leaks_in_requests(df, device_ids):\n",
    "    df.sort_values(\"channel_name\", inplace=True)\n",
    "    last_channel = \"\"\n",
    "    leak_df = pd.DataFrame({})\n",
    "    #for idx, req in df[df.channel_name.str.contains(\"Z\")].iterrows():\n",
    "    for idx, req in df.iterrows():\n",
    "        #print(idx, req['request_full_uri'], req['cookie'], req['post_data'], req['referer'], req['data'])\n",
    "        channel_name = str(req['channel_name'])\n",
    "        channel_id = str(req['channel_id'])\n",
    "        if channel_name !=last_channel:\n",
    "            last_channel = channel_name\n",
    "            # print(\"Channel name\", channel_name)\n",
    "            #device_ids = {}\n",
    "            device_ids[\"Channel name\"] = channel_name\n",
    "            r_device_ids = reverse_dict(device_ids)\n",
    "            leak_detector = LeakDetector.LeakDetector(\n",
    "                device_ids.values(), encoding_set=LeakDetector.ENCODINGS_NO_ROT,\n",
    "                encoding_layers=2, hash_layers=2, debugging=False\n",
    "            )\n",
    "        url_leaks, cookie_leaks, post_leaks, referrer_leaks = check_row_for_leaks(leak_detector, req)\n",
    "        tmp_df = convert_leaks_to_df(device_ids,\n",
    "                                     {\"url_leaks\": url_leaks, \"cookie_leaks\": cookie_leaks,\n",
    "                                      \"post_leaks\": post_leaks, \"referrer_leaks\": referrer_leaks})\n",
    "        tmp_df['channel_id'] = channel_id\n",
    "        tmp_df['channel_name'] = channel_name\n",
    "        tmp_df['url'] = req['url']\n",
    "        tmp_df['cookie'] = req['cookie']\n",
    "        tmp_df['post_data'] = req['post_data']\n",
    "        tmp_df['referer'] = req['referer']\n",
    "        leak_df = leak_df.append(tmp_df, sort=True)\n",
    "        #if len(url_leaks) or len(cookie_leaks) or len(post_leaks) or len(referrer_leaks):\n",
    "        #    if \"scorecard\" not in req['url']:\n",
    "        #        print (req['url'], req['cookie'], req['post_data'], req['referer'], url_leaks, cookie_leaks, post_leaks, referrer_leaks)\n",
    "    device_ids[\"Channel name\"] = \"\"\n",
    "    return leak_df\n"
   ]
  },
  {
   "cell_type": "code",
   "execution_count": 7,
   "metadata": {},
   "outputs": [],
   "source": [
    "def analyze_leaks(crawl_name, req_df=None):\n",
    "    craw_dir = get_crawl_data_path(crawl_name)\n",
    "    if req_df is None:\n",
    "        req_df, _, _ = get_http_df(craw_dir)\n",
    "    print(\"\\nCrawl name: %s\" % crawl_name)\n",
    "    print(\"%d reqs from %d channels\" % (len(req_df), req_df.channel_id.nunique()))\n",
    "    id_dict = TV_ID_MAP[get_crawl_parameter(craw_dir, \"WLANIF\")]\n",
    "    print(\"Will search for the following IDs\", id_dict)\n",
    "    leak_df = detect_leaks_in_requests(req_df, id_dict)\n",
    "\n",
    "    for id_type in id_dict.keys():\n",
    "        num_leaks = leak_df[leak_df.id_type==id_type].channel_id.nunique()\n",
    "        if num_leaks:\n",
    "            print (\"%d channels leaked %s\" % (num_leaks, id_type))\n",
    "\n",
    "    return leak_df, req_df, id_dict"
   ]
  },
  {
   "cell_type": "code",
   "execution_count": 8,
   "metadata": {},
   "outputs": [
    {
     "name": "stdout",
     "output_type": "stream",
     "text": [
      "('Multiple messages', 97)\n",
      "\n",
      "Crawl name: roku-data-20190503-120644\n",
      "4011 reqs from 73 channels\n",
      "('Will search for the following IDs', {'City': 'Princeton', 'AD ID': 'ded0f0e3-b3aa-59a2-a143-f6c1157a7ae8', 'Device Name': 'Office tv', 'Zip': '08540', 'State': 'New Jersey', 'Device ID': 'C33858901841', 'Email': 'macyli47@gmail.com', 'Wifi SSID': 'IoT-Pi-3-2', 'Serial No': 'YG0080901841', 'MAC': 'd8:31:34:22:e6:ff', 'Build Number': '519.00E04142A', 'Password': 'RoheuskEdfekJa3'})\n"
     ]
    },
    {
     "name": "stderr",
     "output_type": "stream",
     "text": [
      "LeakDetector.py:450: UnicodeWarning: Unicode equal comparison failed to convert both arguments to Unicode - interpreting them as being unequal\n",
      "  if decoded == string:  # don't add no-ops\n"
     ]
    },
    {
     "name": "stdout",
     "output_type": "stream",
     "text": [
      "2 channels leaked City\n",
      "30 channels leaked AD ID\n",
      "1 channels leaked Zip\n",
      "24 channels leaked Channel name\n",
      "14 channels leaked Serial No\n",
      "34 channels leaked Build Number\n"
     ]
    }
   ],
   "source": [
    "# leaks_amazon, requests_amazon, id_dict = analyze_leaks(AMAZON_CRAWL)\n",
    "leaks_roku, requests_roku, id_dict = analyze_leaks(ROKU_CRAWL)"
   ]
  },
  {
   "cell_type": "markdown",
   "metadata": {},
   "source": [
    "## Roku leaks"
   ]
  },
  {
   "cell_type": "code",
   "execution_count": 9,
   "metadata": {},
   "outputs": [
    {
     "data": {
      "text/html": [
       "<div>\n",
       "<style scoped>\n",
       "    .dataframe tbody tr th:only-of-type {\n",
       "        vertical-align: middle;\n",
       "    }\n",
       "\n",
       "    .dataframe tbody tr th {\n",
       "        vertical-align: top;\n",
       "    }\n",
       "\n",
       "    .dataframe thead th {\n",
       "        text-align: right;\n",
       "    }\n",
       "</style>\n",
       "<table border=\"1\" class=\"dataframe\">\n",
       "  <thead>\n",
       "    <tr style=\"text-align: right;\">\n",
       "      <th></th>\n",
       "      <th>channel_id</th>\n",
       "      <th>channel_name</th>\n",
       "      <th>cookie</th>\n",
       "      <th>encoding</th>\n",
       "      <th>id_type</th>\n",
       "      <th>leak_type</th>\n",
       "      <th>post_data</th>\n",
       "      <th>referer</th>\n",
       "      <th>search</th>\n",
       "      <th>url</th>\n",
       "    </tr>\n",
       "  </thead>\n",
       "  <tbody>\n",
       "    <tr>\n",
       "      <th>0</th>\n",
       "      <td>11261</td>\n",
       "      <td>3ABN</td>\n",
       "      <td></td>\n",
       "      <td>unencoded</td>\n",
       "      <td>Channel name</td>\n",
       "      <td>url_leaks</td>\n",
       "      <td></td>\n",
       "      <td></td>\n",
       "      <td>3abn</td>\n",
       "      <td>http://roku-assets.3abn.org/3abn.json</td>\n",
       "    </tr>\n",
       "    <tr>\n",
       "      <th>1</th>\n",
       "      <td>11261</td>\n",
       "      <td>3ABN</td>\n",
       "      <td></td>\n",
       "      <td>unencoded</td>\n",
       "      <td>Channel name</td>\n",
       "      <td>url_leaks</td>\n",
       "      <td></td>\n",
       "      <td></td>\n",
       "      <td>3abn</td>\n",
       "      <td>http://roku-assets.3abn.org/3abn.json</td>\n",
       "    </tr>\n",
       "    <tr>\n",
       "      <th>0</th>\n",
       "      <td>11261</td>\n",
       "      <td>3ABN</td>\n",
       "      <td></td>\n",
       "      <td>unencoded</td>\n",
       "      <td>Channel name</td>\n",
       "      <td>url_leaks</td>\n",
       "      <td></td>\n",
       "      <td></td>\n",
       "      <td>3abn</td>\n",
       "      <td>http://roku-assets.3abn.org/3abn.json</td>\n",
       "    </tr>\n",
       "  </tbody>\n",
       "</table>\n",
       "</div>"
      ],
      "text/plain": [
       "  channel_id channel_name cookie   encoding       id_type  leak_type  \\\n",
       "0      11261         3ABN         unencoded  Channel name  url_leaks   \n",
       "1      11261         3ABN         unencoded  Channel name  url_leaks   \n",
       "0      11261         3ABN         unencoded  Channel name  url_leaks   \n",
       "\n",
       "  post_data referer search                                    url  \n",
       "0                     3abn  http://roku-assets.3abn.org/3abn.json  \n",
       "1                     3abn  http://roku-assets.3abn.org/3abn.json  \n",
       "0                     3abn  http://roku-assets.3abn.org/3abn.json  "
      ]
     },
     "execution_count": 9,
     "metadata": {},
     "output_type": "execute_result"
    }
   ],
   "source": [
    "leaks_roku.head(3)"
   ]
  },
  {
   "cell_type": "code",
   "execution_count": 11,
   "metadata": {},
   "outputs": [],
   "source": [
    "# leaks_amazon.head(3)"
   ]
  },
  {
   "cell_type": "markdown",
   "metadata": {},
   "source": [
    "### Leaked IDs"
   ]
  },
  {
   "cell_type": "code",
   "execution_count": 12,
   "metadata": {},
   "outputs": [
    {
     "data": {
      "text/plain": [
       "Channel name    1743\n",
       "AD ID            655\n",
       "Build Number     450\n",
       "Serial No        246\n",
       "Zip                8\n",
       "City               2\n",
       "Name: id_type, dtype: int64"
      ]
     },
     "execution_count": 12,
     "metadata": {},
     "output_type": "execute_result"
    }
   ],
   "source": [
    "leaks_roku.id_type.value_counts()"
   ]
  },
  {
   "cell_type": "code",
   "execution_count": 19,
   "metadata": {},
   "outputs": [
    {
     "data": {
      "text/plain": [
       "Channel name    488\n",
       "AD ID            82\n",
       "Serial No        28\n",
       "Name: id_type, dtype: int64"
      ]
     },
     "execution_count": 19,
     "metadata": {},
     "output_type": "execute_result"
    }
   ],
   "source": [
    "leaks_amazon.id_type.value_counts()"
   ]
  },
  {
   "cell_type": "markdown",
   "metadata": {},
   "source": [
    "### Leak location"
   ]
  },
  {
   "cell_type": "code",
   "execution_count": 13,
   "metadata": {},
   "outputs": [
    {
     "data": {
      "text/plain": [
       "url_leaks         2560\n",
       "post_leaks         454\n",
       "referrer_leaks      82\n",
       "cookie_leaks         8\n",
       "Name: leak_type, dtype: int64"
      ]
     },
     "execution_count": 13,
     "metadata": {},
     "output_type": "execute_result"
    }
   ],
   "source": [
    "leaks_roku.leak_type.value_counts()"
   ]
  },
  {
   "cell_type": "code",
   "execution_count": 20,
   "metadata": {},
   "outputs": [
    {
     "data": {
      "text/plain": [
       "url_leaks     517\n",
       "post_leaks     81\n",
       "Name: leak_type, dtype: int64"
      ]
     },
     "execution_count": 20,
     "metadata": {},
     "output_type": "execute_result"
    }
   ],
   "source": [
    "leaks_amazon.leak_type.value_counts()"
   ]
  },
  {
   "cell_type": "markdown",
   "metadata": {},
   "source": [
    "### Leak encodings"
   ]
  },
  {
   "cell_type": "code",
   "execution_count": 14,
   "metadata": {},
   "outputs": [
    {
     "data": {
      "text/plain": [
       "unencoded    2754\n",
       "sha1          162\n",
       "md5           162\n",
       "base64         14\n",
       "urlencode      12\n",
       "Name: encoding, dtype: int64"
      ]
     },
     "execution_count": 14,
     "metadata": {},
     "output_type": "execute_result"
    }
   ],
   "source": [
    "leaks_roku.encoding.value_counts()"
   ]
  },
  {
   "cell_type": "code",
   "execution_count": 16,
   "metadata": {},
   "outputs": [],
   "source": [
    "#leaks_amazon.encoding.value_counts()"
   ]
  },
  {
   "cell_type": "code",
   "execution_count": null,
   "metadata": {},
   "outputs": [],
   "source": []
  }
 ],
 "metadata": {
  "kernelspec": {
   "display_name": "Python 2",
   "language": "python",
   "name": "python2"
  },
  "language_info": {
   "codemirror_mode": {
    "name": "ipython",
    "version": 2
   },
   "file_extension": ".py",
   "mimetype": "text/x-python",
   "name": "python",
   "nbconvert_exporter": "python",
   "pygments_lexer": "ipython2",
   "version": "2.7.15rc1"
  }
 },
 "nbformat": 4,
 "nbformat_minor": 2
}
