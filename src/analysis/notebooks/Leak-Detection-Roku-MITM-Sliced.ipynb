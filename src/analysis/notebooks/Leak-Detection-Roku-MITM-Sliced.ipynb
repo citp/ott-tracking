{
 "cells": [
  {
   "cell_type": "code",
   "execution_count": 1,
   "metadata": {},
   "outputs": [],
   "source": [
    "import LeakDetector\n",
    "import numpy as np\n",
    "import pandas as pd\n",
    "from os.path import isdir, join, basename\n",
    "from datetime import datetime\n",
    "from glob import glob"
   ]
  },
  {
   "cell_type": "code",
   "execution_count": 2,
   "metadata": {},
   "outputs": [],
   "source": [
    "from device_ids import TV_ID_MAP_V1\n",
    "from log_analysis import get_crawl_parameter, get_crawl_data_path, get_ott_device_mac, get_last_smart_launch_times\n",
    "from crawl_ids import CrawlRokuTop1KMITM\n",
    "from df_utils import load_df\n",
    "from nb_utils import make_latex_table\n",
    "\n",
    "from ott_leaks import run_leak_detection, DEVICE_ID_NAMES, print_leak_stats, remove_ch_name_url_false_positives"
   ]
  },
  {
   "cell_type": "markdown",
   "metadata": {},
   "source": [
    "## Load leaks\n",
    "- Run the following to detect and pickle leaks\n",
    "  - Detect on all crawls: `python2 detect_leaks.py`\n",
    "  - Detect on a single crawl: `python2 detect_leaks.py roku-data-20190508-013650`"
   ]
  },
  {
   "cell_type": "code",
   "execution_count": 24,
   "metadata": {},
   "outputs": [
    {
     "data": {
      "text/html": [
       "<div>\n",
       "<style scoped>\n",
       "    .dataframe tbody tr th:only-of-type {\n",
       "        vertical-align: middle;\n",
       "    }\n",
       "\n",
       "    .dataframe tbody tr th {\n",
       "        vertical-align: top;\n",
       "    }\n",
       "\n",
       "    .dataframe thead th {\n",
       "        text-align: right;\n",
       "    }\n",
       "</style>\n",
       "<table border=\"1\" class=\"dataframe\">\n",
       "  <thead>\n",
       "    <tr style=\"text-align: right;\">\n",
       "      <th></th>\n",
       "      <th>ID</th>\n",
       "      <th>Num. of leaks</th>\n",
       "      <th>Num. of channels</th>\n",
       "    </tr>\n",
       "  </thead>\n",
       "  <tbody>\n",
       "    <tr>\n",
       "      <th>0</th>\n",
       "      <td>AD ID</td>\n",
       "      <td>2650</td>\n",
       "      <td>320</td>\n",
       "    </tr>\n",
       "    <tr>\n",
       "      <th>1</th>\n",
       "      <td>Channel name</td>\n",
       "      <td>2331</td>\n",
       "      <td>197</td>\n",
       "    </tr>\n",
       "    <tr>\n",
       "      <th>2</th>\n",
       "      <td>Serial No</td>\n",
       "      <td>996</td>\n",
       "      <td>110</td>\n",
       "    </tr>\n",
       "    <tr>\n",
       "      <th>3</th>\n",
       "      <td>City</td>\n",
       "      <td>64</td>\n",
       "      <td>11</td>\n",
       "    </tr>\n",
       "    <tr>\n",
       "      <th>4</th>\n",
       "      <td>State</td>\n",
       "      <td>33</td>\n",
       "      <td>6</td>\n",
       "    </tr>\n",
       "    <tr>\n",
       "      <th>5</th>\n",
       "      <td>Zip</td>\n",
       "      <td>61</td>\n",
       "      <td>10</td>\n",
       "    </tr>\n",
       "  </tbody>\n",
       "</table>\n",
       "</div>"
      ],
      "text/plain": [
       "             ID  Num. of leaks  Num. of channels\n",
       "0         AD ID           2650               320\n",
       "1  Channel name           2331               197\n",
       "2     Serial No            996               110\n",
       "3          City             64                11\n",
       "4         State             33                 6\n",
       "5           Zip             61                10"
      ]
     },
     "execution_count": 24,
     "metadata": {},
     "output_type": "execute_result"
    }
   ],
   "source": [
    "leaks_roku = load_df(CrawlRokuTop1KMITM, \"leak\")\n",
    "last_smart_launch_times = get_last_smart_launch_times(CrawlRokuTop1KMITM)\n",
    "leaks_roku[\"valid\"] = leaks_roku.apply(lambda x: x[\"time\"]>=last_smart_launch_times[x[\"channel_id\"]], axis=1)\n",
    "leaks_roku = leaks_roku[leaks_roku.valid]\n",
    "\n",
    "# see below\n",
    "email_leaks_roku = leaks_roku[leaks_roku.id_type==\"Email\"]\n",
    "leaks_roku = leaks_roku[leaks_roku.id_type!=\"Email\"]\n",
    "\n",
    "leaks_roku = leaks_roku[leaks_roku.id_type!=\"Build Number\"]\n",
    "leaks_roku = leaks_roku[leaks_roku.req_domain!=\"roku.com\"]\n",
    "id_leaks_roku = leaks_roku[leaks_roku.id_type.isin(DEVICE_ID_NAMES)]\n",
    "df = print_leak_stats(leaks_roku)\n",
    "df"
   ]
  },
  {
   "cell_type": "code",
   "execution_count": 25,
   "metadata": {},
   "outputs": [
    {
     "name": "stdout",
     "output_type": "stream",
     "text": [
      "\n",
      "\\begin{table}[H]\n",
      "%\\centering\n",
      "%\\resizebox{\\columnwidth}{!}{%\n",
      "\\begin{tabular}{lrr}\n",
      "\\toprule\n",
      " Id           &   Num. of leaks &   Num. of channels \\\\\n",
      "\\midrule\n",
      " AD ID        &            2650 &                320 \\\\\n",
      " Channel name &            2331 &                197 \\\\\n",
      " Serial No    &             996 &                110 \\\\\n",
      " City         &              64 &                 11 \\\\\n",
      " State        &              33 &                  6 \\\\\n",
      " Zip          &              61 &                 10 \\\\\n",
      "\\bottomrule\n",
      "\\end{tabular}\n",
      "%}\n",
      "\\caption{Overview of information leakage detected in Roku-Top1K-NoMITM crawl}\n",
      "\\label{tab:leaks_roku}\n",
      "\\end{table}\n"
     ]
    }
   ],
   "source": [
    "print(make_latex_table(\n",
    "    df, caption=\"Overview of information leakage detected in Roku-Top1K-NoMITM crawl\",\n",
    "    label=\"leaks_roku\"))"
   ]
  },
  {
   "cell_type": "code",
   "execution_count": 12,
   "metadata": {},
   "outputs": [],
   "source": [
    "## Pi-Hole-Block"
   ]
  },
  {
   "cell_type": "markdown",
   "metadata": {},
   "source": [
    "## ID Leaks\n",
    "- Exclude non-Id search terms"
   ]
  },
  {
   "cell_type": "code",
   "execution_count": 13,
   "metadata": {},
   "outputs": [
    {
     "data": {
      "text/html": [
       "<div>\n",
       "<style scoped>\n",
       "    .dataframe tbody tr th:only-of-type {\n",
       "        vertical-align: middle;\n",
       "    }\n",
       "\n",
       "    .dataframe tbody tr th {\n",
       "        vertical-align: top;\n",
       "    }\n",
       "\n",
       "    .dataframe thead th {\n",
       "        text-align: right;\n",
       "    }\n",
       "</style>\n",
       "<table border=\"1\" class=\"dataframe\">\n",
       "  <thead>\n",
       "    <tr style=\"text-align: right;\">\n",
       "      <th></th>\n",
       "      <th>ID</th>\n",
       "      <th>Num. of leaks</th>\n",
       "      <th>Num. of channels</th>\n",
       "    </tr>\n",
       "  </thead>\n",
       "  <tbody>\n",
       "    <tr>\n",
       "      <th>0</th>\n",
       "      <td>AD ID</td>\n",
       "      <td>2650</td>\n",
       "      <td>320</td>\n",
       "    </tr>\n",
       "    <tr>\n",
       "      <th>1</th>\n",
       "      <td>Serial No</td>\n",
       "      <td>996</td>\n",
       "      <td>110</td>\n",
       "    </tr>\n",
       "  </tbody>\n",
       "</table>\n",
       "</div>"
      ],
      "text/plain": [
       "          ID  Num. of leaks  Num. of channels\n",
       "0      AD ID           2650               320\n",
       "1  Serial No            996               110"
      ]
     },
     "execution_count": 13,
     "metadata": {},
     "output_type": "execute_result"
    }
   ],
   "source": [
    "print_leak_stats(id_leaks_roku)"
   ]
  },
  {
   "cell_type": "code",
   "execution_count": 14,
   "metadata": {},
   "outputs": [
    {
     "data": {
      "text/plain": [
       "True     4452\n",
       "False    1690\n",
       "Name: adblocked, dtype: int64"
      ]
     },
     "execution_count": 14,
     "metadata": {},
     "output_type": "execute_result"
    }
   ],
   "source": [
    "leaks_roku.adblocked.value_counts()"
   ]
  },
  {
   "cell_type": "markdown",
   "metadata": {},
   "source": [
    "### Email sent on channel (for registration)\n",
    "- email address sant to  http://api.qello.com/users/register/ for registration purposes\n",
    "- crawler actually clicked the dialog to allow email address to be accessed from Roku"
   ]
  },
  {
   "cell_type": "code",
   "execution_count": 15,
   "metadata": {},
   "outputs": [
    {
     "data": {
      "text/html": [
       "<div>\n",
       "<style scoped>\n",
       "    .dataframe tbody tr th:only-of-type {\n",
       "        vertical-align: middle;\n",
       "    }\n",
       "\n",
       "    .dataframe tbody tr th {\n",
       "        vertical-align: top;\n",
       "    }\n",
       "\n",
       "    .dataframe thead th {\n",
       "        text-align: right;\n",
       "    }\n",
       "</style>\n",
       "<table border=\"1\" class=\"dataframe\">\n",
       "  <thead>\n",
       "    <tr style=\"text-align: right;\">\n",
       "      <th></th>\n",
       "      <th>adblocked</th>\n",
       "      <th>adblocked_by_url</th>\n",
       "      <th>category</th>\n",
       "      <th>channel_id</th>\n",
       "      <th>channel_name</th>\n",
       "      <th>cookie</th>\n",
       "      <th>decoded_data</th>\n",
       "      <th>disconnect_blocked</th>\n",
       "      <th>disconnect_blocked_by_url</th>\n",
       "      <th>domain_by_dns</th>\n",
       "      <th>...</th>\n",
       "      <th>referer</th>\n",
       "      <th>req_domain</th>\n",
       "      <th>search</th>\n",
       "      <th>status</th>\n",
       "      <th>tcp_dstport</th>\n",
       "      <th>tcp_stream</th>\n",
       "      <th>time</th>\n",
       "      <th>url</th>\n",
       "      <th>user_agent</th>\n",
       "      <th>valid</th>\n",
       "    </tr>\n",
       "  </thead>\n",
       "  <tbody>\n",
       "    <tr>\n",
       "      <th>0</th>\n",
       "      <td>False</td>\n",
       "      <td>False</td>\n",
       "      <td>Sports</td>\n",
       "      <td>256015</td>\n",
       "      <td>AHLTV</td>\n",
       "      <td></td>\n",
       "      <td></td>\n",
       "      <td>False</td>\n",
       "      <td>False</td>\n",
       "      <td>watchtheahl.com</td>\n",
       "      <td>...</td>\n",
       "      <td></td>\n",
       "      <td>watchtheahl.com</td>\n",
       "      <td>macyli47@gmail.com</td>\n",
       "      <td>TERMINATED</td>\n",
       "      <td>443</td>\n",
       "      <td>152</td>\n",
       "      <td>1558854936.908638000</td>\n",
       "      <td>https://ott.watchtheahl.com/user_lookup?email=...</td>\n",
       "      <td>Roku/DVP-9.0 (519.00E04142A)</td>\n",
       "      <td>True</td>\n",
       "    </tr>\n",
       "    <tr>\n",
       "      <th>0</th>\n",
       "      <td>False</td>\n",
       "      <td>False</td>\n",
       "      <td>Sports</td>\n",
       "      <td>256015</td>\n",
       "      <td>AHLTV</td>\n",
       "      <td></td>\n",
       "      <td></td>\n",
       "      <td>False</td>\n",
       "      <td>False</td>\n",
       "      <td>watchtheahl.com</td>\n",
       "      <td>...</td>\n",
       "      <td></td>\n",
       "      <td>watchtheahl.com</td>\n",
       "      <td>macyli47@gmail.com</td>\n",
       "      <td>TERMINATED</td>\n",
       "      <td>443</td>\n",
       "      <td>172</td>\n",
       "      <td>1558854970.701874000</td>\n",
       "      <td>https://ott.watchtheahl.com/user_lookup?email=...</td>\n",
       "      <td>Roku/DVP-9.0 (519.00E04142A)</td>\n",
       "      <td>True</td>\n",
       "    </tr>\n",
       "    <tr>\n",
       "      <th>0</th>\n",
       "      <td>False</td>\n",
       "      <td>False</td>\n",
       "      <td>Sports</td>\n",
       "      <td>108645</td>\n",
       "      <td>HockeyTV</td>\n",
       "      <td></td>\n",
       "      <td></td>\n",
       "      <td>False</td>\n",
       "      <td>False</td>\n",
       "      <td>hockeytv.com</td>\n",
       "      <td>...</td>\n",
       "      <td></td>\n",
       "      <td>hockeytv.com</td>\n",
       "      <td>macyli47@gmail.com</td>\n",
       "      <td>TERMINATED</td>\n",
       "      <td>443</td>\n",
       "      <td>146</td>\n",
       "      <td>1558924721.145332000</td>\n",
       "      <td>https://ott.hockeytv.com/user_lookup?email=mac...</td>\n",
       "      <td>Roku/DVP-9.0 (519.00E04142A)</td>\n",
       "      <td>True</td>\n",
       "    </tr>\n",
       "    <tr>\n",
       "      <th>0</th>\n",
       "      <td>False</td>\n",
       "      <td>False</td>\n",
       "      <td>Sports</td>\n",
       "      <td>108645</td>\n",
       "      <td>HockeyTV</td>\n",
       "      <td></td>\n",
       "      <td></td>\n",
       "      <td>False</td>\n",
       "      <td>False</td>\n",
       "      <td>hockeytv.com</td>\n",
       "      <td>...</td>\n",
       "      <td></td>\n",
       "      <td>hockeytv.com</td>\n",
       "      <td>macyli47@gmail.com</td>\n",
       "      <td>TERMINATED</td>\n",
       "      <td>443</td>\n",
       "      <td>166</td>\n",
       "      <td>1558924754.927272000</td>\n",
       "      <td>https://ott.hockeytv.com/user_lookup?email=mac...</td>\n",
       "      <td>Roku/DVP-9.0 (519.00E04142A)</td>\n",
       "      <td>True</td>\n",
       "    </tr>\n",
       "    <tr>\n",
       "      <th>0</th>\n",
       "      <td>False</td>\n",
       "      <td>False</td>\n",
       "      <td>Comedy</td>\n",
       "      <td>244040</td>\n",
       "      <td>RiffTrax</td>\n",
       "      <td></td>\n",
       "      <td></td>\n",
       "      <td>False</td>\n",
       "      <td>False</td>\n",
       "      <td>oddconnect.com</td>\n",
       "      <td>...</td>\n",
       "      <td></td>\n",
       "      <td>oddconnect.com</td>\n",
       "      <td>macyli47@gmail.com</td>\n",
       "      <td>TERMINATED</td>\n",
       "      <td>443</td>\n",
       "      <td>186</td>\n",
       "      <td>1558924093.955345000</td>\n",
       "      <td>https://oddconnect.com/api/device_users/macyli...</td>\n",
       "      <td>Roku/DVP-9.0 (519.00E04142A)</td>\n",
       "      <td>True</td>\n",
       "    </tr>\n",
       "    <tr>\n",
       "      <th>0</th>\n",
       "      <td>False</td>\n",
       "      <td>False</td>\n",
       "      <td>Music</td>\n",
       "      <td>40299</td>\n",
       "      <td>Stingray Qello</td>\n",
       "      <td></td>\n",
       "      <td></td>\n",
       "      <td>False</td>\n",
       "      <td>False</td>\n",
       "      <td>qello.com</td>\n",
       "      <td>...</td>\n",
       "      <td></td>\n",
       "      <td>qello.com</td>\n",
       "      <td>macyli47@gmail.com</td>\n",
       "      <td>TERMINATED</td>\n",
       "      <td>80</td>\n",
       "      <td>188</td>\n",
       "      <td>1559061955.701806000</td>\n",
       "      <td>http://api.qello.com/users/register/</td>\n",
       "      <td>Roku/DVP-9.0 (519.00E04142A)</td>\n",
       "      <td>True</td>\n",
       "    </tr>\n",
       "    <tr>\n",
       "      <th>0</th>\n",
       "      <td>False</td>\n",
       "      <td>False</td>\n",
       "      <td>Music</td>\n",
       "      <td>40299</td>\n",
       "      <td>Stingray Qello</td>\n",
       "      <td></td>\n",
       "      <td></td>\n",
       "      <td>False</td>\n",
       "      <td>False</td>\n",
       "      <td>qello.com</td>\n",
       "      <td>...</td>\n",
       "      <td></td>\n",
       "      <td>qello.com</td>\n",
       "      <td>macyli47@gmail.com</td>\n",
       "      <td>TERMINATED</td>\n",
       "      <td>80</td>\n",
       "      <td>214</td>\n",
       "      <td>1559061989.498758000</td>\n",
       "      <td>http://api.qello.com/users/register/</td>\n",
       "      <td>Roku/DVP-9.0 (519.00E04142A)</td>\n",
       "      <td>True</td>\n",
       "    </tr>\n",
       "  </tbody>\n",
       "</table>\n",
       "<p>7 rows × 41 columns</p>\n",
       "</div>"
      ],
      "text/plain": [
       "   adblocked  adblocked_by_url category channel_id    channel_name cookie  \\\n",
       "0      False             False   Sports     256015           AHLTV          \n",
       "0      False             False   Sports     256015           AHLTV          \n",
       "0      False             False   Sports     108645        HockeyTV          \n",
       "0      False             False   Sports     108645        HockeyTV          \n",
       "0      False             False   Comedy     244040        RiffTrax          \n",
       "0      False             False    Music      40299  Stingray Qello          \n",
       "0      False             False    Music      40299  Stingray Qello          \n",
       "\n",
       "  decoded_data  disconnect_blocked  disconnect_blocked_by_url  \\\n",
       "0                            False                      False   \n",
       "0                            False                      False   \n",
       "0                            False                      False   \n",
       "0                            False                      False   \n",
       "0                            False                      False   \n",
       "0                            False                      False   \n",
       "0                            False                      False   \n",
       "\n",
       "     domain_by_dns  ...    referer       req_domain              search  \\\n",
       "0  watchtheahl.com  ...             watchtheahl.com  macyli47@gmail.com   \n",
       "0  watchtheahl.com  ...             watchtheahl.com  macyli47@gmail.com   \n",
       "0     hockeytv.com  ...                hockeytv.com  macyli47@gmail.com   \n",
       "0     hockeytv.com  ...                hockeytv.com  macyli47@gmail.com   \n",
       "0   oddconnect.com  ...              oddconnect.com  macyli47@gmail.com   \n",
       "0        qello.com  ...                   qello.com  macyli47@gmail.com   \n",
       "0        qello.com  ...                   qello.com  macyli47@gmail.com   \n",
       "\n",
       "       status tcp_dstport  tcp_stream                  time  \\\n",
       "0  TERMINATED         443         152  1558854936.908638000   \n",
       "0  TERMINATED         443         172  1558854970.701874000   \n",
       "0  TERMINATED         443         146  1558924721.145332000   \n",
       "0  TERMINATED         443         166  1558924754.927272000   \n",
       "0  TERMINATED         443         186  1558924093.955345000   \n",
       "0  TERMINATED          80         188  1559061955.701806000   \n",
       "0  TERMINATED          80         214  1559061989.498758000   \n",
       "\n",
       "                                                 url  \\\n",
       "0  https://ott.watchtheahl.com/user_lookup?email=...   \n",
       "0  https://ott.watchtheahl.com/user_lookup?email=...   \n",
       "0  https://ott.hockeytv.com/user_lookup?email=mac...   \n",
       "0  https://ott.hockeytv.com/user_lookup?email=mac...   \n",
       "0  https://oddconnect.com/api/device_users/macyli...   \n",
       "0               http://api.qello.com/users/register/   \n",
       "0               http://api.qello.com/users/register/   \n",
       "\n",
       "                     user_agent  valid  \n",
       "0  Roku/DVP-9.0 (519.00E04142A)   True  \n",
       "0  Roku/DVP-9.0 (519.00E04142A)   True  \n",
       "0  Roku/DVP-9.0 (519.00E04142A)   True  \n",
       "0  Roku/DVP-9.0 (519.00E04142A)   True  \n",
       "0  Roku/DVP-9.0 (519.00E04142A)   True  \n",
       "0  Roku/DVP-9.0 (519.00E04142A)   True  \n",
       "0  Roku/DVP-9.0 (519.00E04142A)   True  \n",
       "\n",
       "[7 rows x 41 columns]"
      ]
     },
     "execution_count": 15,
     "metadata": {},
     "output_type": "execute_result"
    }
   ],
   "source": [
    "leaks_roku[leaks_roku.id_type.isin([\"Email\", \"Unknown\"])]"
   ]
  },
  {
   "cell_type": "markdown",
   "metadata": {},
   "source": [
    "### Adblocked status"
   ]
  },
  {
   "cell_type": "code",
   "execution_count": 16,
   "metadata": {},
   "outputs": [
    {
     "data": {
      "text/plain": [
       "True     2934\n",
       "False     712\n",
       "Name: adblocked, dtype: int64"
      ]
     },
     "execution_count": 16,
     "metadata": {},
     "output_type": "execute_result"
    }
   ],
   "source": [
    "id_leaks_roku.adblocked.value_counts()"
   ]
  },
  {
   "cell_type": "code",
   "execution_count": 17,
   "metadata": {},
   "outputs": [
    {
     "data": {
      "text/plain": [
       "True     4452\n",
       "False    1690\n",
       "Name: adblocked, dtype: int64"
      ]
     },
     "execution_count": 17,
     "metadata": {},
     "output_type": "execute_result"
    }
   ],
   "source": [
    "leaks_roku.adblocked.value_counts()"
   ]
  },
  {
   "cell_type": "code",
   "execution_count": 18,
   "metadata": {},
   "outputs": [
    {
     "data": {
      "text/plain": [
       "True     41\n",
       "False    36\n",
       "Name: adblocked, dtype: int64"
      ]
     },
     "execution_count": 18,
     "metadata": {},
     "output_type": "execute_result"
    }
   ],
   "source": [
    "id_leaks_roku.drop_duplicates(\"req_domain\").adblocked.value_counts()"
   ]
  },
  {
   "cell_type": "code",
   "execution_count": 19,
   "metadata": {},
   "outputs": [
    {
     "data": {
      "text/plain": [
       "False    73\n",
       "True     44\n",
       "Name: adblocked, dtype: int64"
      ]
     },
     "execution_count": 19,
     "metadata": {},
     "output_type": "execute_result"
    }
   ],
   "source": [
    "leaks_roku.drop_duplicates(\"req_domain\").adblocked.value_counts()"
   ]
  },
  {
   "cell_type": "markdown",
   "metadata": {},
   "source": [
    "### Leaked IDs"
   ]
  },
  {
   "cell_type": "code",
   "execution_count": 20,
   "metadata": {},
   "outputs": [
    {
     "data": {
      "text/plain": [
       "AD ID           2650\n",
       "Channel name    2331\n",
       "Serial No        996\n",
       "City              64\n",
       "Zip               61\n",
       "State             33\n",
       "Email              7\n",
       "Name: id_type, dtype: int64"
      ]
     },
     "execution_count": 20,
     "metadata": {},
     "output_type": "execute_result"
    }
   ],
   "source": [
    "leaks_roku.id_type.value_counts()"
   ]
  },
  {
   "cell_type": "markdown",
   "metadata": {},
   "source": [
    "### Leak location"
   ]
  },
  {
   "cell_type": "code",
   "execution_count": 21,
   "metadata": {},
   "outputs": [
    {
     "data": {
      "text/plain": [
       "url_leaks         4904\n",
       "post_leaks         992\n",
       "referrer_leaks     235\n",
       "cookie_leaks        11\n",
       "Name: leak_type, dtype: int64"
      ]
     },
     "execution_count": 21,
     "metadata": {},
     "output_type": "execute_result"
    }
   ],
   "source": [
    "leaks_roku.leak_type.value_counts()"
   ]
  },
  {
   "cell_type": "markdown",
   "metadata": {},
   "source": [
    "### Leak encodings"
   ]
  },
  {
   "cell_type": "code",
   "execution_count": 22,
   "metadata": {},
   "outputs": [
    {
     "data": {
      "text/plain": [
       "unencoded    4569\n",
       "md5           537\n",
       "sha1          536\n",
       "urlencode     486\n",
       "base64         12\n",
       "sha256          2\n",
       "Name: encoding, dtype: int64"
      ]
     },
     "execution_count": 22,
     "metadata": {},
     "output_type": "execute_result"
    }
   ],
   "source": [
    "leaks_roku.encoding.value_counts()"
   ]
  },
  {
   "cell_type": "code",
   "execution_count": 23,
   "metadata": {},
   "outputs": [
    {
     "data": {
      "text/plain": [
       "6142"
      ]
     },
     "execution_count": 23,
     "metadata": {},
     "output_type": "execute_result"
    }
   ],
   "source": [
    "len(leaks_roku)"
   ]
  },
  {
   "cell_type": "code",
   "execution_count": null,
   "metadata": {},
   "outputs": [],
   "source": []
  }
 ],
 "metadata": {
  "kernelspec": {
   "display_name": "Python 2",
   "language": "python",
   "name": "python2"
  },
  "language_info": {
   "codemirror_mode": {
    "name": "ipython",
    "version": 2
   },
   "file_extension": ".py",
   "mimetype": "text/x-python",
   "name": "python",
   "nbconvert_exporter": "python",
   "pygments_lexer": "ipython2",
   "version": "2.7.15+"
  }
 },
 "nbformat": 4,
 "nbformat_minor": 2
}
