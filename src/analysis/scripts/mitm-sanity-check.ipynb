{
 "cells": [
  {
   "cell_type": "code",
   "execution_count": 1,
   "metadata": {},
   "outputs": [],
   "source": [
    "import numpy as np\n",
    "import pandas as pd\n",
    "from pcap_analysis import *\n",
    "\n",
    "crawl_data_dir = '/mnt/iot-house/crawl-data/amazon-data-20190401-121138'\n",
    "post_process_dir = join(crawl_data_dir, 'post-process')\n",
    "\n"
   ]
  },
  {
   "cell_type": "code",
   "execution_count": 2,
   "metadata": {},
   "outputs": [
    {
     "name": "stdout",
     "output_type": "stream",
     "text": [
      "Loading timestamp data from /mnt/iot-house/crawl-data/amazon-data-20190401-121138\n",
      "Generating Global DF from /mnt/iot-house/crawl-data/amazon-data-20190401-121138/post-process \n",
      "Adding SSL features to DF from /mnt/iot-house/crawl-data/amazon-data-20190401-121138/post-process \n",
      "   tcp.stream  frame.time_epoch      ip.src         ip.dst  \\\n",
      "0           8      1.554170e+09  10.42.0.20   72.21.206.56   \n",
      "1           9      1.554170e+09  10.42.0.20   72.21.206.56   \n",
      "2          10      1.554170e+09  10.42.0.20  52.94.227.120   \n",
      "3          13      1.554170e+09  10.42.0.20  52.46.132.145   \n",
      "4          18      1.554170e+09  10.42.0.20  54.239.26.246   \n",
      "\n",
      "           Channel Name  MITM Attemp  SSL Failure  \n",
      "0  com.hiveview.damaitv            0            0  \n",
      "1  com.hiveview.damaitv            0            0  \n",
      "2  com.hiveview.damaitv            0            0  \n",
      "3  com.hiveview.damaitv            1            1  \n",
      "4  com.hiveview.damaitv            1            1  \n"
     ]
    }
   ],
   "source": [
    "#Create Timestamp DF\n",
    "channel_timestamps = load_timestamp_json(crawl_data_dir)\n",
    "df_ch_timestamps = pd.DataFrame(channel_timestamps).transpose().reset_index()\n",
    "df_ch_timestamps.rename(columns={'index': 'Channel Name'}, inplace=True)\n",
    "\n",
    "#Generate Global (All SSL/TCP Streams)\n",
    "global_df = gen_global_df(post_process_dir)\n",
    "\n",
    "#Add SSL artifacts \n",
    "global_df_ssl = add_ssl_features(global_df, post_process_dir)\n",
    "#Drop all duplicates\n",
    "global_df_ssl = global_df_ssl.drop_duplicates(subset=['Channel Name', 'ip.dst', 'MITM Attemp',  'SSL Failure'])\n",
    "print(global_df.head())"
   ]
  },
  {
   "cell_type": "code",
   "execution_count": 3,
   "metadata": {},
   "outputs": [],
   "source": [
    "######Timestamp Analysis######\n",
    "##############################\n",
    "\n",
    "#Merge global_df with timestamp_df\n",
    "global_df_merged = pd.merge(global_df_ssl, df_ch_timestamps, on=['Channel Name'])\n",
    "global_df_merged['epoch'] = np.nan\n",
    "\n",
    "epoch_list = list(df_ch_timestamps)\n",
    "epoch_list.remove('Channel Name')\n",
    "\n",
    "\n",
    "#Populate epoch column for channel based on\n",
    "#the timestamp of SYN packet.\n",
    "for epoch in epoch_list:\n",
    "    global_df_merged['epoch'] = np.where(global_df_merged['frame.time_epoch']>global_df_merged[epoch],\n",
    "                                     epoch, global_df_merged['epoch'])\n",
    "\n",
    "#print(global_df_merged)\n"
   ]
  },
  {
   "cell_type": "code",
   "execution_count": 4,
   "metadata": {},
   "outputs": [
    {
     "name": "stdout",
     "output_type": "stream",
     "text": [
      "['install_channel', 'launch-1', 'launch-2', 'launch-3', 'launch-4', 'launch-5', 'launch-6', 'launch-7', 'launch-8', 'launch-10', 'launch-9', 'select-0', 'select-1', 'select-2']\n",
      "install_channel saw 95 new end point\n",
      "launch-1 saw 394 new end point\n",
      "launch-2 saw 336 new end point\n",
      "launch-3 saw 78 new end point\n",
      "launch-4 saw 49 new end point\n",
      "launch-5 saw 36 new end point\n",
      "launch-6 saw 35 new end point\n",
      "launch-7 saw 50 new end point\n",
      "launch-8 saw 34 new end point\n",
      "launch-10 saw 0 new end point\n",
      "launch-9 saw 72 new end point\n",
      "select-0 saw 125 new end point\n",
      "select-1 saw 152 new end point\n",
      "select-2 saw 289 new end point\n"
     ]
    },
    {
     "data": {
      "text/plain": [
       "([<matplotlib.axis.XTick at 0x7f37a72f9dd8>,\n",
       "  <matplotlib.axis.XTick at 0x7f37a72f9748>,\n",
       "  <matplotlib.axis.XTick at 0x7f37a8a80e80>,\n",
       "  <matplotlib.axis.XTick at 0x7f37a7081b38>,\n",
       "  <matplotlib.axis.XTick at 0x7f37a7081f60>,\n",
       "  <matplotlib.axis.XTick at 0x7f37a7012470>,\n",
       "  <matplotlib.axis.XTick at 0x7f37a7081978>,\n",
       "  <matplotlib.axis.XTick at 0x7f37a7012a20>,\n",
       "  <matplotlib.axis.XTick at 0x7f37a7012ef0>,\n",
       "  <matplotlib.axis.XTick at 0x7f37a7019400>,\n",
       "  <matplotlib.axis.XTick at 0x7f37a7019908>,\n",
       "  <matplotlib.axis.XTick at 0x7f37a7019e10>,\n",
       "  <matplotlib.axis.XTick at 0x7f37a7021358>,\n",
       "  <matplotlib.axis.XTick at 0x7f37a7021860>],\n",
       " <a list of 14 Text xticklabel objects>)"
      ]
     },
     "execution_count": 4,
     "metadata": {},
     "output_type": "execute_result"
    }
   ],
   "source": [
    "#Graph\n",
    "import numpy as np\n",
    "import matplotlib.pyplot as plt\n",
    "\n",
    "\n",
    "labels = epoch_list\n",
    "\n",
    "#Sort Lanuch tries\n",
    "min_iter = None\n",
    "max_iter = None\n",
    "for idx, val in enumerate(epoch_list):\n",
    "    if 'launch' in val:\n",
    "        if min_iter == None:\n",
    "            min_iter = idx\n",
    "        max_iter = idx\n",
    "labels[min_iter:max_iter] = sorted(labels[min_iter:max_iter], key=str_to_int_key)\n",
    "print(labels)\n",
    "\n",
    "new_endpoints_df = global_df_merged.drop_duplicates(subset=['Channel Name', 'ip.dst'])\n",
    "\n",
    "new_endpoints_count = []\n",
    "for epoch in labels:\n",
    "    df_epoch = new_endpoints_df.loc[global_df_merged['epoch'] == epoch]\n",
    "    total_len = len(df_epoch)\n",
    "    print( \"%s saw %s new end point\" % (epoch, str(total_len)) )\n",
    "    new_endpoints_count.append(total_len)\n",
    "\n",
    "N = len(labels)\n",
    "ind = np.arange(N)\n",
    "width = 0.35\n",
    "\n",
    "plt1 = plt.figure(1)\n",
    "p1 = plt.bar(ind, new_endpoints_count, width)\n",
    "plt.xticks(ind, labels)\n",
    "\n",
    "#plt1.show()\n"
   ]
  },
  {
   "cell_type": "code",
   "execution_count": 5,
   "metadata": {},
   "outputs": [
    {
     "data": {
      "text/plain": [
       "<matplotlib.legend.Legend at 0x7f37a6fcee80>"
      ]
     },
     "execution_count": 5,
     "metadata": {},
     "output_type": "execute_result"
    },
    {
     "data": {
      "image/png": "[encoded data removed]",
      "text/plain": [
       "<Figure size 432x288 with 1 Axes>"
      ]
     },
     "metadata": {
      "needs_background": "light"
     },
     "output_type": "display_data"
    }
   ],
   "source": [
    "plt2 = plt.figure(2)\n",
    "labels = epoch_list\n",
    "failure_percentage = []\n",
    "success_percentage = []\n",
    "for epoch in epoch_list:\n",
    "    df_epoch = global_df_merged.loc[global_df_merged['epoch'] == epoch]\n",
    "    total_len = len(df_epoch)\n",
    "    failure_len = len(df_epoch.loc[df_epoch['SSL Failure'] == 1])\n",
    "    if total_len == 0:\n",
    "        failure_percent = 0\n",
    "        success_percent = 100\n",
    "    else:\n",
    "        failure_percent = 100 * float(failure_len)/float(total_len)\n",
    "        success_percent = 100 - failure_percent\n",
    "    failure_percentage.append(failure_percent)\n",
    "    success_percentage.append(success_percent)\n",
    "    #print(failure_percentage)\n",
    "    #print(success_percentage)\n",
    "    #print('******')\n",
    "\n",
    "\n",
    "\n",
    "\n",
    "N = len(epoch_list)\n",
    "ind = np.arange(N)\n",
    "width = 0.35\n",
    "\n",
    "\n",
    "p1 = plt.bar(ind, failure_percentage, width)\n",
    "p2 = plt.bar(ind, success_percentage, width, bottom=failure_percentage)\n",
    "plt.xticks(ind, epoch_list)\n",
    "plt.yticks(np.arange(0, 100, 10))\n",
    "plt.ylabel('Percentage')\n",
    "plt.title('TLS Failure Rates for each Stage')\n",
    "plt.legend((p1[0], p2[0]), ('Failure', 'Success (Intercepted and Pass-Through'))\n",
    "\n",
    "\n",
    "#plt2.show()\n"
   ]
  }
 ],
 "metadata": {
  "kernelspec": {
   "display_name": "Python 3",
   "language": "python",
   "name": "python3"
  },
  "language_info": {
   "codemirror_mode": {
    "name": "ipython",
    "version": 3
   },
   "file_extension": ".py",
   "mimetype": "text/x-python",
   "name": "python",
   "nbconvert_exporter": "python",
   "pygments_lexer": "ipython3",
   "version": "3.7.0"
  }
 },
 "nbformat": 4,
 "nbformat_minor": 2
}
