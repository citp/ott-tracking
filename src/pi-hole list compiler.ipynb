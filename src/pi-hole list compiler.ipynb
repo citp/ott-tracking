{
 "cells": [
  {
   "cell_type": "markdown",
   "metadata": {},
   "source": [
    "# Default pi-hole lists"
   ]
  },
  {
   "cell_type": "code",
   "execution_count": 1,
   "metadata": {},
   "outputs": [],
   "source": [
    "Cameleon = \"blocklistparser/blocklists/Cameleon.txt\"\n",
    "DisconAd = \"blocklistparser/blocklists/DisconAd.txt\"\n",
    "DisconTrack = \"blocklistparser/blocklists/DisconTrack.txt\"\n",
    "HostsFile = \"blocklistparser/blocklists/HostsFile\"\n",
    "MalwareDom = \"blocklistparser/blocklists/MalwareDom.txt\"\n",
    "StevenBlack = \"blocklistparser/blocklists/StevenBlack.txt\"\n",
    "ZeusTracker = \"blocklistparser/blocklists/ZeusTracker.txt\"\n",
    "\n",
    "all_lists = [Cameleon, DisconAd, DisconTrack, HostsFile, MalwareDom, StevenBlack, ZeusTracker]"
   ]
  },
  {
   "cell_type": "markdown",
   "metadata": {},
   "source": [
    "# Read each file and parse input"
   ]
  },
  {
   "cell_type": "code",
   "execution_count": 2,
   "metadata": {},
   "outputs": [],
   "source": [
    "pihole_domains = set()"
   ]
  },
  {
   "cell_type": "code",
   "execution_count": 3,
   "metadata": {},
   "outputs": [],
   "source": [
    "for blocklist_file in all_lists:\n",
    "    with open(blocklist_file, 'r') as f:\n",
    "        sep = None\n",
    "        for line in f.readlines():\n",
    "            line = line.strip()\n",
    "            line = line.replace(r'\\r','')\n",
    "            \n",
    "            if line.startswith('#'):\n",
    "                continue\n",
    "            \n",
    "            if '\\t' in line:\n",
    "                sep = '\\t'\n",
    "            elif ' ' in line:\n",
    "                sep = ' '\n",
    "            else:\n",
    "                sep = None\n",
    "                \n",
    "            if sep is not None:\n",
    "                line = line.split(sep)[1]\n",
    "                \n",
    "            line = line.strip()\n",
    "                \n",
    "            if len(line) == 0:\n",
    "                continue\n",
    "                \n",
    "            pihole_domains.add(line)"
   ]
  },
  {
   "cell_type": "code",
   "execution_count": 4,
   "metadata": {},
   "outputs": [
    {
     "data": {
      "text/plain": [
       "113192"
      ]
     },
     "execution_count": 4,
     "metadata": {},
     "output_type": "execute_result"
    }
   ],
   "source": [
    "len(pihole_domains)"
   ]
  },
  {
   "cell_type": "markdown",
   "metadata": {},
   "source": [
    "# Output to file"
   ]
  },
  {
   "cell_type": "code",
   "execution_count": 5,
   "metadata": {},
   "outputs": [],
   "source": [
    "pihole_domains = list(pihole_domains)\n",
    "pihole_domains.sort()\n",
    "\n",
    "with open('blocklistparser/blocklists/pi-hole.txt', 'w') as f:\n",
    "    for domain in pihole_domains:\n",
    "        f.write(\"%s\\n\" % domain)"
   ]
  }
 ],
 "metadata": {
  "kernelspec": {
   "display_name": "Python 2",
   "language": "python",
   "name": "python2"
  },
  "language_info": {
   "codemirror_mode": {
    "name": "ipython",
    "version": 2
   },
   "file_extension": ".py",
   "mimetype": "text/x-python",
   "name": "python",
   "nbconvert_exporter": "python",
   "pygments_lexer": "ipython2",
   "version": "2.7.10"
  }
 },
 "nbformat": 4,
 "nbformat_minor": 2
}
