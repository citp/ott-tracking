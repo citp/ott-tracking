{
 "cells": [
  {
   "cell_type": "code",
   "execution_count": 2,
   "metadata": {},
   "outputs": [],
   "source": [
    "import json\n",
    "import random\n",
    "\n",
    "def get_rank_list(json_path):\n",
    "    json_lines = {}\n",
    "    for l in open(json_path):\n",
    "        json_line = l.strip()\n",
    "        channel = json.loads(json_line)\n",
    "        json_lines[channel['rankByWatched']] = json_line\n",
    "    return json_lines\n"
   ]
  },
  {
   "cell_type": "code",
   "execution_count": 3,
   "metadata": {},
   "outputs": [],
   "source": [
    "def sample_by_ranks(n_samples, ranks):\n",
    "    \"\"\"Take equal number of samples from top 100, 101-1000 and 1001 and below.\"\"\"\n",
    "    ranks_1_100 = [x for x in ranks if x <=100]\n",
    "    ranks_101_1000 = [x for x in ranks if x > 100 and x <=1000]\n",
    "    ranks_1001_inf = [x for x in ranks if x > 1000]\n",
    "\n",
    "    selected_top = random.sample(ranks_1_100, n_samples)\n",
    "    selected_middle = random.sample(ranks_101_1000, n_samples)\n",
    "    selected_bottom = random.sample(ranks_1001_inf, n_samples)\n",
    "    all_selected = sorted(selected_top + selected_middle + selected_bottom)\n",
    "    return all_selected"
   ]
  },
  {
   "cell_type": "code",
   "execution_count": 4,
   "metadata": {},
   "outputs": [],
   "source": [
    "def write_sampled_channels(sample_json_path, json_lines, selected_ranks):\n",
    "    with open(sample_json_path, \"w\") as f:\n",
    "        f.write(\"\\n\".join(json_lines[rank] for rank in selected_ranks) + \"\\n\")"
   ]
  },
  {
   "cell_type": "code",
   "execution_count": 5,
   "metadata": {},
   "outputs": [],
   "source": [
    "CHANNEL_LIST = \"channel_list.txt\"\n",
    "json_lines = get_rank_list(CHANNEL_LIST)\n",
    "ranks = sorted(json_lines.keys())"
   ]
  },
  {
   "cell_type": "code",
   "execution_count": 5,
   "metadata": {},
   "outputs": [],
   "source": [
    "all_selected_150 = sample_by_ranks(50, ranks)\n",
    "all_selected_15 = sample_by_ranks(5, ranks)\n",
    "all_selected_3 = sample_by_ranks(1, ranks)"
   ]
  },
  {
   "cell_type": "code",
   "execution_count": null,
   "metadata": {
    "collapsed": true
   },
   "outputs": [
    {
     "name": "stdout",
     "output_type": "stream",
     "text": [
      "0 ben\n1 gunes\n2 arunesh\n3 hooman\n4 danny\n"
     ]
    }
   ],
   "source": [
    "write_sampled_channels(\"random_channels_150.txt\", json_lines, all_selected_150)\n",
    "write_sampled_channels(\"random_channels_15.txt\", json_lines, all_selected_15)\n",
    "write_sampled_channels(\"random_channels_3.txt\", json_lines, all_selected_3)"
   ]
  },
  {
   "cell_type": "code",
   "execution_count": 17,
   "metadata": {
    "collapsed": true
   },
   "outputs": [
    {
     "name": "stdout",
     "output_type": "stream",
     "text": [
      "0 ben\n1 gunes\n2 arunesh\n3 hooman\n4 danny\n"
     ]
    }
   ],
   "source": [
    "import numpy\n",
    "smart_crawl_training_list = sample_by_ranks(50, ranks)\n",
    "random.shuffle(smart_crawl_training_list)\n",
    "channel_lists = numpy.array_split(smart_crawl_training_list, 5)\n",
    "users = [\"ben\", \"gunes\", \"arunesh\", \"hooman\", \"danny\"]\n",
    "assert len(users) == len(channel_lists)\n",
    "for idx, user in enumerate(users):\n",
    "    write_sampled_channels(\"%s_channels_smart_crawl.txt\" % user,\n",
    "                           json_lines, channel_lists[idx])"
   ]
  },
  {
   "cell_type": "code",
   "execution_count": 18,
   "metadata": {},
   "outputs": [
    {
     "name": "stdout",
     "output_type": "stream",
     "text": [
      "arunesh_channels_smart_crawl.txt  gunes_channels_smart_crawl.txt\r\nben_channels_smart_crawl.txt\t  hooman_channels_smart_crawl.txt\r\ndanny_channels_smart_crawl.txt\r\n"
     ]
    }
   ],
   "source": [
    "! ls *channels_smart_crawl*"
   ]
  },
  {
   "cell_type": "code",
   "execution_count": null,
   "metadata": {},
   "outputs": [],
   "source": []
  }
 ],
 "metadata": {
  "kernelspec": {
   "display_name": "Python 2",
   "language": "python",
   "name": "python2"
  },
  "language_info": {
   "codemirror_mode": {
    "name": "ipython",
    "version": 2
   },
   "file_extension": ".py",
   "mimetype": "text/x-python",
   "name": "python",
   "nbconvert_exporter": "python",
   "pygments_lexer": "ipython2",
   "version": "2.7.14"
  }
 },
 "nbformat": 4,
 "nbformat_minor": 2
}
