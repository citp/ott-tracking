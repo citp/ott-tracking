{
 "cells": [
  {
   "cell_type": "code",
   "execution_count": 1,
   "metadata": {},
   "outputs": [],
   "source": [
    "import json\n",
    "import random\n",
    "\n",
    "def get_rank_list(json_path):\n",
    "    json_lines = {}\n",
    "    for l in open(json_path):\n",
    "        json_line = l.strip()\n",
    "        channel = json.loads(json_line)\n",
    "        json_lines[channel['rankByWatched']] = json_line\n",
    "    return json_lines\n"
   ]
  },
  {
   "cell_type": "code",
   "execution_count": 9,
   "metadata": {},
   "outputs": [],
   "source": [
    "def sample_by_ranks(n_samples, ranks):\n",
    "    \"\"\"Take equal number of samples from top 100, 101-1000 and 1001 and below.\"\"\"\n",
    "    ranks_1_100 = [x for x in ranks if x <=100]\n",
    "    ranks_101_1000 = [x for x in ranks if x > 100 and x <=1000]\n",
    "    ranks_1001_inf = [x for x in ranks if x > 1000]\n",
    "\n",
    "    selected_top = random.sample(ranks_1_100, n_samples)\n",
    "    selected_middle = random.sample(ranks_101_1000, n_samples)\n",
    "    selected_bottom = random.sample(ranks_1001_inf, n_samples)\n",
    "    all_selected = sorted(selected_top + selected_middle + selected_bottom)\n",
    "    return all_selected"
   ]
  },
  {
   "cell_type": "code",
   "execution_count": 3,
   "metadata": {},
   "outputs": [],
   "source": [
    "def write_sampled_channels(sample_json_path, json_lines, selected_ranks):\n",
    "    with open(sample_json_path, \"w\") as f:\n",
    "        f.write(\"\\n\".join(json_lines[rank] for rank in selected_ranks) + \"\\n\")"
   ]
  },
  {
   "cell_type": "code",
   "execution_count": 4,
   "metadata": {},
   "outputs": [],
   "source": [
    "CHANNEL_LIST = \"channel_list.txt\"\n",
    "json_lines = get_rank_list(CHANNEL_LIST)\n",
    "ranks = sorted(json_lines.keys())"
   ]
  },
  {
   "cell_type": "code",
   "execution_count": 5,
   "metadata": {},
   "outputs": [],
   "source": [
    "all_selected_150 = sample_by_ranks(50, ranks)\n",
    "all_selected_15 = sample_by_ranks(5, ranks)\n",
    "all_selected_3 = sample_by_ranks(1, ranks)"
   ]
  },
  {
   "cell_type": "code",
   "execution_count": 6,
   "metadata": {},
   "outputs": [],
   "source": [
    "write_sampled_channels(\"random_channels_150.txt\", json_lines, all_selected_150)\n",
    "write_sampled_channels(\"random_channels_15.txt\", json_lines, all_selected_15)\n",
    "write_sampled_channels(\"random_channels_3.txt\", json_lines, all_selected_3)"
   ]
  },
  {
   "cell_type": "code",
   "execution_count": 8,
   "metadata": {},
   "outputs": [
    {
     "name": "stdout",
     "output_type": "stream",
     "text": [
      "{\"_category\": \"movies-tvs\", \"_scrape_ts\": 1537037970, \"accessCode\": \"yupptvapp\", \"desc\": \"Watch your South Asian content anytime anywhere.\", \"id\": 91961, \"name\": \"YuppTV - Live, CatchUp, Movies\", \"payment\": \"None\", \"price\": \"0\", \"rankByWatched\": 71, \"rating\": 66.761474609375, \"thumbnail\": \"http://channels.roku.com/images/2f3404f767ad4e3d870fec0ce1f47f37-hd.png\"}\r\n",
      "{\"_category\": \"kids-family\", \"_scrape_ts\": 1537037963, \"accessCode\": \"alphabetsbyhappykids\", \"desc\": \"Alphabets by HappyKids.tv is a FREE, SAFE and FUN channel to learn English alphabets. Kids identify symbols, related sounds, build words, understand vowels and consonants through simple colorful rhymes, ABC songs, singalong videos and more. Install this FREE channel. Make your kids preschool ready.\", \"id\": 87621, \"name\": \"Alphabets by HappyKids.tv\", \"payment\": \"None\", \"price\": \"0\", \"rankByWatched\": 875, \"rating\": 79.80000305175781, \"thumbnail\": \"https://image.roku.com/developer_channels/prod/0ccfbb4f18904220a6e445d0825f6bd74ec28731f818ee7b1f4fc8e07ab6ae5f.png\"}\r\n",
      "{\"_category\": \"movies-tvs\", \"_scrape_ts\": 1537037973, \"accessCode\": \"LeeVanCleef\", \"desc\": \"Welcome to The Lee Van Cleef Channel. Here you will find the best selection of films and television appearances from the man, the myth, the Spaghetti Western legend Lee Van Cleef!\", \"id\": 221894, \"name\": \"The Lee Van Cleef Channel\", \"payment\": \"None\", \"price\": \"0\", \"rankByWatched\": 2177, \"rating\": 80, \"thumbnail\": \"https://image.roku.com/developer_channels/prod/3bf226f0098b669ef63c67ae72d5d33947b455b5f99bc263d0a2eb9b48c5c159.png\"}\r\n"
     ]
    }
   ],
   "source": [
    "! cat random_channels_3.txt"
   ]
  },
  {
   "cell_type": "code",
   "execution_count": null,
   "metadata": {},
   "outputs": [],
   "source": []
  }
 ],
 "metadata": {
  "kernelspec": {
   "display_name": "Python 2",
   "language": "python",
   "name": "python2"
  },
  "language_info": {
   "codemirror_mode": {
    "name": "ipython",
    "version": 2
   },
   "file_extension": ".py",
   "mimetype": "text/x-python",
   "name": "python",
   "nbconvert_exporter": "python",
   "pygments_lexer": "ipython2",
   "version": "2.7.14"
  }
 },
 "nbformat": 4,
 "nbformat_minor": 2
}
